{
 "cells": [
  {
   "cell_type": "code",
   "execution_count": 1,
   "metadata": {},
   "outputs": [],
   "source": [
    "import matplotlib.pyplot as plt\n",
    "%matplotlib inline\n",
    "import seaborn as sns\n",
    "import numpy as np\n",
    "from scipy import ndimage\n",
    "import pandas as pd\n",
    "\n",
    "from sklearn.metrics import plot_confusion_matrix, confusion_matrix\n",
    "\n",
    "from tensorflow.keras import models, layers, metrics\n",
    "from tensorflow.keras.preprocessing.image import ImageDataGenerator, load_img, array_to_img, img_to_array\n",
    "\n",
    "from PIL import Image\n",
    "\n",
    "from tensorflow.keras import layers\n",
    "from tensorflow.keras.models import Sequential\n",
    "from tensorflow.keras.layers import Dense, Dropout, Flatten\n",
    "from tensorflow.keras.regularizers import l2\n",
    "from tensorflow.keras.optimizers import SGD\n",
    "from tensorflow.keras.wrappers import scikit_learn\n",
    "from tensorflow.keras.callbacks import EarlyStopping\n",
    "from keras.layers.advanced_activations import LeakyReLU\n",
    "\n",
    "import os"
   ]
  },
  {
   "cell_type": "code",
   "execution_count": 2,
   "metadata": {},
   "outputs": [],
   "source": [
    "base_dir='../data/chest_xray/'\n",
    "\n",
    "train_path = '../data/chest_xray/train'\n",
    "\n",
    "validation_path = '../data/chest_xray/val'\n",
    "\n",
    "test_path = '../data/chest_xray/test'\n",
    "\n",
    "full_train_path = '../data/chest_xray/full_train'"
   ]
  },
  {
   "cell_type": "code",
   "execution_count": 3,
   "metadata": {},
   "outputs": [],
   "source": [
    "train_pneumonia=os.listdir('../data/chest_xray/train/PNEUMONIA/')\n",
    "train_normal=os.listdir('../data/chest_xray/train/NORMAL/')\n",
    "val_dir_normal=os.listdir('../data/chest_xray/val/NORMAL/')\n",
    "test_dir_normal=os.listdir('../data/chest_xray/test/NORMAL/')\n",
    "val_dir_pneumonia=os.listdir('../data/chest_xray/val/PNEUMONIA/')\n",
    "test_dir_pneumonia=os.listdir('../data/chest_xray/test/PNEUMONIA/')\n",
    "\n",
    "\n",
    "##trying out combining training and validation sets and using a validation ratio when fitting models\n",
    "full_train_pneumonia = os.listdir('../data/chest_xray/full_train/PNEUMONIA')\n",
    "full_train_normal = os.listdir('../data/chest_xray/full_train/NORMAL')\n",
    "\n",
    "\n",
    "##list object containing 'NORMAL' & 'PNEUMONIA'\n",
    "label_string = os.listdir('../data/chest_xray/train')"
   ]
  },
  {
   "cell_type": "code",
   "execution_count": 4,
   "metadata": {},
   "outputs": [],
   "source": [
    "# Greyscale distribution histogram - done, Jamie\n",
    "# Class distribution - heavily weighted towards positive class (pneumonia) - done, Jamie\n",
    "# Address class imbalance - incorporate flipped 0-class images - Rachel wrote a function for this\n",
    "# Mean values for negative and positive classes - Svitlana \n",
    "# Look for outliers\n",
    "# Look at subracting the pixel mean\n",
    "# Apply matrix transformations to further define images - \n",
    "# Data Augmentation - Svitlana will make an attempt"
   ]
  },
  {
   "cell_type": "code",
   "execution_count": 5,
   "metadata": {
    "scrolled": false
   },
   "outputs": [
    {
     "name": "stdout",
     "output_type": "stream",
     "text": [
      "Train set w/ pneumonia:  2144\n",
      "Train set normal:  699\n",
      "Validation set w/ pneumonia:  1739\n",
      "Validation set normal:  650\n",
      "Test set w/ pneumonia:  390\n",
      "Test set normal:  234\n",
      "Full training set w/pneumonia (combined w/validation):  3883\n",
      "Full training set normal (combined w/validation):  1349\n"
     ]
    }
   ],
   "source": [
    "print(\"Train set w/ pneumonia: \", len(train_pneumonia))\n",
    "print(\"Train set normal: \", len(train_normal))\n",
    "print(\"Validation set w/ pneumonia: \", len(val_dir_pneumonia))\n",
    "print(\"Validation set normal: \", len(val_dir_normal))\n",
    "print(\"Test set w/ pneumonia: \", len(test_dir_pneumonia))\n",
    "print(\"Test set normal: \", len(test_dir_normal))\n",
    "print(\"Full training set w/pneumonia (combined w/validation): \", len(full_train_pneumonia))\n",
    "print(\"Full training set normal (combined w/validation): \", len(full_train_normal))"
   ]
  },
  {
   "cell_type": "code",
   "execution_count": 6,
   "metadata": {},
   "outputs": [
    {
     "data": {
      "text/plain": [
       "(2843, 2389, 624, 5232)"
      ]
     },
     "execution_count": 6,
     "metadata": {},
     "output_type": "execute_result"
    }
   ],
   "source": [
    "2144+699, 1739+650, 390+234, 3883+1349"
   ]
  },
  {
   "cell_type": "code",
   "execution_count": 7,
   "metadata": {
    "scrolled": false
   },
   "outputs": [
    {
     "data": {
      "image/png": "[encoded data removed]",
      "text/plain": [
       "<Figure size 432x288 with 1 Axes>"
      ]
     },
     "metadata": {
      "needs_background": "light"
     },
     "output_type": "display_data"
    }
   ],
   "source": [
    "labels = ['Train Pneumonia', 'Train Normal', 'Val. Pneumonia', 'Val. Normal', 'Test Pneumonia', 'Test Normal']\n",
    "dist = sns.barplot(x=labels, \n",
    "           y=[len(train_pneumonia), len(train_normal), len(val_dir_pneumonia), len(val_dir_normal), len(test_dir_pneumonia), len(test_dir_normal)],)\n",
    "\n",
    "dist.set_xticklabels(labels = labels, rotation = 30);"
   ]
  },
  {
   "cell_type": "code",
   "execution_count": 8,
   "metadata": {},
   "outputs": [
    {
     "data": {
      "text/plain": [
       "<Figure size 432x288 with 0 Axes>"
      ]
     },
     "metadata": {},
     "output_type": "display_data"
    }
   ],
   "source": [
    "#loading images for training set - pneumonia\n",
    "\n",
    "plt.suptitle(\"Patients with Pneumonia\")\n",
    "for i in range(0,4):\n",
    "    img = train_pneumonia[i]\n",
    "    img = load_img(train_path+'/PNEUMONIA/'+img)\n",
    "#   plt.imshow(img)\n",
    "#   plt.show()"
   ]
  },
  {
   "cell_type": "code",
   "execution_count": 9,
   "metadata": {},
   "outputs": [
    {
     "data": {
      "text/plain": [
       "<Figure size 432x288 with 0 Axes>"
      ]
     },
     "metadata": {},
     "output_type": "display_data"
    }
   ],
   "source": [
    "#loading images for training set - normal\n",
    "\n",
    "plt.suptitle(\"Normal Patients\")\n",
    "for i in range(0,4):\n",
    "    img = train_normal[i]\n",
    "    img = load_img(train_path+'/NORMAL/'+img)\n",
    "#    plt.imshow(img)\n",
    "#    plt.show()"
   ]
  },
  {
   "cell_type": "code",
   "execution_count": 10,
   "metadata": {},
   "outputs": [
    {
     "name": "stdout",
     "output_type": "stream",
     "text": [
      "Found 2843 images belonging to 2 classes.\n",
      "Found 2389 images belonging to 2 classes.\n",
      "Found 624 images belonging to 2 classes.\n",
      "Found 5232 images belonging to 2 classes.\n"
     ]
    }
   ],
   "source": [
    "train_gen = ImageDataGenerator(rescale = 1/255.).flow_from_directory(train_path,\n",
    "                                                 target_size=(224, 224),\n",
    "                                                 batch_size=2843,\n",
    "                                                 color_mode = 'grayscale',                \n",
    "                                                 class_mode='binary')\n",
    "\n",
    "val_gen = ImageDataGenerator(rescale = 1/255.).flow_from_directory(validation_path,\n",
    "                                            target_size=(224, 224),\n",
    "                                            shuffle=True,\n",
    "                                            batch_size=2389,\n",
    "                                            color_mode = 'grayscale',                      \n",
    "                                            class_mode='binary')\n",
    "\n",
    "test_gen = ImageDataGenerator(rescale = 1/255.).flow_from_directory(test_path,\n",
    "                                            target_size=(224, 224),\n",
    "                                            batch_size=624,\n",
    "                                            color_mode = 'grayscale',                        \n",
    "                                            class_mode='binary')\n",
    "\n",
    "##Image generator object for full training folder\n",
    "full_train_gen = ImageDataGenerator(rescale = 1/255.).flow_from_directory(full_train_path,\n",
    "                                            target_size=(224, 224),\n",
    "                                            batch_size=5232,\n",
    "                                            color_mode = 'grayscale',                        \n",
    "                                            class_mode='binary')"
   ]
  },
  {
   "cell_type": "code",
   "execution_count": 11,
   "metadata": {},
   "outputs": [],
   "source": [
    "train_images, train_labels = next(train_gen)\n",
    "val_images, val_labels = next(val_gen)\n",
    "test_images, test_labels = next(test_gen)\n",
    "\n",
    "##full training folder\n",
    "full_train_images, full_train_labels = next(full_train_gen)"
   ]
  },
  {
   "cell_type": "code",
   "execution_count": 12,
   "metadata": {
    "scrolled": true
   },
   "outputs": [
    {
     "name": "stdout",
     "output_type": "stream",
     "text": [
      "Train image shape: (2843, 224, 224, 1) train label shape: (2843,)\n",
      "Val image shape: (2389, 224, 224, 1) val label shape: (2389,)\n",
      "Test image shape: (624, 224, 224, 1) test label shape: (624,)\n",
      "Full Train image shape: (5232, 224, 224, 1) full train label shape: (5232,)\n"
     ]
    }
   ],
   "source": [
    "print(\"Train image shape:\", train_images.shape, \"train label shape:\", train_labels.shape)\n",
    "print(\"Val image shape:\", val_images.shape, \"val label shape:\", val_labels.shape)\n",
    "print(\"Test image shape:\", test_images.shape, \"test label shape:\", test_labels.shape)\n",
    "\n",
    "print(\"Full Train image shape:\", full_train_images.shape, \"full train label shape:\", full_train_labels.shape)"
   ]
  },
  {
   "cell_type": "code",
   "execution_count": 13,
   "metadata": {},
   "outputs": [],
   "source": [
    "train_x = train_images.reshape(train_images.shape[0], -1)\n",
    "val_x = val_images.reshape(val_images.shape[0], -1)\n",
    "test_x = test_images.reshape(test_images.shape[0], -1)\n",
    "\n",
    "full_train_x = full_train_images.reshape(full_train_images.shape[0], -1)"
   ]
  },
  {
   "cell_type": "code",
   "execution_count": 14,
   "metadata": {},
   "outputs": [
    {
     "data": {
      "text/plain": [
       "((2843, 50176), (2389, 50176), (624, 50176), (5232, 50176))"
      ]
     },
     "execution_count": 14,
     "metadata": {},
     "output_type": "execute_result"
    }
   ],
   "source": [
    "train_x.shape, val_x.shape, test_x.shape, full_train_x.shape"
   ]
  },
  {
   "cell_type": "code",
   "execution_count": 15,
   "metadata": {},
   "outputs": [],
   "source": [
    "train_y = np.reshape(train_labels[:], (2843,1))\n",
    "val_y = np.reshape(val_labels[:], (2389,1))\n",
    "test_y = np.reshape(test_labels[:], (624,1))\n",
    "\n",
    "##full training set labels\n",
    "full_train_y = np.reshape(full_train_labels[:], (5232,1))"
   ]
  },
  {
   "cell_type": "code",
   "execution_count": 16,
   "metadata": {},
   "outputs": [
    {
     "data": {
      "text/plain": [
       "((2843, 1), (2389, 1), (624, 1), (5232, 1))"
      ]
     },
     "execution_count": 16,
     "metadata": {},
     "output_type": "execute_result"
    }
   ],
   "source": [
    "train_y.shape, val_y.shape, test_y.shape, full_train_y.shape"
   ]
  },
  {
   "cell_type": "markdown",
   "metadata": {},
   "source": [
    "# FSM  \n",
    "### using one hidden layer"
   ]
  },
  {
   "cell_type": "code",
   "execution_count": 17,
   "metadata": {},
   "outputs": [],
   "source": [
    "np.random.seed(42)\n",
    "\n",
    "\n",
    "model = models.Sequential()\n",
    "model.add(layers.Dense(12, activation='relu', input_shape=(50176,)))\n",
    "model.add(layers.Dense(7, activation='relu'))\n",
    "model.add(layers.Dense(1, activation='sigmoid'))"
   ]
  },
  {
   "cell_type": "code",
   "execution_count": 18,
   "metadata": {
    "scrolled": true
   },
   "outputs": [
    {
     "name": "stdout",
     "output_type": "stream",
     "text": [
      "Epoch 1/25\n",
      "89/89 [==============================] - 1s 15ms/step - loss: 1.2701 - accuracy: 0.7397 - recall: 0.9142 - val_loss: 0.4143 - val_accuracy: 0.7895 - val_recall: 0.9942\n",
      "Epoch 2/25\n",
      "89/89 [==============================] - 1s 12ms/step - loss: 0.4024 - accuracy: 0.8241 - recall: 0.9123 - val_loss: 0.3576 - val_accuracy: 0.8857 - val_recall: 0.9264\n",
      "Epoch 3/25\n",
      "89/89 [==============================] - 1s 12ms/step - loss: 0.3595 - accuracy: 0.8572 - recall: 0.9212 - val_loss: 0.4965 - val_accuracy: 0.7359 - val_recall: 0.6412\n",
      "Epoch 4/25\n",
      "89/89 [==============================] - 1s 12ms/step - loss: 0.3319 - accuracy: 0.8815 - recall: 0.9347 - val_loss: 0.3016 - val_accuracy: 0.9121 - val_recall: 0.9275\n",
      "Epoch 5/25\n",
      "89/89 [==============================] - 1s 13ms/step - loss: 0.3008 - accuracy: 0.8980 - recall: 0.9440 - val_loss: 0.2703 - val_accuracy: 0.9150 - val_recall: 0.9747\n",
      "Epoch 6/25\n",
      "89/89 [==============================] - 2s 19ms/step - loss: 0.2692 - accuracy: 0.9071 - recall: 0.9496 - val_loss: 0.3463 - val_accuracy: 0.8686 - val_recall: 0.8292\n",
      "Epoch 7/25\n",
      "89/89 [==============================] - 2s 18ms/step - loss: 0.2603 - accuracy: 0.9100 - recall: 0.9506 - val_loss: 0.2486 - val_accuracy: 0.9138 - val_recall: 0.9868\n",
      "Epoch 8/25\n",
      "89/89 [==============================] - 1s 16ms/step - loss: 0.2503 - accuracy: 0.9107 - recall: 0.9454 - val_loss: 0.2486 - val_accuracy: 0.9104 - val_recall: 0.9891\n",
      "Epoch 9/25\n",
      "89/89 [==============================] - 2s 17ms/step - loss: 0.2422 - accuracy: 0.9195 - recall: 0.9562 - val_loss: 0.3059 - val_accuracy: 0.8707 - val_recall: 0.9937\n",
      "Epoch 10/25\n",
      "89/89 [==============================] - 1s 15ms/step - loss: 0.2152 - accuracy: 0.9311 - recall: 0.9604 - val_loss: 0.1974 - val_accuracy: 0.9368 - val_recall: 0.9827\n",
      "Epoch 11/25\n",
      "89/89 [==============================] - 1s 16ms/step - loss: 0.2196 - accuracy: 0.9275 - recall: 0.9608 - val_loss: 0.1969 - val_accuracy: 0.9322 - val_recall: 0.9850\n",
      "Epoch 12/25\n",
      "89/89 [==============================] - 2s 17ms/step - loss: 0.2018 - accuracy: 0.9258 - recall: 0.9529 - val_loss: 0.2989 - val_accuracy: 0.8790 - val_recall: 0.9942\n",
      "Epoch 13/25\n",
      "89/89 [==============================] - 1s 15ms/step - loss: 0.1959 - accuracy: 0.9325 - recall: 0.9562 - val_loss: 0.1783 - val_accuracy: 0.9393 - val_recall: 0.9758\n",
      "Epoch 14/25\n",
      "89/89 [==============================] - 1s 16ms/step - loss: 0.1949 - accuracy: 0.9304 - recall: 0.9608 - val_loss: 0.2148 - val_accuracy: 0.9150 - val_recall: 0.9919\n",
      "Epoch 15/25\n",
      "89/89 [==============================] - 1s 16ms/step - loss: 0.1849 - accuracy: 0.9346 - recall: 0.9641 - val_loss: 0.2184 - val_accuracy: 0.9121 - val_recall: 0.9914\n",
      "Epoch 16/25\n",
      "89/89 [==============================] - 1s 16ms/step - loss: 0.1730 - accuracy: 0.9402 - recall: 0.9655 - val_loss: 0.1631 - val_accuracy: 0.9406 - val_recall: 0.9557\n",
      "Epoch 17/25\n",
      "89/89 [==============================] - 1s 16ms/step - loss: 0.1784 - accuracy: 0.9381 - recall: 0.9697 - val_loss: 0.1583 - val_accuracy: 0.9468 - val_recall: 0.9557\n",
      "Epoch 18/25\n",
      "89/89 [==============================] - 2s 17ms/step - loss: 0.1780 - accuracy: 0.9335 - recall: 0.9636 - val_loss: 0.1469 - val_accuracy: 0.9468 - val_recall: 0.9712\n",
      "Epoch 19/25\n",
      "89/89 [==============================] - 2s 18ms/step - loss: 0.1652 - accuracy: 0.9420 - recall: 0.9711 - val_loss: 0.1458 - val_accuracy: 0.9452 - val_recall: 0.9758\n",
      "Epoch 20/25\n",
      "89/89 [==============================] - 1s 16ms/step - loss: 0.1634 - accuracy: 0.9409 - recall: 0.9725 - val_loss: 0.3812 - val_accuracy: 0.8384 - val_recall: 0.9971\n",
      "Epoch 21/25\n",
      "89/89 [==============================] - 1s 15ms/step - loss: 0.1601 - accuracy: 0.9444 - recall: 0.9715 - val_loss: 0.1865 - val_accuracy: 0.9226 - val_recall: 0.9902\n",
      "Epoch 22/25\n",
      "89/89 [==============================] - 1s 16ms/step - loss: 0.1502 - accuracy: 0.9476 - recall: 0.9734 - val_loss: 0.1407 - val_accuracy: 0.9510 - val_recall: 0.9678\n",
      "Epoch 23/25\n",
      "89/89 [==============================] - 1s 15ms/step - loss: 0.1453 - accuracy: 0.9458 - recall: 0.9739 - val_loss: 0.1605 - val_accuracy: 0.9334 - val_recall: 0.9891\n",
      "Epoch 24/25\n",
      "89/89 [==============================] - 1s 16ms/step - loss: 0.1644 - accuracy: 0.9370 - recall: 0.9641 - val_loss: 0.1661 - val_accuracy: 0.9330 - val_recall: 0.9891\n",
      "Epoch 25/25\n",
      "89/89 [==============================] - 1s 16ms/step - loss: 0.1527 - accuracy: 0.9437 - recall: 0.9748 - val_loss: 0.1455 - val_accuracy: 0.9435 - val_recall: 0.9845\n"
     ]
    }
   ],
   "source": [
    "model.compile(optimizer='rmsprop',\n",
    "              loss='binary_crossentropy',\n",
    "              metrics= (['accuracy'], metrics.Recall()))\n",
    "\n",
    "history = model.fit(train_x,\n",
    "                    train_y,\n",
    "                    epochs=25,\n",
    "                    batch_size=32,\n",
    "                    validation_data=(val_x, val_y))"
   ]
  },
  {
   "cell_type": "markdown",
   "metadata": {},
   "source": [
    "# First CNN "
   ]
  },
  {
   "cell_type": "code",
   "execution_count": 19,
   "metadata": {},
   "outputs": [],
   "source": [
    "batch_size = 64\n",
    "epochs = 10\n",
    "num_classes = 2"
   ]
  },
  {
   "cell_type": "code",
   "execution_count": 20,
   "metadata": {},
   "outputs": [],
   "source": [
    "model = models.Sequential()\n",
    "model.add(layers.Conv2D(32, (3, 3), activation='relu',\n",
    "                        input_shape=(224 , 224, 1)))\n",
    "model.add(layers.MaxPooling2D((2, 2)))\n",
    "\n",
    "model.add(layers.Conv2D(32, (4, 4), activation='relu'))\n",
    "model.add(layers.MaxPooling2D((2, 2)))\n",
    "\n",
    "model.add(layers.Flatten())\n",
    "model.add(layers.Dense(64, activation='relu'))\n",
    "model.add(layers.Dense(1, activation='sigmoid'))\n",
    "\n",
    "model.compile(loss='binary_crossentropy',\n",
    "              optimizer='rmsprop',\n",
    "              metrics=(['accuracy'], metrics.Recall()))"
   ]
  },
  {
   "cell_type": "code",
   "execution_count": 21,
   "metadata": {},
   "outputs": [],
   "source": [
    "model.compile(optimizer = 'rmsprop', \n",
    "              loss = 'binary_crossentropy', \n",
    "              metrics = (['accuracy'], metrics.Recall()))"
   ]
  },
  {
   "cell_type": "code",
   "execution_count": 22,
   "metadata": {},
   "outputs": [
    {
     "name": "stdout",
     "output_type": "stream",
     "text": [
      "Epoch 1/10\n",
      "45/45 [==============================] - 88s 2s/step - loss: 0.8752 - accuracy: 0.7703 - recall_2: 0.9104 - val_loss: 0.3453 - val_accuracy: 0.8560 - val_recall_2: 0.9212\n",
      "Epoch 2/10\n",
      "45/45 [==============================] - 88s 2s/step - loss: 0.3746 - accuracy: 0.9128 - recall_2: 0.9520 - val_loss: 0.2904 - val_accuracy: 0.8794 - val_recall_2: 0.9747\n",
      "Epoch 3/10\n",
      "45/45 [==============================] - 88s 2s/step - loss: 0.1885 - accuracy: 0.9339 - recall_2: 0.9604 - val_loss: 0.2995 - val_accuracy: 0.8841 - val_recall_2: 0.8683\n",
      "Epoch 4/10\n",
      "45/45 [==============================] - 86s 2s/step - loss: 0.1464 - accuracy: 0.9444 - recall_2: 0.9627 - val_loss: 0.2404 - val_accuracy: 0.9062 - val_recall_2: 0.9908\n",
      "Epoch 5/10\n",
      "45/45 [==============================] - 87s 2s/step - loss: 0.1085 - accuracy: 0.9581 - recall_2: 0.9743 - val_loss: 1.4231 - val_accuracy: 0.7359 - val_recall_2: 1.0000\n",
      "Epoch 6/10\n",
      "45/45 [==============================] - 86s 2s/step - loss: 0.1117 - accuracy: 0.9634 - recall_2: 0.9781 - val_loss: 0.2384 - val_accuracy: 0.9238 - val_recall_2: 0.8999\n",
      "Epoch 7/10\n",
      "45/45 [==============================] - 86s 2s/step - loss: 0.0800 - accuracy: 0.9712 - recall_2: 0.9790 - val_loss: 0.1282 - val_accuracy: 0.9607 - val_recall_2: 0.9787\n",
      "Epoch 8/10\n",
      "45/45 [==============================] - 86s 2s/step - loss: 0.0741 - accuracy: 0.9761 - recall_2: 0.9851 - val_loss: 0.1293 - val_accuracy: 0.9619 - val_recall_2: 0.9810\n",
      "Epoch 9/10\n",
      "45/45 [==============================] - 86s 2s/step - loss: 0.0532 - accuracy: 0.9796 - recall_2: 0.9865 - val_loss: 0.2020 - val_accuracy: 0.9489 - val_recall_2: 0.9885\n",
      "Epoch 10/10\n",
      "45/45 [==============================] - 86s 2s/step - loss: 0.0453 - accuracy: 0.9856 - recall_2: 0.9902 - val_loss: 0.1685 - val_accuracy: 0.9498 - val_recall_2: 0.9776\n"
     ]
    }
   ],
   "source": [
    "history = model.fit(train_images, train_y, epochs = epochs, batch_size = batch_size, validation_data=(val_images, val_y))"
   ]
  },
  {
   "cell_type": "code",
   "execution_count": 23,
   "metadata": {
    "scrolled": true
   },
   "outputs": [
    {
     "name": "stdout",
     "output_type": "stream",
     "text": [
      "89/89 [==============================] - 18s 202ms/step - loss: 0.0222 - accuracy: 0.9923 - recall_2: 0.9944\n"
     ]
    }
   ],
   "source": [
    "results_train = model.evaluate(train_images, train_y)"
   ]
  },
  {
   "cell_type": "code",
   "execution_count": 24,
   "metadata": {},
   "outputs": [
    {
     "data": {
      "text/plain": [
       "{'validation_data': None,\n",
       " 'model': <tensorflow.python.keras.engine.sequential.Sequential at 0x24f3cbb0c10>,\n",
       " '_chief_worker_only': None,\n",
       " '_supports_tf_logs': False,\n",
       " 'history': {'loss': [0.8752040266990662,\n",
       "   0.37461546063423157,\n",
       "   0.188506618142128,\n",
       "   0.14644724130630493,\n",
       "   0.10848119109869003,\n",
       "   0.11169004440307617,\n",
       "   0.07999250292778015,\n",
       "   0.0740526020526886,\n",
       "   0.053233128041028976,\n",
       "   0.04533915966749191],\n",
       "  'accuracy': [0.770313024520874,\n",
       "   0.9127681851387024,\n",
       "   0.933872640132904,\n",
       "   0.9444249272346497,\n",
       "   0.9581428170204163,\n",
       "   0.9634189009666443,\n",
       "   0.9711572527885437,\n",
       "   0.9760816097259521,\n",
       "   0.9795989990234375,\n",
       "   0.9855785965919495],\n",
       "  'recall_2': [0.9104477763175964,\n",
       "   0.951958954334259,\n",
       "   0.9603545069694519,\n",
       "   0.9626865386962891,\n",
       "   0.9743469953536987,\n",
       "   0.9780783653259277,\n",
       "   0.9790111780166626,\n",
       "   0.9850746393203735,\n",
       "   0.9864738583564758,\n",
       "   0.9902052283287048],\n",
       "  'val_loss': [0.34527409076690674,\n",
       "   0.29040345549583435,\n",
       "   0.29949530959129333,\n",
       "   0.2403680384159088,\n",
       "   1.4231090545654297,\n",
       "   0.23843668401241302,\n",
       "   0.12818023562431335,\n",
       "   0.12933363020420074,\n",
       "   0.20200566947460175,\n",
       "   0.1685195416212082],\n",
       "  'val_accuracy': [0.8560066819190979,\n",
       "   0.8794474601745605,\n",
       "   0.8840519189834595,\n",
       "   0.9062369465827942,\n",
       "   0.735872745513916,\n",
       "   0.92381751537323,\n",
       "   0.9606530070304871,\n",
       "   0.961908757686615,\n",
       "   0.9489325881004333,\n",
       "   0.9497697949409485],\n",
       "  'val_recall_2': [0.9212191104888916,\n",
       "   0.9746981263160706,\n",
       "   0.8683151006698608,\n",
       "   0.9907993078231812,\n",
       "   1.0,\n",
       "   0.8999425172805786,\n",
       "   0.978723406791687,\n",
       "   0.9810235500335693,\n",
       "   0.9884991645812988,\n",
       "   0.9775733351707458]},\n",
       " 'params': {'verbose': 1, 'epochs': 10, 'steps': 45},\n",
       " 'epoch': [0, 1, 2, 3, 4, 5, 6, 7, 8, 9]}"
      ]
     },
     "execution_count": 24,
     "metadata": {},
     "output_type": "execute_result"
    }
   ],
   "source": [
    "history.__dict__"
   ]
  },
  {
   "cell_type": "code",
   "execution_count": 25,
   "metadata": {},
   "outputs": [],
   "source": [
    "model_epochs = history.epoch\n",
    "model_recall_train = history.history['recall_2']\n",
    "model_recall_val = history.history['val_recall_2']\n",
    "model_accuracy_train = history.history['accuracy']\n",
    "model_accuracy_val = history.history['val_accuracy']"
   ]
  },
  {
   "cell_type": "markdown",
   "metadata": {},
   "source": [
    "## Plotting Accuracy and Recall Against Epochs"
   ]
  },
  {
   "cell_type": "code",
   "execution_count": 26,
   "metadata": {},
   "outputs": [
    {
     "data": {
      "image/png": "[encoded data removed]",
      "text/plain": [
       "<Figure size 576x432 with 1 Axes>"
      ]
     },
     "metadata": {
      "needs_background": "light"
     },
     "output_type": "display_data"
    }
   ],
   "source": [
    "fig, ax = plt.subplots(figsize = (8,6))\n",
    "\n",
    "ax.plot(model_epochs, model_accuracy_train, label = 'Training Accuracy')\n",
    "ax.plot(model_epochs, model_accuracy_val, linestyle = '--', label = 'Validation Accuracy')\n",
    "ax.set_xlabel(\"Epochs\")\n",
    "ax.set_ylabel(\"Accuracy\")\n",
    "plt.legend();"
   ]
  },
  {
   "cell_type": "code",
   "execution_count": 27,
   "metadata": {
    "scrolled": true
   },
   "outputs": [
    {
     "data": {
      "image/png": "[encoded data removed]",
      "text/plain": [
       "<Figure size 576x432 with 1 Axes>"
      ]
     },
     "metadata": {
      "needs_background": "light"
     },
     "output_type": "display_data"
    }
   ],
   "source": [
    "fig, ax = plt.subplots(figsize = (8,6))\n",
    "\n",
    "ax.plot(model_epochs, model_recall_train, label = 'Training Recall')\n",
    "ax.plot(model_epochs, model_recall_val, linestyle = '--', label = 'Validation Recall')\n",
    "ax.set_xlabel(\"Epochs\")\n",
    "ax.set_ylabel(\"Recall\")\n",
    "plt.legend();"
   ]
  },
  {
   "cell_type": "markdown",
   "metadata": {},
   "source": [
    "## Second CNN"
   ]
  },
  {
   "cell_type": "code",
   "execution_count": 20,
   "metadata": {},
   "outputs": [],
   "source": [
    "model2 = models.Sequential()\n",
    "model2.add(layers.Conv2D(32, (5, 5), activation='relu',\n",
    "                        input_shape=(224 , 224, 1)))\n",
    "model2.add(layers.MaxPooling2D((2, 2)))\n",
    "\n",
    "model2.add(layers.Conv2D(32, (4, 4), activation='relu'))\n",
    "model2.add(layers.MaxPooling2D((2, 2), padding = 'same'))\n",
    "\n",
    "model2.add(LeakyReLU())\n",
    "model2.add(layers.MaxPooling2D((2, 2), padding = 'same'))\n",
    "\n",
    "model2.add(layers.Flatten())\n",
    "model2.add(layers.Dense(64, activation='relu'))\n",
    "model2.add(layers.Dense(1, activation='sigmoid'))\n",
    "\n",
    "model2.compile(loss='binary_crossentropy',\n",
    "              optimizer='rmsprop',\n",
    "              metrics=(['accuracy'], metrics.Recall()))"
   ]
  },
  {
   "cell_type": "code",
   "execution_count": 29,
   "metadata": {},
   "outputs": [
    {
     "name": "stdout",
     "output_type": "stream",
     "text": [
      "Epoch 1/10\n",
      "45/45 [==============================] - 95s 2s/step - loss: 0.5359 - accuracy: 0.7629 - recall_3: 0.8680 - val_loss: 0.4462 - val_accuracy: 0.8003 - val_recall_3: 0.9833\n",
      "Epoch 2/10\n",
      "45/45 [==============================] - 99s 2s/step - loss: 0.2664 - accuracy: 0.9019 - recall_3: 0.9398 - val_loss: 0.2573 - val_accuracy: 0.8966 - val_recall_3: 0.9758\n",
      "Epoch 3/10\n",
      "45/45 [==============================] - 94s 2s/step - loss: 0.2242 - accuracy: 0.9209 - recall_3: 0.9501 - val_loss: 0.2000 - val_accuracy: 0.9238 - val_recall_3: 0.9241\n",
      "Epoch 4/10\n",
      "45/45 [==============================] - 95s 2s/step - loss: 0.1924 - accuracy: 0.9367 - recall_3: 0.9590 - val_loss: 0.2027 - val_accuracy: 0.9217 - val_recall_3: 0.9914\n",
      "Epoch 5/10\n",
      "45/45 [==============================] - 95s 2s/step - loss: 0.2329 - accuracy: 0.9413 - recall_3: 0.9599 - val_loss: 0.1485 - val_accuracy: 0.9452 - val_recall_3: 0.9850\n",
      "Epoch 6/10\n",
      "45/45 [==============================] - 99s 2s/step - loss: 0.1415 - accuracy: 0.9571 - recall_3: 0.9725 - val_loss: 0.1975 - val_accuracy: 0.9284 - val_recall_3: 0.9902\n",
      "Epoch 7/10\n",
      "45/45 [==============================] - 94s 2s/step - loss: 0.0950 - accuracy: 0.9683 - recall_3: 0.9799 - val_loss: 0.1976 - val_accuracy: 0.9339 - val_recall_3: 0.9902\n",
      "Epoch 8/10\n",
      "45/45 [==============================] - 94s 2s/step - loss: 0.1535 - accuracy: 0.9666 - recall_3: 0.9813 - val_loss: 0.1345 - val_accuracy: 0.9590 - val_recall_3: 0.9839\n",
      "Epoch 9/10\n",
      "45/45 [==============================] - 93s 2s/step - loss: 0.0799 - accuracy: 0.9722 - recall_3: 0.9795 - val_loss: 0.1350 - val_accuracy: 0.9573 - val_recall_3: 0.9678\n",
      "Epoch 10/10\n",
      "45/45 [==============================] - 94s 2s/step - loss: 0.0671 - accuracy: 0.9778 - recall_3: 0.9855 - val_loss: 0.1408 - val_accuracy: 0.9514 - val_recall_3: 0.9482\n"
     ]
    }
   ],
   "source": [
    "history2 = model2.fit(train_images, train_y, epochs = epochs, batch_size = batch_size, validation_data=(val_images, val_y))"
   ]
  },
  {
   "cell_type": "code",
   "execution_count": 30,
   "metadata": {},
   "outputs": [
    {
     "name": "stdout",
     "output_type": "stream",
     "text": [
      "89/89 [==============================] - 19s 213ms/step - loss: 0.0789 - accuracy: 0.9687 - recall_3: 0.9590\n"
     ]
    }
   ],
   "source": [
    "results_train2 = model2.evaluate(train_images, train_y)"
   ]
  },
  {
   "cell_type": "markdown",
   "metadata": {},
   "source": [
    "## Third CNN"
   ]
  },
  {
   "cell_type": "code",
   "execution_count": 21,
   "metadata": {},
   "outputs": [],
   "source": [
    "model3 = models.Sequential()\n",
    "model3.add(layers.Conv2D(32, (8, 8), activation='relu',\n",
    "                        input_shape=(224 , 224, 1)))\n",
    "model3.add(layers.MaxPooling2D((2, 2)))\n",
    "\n",
    "model3.add(layers.Conv2D(32, (4, 4), activation='relu'))\n",
    "model3.add(layers.MaxPooling2D((2, 2), padding = 'same'))\n",
    "\n",
    "model3.add(LeakyReLU())\n",
    "model3.add(layers.MaxPooling2D((2, 2), padding = 'same'))\n",
    "\n",
    "model3.add(Dropout(.5))\n",
    "model3.add(layers.Flatten())\n",
    "model3.add(layers.Dense(64, activation='relu'))\n",
    "model3.add(layers.Dense(1, activation='sigmoid'))\n",
    "\n",
    "model3.compile(loss='binary_crossentropy',\n",
    "              optimizer='rmsprop',\n",
    "              metrics=(['accuracy'], metrics.Recall()))"
   ]
  },
  {
   "cell_type": "code",
   "execution_count": 32,
   "metadata": {},
   "outputs": [
    {
     "name": "stdout",
     "output_type": "stream",
     "text": [
      "Epoch 1/10\n",
      "45/45 [==============================] - 114s 3s/step - loss: 0.6768 - accuracy: 0.7742 - recall_4: 0.9118 - val_loss: 0.4852 - val_accuracy: 0.7622 - val_recall_4: 0.9896\n",
      "Epoch 2/10\n",
      "45/45 [==============================] - 110s 2s/step - loss: 0.3521 - accuracy: 0.8590 - recall_4: 0.9146 - val_loss: 0.3431 - val_accuracy: 0.8640 - val_recall_4: 0.9816\n",
      "Epoch 3/10\n",
      "45/45 [==============================] - 111s 2s/step - loss: 0.2193 - accuracy: 0.9159 - recall_4: 0.9515 - val_loss: 0.2442 - val_accuracy: 0.9062 - val_recall_4: 0.9505\n",
      "Epoch 4/10\n",
      "45/45 [==============================] - 110s 2s/step - loss: 0.2577 - accuracy: 0.9114 - recall_4: 0.9431 - val_loss: 1.2545 - val_accuracy: 0.7321 - val_recall_4: 1.0000\n",
      "Epoch 5/10\n",
      "45/45 [==============================] - 112s 2s/step - loss: 0.1796 - accuracy: 0.9384 - recall_4: 0.9660 - val_loss: 0.2278 - val_accuracy: 0.9138 - val_recall_4: 0.9557\n",
      "Epoch 6/10\n",
      "45/45 [==============================] - 111s 2s/step - loss: 0.1656 - accuracy: 0.9367 - recall_4: 0.9594 - val_loss: 0.2412 - val_accuracy: 0.9150 - val_recall_4: 0.9799\n",
      "Epoch 7/10\n",
      "45/45 [==============================] - 110s 2s/step - loss: 0.1249 - accuracy: 0.9564 - recall_4: 0.9720 - val_loss: 0.2260 - val_accuracy: 0.9284 - val_recall_4: 0.9810\n",
      "Epoch 8/10\n",
      "45/45 [==============================] - 113s 3s/step - loss: 0.1331 - accuracy: 0.9511 - recall_4: 0.9646 - val_loss: 0.1551 - val_accuracy: 0.9443 - val_recall_4: 0.9816\n",
      "Epoch 9/10\n",
      "45/45 [==============================] - 110s 2s/step - loss: 0.1274 - accuracy: 0.9613 - recall_4: 0.9734 - val_loss: 0.2246 - val_accuracy: 0.9334 - val_recall_4: 0.9862\n",
      "Epoch 10/10\n",
      "45/45 [==============================] - 113s 3s/step - loss: 0.1023 - accuracy: 0.9606 - recall_4: 0.9734 - val_loss: 0.1346 - val_accuracy: 0.9611 - val_recall_4: 0.9758\n"
     ]
    }
   ],
   "source": [
    "history3 = model3.fit(train_images, train_y, epochs = epochs, batch_size = batch_size, validation_data=(val_images, val_y))"
   ]
  },
  {
   "cell_type": "code",
   "execution_count": 33,
   "metadata": {},
   "outputs": [
    {
     "name": "stdout",
     "output_type": "stream",
     "text": [
      "89/89 [==============================] - 21s 231ms/step - loss: 0.0538 - accuracy: 0.9785 - recall_4: 0.9771\n"
     ]
    }
   ],
   "source": [
    "results_train3 = model3.evaluate(train_images, train_y)"
   ]
  },
  {
   "cell_type": "code",
   "execution_count": 34,
   "metadata": {},
   "outputs": [],
   "source": [
    "#history3.__dict__"
   ]
  },
  {
   "cell_type": "code",
   "execution_count": 35,
   "metadata": {},
   "outputs": [],
   "source": [
    "model_epochs3 = history3.epoch\n",
    "model_recall_train3 = history3.history['recall_4']\n",
    "model_recall_val3 = history3.history['val_recall_4']\n",
    "model_accuracy_train3 = history3.history['accuracy']\n",
    "model_accuracy_val3 = history3.history['val_accuracy']"
   ]
  },
  {
   "cell_type": "markdown",
   "metadata": {},
   "source": [
    "## Plotting CNN3"
   ]
  },
  {
   "cell_type": "code",
   "execution_count": 36,
   "metadata": {},
   "outputs": [
    {
     "data": {
      "image/png": "[encoded data removed]",
      "text/plain": [
       "<Figure size 576x432 with 1 Axes>"
      ]
     },
     "metadata": {
      "needs_background": "light"
     },
     "output_type": "display_data"
    }
   ],
   "source": [
    "fig, ax = plt.subplots(figsize = (8,6))\n",
    "\n",
    "ax.plot(model_epochs3, model_accuracy_train3, label = 'Training Accuracy')\n",
    "ax.plot(model_epochs3, model_accuracy_val3, linestyle = '--', label = 'Validation Accuracy')\n",
    "ax.set_xlabel(\"Epochs\")\n",
    "ax.set_ylabel(\"Accuracy\")\n",
    "plt.legend();"
   ]
  },
  {
   "cell_type": "code",
   "execution_count": 37,
   "metadata": {},
   "outputs": [
    {
     "data": {
      "image/png": "[encoded data removed]",
      "text/plain": [
       "<Figure size 576x432 with 1 Axes>"
      ]
     },
     "metadata": {
      "needs_background": "light"
     },
     "output_type": "display_data"
    }
   ],
   "source": [
    "fig, ax = plt.subplots(figsize = (8,6))\n",
    "\n",
    "ax.plot(model_epochs3, model_recall_train3, label = 'Training Recall')\n",
    "ax.plot(model_epochs3, model_recall_val3, linestyle = '--', label = 'Validation Recall')\n",
    "ax.set_xlabel(\"Epochs\")\n",
    "ax.set_ylabel(\"Recall\")\n",
    "plt.legend();"
   ]
  },
  {
   "cell_type": "markdown",
   "metadata": {},
   "source": [
    "## Fitting CNN3 on full training set with a validation percentage"
   ]
  },
  {
   "cell_type": "code",
   "execution_count": 22,
   "metadata": {},
   "outputs": [],
   "source": [
    "model4 = models.Sequential()\n",
    "model4.add(layers.Conv2D(32, (8, 8), activation='relu',\n",
    "                        input_shape=(224 , 224, 1)))\n",
    "model4.add(layers.MaxPooling2D((2, 2)))\n",
    "\n",
    "model4.add(layers.Conv2D(32, (4, 4), activation='relu'))\n",
    "model4.add(layers.MaxPooling2D((2, 2), padding = 'same'))\n",
    "\n",
    "model4.add(LeakyReLU())\n",
    "model4.add(layers.MaxPooling2D((2, 2), padding = 'same'))\n",
    "\n",
    "model4.add(Dropout(.5))\n",
    "model4.add(layers.Flatten())\n",
    "model4.add(layers.Dense(64, activation='relu'))\n",
    "model4.add(layers.Dense(1, activation='sigmoid'))\n",
    "\n",
    "model4.compile(loss='binary_crossentropy',\n",
    "              optimizer='rmsprop',\n",
    "              metrics=(['accuracy'], metrics.Recall()))"
   ]
  },
  {
   "cell_type": "code",
   "execution_count": 39,
   "metadata": {},
   "outputs": [
    {
     "name": "stdout",
     "output_type": "stream",
     "text": [
      "Epoch 1/15\n",
      "62/62 [==============================] - 142s 2s/step - loss: 0.5796 - accuracy: 0.7582 - recall_5: 0.8827 - val_loss: 0.3532 - val_accuracy: 0.8333 - val_recall_5: 0.9990\n",
      "Epoch 2/15\n",
      "62/62 [==============================] - 147s 2s/step - loss: 0.3837 - accuracy: 0.8688 - recall_5: 0.9129 - val_loss: 0.3054 - val_accuracy: 0.9044 - val_recall_5: 0.9090\n",
      "Epoch 3/15\n",
      "62/62 [==============================] - 146s 2s/step - loss: 0.3228 - accuracy: 0.9218 - recall_5: 0.9551 - val_loss: 0.1073 - val_accuracy: 0.9602 - val_recall_5: 0.9731\n",
      "Epoch 4/15\n",
      "62/62 [==============================] - 148s 2s/step - loss: 0.2124 - accuracy: 0.9276 - recall_5: 0.9568 - val_loss: 0.1192 - val_accuracy: 0.9625 - val_recall_5: 0.9772\n",
      "Epoch 5/15\n",
      "62/62 [==============================] - 146s 2s/step - loss: 0.1656 - accuracy: 0.9452 - recall_5: 0.9660 - val_loss: 0.2943 - val_accuracy: 0.8731 - val_recall_5: 0.8294\n",
      "Epoch 6/15\n",
      "62/62 [==============================] - 140s 2s/step - loss: 0.3132 - accuracy: 0.9478 - recall_5: 0.9657 - val_loss: 0.1373 - val_accuracy: 0.9511 - val_recall_5: 0.9369\n",
      "Epoch 7/15\n",
      "62/62 [==============================] - 145s 2s/step - loss: 0.1138 - accuracy: 0.9602 - recall_5: 0.9753 - val_loss: 0.1051 - val_accuracy: 0.9664 - val_recall_5: 0.9679\n",
      "Epoch 8/15\n",
      "62/62 [==============================] - 146s 2s/step - loss: 0.1443 - accuracy: 0.9495 - recall_5: 0.9654 - val_loss: 0.1069 - val_accuracy: 0.9641 - val_recall_5: 0.9731\n",
      "Epoch 9/15\n",
      "62/62 [==============================] - 144s 2s/step - loss: 0.1202 - accuracy: 0.9582 - recall_5: 0.9712 - val_loss: 0.1031 - val_accuracy: 0.9671 - val_recall_5: 0.9814\n",
      "Epoch 10/15\n",
      "62/62 [==============================] - 144s 2s/step - loss: 0.1247 - accuracy: 0.9582 - recall_5: 0.9726 - val_loss: 0.1091 - val_accuracy: 0.9625 - val_recall_5: 0.9628\n",
      "Epoch 11/15\n",
      "62/62 [==============================] - 142s 2s/step - loss: 0.0995 - accuracy: 0.9656 - recall_5: 0.9757 - val_loss: 0.0975 - val_accuracy: 0.9709 - val_recall_5: 0.9824\n",
      "Epoch 12/15\n",
      "62/62 [==============================] - 143s 2s/step - loss: 0.0856 - accuracy: 0.9707 - recall_5: 0.9791 - val_loss: 0.1569 - val_accuracy: 0.9518 - val_recall_5: 0.9897\n",
      "Epoch 13/15\n",
      "62/62 [==============================] - 153s 2s/step - loss: 0.0805 - accuracy: 0.9725 - recall_5: 0.9794 - val_loss: 0.0985 - val_accuracy: 0.9687 - val_recall_5: 0.9679\n",
      "Epoch 14/15\n",
      "62/62 [==============================] - 156s 3s/step - loss: 0.2876 - accuracy: 0.9702 - recall_5: 0.9808 - val_loss: 0.1165 - val_accuracy: 0.9625 - val_recall_5: 0.9535\n",
      "Epoch 15/15\n",
      "62/62 [==============================] - 148s 2s/step - loss: 0.0797 - accuracy: 0.9684 - recall_5: 0.9784 - val_loss: 0.0957 - val_accuracy: 0.9687 - val_recall_5: 0.9721\n"
     ]
    }
   ],
   "source": [
    "history4 = model4.fit(full_train_images, full_train_y, epochs = 15, batch_size = batch_size, validation_split=.25)"
   ]
  },
  {
   "cell_type": "code",
   "execution_count": 40,
   "metadata": {},
   "outputs": [
    {
     "data": {
      "text/plain": [
       "{'validation_data': None,\n",
       " 'model': <tensorflow.python.keras.engine.sequential.Sequential at 0x24f40c4ed00>,\n",
       " '_chief_worker_only': None,\n",
       " '_supports_tf_logs': False,\n",
       " 'history': {'loss': [0.5796013474464417,\n",
       "   0.38365522027015686,\n",
       "   0.32276445627212524,\n",
       "   0.21237385272979736,\n",
       "   0.1655960977077484,\n",
       "   0.31321632862091064,\n",
       "   0.113788902759552,\n",
       "   0.14431077241897583,\n",
       "   0.12017685174942017,\n",
       "   0.1246732547879219,\n",
       "   0.09951247274875641,\n",
       "   0.0855959877371788,\n",
       "   0.08045664429664612,\n",
       "   0.28758499026298523,\n",
       "   0.07965467870235443],\n",
       "  'accuracy': [0.7581549286842346,\n",
       "   0.8687563538551331,\n",
       "   0.9217634797096252,\n",
       "   0.9276248812675476,\n",
       "   0.9452089667320251,\n",
       "   0.947757363319397,\n",
       "   0.9602446556091309,\n",
       "   0.9495412707328796,\n",
       "   0.9582059383392334,\n",
       "   0.9582059383392334,\n",
       "   0.9655963182449341,\n",
       "   0.9706931710243225,\n",
       "   0.9724770784378052,\n",
       "   0.9701834917068481,\n",
       "   0.9683995842933655],\n",
       "  'recall_5': [0.8827160596847534,\n",
       "   0.9128943681716919,\n",
       "   0.9550754427909851,\n",
       "   0.9567901492118835,\n",
       "   0.9660493731498718,\n",
       "   0.965706467628479,\n",
       "   0.9753086566925049,\n",
       "   0.9653635025024414,\n",
       "   0.9711934328079224,\n",
       "   0.9725651741027832,\n",
       "   0.9756515622138977,\n",
       "   0.9790809154510498,\n",
       "   0.9794238805770874,\n",
       "   0.9807956218719482,\n",
       "   0.9783950448036194],\n",
       "  'val_loss': [0.35322824120521545,\n",
       "   0.30537882447242737,\n",
       "   0.1073431670665741,\n",
       "   0.11924786865711212,\n",
       "   0.29427841305732727,\n",
       "   0.1372670978307724,\n",
       "   0.1050914004445076,\n",
       "   0.10693836212158203,\n",
       "   0.10308213531970978,\n",
       "   0.10914545506238937,\n",
       "   0.0974503830075264,\n",
       "   0.15686635673046112,\n",
       "   0.09849721938371658,\n",
       "   0.11645238101482391,\n",
       "   0.09571396559476852],\n",
       "  'val_accuracy': [0.8333333134651184,\n",
       "   0.9044342637062073,\n",
       "   0.9602446556091309,\n",
       "   0.9625382423400879,\n",
       "   0.8730886578559875,\n",
       "   0.9510703086853027,\n",
       "   0.966360867023468,\n",
       "   0.964067280292511,\n",
       "   0.9671253561973572,\n",
       "   0.9625382423400879,\n",
       "   0.9709480404853821,\n",
       "   0.9518348574638367,\n",
       "   0.968654453754425,\n",
       "   0.9625382423400879,\n",
       "   0.968654453754425],\n",
       "  'val_recall_5': [0.998965859413147,\n",
       "   0.9089968800544739,\n",
       "   0.9731127023696899,\n",
       "   0.9772492051124573,\n",
       "   0.8293691873550415,\n",
       "   0.936918318271637,\n",
       "   0.9679421186447144,\n",
       "   0.9731127023696899,\n",
       "   0.9813857078552246,\n",
       "   0.962771475315094,\n",
       "   0.9824198484420776,\n",
       "   0.9896587133407593,\n",
       "   0.9679421186447144,\n",
       "   0.9534643292427063,\n",
       "   0.9720786213874817]},\n",
       " 'params': {'verbose': 1, 'epochs': 15, 'steps': 62},\n",
       " 'epoch': [0, 1, 2, 3, 4, 5, 6, 7, 8, 9, 10, 11, 12, 13, 14]}"
      ]
     },
     "execution_count": 40,
     "metadata": {},
     "output_type": "execute_result"
    }
   ],
   "source": [
    "history3.__dict__"
   ]
  },
  {
   "cell_type": "code",
   "execution_count": 41,
   "metadata": {},
   "outputs": [],
   "source": [
    "model_epochs4 = history4.epoch\n",
    "model_recall_train4 = history4.history['recall_5']\n",
    "model_recall_val4 = history4.history['val_recall_5']\n",
    "model_accuracy_train4 = history4.history['accuracy']\n",
    "model_accuracy_val4 = history4.history['val_accuracy']\n",
    "model_loss_train4 = history4.history['loss']\n",
    "model_loss_val4 = history4.history['val_loss']"
   ]
  },
  {
   "cell_type": "code",
   "execution_count": 42,
   "metadata": {},
   "outputs": [
    {
     "data": {
      "image/png": "[encoded data removed]",
      "text/plain": [
       "<Figure size 576x432 with 1 Axes>"
      ]
     },
     "metadata": {
      "needs_background": "light"
     },
     "output_type": "display_data"
    }
   ],
   "source": [
    "fig, ax = plt.subplots(figsize = (8,6))\n",
    "\n",
    "ax.plot(model_epochs4, model_accuracy_train4, label = 'Training Accuracy')\n",
    "ax.plot(model_epochs4, model_accuracy_val4, linestyle = '--', label = 'Validation Accuracy')\n",
    "ax.set_xlabel(\"Epochs\")\n",
    "ax.set_ylabel(\"Accuracy\")\n",
    "plt.legend();"
   ]
  },
  {
   "cell_type": "code",
   "execution_count": 43,
   "metadata": {},
   "outputs": [
    {
     "data": {
      "image/png": "[encoded data removed]",
      "text/plain": [
       "<Figure size 576x432 with 1 Axes>"
      ]
     },
     "metadata": {
      "needs_background": "light"
     },
     "output_type": "display_data"
    }
   ],
   "source": [
    "fig, ax = plt.subplots(figsize = (8,6))\n",
    "\n",
    "ax.plot(model_epochs4, model_recall_train4, label = 'Training Recall')\n",
    "ax.plot(model_epochs4, model_recall_val4, linestyle = '--', label = 'Validation Recall')\n",
    "ax.set_xlabel(\"Epochs\")\n",
    "ax.set_ylabel(\"Recall\")\n",
    "plt.legend();"
   ]
  },
  {
   "cell_type": "code",
   "execution_count": 44,
   "metadata": {},
   "outputs": [
    {
     "data": {
      "image/png": "[encoded data removed]",
      "text/plain": [
       "<Figure size 576x432 with 1 Axes>"
      ]
     },
     "metadata": {
      "needs_background": "light"
     },
     "output_type": "display_data"
    }
   ],
   "source": [
    "fig, ax = plt.subplots(figsize = (8,6))\n",
    "\n",
    "ax.plot(model_epochs4, model_loss_train4, label = 'Training Loss')\n",
    "ax.plot(model_epochs4, model_loss_val4, linestyle = '--', label = 'Validation Loss')\n",
    "ax.set_xlabel(\"Epochs\")\n",
    "ax.set_ylabel(\"Recall\")\n",
    "plt.legend();"
   ]
  },
  {
   "cell_type": "code",
   "execution_count": 45,
   "metadata": {},
   "outputs": [
    {
     "name": "stdout",
     "output_type": "stream",
     "text": [
      "164/164 [==============================] - 40s 245ms/step - loss: 0.0639 - accuracy: 0.9763 - recall_5: 0.9753\n"
     ]
    }
   ],
   "source": [
    "full_results = model4.evaluate(full_train_images, full_train_y)"
   ]
  },
  {
   "cell_type": "code",
   "execution_count": 46,
   "metadata": {},
   "outputs": [
    {
     "name": "stdout",
     "output_type": "stream",
     "text": [
      "WARNING:tensorflow:From <ipython-input-46-53dfae070f2b>:1: Model.predict_generator (from tensorflow.python.keras.engine.training) is deprecated and will be removed in a future version.\n",
      "Instructions for updating:\n",
      "Please use Model.predict, which supports generators.\n"
     ]
    }
   ],
   "source": [
    "y_train_preds = model4.predict_generator(full_train_images)\n",
    "y_train_pred = np.round(y_train_preds).astype(int)"
   ]
  },
  {
   "cell_type": "code",
   "execution_count": 47,
   "metadata": {},
   "outputs": [],
   "source": [
    "y_true = full_train_y.astype(int)"
   ]
  },
  {
   "cell_type": "code",
   "execution_count": 48,
   "metadata": {},
   "outputs": [
    {
     "data": {
      "text/plain": [
       "array([[1321,   28],\n",
       "       [  96, 3787]], dtype=int64)"
      ]
     },
     "execution_count": 48,
     "metadata": {},
     "output_type": "execute_result"
    }
   ],
   "source": [
    "from sklearn.metrics import plot_confusion_matrix, confusion_matrix\n",
    "\n",
    "confusion_matrix(y_true, y_train_pred)"
   ]
  },
  {
   "cell_type": "markdown",
   "metadata": {},
   "source": [
    "## CNN 4 - further fiddling - tanh activation"
   ]
  },
  {
   "cell_type": "markdown",
   "metadata": {},
   "source": [
    "There was a marked decrease in loss as the number of epochs was increased. We began with 10, saw success with 15, and increased to 20."
   ]
  },
  {
   "cell_type": "code",
   "execution_count": 23,
   "metadata": {},
   "outputs": [],
   "source": [
    "model5 = models.Sequential()\n",
    "model5.add(layers.Conv2D(32, (4, 4), activation='tanh',\n",
    "                        input_shape=(224 , 224, 1)))\n",
    "model5.add(layers.MaxPooling2D((2, 2)))\n",
    "\n",
    "model5.add(layers.Conv2D(32, (4, 4), activation='relu'))\n",
    "model5.add(layers.MaxPooling2D((2, 2), padding = 'same'))\n",
    "\n",
    "model5.add(LeakyReLU())\n",
    "model5.add(layers.MaxPooling2D((2, 2), padding = 'same'))\n",
    "\n",
    "model5.add(Dropout(.5))\n",
    "model5.add(layers.Flatten())\n",
    "model5.add(layers.Dense(64, activation='relu'))\n",
    "model5.add(layers.Dense(1, activation='sigmoid'))\n",
    "\n",
    "model5.compile(loss='binary_crossentropy',\n",
    "              optimizer='rmsprop',\n",
    "              metrics=(['accuracy'], metrics.Recall()))"
   ]
  },
  {
   "cell_type": "code",
   "execution_count": 24,
   "metadata": {},
   "outputs": [
    {
     "name": "stdout",
     "output_type": "stream",
     "text": [
      "Epoch 1/20\n",
      "62/62 [==============================] - 151s 2s/step - loss: 0.6932 - accuracy: 0.7903 - recall_4: 0.9151 - val_loss: 0.3071 - val_accuracy: 0.8563 - val_recall_4: 0.9938\n",
      "Epoch 2/20\n",
      "62/62 [==============================] - 148s 2s/step - loss: 0.2792 - accuracy: 0.8805 - recall_4: 0.9241 - val_loss: 0.1388 - val_accuracy: 0.9472 - val_recall_4: 0.9938\n",
      "Epoch 3/20\n",
      "62/62 [==============================] - 145s 2s/step - loss: 0.1756 - accuracy: 0.9330 - recall_4: 0.9564 - val_loss: 0.7475 - val_accuracy: 0.7752 - val_recall_4: 1.0000\n",
      "Epoch 4/20\n",
      "62/62 [==============================] - 152s 2s/step - loss: 0.1274 - accuracy: 0.9523 - recall_4: 0.9715 - val_loss: 0.1795 - val_accuracy: 0.9235 - val_recall_4: 0.9959\n",
      "Epoch 5/20\n",
      "62/62 [==============================] - 159s 3s/step - loss: 0.1174 - accuracy: 0.9585 - recall_4: 0.9729 - val_loss: 0.0958 - val_accuracy: 0.9587 - val_recall_4: 0.9908\n",
      "Epoch 6/20\n",
      "62/62 [==============================] - 159s 3s/step - loss: 0.0970 - accuracy: 0.9687 - recall_4: 0.9797 - val_loss: 0.0736 - val_accuracy: 0.9740 - val_recall_4: 0.9887\n",
      "Epoch 7/20\n",
      "62/62 [==============================] - 149s 2s/step - loss: 0.0847 - accuracy: 0.9669 - recall_4: 0.9766 - val_loss: 0.0677 - val_accuracy: 0.9809 - val_recall_4: 0.9866\n",
      "Epoch 8/20\n",
      "62/62 [==============================] - 145s 2s/step - loss: 0.0795 - accuracy: 0.9717 - recall_4: 0.9808 - val_loss: 0.0762 - val_accuracy: 0.9740 - val_recall_4: 0.9846\n",
      "Epoch 9/20\n",
      "62/62 [==============================] - 151s 2s/step - loss: 0.0629 - accuracy: 0.9783 - recall_4: 0.9852 - val_loss: 0.1649 - val_accuracy: 0.9472 - val_recall_4: 0.9301\n",
      "Epoch 10/20\n",
      "62/62 [==============================] - 158s 3s/step - loss: 0.0644 - accuracy: 0.9776 - recall_4: 0.9838 - val_loss: 0.1239 - val_accuracy: 0.9580 - val_recall_4: 0.9466\n",
      "Epoch 11/20\n",
      "62/62 [==============================] - 162s 3s/step - loss: 0.0541 - accuracy: 0.9791 - recall_4: 0.9856 - val_loss: 0.1156 - val_accuracy: 0.9602 - val_recall_4: 0.9949\n",
      "Epoch 12/20\n",
      "62/62 [==============================] - 162s 3s/step - loss: 0.0412 - accuracy: 0.9862 - recall_4: 0.9904 - val_loss: 0.0889 - val_accuracy: 0.9648 - val_recall_4: 0.9640\n",
      "Epoch 13/20\n",
      "62/62 [==============================] - 150s 2s/step - loss: 0.0470 - accuracy: 0.9827 - recall_4: 0.9869 - val_loss: 0.0753 - val_accuracy: 0.9702 - val_recall_4: 0.9753\n",
      "Epoch 14/20\n",
      "62/62 [==============================] - 152s 2s/step - loss: 0.0370 - accuracy: 0.9873 - recall_4: 0.9924 - val_loss: 0.1420 - val_accuracy: 0.9518 - val_recall_4: 0.9383\n",
      "Epoch 15/20\n",
      "62/62 [==============================] - 147s 2s/step - loss: 0.0267 - accuracy: 0.9924 - recall_4: 0.9942 - val_loss: 0.0776 - val_accuracy: 0.9778 - val_recall_4: 0.9877\n",
      "Epoch 16/20\n",
      "62/62 [==============================] - 141s 2s/step - loss: 0.0324 - accuracy: 0.9908 - recall_4: 0.9938 - val_loss: 0.0917 - val_accuracy: 0.9671 - val_recall_4: 0.9692\n",
      "Epoch 17/20\n",
      "62/62 [==============================] - 140s 2s/step - loss: 0.0298 - accuracy: 0.9888 - recall_4: 0.9918 - val_loss: 0.1253 - val_accuracy: 0.9648 - val_recall_4: 0.9938\n",
      "Epoch 18/20\n",
      "62/62 [==============================] - 144s 2s/step - loss: 0.0271 - accuracy: 0.9918 - recall_4: 0.9942 - val_loss: 0.0955 - val_accuracy: 0.9771 - val_recall_4: 0.9887\n",
      "Epoch 19/20\n",
      "62/62 [==============================] - 145s 2s/step - loss: 0.0296 - accuracy: 0.9906 - recall_4: 0.9935 - val_loss: 0.0799 - val_accuracy: 0.9763 - val_recall_4: 0.9805\n",
      "Epoch 20/20\n",
      "62/62 [==============================] - 144s 2s/step - loss: 0.0166 - accuracy: 0.9939 - recall_4: 0.9945 - val_loss: 0.1268 - val_accuracy: 0.9694 - val_recall_4: 0.9908\n"
     ]
    }
   ],
   "source": [
    "history5 = model5.fit(full_train_images, full_train_y, epochs = 20, batch_size = batch_size, validation_split=.25)"
   ]
  },
  {
   "cell_type": "code",
   "execution_count": 26,
   "metadata": {},
   "outputs": [
    {
     "name": "stdout",
     "output_type": "stream",
     "text": [
      "164/164 [==============================] - 41s 250ms/step - loss: 0.0405 - accuracy: 0.9901 - recall_4: 0.9972\n"
     ]
    }
   ],
   "source": [
    "np.random.seed(42)\n",
    "train_results5 = model5.evaluate(full_train_images, full_train_y)"
   ]
  },
  {
   "cell_type": "code",
   "execution_count": 27,
   "metadata": {},
   "outputs": [],
   "source": [
    "y_preds = model5.predict(full_train_images)\n",
    "y_pred = np.round(y_preds).astype(int)"
   ]
  },
  {
   "cell_type": "code",
   "execution_count": 28,
   "metadata": {},
   "outputs": [],
   "source": [
    "y_true = full_train_y.astype(int)"
   ]
  },
  {
   "cell_type": "code",
   "execution_count": 29,
   "metadata": {},
   "outputs": [
    {
     "data": {
      "text/plain": [
       "array([[1308,   41],\n",
       "       [  11, 3872]], dtype=int64)"
      ]
     },
     "execution_count": 29,
     "metadata": {},
     "output_type": "execute_result"
    }
   ],
   "source": [
    "confusion_matrix(y_true, y_pred)"
   ]
  },
  {
   "cell_type": "code",
   "execution_count": 30,
   "metadata": {},
   "outputs": [
    {
     "data": {
      "text/plain": [
       "{'validation_data': None,\n",
       " 'model': <tensorflow.python.keras.engine.sequential.Sequential at 0x1f13bbb1b20>,\n",
       " '_chief_worker_only': None,\n",
       " '_supports_tf_logs': False,\n",
       " 'history': {'loss': [0.6932032704353333,\n",
       "   0.27924054861068726,\n",
       "   0.1756487786769867,\n",
       "   0.12742497026920319,\n",
       "   0.11740681529045105,\n",
       "   0.09696909040212631,\n",
       "   0.08467809855937958,\n",
       "   0.07945255935192108,\n",
       "   0.06286371499300003,\n",
       "   0.06440730392932892,\n",
       "   0.05412038788199425,\n",
       "   0.041207630187273026,\n",
       "   0.046972062438726425,\n",
       "   0.03700234740972519,\n",
       "   0.026691796258091927,\n",
       "   0.032379958778619766,\n",
       "   0.029847562313079834,\n",
       "   0.027121558785438538,\n",
       "   0.029556937515735626,\n",
       "   0.016580302268266678],\n",
       "  'accuracy': [0.7902650237083435,\n",
       "   0.880479097366333,\n",
       "   0.9329765439033508,\n",
       "   0.952344536781311,\n",
       "   0.9584607481956482,\n",
       "   0.968654453754425,\n",
       "   0.9668705463409424,\n",
       "   0.9717125296592712,\n",
       "   0.9783384203910828,\n",
       "   0.9775739312171936,\n",
       "   0.9791029691696167,\n",
       "   0.9862385392189026,\n",
       "   0.9826707243919373,\n",
       "   0.9872578978538513,\n",
       "   0.9923547506332397,\n",
       "   0.9908257126808167,\n",
       "   0.9887869358062744,\n",
       "   0.9918450713157654,\n",
       "   0.9905708432197571,\n",
       "   0.9938837885856628],\n",
       "  'recall_4': [0.9151203036308289,\n",
       "   0.9240549802780151,\n",
       "   0.9563573598861694,\n",
       "   0.9714776873588562,\n",
       "   0.9728522300720215,\n",
       "   0.9797250628471375,\n",
       "   0.976632297039032,\n",
       "   0.9807559847831726,\n",
       "   0.9852233529090881,\n",
       "   0.9838488101959229,\n",
       "   0.985567033290863,\n",
       "   0.9903780221939087,\n",
       "   0.9869415760040283,\n",
       "   0.992439866065979,\n",
       "   0.9941580891609192,\n",
       "   0.9938144087791443,\n",
       "   0.991752564907074,\n",
       "   0.9941580891609192,\n",
       "   0.9934707880020142,\n",
       "   0.9945017099380493],\n",
       "  'val_loss': [0.3071155548095703,\n",
       "   0.13878679275512695,\n",
       "   0.7474653720855713,\n",
       "   0.17954309284687042,\n",
       "   0.0957610234618187,\n",
       "   0.07363574951887131,\n",
       "   0.0677347481250763,\n",
       "   0.0761556401848793,\n",
       "   0.16485893726348877,\n",
       "   0.12389948964118958,\n",
       "   0.11560873687267303,\n",
       "   0.08894657343626022,\n",
       "   0.07525299489498138,\n",
       "   0.1420416533946991,\n",
       "   0.07763031125068665,\n",
       "   0.09166346490383148,\n",
       "   0.12525415420532227,\n",
       "   0.09549592435359955,\n",
       "   0.07986020296812057,\n",
       "   0.12681351602077484],\n",
       "  'val_accuracy': [0.856269121170044,\n",
       "   0.9472476840019226,\n",
       "   0.7752293348312378,\n",
       "   0.9235473871231079,\n",
       "   0.9587156176567078,\n",
       "   0.9740061163902283,\n",
       "   0.9808868765830994,\n",
       "   0.9740061163902283,\n",
       "   0.9472476840019226,\n",
       "   0.9579510688781738,\n",
       "   0.9602446556091309,\n",
       "   0.9648318290710449,\n",
       "   0.9701834917068481,\n",
       "   0.9518348574638367,\n",
       "   0.9778287410736084,\n",
       "   0.9671253561973572,\n",
       "   0.9648318290710449,\n",
       "   0.9770641922950745,\n",
       "   0.9762997031211853,\n",
       "   0.9694189429283142],\n",
       "  'val_recall_4': [0.9938334822654724,\n",
       "   0.9938334822654724,\n",
       "   1.0,\n",
       "   0.9958890080451965,\n",
       "   0.990750253200531,\n",
       "   0.9886947870254517,\n",
       "   0.9866392612457275,\n",
       "   0.9845837354660034,\n",
       "   0.9301130771636963,\n",
       "   0.9465570449829102,\n",
       "   0.9948612451553345,\n",
       "   0.9640287756919861,\n",
       "   0.9753340482711792,\n",
       "   0.9383350610733032,\n",
       "   0.9876670241355896,\n",
       "   0.9691675305366516,\n",
       "   0.9938334822654724,\n",
       "   0.9886947870254517,\n",
       "   0.9804727435112,\n",
       "   0.990750253200531]},\n",
       " 'params': {'verbose': 1, 'epochs': 20, 'steps': 62},\n",
       " 'epoch': [0,\n",
       "  1,\n",
       "  2,\n",
       "  3,\n",
       "  4,\n",
       "  5,\n",
       "  6,\n",
       "  7,\n",
       "  8,\n",
       "  9,\n",
       "  10,\n",
       "  11,\n",
       "  12,\n",
       "  13,\n",
       "  14,\n",
       "  15,\n",
       "  16,\n",
       "  17,\n",
       "  18,\n",
       "  19]}"
      ]
     },
     "execution_count": 30,
     "metadata": {},
     "output_type": "execute_result"
    }
   ],
   "source": [
    "history5.__dict__"
   ]
  },
  {
   "cell_type": "code",
   "execution_count": 31,
   "metadata": {},
   "outputs": [],
   "source": [
    "model_epochs5 = history5.epoch\n",
    "model_recall_train5 = history5.history['recall_4']\n",
    "model_recall_val5 = history5.history['val_recall_4']\n",
    "model_accuracy_train5 = history5.history['accuracy']\n",
    "model_accuracy_val5 = history5.history['val_accuracy']\n",
    "model_loss_train5 = history5.history['loss']\n",
    "model_loss_val5 = history5.history['val_loss']"
   ]
  },
  {
   "cell_type": "code",
   "execution_count": 32,
   "metadata": {},
   "outputs": [
    {
     "data": {
      "image/png": "[encoded data removed]",
      "text/plain": [
       "<Figure size 576x432 with 1 Axes>"
      ]
     },
     "metadata": {
      "needs_background": "light"
     },
     "output_type": "display_data"
    }
   ],
   "source": [
    "fig, ax = plt.subplots(figsize = (8,6))\n",
    "\n",
    "ax.plot(model_epochs5, model_accuracy_train5, label = 'Training Accuracy')\n",
    "ax.plot(model_epochs5, model_accuracy_val5, linestyle = '--', label = 'Validation Accuracy')\n",
    "ax.set_xlabel(\"Epochs\")\n",
    "ax.set_ylabel(\"Accuracy\")\n",
    "plt.legend();"
   ]
  },
  {
   "cell_type": "code",
   "execution_count": 33,
   "metadata": {},
   "outputs": [
    {
     "data": {
      "image/png": "[encoded data removed]",
      "text/plain": [
       "<Figure size 576x432 with 1 Axes>"
      ]
     },
     "metadata": {
      "needs_background": "light"
     },
     "output_type": "display_data"
    }
   ],
   "source": [
    "fig, ax = plt.subplots(figsize = (8,6))\n",
    "\n",
    "ax.plot(model_epochs5, model_recall_train5, label = 'Training Recall')\n",
    "ax.plot(model_epochs5, model_recall_val5, linestyle = '--', label = 'Validation Recall')\n",
    "ax.set_xlabel(\"Epochs\")\n",
    "ax.set_ylabel(\"Recall\")\n",
    "plt.legend();"
   ]
  },
  {
   "cell_type": "code",
   "execution_count": 34,
   "metadata": {},
   "outputs": [
    {
     "data": {
      "image/png": "[encoded data removed]",
      "text/plain": [
       "<Figure size 576x432 with 1 Axes>"
      ]
     },
     "metadata": {
      "needs_background": "light"
     },
     "output_type": "display_data"
    }
   ],
   "source": [
    "fig, ax = plt.subplots(figsize = (8,6))\n",
    "\n",
    "ax.plot(model_epochs5, model_loss_train5, label = 'Training Loss')\n",
    "ax.plot(model_epochs5, model_loss_val5, linestyle = '--', label = 'Validation Loss')\n",
    "ax.set_xlabel(\"Epochs\")\n",
    "ax.set_ylabel(\"Loss\")\n",
    "plt.legend();"
   ]
  },
  {
   "cell_type": "code",
   "execution_count": 35,
   "metadata": {},
   "outputs": [
    {
     "name": "stdout",
     "output_type": "stream",
     "text": [
      "20/20 [==============================] - 3s 138ms/step - loss: 3.0181 - accuracy: 0.7067 - recall_4: 0.9974\n"
     ]
    }
   ],
   "source": [
    "test_results = model5.evaluate(test_images, test_y)"
   ]
  },
  {
   "cell_type": "code",
   "execution_count": 36,
   "metadata": {},
   "outputs": [
    {
     "data": {
      "text/plain": [
       "[3.0180959701538086, 0.7067307829856873, 0.9974358677864075]"
      ]
     },
     "execution_count": 36,
     "metadata": {},
     "output_type": "execute_result"
    }
   ],
   "source": [
    "test_results"
   ]
  },
  {
   "cell_type": "code",
   "execution_count": 44,
   "metadata": {},
   "outputs": [],
   "source": [
    "np.random.seed(111)\n",
    "y_test_preds = model5.predict(test_images)\n",
    "y_test_pred = np.round(y_test_preds).astype(int)"
   ]
  },
  {
   "cell_type": "code",
   "execution_count": 45,
   "metadata": {},
   "outputs": [],
   "source": [
    "y_test_true = test_y.astype(int)"
   ]
  },
  {
   "cell_type": "code",
   "execution_count": 46,
   "metadata": {},
   "outputs": [
    {
     "data": {
      "text/plain": [
       "array([[ 52, 182],\n",
       "       [  1, 389]], dtype=int64)"
      ]
     },
     "execution_count": 46,
     "metadata": {},
     "output_type": "execute_result"
    }
   ],
   "source": [
    "confusion_matrix(y_test_true, y_test_pred)"
   ]
  },
  {
   "cell_type": "code",
   "execution_count": 47,
   "metadata": {},
   "outputs": [],
   "source": [
    "from sklearn.metrics import f1_score"
   ]
  },
  {
   "cell_type": "code",
   "execution_count": 48,
   "metadata": {
    "scrolled": true
   },
   "outputs": [
    {
     "data": {
      "text/plain": [
       "0.809573361082206"
      ]
     },
     "execution_count": 48,
     "metadata": {},
     "output_type": "execute_result"
    }
   ],
   "source": [
    "f1_score(y_test_true, y_test_pred)"
   ]
  },
  {
   "cell_type": "markdown",
   "metadata": {},
   "source": [
    "## Application of Transfer Learning"
   ]
  },
  {
   "cell_type": "markdown",
   "metadata": {},
   "source": [
    "The test performed well in regard to recall, but did struggle with accuracy and a high rate of false positives. While in the scope of this problem this is not as much of an issue, a stronger model would help reduce the cost of misdiagnosis to healthcare companies as well as the emotional toll of repeated hospital visits to patients.\n",
    "\n",
    "We have chosen to first apply a transfer learning method by using a convolutional base trained on the ImageNet dataset of over 1.2 million images. Because the images we are classifying are binary, we will set `include_top` to `False` as the top few layers of this model will not be useful for the task.  \n",
    "We selected using the EfficientNet model due to its relatively low weight and high performance."
   ]
  },
  {
   "cell_type": "code",
   "execution_count": 49,
   "metadata": {},
   "outputs": [],
   "source": [
    "from tensorflow.keras.applications import EfficientNetB0"
   ]
  },
  {
   "cell_type": "markdown",
   "metadata": {},
   "source": [
    "The images had to be converted into an rgb-esque format with 3 channels for them to work with the convolutional base's architecture, so we generated a new dataset to fit the requirement."
   ]
  },
  {
   "cell_type": "code",
   "execution_count": 82,
   "metadata": {},
   "outputs": [
    {
     "name": "stdout",
     "output_type": "stream",
     "text": [
      "Found 624 images belonging to 2 classes.\n",
      "Found 5232 images belonging to 2 classes.\n"
     ]
    }
   ],
   "source": [
    "test_gen_asrgb = ImageDataGenerator(rescale = 1/255.).flow_from_directory(test_path,\n",
    "                                            target_size=(224, 224),\n",
    "                                            batch_size=624,\n",
    "                                            color_mode = 'rgb',                        \n",
    "                                            class_mode='binary')\n",
    "\n",
    "##Image generator object for full training folder\n",
    "full_train_gen_asrgb = ImageDataGenerator(rescale = 1/255.).flow_from_directory(full_train_path,\n",
    "                                            target_size=(224, 224),\n",
    "                                            batch_size=5232,\n",
    "                                            color_mode = 'rgb',                        \n",
    "                                            class_mode='binary')"
   ]
  },
  {
   "cell_type": "code",
   "execution_count": 83,
   "metadata": {},
   "outputs": [],
   "source": [
    "rgb_test_images, rgb_test_labels = next(test_gen_asrgb)\n",
    "rgb_train_images, rgb_train_labels = next(full_train_gen_asrgb)"
   ]
  },
  {
   "cell_type": "code",
   "execution_count": 84,
   "metadata": {},
   "outputs": [
    {
     "name": "stdout",
     "output_type": "stream",
     "text": [
      "test images as RGB shape: (624, 224, 224, 3), test labels as RGB shape: (624,)\n",
      "train images as RGB shape: (5232, 224, 224, 3), train labels as RGB shape: (5232,)\n"
     ]
    }
   ],
   "source": [
    "print(f'test images as RGB shape: {rgb_test_images.shape}, test labels as RGB shape: {rgb_test_labels.shape}')\n",
    "print(f'train images as RGB shape: {rgb_train_images.shape}, train labels as RGB shape: {rgb_train_labels.shape}')"
   ]
  },
  {
   "cell_type": "code",
   "execution_count": 85,
   "metadata": {},
   "outputs": [
    {
     "name": "stdout",
     "output_type": "stream",
     "text": [
      "train labels shape: (5232, 1), test labels shape: (624, 1)\n"
     ]
    }
   ],
   "source": [
    "train_y_rgb = np.reshape(rgb_train_labels[:], (5232,1))\n",
    "test_y_rgb = np.reshape(rgb_test_labels[:], (624,1))\n",
    "\n",
    "print(f'train labels shape: {train_y_rgb.shape}, test labels shape: {test_y_rgb.shape}')"
   ]
  },
  {
   "cell_type": "code",
   "execution_count": 161,
   "metadata": {},
   "outputs": [],
   "source": [
    "y_train_reshape = np.asarray(rgb_train_labels).astype('float32').reshape((-1,1))\n",
    "y_test_reshape = np.asarray(rgb_test_labels).astype('float32').reshape((-1,1))"
   ]
  },
  {
   "cell_type": "code",
   "execution_count": 86,
   "metadata": {},
   "outputs": [],
   "source": [
    "conv_base = EfficientNetB0(include_top = False, \n",
    "                           weights = 'imagenet',\n",
    "                           classes = 2)"
   ]
  },
  {
   "cell_type": "code",
   "execution_count": 170,
   "metadata": {},
   "outputs": [],
   "source": [
    "transfer_model = models.Sequential()\n",
    "transfer_model.add(conv_base)\n",
    "transfer_model.add(layers.GlobalMaxPooling2D())\n",
    "\n",
    "transfer_model.add(Dropout(.3))\n",
    "transfer_model.add(layers.Flatten())\n",
    "transfer_model.add(layers.Dense(64, activation='relu'))\n",
    "transfer_model.add(layers.Dense(1, activation='sigmoid'))##the layers on top are similar to the final scratch model's layers"
   ]
  },
  {
   "cell_type": "code",
   "execution_count": 88,
   "metadata": {},
   "outputs": [
    {
     "name": "stdout",
     "output_type": "stream",
     "text": [
      "efficientnetb0 False\n",
      "global_max_pooling2d_3 True\n",
      "dropout_8 True\n",
      "flatten_9 True\n",
      "dense_19 True\n",
      "dense_20 True\n",
      "4\n"
     ]
    }
   ],
   "source": [
    "conv_base.trainable = False\n",
    "\n",
    "for layer in transfer_model.layers:\n",
    "    print(layer.name, layer.trainable)\n",
    "\n",
    "print(len(transfer_model.trainable_weights))"
   ]
  },
  {
   "cell_type": "code",
   "execution_count": 89,
   "metadata": {},
   "outputs": [],
   "source": [
    "transfer_model.compile(loss='binary_crossentropy',\n",
    "              optimizer='rmsprop',\n",
    "              metrics=(['accuracy'], metrics.Recall()))\n",
    "\n",
    "es = EarlyStopping(monitor='val_loss', mode='min', verbose=1, patience = 3)\n",
    "##instantiating Early Stopping with a 3-epoch tolerance for minimizing the validation loss"
   ]
  },
  {
   "cell_type": "code",
   "execution_count": 91,
   "metadata": {},
   "outputs": [
    {
     "name": "stdout",
     "output_type": "stream",
     "text": [
      "Epoch 1/20\n",
      "123/123 [==============================] - 183s 1s/step - loss: 0.8273 - accuracy: 0.6572 - recall_7: 0.8153 - val_loss: 0.6259 - val_accuracy: 0.7378 - val_recall_7: 1.0000\n",
      "Epoch 2/20\n",
      "123/123 [==============================] - 181s 1s/step - loss: 0.6618 - accuracy: 0.7097 - recall_7: 0.9342 - val_loss: 0.5753 - val_accuracy: 0.7378 - val_recall_7: 1.0000\n",
      "Epoch 3/20\n",
      "123/123 [==============================] - 190s 2s/step - loss: 0.5786 - accuracy: 0.7439 - recall_7: 1.0000 - val_loss: 0.5761 - val_accuracy: 0.7378 - val_recall_7: 1.0000\n",
      "Epoch 4/20\n",
      "123/123 [==============================] - 185s 2s/step - loss: 0.5740 - accuracy: 0.7436 - recall_7: 1.0000 - val_loss: 0.5756 - val_accuracy: 0.7378 - val_recall_7: 1.0000\n",
      "Epoch 5/20\n",
      "123/123 [==============================] - 186s 2s/step - loss: 0.5770 - accuracy: 0.7436 - recall_7: 1.0000 - val_loss: 0.5759 - val_accuracy: 0.7378 - val_recall_7: 1.0000\n",
      "Epoch 00005: early stopping\n"
     ]
    }
   ],
   "source": [
    "np.random.seed(123)\n",
    "conv_base_history = transfer_model.fit(rgb_train_images, train_y_rgb, \n",
    "                                       epochs = 20, batch_size = 32, \n",
    "                                       validation_split=.25, callbacks = [es])"
   ]
  },
  {
   "cell_type": "code",
   "execution_count": 92,
   "metadata": {
    "scrolled": true
   },
   "outputs": [
    {
     "data": {
      "text/plain": [
       "{'validation_data': None,\n",
       " 'model': <tensorflow.python.keras.engine.sequential.Sequential at 0x1f08f7017f0>,\n",
       " '_chief_worker_only': None,\n",
       " '_supports_tf_logs': False,\n",
       " 'history': {'loss': [0.8272767066955566,\n",
       "   0.6617735624313354,\n",
       "   0.5785691142082214,\n",
       "   0.5739938616752625,\n",
       "   0.5770297646522522],\n",
       "  'accuracy': [0.6572375297546387,\n",
       "   0.7097349762916565,\n",
       "   0.7438837885856628,\n",
       "   0.743628978729248,\n",
       "   0.743628978729248],\n",
       "  'recall_7': [0.8152844309806824, 0.9342014789581299, 1.0, 1.0, 1.0],\n",
       "  'val_loss': [0.6259242296218872,\n",
       "   0.5753017663955688,\n",
       "   0.5760843753814697,\n",
       "   0.5756241679191589,\n",
       "   0.5759062767028809],\n",
       "  'val_accuracy': [0.7377675771713257,\n",
       "   0.7377675771713257,\n",
       "   0.7377675771713257,\n",
       "   0.7377675771713257,\n",
       "   0.7377675771713257],\n",
       "  'val_recall_7': [1.0, 1.0, 1.0, 1.0, 1.0]},\n",
       " 'params': {'verbose': 1, 'epochs': 20, 'steps': 123},\n",
       " 'epoch': [0, 1, 2, 3, 4]}"
      ]
     },
     "execution_count": 92,
     "metadata": {},
     "output_type": "execute_result"
    }
   ],
   "source": [
    "conv_base_history.__dict__"
   ]
  },
  {
   "cell_type": "code",
   "execution_count": 93,
   "metadata": {},
   "outputs": [],
   "source": [
    "conv_epochs = conv_base_history.epoch\n",
    "\n",
    "conv_loss = conv_base_history.history['loss']\n",
    "conv_accuracy = conv_base_history.history['accuracy']\n",
    "conv_recall = conv_base_history.history['recall_7']\n",
    "\n",
    "conv_val_loss = conv_base_history.history['val_loss']\n",
    "conv_val_accuracy = conv_base_history.history['val_accuracy']\n",
    "conv_val_recall = conv_base_history.history['val_recall_7']"
   ]
  },
  {
   "cell_type": "code",
   "execution_count": 94,
   "metadata": {},
   "outputs": [
    {
     "data": {
      "image/png": "[encoded data removed]",
      "text/plain": [
       "<Figure size 576x432 with 1 Axes>"
      ]
     },
     "metadata": {
      "needs_background": "light"
     },
     "output_type": "display_data"
    }
   ],
   "source": [
    "fig, ax = plt.subplots(figsize = (8,6))\n",
    "\n",
    "ax.plot(conv_epochs, conv_accuracy, label = 'Training Accuracy')\n",
    "ax.plot(conv_epochs, conv_val_accuracy, linestyle = '--', label = 'Validation Accuracy')\n",
    "ax.set_xlabel(\"Epochs\")\n",
    "ax.set_ylabel(\"Accuracy\")\n",
    "plt.legend();"
   ]
  },
  {
   "cell_type": "code",
   "execution_count": 95,
   "metadata": {},
   "outputs": [
    {
     "data": {
      "image/png": "[encoded data removed]",
      "text/plain": [
       "<Figure size 576x432 with 1 Axes>"
      ]
     },
     "metadata": {
      "needs_background": "light"
     },
     "output_type": "display_data"
    }
   ],
   "source": [
    "fig, ax = plt.subplots(figsize = (8,6))\n",
    "\n",
    "ax.plot(conv_epochs, conv_loss, label = 'Training Loss')\n",
    "ax.plot(conv_epochs, conv_val_loss, linestyle = '--', label = 'Validation Loss')\n",
    "ax.set_xlabel(\"Epochs\")\n",
    "ax.set_ylabel(\"Loss\")\n",
    "plt.legend();"
   ]
  },
  {
   "cell_type": "code",
   "execution_count": 96,
   "metadata": {},
   "outputs": [
    {
     "data": {
      "image/png": "[encoded data removed]",
      "text/plain": [
       "<Figure size 576x432 with 1 Axes>"
      ]
     },
     "metadata": {
      "needs_background": "light"
     },
     "output_type": "display_data"
    }
   ],
   "source": [
    "fig, ax = plt.subplots(figsize = (8,6))\n",
    "\n",
    "ax.plot(conv_epochs, conv_recall, label = 'Training Recall')\n",
    "ax.plot(conv_epochs, conv_val_recall, linestyle = '--', label = 'Validation Recall')\n",
    "ax.set_xlabel(\"Epochs\")\n",
    "ax.set_ylabel(\"Recall\")\n",
    "plt.legend();"
   ]
  },
  {
   "cell_type": "code",
   "execution_count": 97,
   "metadata": {},
   "outputs": [
    {
     "name": "stdout",
     "output_type": "stream",
     "text": [
      "164/164 [==============================] - 185s 1s/step - loss: 0.5710 - accuracy: 0.7422 - recall_7: 1.0000\n"
     ]
    }
   ],
   "source": [
    "base_train_results = transfer_model.evaluate(rgb_train_images, train_y_rgb)"
   ]
  },
  {
   "cell_type": "code",
   "execution_count": 98,
   "metadata": {},
   "outputs": [],
   "source": [
    "np.random.seed(111)\n",
    "y_test_preds = transfer_model.predict(rgb_test_images)\n",
    "y_test_pred_rgb = np.round(y_test_preds).astype(int)"
   ]
  },
  {
   "cell_type": "code",
   "execution_count": 99,
   "metadata": {
    "scrolled": true
   },
   "outputs": [
    {
     "data": {
      "text/plain": [
       "array([[  0, 234],\n",
       "       [  0, 390]], dtype=int64)"
      ]
     },
     "execution_count": 99,
     "metadata": {},
     "output_type": "execute_result"
    }
   ],
   "source": [
    "y_test_true_rgb = test_y_rgb.astype(int)\n",
    "confusion_matrix(y_test_true_rgb, y_test_pred_rgb)"
   ]
  },
  {
   "cell_type": "markdown",
   "metadata": {},
   "source": [
    "This model only predicted the positive class, with no false negatives. As far as usefulness goes, this model does not fit the bill. The next step here may be using data augmentation. "
   ]
  },
  {
   "cell_type": "markdown",
   "metadata": {},
   "source": [
    "## Transfer Learning Attempt 2"
   ]
  },
  {
   "cell_type": "code",
   "execution_count": 191,
   "metadata": {},
   "outputs": [],
   "source": [
    "cnn2_base = EfficientNetB0(include_top = False, \n",
    "                           weights = 'imagenet',\n",
    "                           classes = 2, \n",
    "                           drop_connect_rate = .4)"
   ]
  },
  {
   "cell_type": "code",
   "execution_count": 195,
   "metadata": {},
   "outputs": [],
   "source": [
    "cnn2_model = models.Sequential()\n",
    "cnn2_model.add(cnn2_base)\n",
    "\n",
    "cnn2_model.add(layers.GlobalMaxPooling2D())\n",
    "\n",
    "cnn2_model.add(layers.Dense(256, activation='relu'))\n",
    "cnn2_model.add(layers.Dense(1, activation=\"sigmoid\"))"
   ]
  },
  {
   "cell_type": "code",
   "execution_count": null,
   "metadata": {},
   "outputs": [],
   "source": [
    "#cnn2_model.add(layers.GlobalMaxPooling2D())\n",
    "#cnn2_model.add(LeakyReLU())\n",
    "\n",
    "#cnn2_model.add(layers.Dense(128, activation='tanh'))\n",
    "#cnn2_model.add(layers.Dense(64, activation='tanh'))\n",
    "#cnn2_model.add(layers.Dense(31, activation='relu'))\n",
    "#cnn2_model.add(layers.Dense(1, activation='sigmoid'))"
   ]
  },
  {
   "cell_type": "code",
   "execution_count": 196,
   "metadata": {},
   "outputs": [
    {
     "name": "stdout",
     "output_type": "stream",
     "text": [
      "efficientnetb0 False\n",
      "global_max_pooling2d_21 True\n",
      "dense_58 True\n",
      "dense_59 True\n",
      "4\n"
     ]
    }
   ],
   "source": [
    "cnn2_base.trainable = False\n",
    "\n",
    "for layer in cnn2_model.layers:\n",
    "    print(layer.name, layer.trainable)\n",
    "\n",
    "print(len(cnn2_model.trainable_weights))"
   ]
  },
  {
   "cell_type": "code",
   "execution_count": null,
   "metadata": {},
   "outputs": [
    {
     "name": "stdout",
     "output_type": "stream",
     "text": [
      "Epoch 1/5\n",
      "246/246 [==============================] - 224s 912ms/step - loss: 0.7965 - accuracy: 0.7260 - recall_25: 0.9596 - val_loss: 0.5760 - val_accuracy: 0.7378 - val_recall_25: 1.0000\n",
      "Epoch 2/5\n",
      "246/246 [==============================] - ETA: 0s - loss: 0.5820 - accuracy: 0.7401 - recall_25: 0.9931"
     ]
    }
   ],
   "source": [
    "cnn2_model.compile(loss='binary_crossentropy',\n",
    "              optimizer='rmsprop',\n",
    "              metrics=(['accuracy'], metrics.Recall()))\n",
    "\n",
    "es = EarlyStopping(monitor='val_loss', mode='min', verbose=1, patience = 3)\n",
    "##instantiating Early Stopping with a 3-epoch tolerance for minimizing the validation loss\n",
    "\n",
    "np.random.seed(123)\n",
    "cnn2_history = cnn2_model.fit(rgb_train_images, train_y_rgb, \n",
    "                                       epochs = 5, batch_size = 16, \n",
    "                                       validation_split=.25, callbacks = [es])"
   ]
  },
  {
   "cell_type": "markdown",
   "metadata": {},
   "source": [
    "## Using LIME to interpret meaningful parts of images"
   ]
  },
  {
   "cell_type": "code",
   "execution_count": null,
   "metadata": {},
   "outputs": [],
   "source": [
    "#pip install lime"
   ]
  },
  {
   "cell_type": "code",
   "execution_count": 117,
   "metadata": {},
   "outputs": [],
   "source": [
    "import os\n",
    "import keras\n",
    "from tensorflow.keras.applications import inception_v3 as inc_net\n",
    "from tensorflow.keras.preprocessing import image\n",
    "from keras.applications.imagenet_utils import decode_predictions\n",
    "from lime import lime_image\n",
    "import time\n",
    "from skimage.segmentation import mark_boundaries\n",
    "from skimage.io import imread"
   ]
  },
  {
   "cell_type": "code",
   "execution_count": 118,
   "metadata": {},
   "outputs": [],
   "source": [
    "path_list = []\n",
    "for pic in test_dir_pneumonia:\n",
    "    #print(pic)\n",
    "    path_list.append('../data/chest_xray/test/PNEUMONIA/' + pic)\n",
    "#creates a list of the file path foreach image in pneumonia"
   ]
  },
  {
   "cell_type": "code",
   "execution_count": 135,
   "metadata": {},
   "outputs": [],
   "source": [
    "def transform_img_fn(path_list):\n",
    "    \"\"\"Takes in a list of file paths from images, loads the images, \n",
    "    transforms the images adn outputs arrays fro these images\"\"\"\n",
    "    out = []\n",
    "    for img_path in path_list:\n",
    "        img = image.load_img(img_path, target_size=(224, 224, 3), color_mode = 'rgb')\n",
    "        x = image.img_to_array(img)\n",
    "        x = np.expand_dims(x, axis=0)\n",
    "        x = np.divide(x, 255.0).astype('double')\n",
    "        out.append(x)\n",
    "    return np.vstack(out)"
   ]
  },
  {
   "cell_type": "code",
   "execution_count": 136,
   "metadata": {},
   "outputs": [],
   "source": [
    "X = transform_img_fn(path_list)\n",
    "#transforms all images and puts in list\n",
    "\n",
    "#yhat_test = model5.predict(X)"
   ]
  },
  {
   "cell_type": "code",
   "execution_count": 110,
   "metadata": {
    "scrolled": false
   },
   "outputs": [
    {
     "data": {
      "text/plain": [
       "((array([281], dtype=int64), array([0], dtype=int64)),\n",
       " (array([85], dtype=int64), array([0], dtype=int64)))"
      ]
     },
     "execution_count": 110,
     "metadata": {},
     "output_type": "execute_result"
    }
   ],
   "source": [
    "yhat_min = yhat_test == min(yhat_test)\n",
    "\n",
    "yhat_max = yhat_test == max(yhat_test)\n",
    "\n",
    "np.where (yhat_test ==  min(yhat_test)), np.where(yhat_test == max(yhat_test))\n",
    "#how to find hte minimum"
   ]
  },
  {
   "cell_type": "code",
   "execution_count": 111,
   "metadata": {},
   "outputs": [],
   "source": [
    "min_explainer = lime_image.LimeImageExplainer()\n",
    "\n",
    "max_explainer = lime_image.LimeImageExplainer()\n",
    "#instantiate explainer obj"
   ]
  },
  {
   "cell_type": "code",
   "execution_count": null,
   "metadata": {},
   "outputs": [],
   "source": [
    "#min_explanation = min_explainer.explain_instance(###, model5.predict, top_labels=5, hide_color=0, num_samples=1000)\n",
    "\n",
    "#max_explanation = max_explainer.explain_instance(test_images[85], model5.predict, top_labels=5, hide_color=0, num_samples=1000)"
   ]
  },
  {
   "cell_type": "code",
   "execution_count": null,
   "metadata": {},
   "outputs": [],
   "source": [
    "min_temp, min_mask = min_explanation.get_image_and_mask(min_explanation.top_labels[0], positive_only=True, num_features=5, hide_rest=False)\n",
    "plt.imshow(mark_boundaries(min_temp / 2 + 0.5, min_mask))\n",
    "\n",
    "\n",
    "max_temp, max_mask = max_explanation.get_image_and_mask(max_explanation.top_labels[0], positive_only=True, num_features=5, hide_rest=False)\n",
    "plt.imshow(mark_boundaries(max_temp / 2 + 0.5, max_mask))"
   ]
  }
 ],
 "metadata": {
  "kernelspec": {
   "display_name": "Python 3",
   "language": "python",
   "name": "python3"
  },
  "language_info": {
   "codemirror_mode": {
    "name": "ipython",
    "version": 3
   },
   "file_extension": ".py",
   "mimetype": "text/x-python",
   "name": "python",
   "nbconvert_exporter": "python",
   "pygments_lexer": "ipython3",
   "version": "3.8.5"
  }
 },
 "nbformat": 4,
 "nbformat_minor": 4
}
