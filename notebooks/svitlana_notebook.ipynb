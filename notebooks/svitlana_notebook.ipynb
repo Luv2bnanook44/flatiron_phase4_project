{
 "cells": [
  {
   "cell_type": "code",
   "execution_count": 69,
   "metadata": {},
   "outputs": [],
   "source": [
    "import matplotlib.pyplot as plt\n",
    "%matplotlib inline\n",
    "import seaborn as sns\n",
    "import numpy as np\n",
    "from scipy import ndimage\n",
    "import pandas as pd\n",
    "\n",
    "from keras import models, layers, metrics\n",
    "from keras.preprocessing.image import ImageDataGenerator, load_img, array_to_img, img_to_array\n",
    "\n",
    "from PIL import Image\n",
    "\n",
    "from tensorflow.keras import layers\n",
    "from tensorflow.keras.models import Sequential\n",
    "from tensorflow.keras.layers import Dense, Dropout\n",
    "from tensorflow.keras.regularizers import l2\n",
    "from tensorflow.keras.optimizers import SGD\n",
    "from tensorflow.keras.wrappers import scikit_learn\n",
    "from tensorflow.keras.callbacks import EarlyStopping\n",
    "\n",
    "import os"
   ]
  },
  {
   "cell_type": "code",
   "execution_count": 21,
   "metadata": {},
   "outputs": [],
   "source": [
    "base_dir='../data/chest_xray/'\n",
    "\n",
    "train_path = '../data/chest_xray/train'\n",
    "\n",
    "validation_path = '../data/chest_xray/val'\n",
    "\n",
    "test_path = '../data/chest_xray/test'"
   ]
  },
  {
   "cell_type": "code",
   "execution_count": 22,
   "metadata": {},
   "outputs": [],
   "source": [
    "train_pneumonia=os.listdir('../data/chest_xray/train/PNEUMONIA/')\n",
    "train_normal=os.listdir('../data/chest_xray/train/NORMAL/')\n",
    "val_dir_normal=os.listdir('../data/chest_xray/val/NORMAL/')\n",
    "test_dir_normal=os.listdir('../data/chest_xray/test/NORMAL/')\n",
    "val_dir_pneumonia=os.listdir('../data/chest_xray/val/PNEUMONIA/')\n",
    "test_dir_pneumonia=os.listdir('../data/chest_xray/test/PNEUMONIA/')"
   ]
  },
  {
   "cell_type": "code",
   "execution_count": 23,
   "metadata": {},
   "outputs": [],
   "source": [
    "# Greyscale distribution histogram - done, Jamie\n",
    "# Class distribution - heavily weighted towards positive class (pneumonia) - done, Jamie\n",
    "# Address class imbalance - incorporate flipped 0-class images?\n",
    "# Mean values for negative and positive classes\n",
    "# Look for outliers\n",
    "# Look at subracting the pixel mean\n",
    "# Apply matrix transformations to further define images\n",
    "# Rescaling and cropping?"
   ]
  },
  {
   "cell_type": "code",
   "execution_count": 24,
   "metadata": {
    "scrolled": false
   },
   "outputs": [
    {
     "name": "stdout",
     "output_type": "stream",
     "text": [
      "Train set w/ pneumonia:  3875\n",
      "Train set normal:  1341\n",
      "Validation set w/ pneumonia:  8\n",
      "Validation set normal:  8\n",
      "Test set w/ pneumonia:  390\n",
      "Test set normal:  234\n"
     ]
    }
   ],
   "source": [
    "print(\"Train set w/ pneumonia: \", len(train_pneumonia))\n",
    "print(\"Train set normal: \", len(train_normal))\n",
    "print(\"Validation set w/ pneumonia: \", len(val_dir_pneumonia))\n",
    "print(\"Validation set normal: \", len(val_dir_normal))\n",
    "print(\"Test set w/ pneumonia: \", len(test_dir_pneumonia))\n",
    "print(\"Test set normal: \", len(test_dir_normal))"
   ]
  },
  {
   "cell_type": "code",
   "execution_count": 25,
   "metadata": {},
   "outputs": [
    {
     "data": {
      "text/plain": [
       "(5216, 624)"
      ]
     },
     "execution_count": 25,
     "metadata": {},
     "output_type": "execute_result"
    }
   ],
   "source": [
    "3875+1341, 390+234"
   ]
  },
  {
   "cell_type": "code",
   "execution_count": 26,
   "metadata": {},
   "outputs": [],
   "source": [
    "train_labels_pos = [1 for img in train_pneumonia]\n",
    "train_labels_neg = [0 for img in train_normal]\n",
    "val_labels_pos = [1 for img in val_dir_pneumonia]\n",
    "val_labels_neg = [0 for img in val_dir_normal]\n",
    "test_labels_pos = [1 for img in test_dir_pneumonia]\n",
    "test_labels_neg = [0 for img in test_dir_normal]"
   ]
  },
  {
   "cell_type": "code",
   "execution_count": 27,
   "metadata": {
    "scrolled": true
   },
   "outputs": [
    {
     "data": {
      "image/png": "[encoded data removed]",
      "text/plain": [
       "<Figure size 432x288 with 1 Axes>"
      ]
     },
     "metadata": {
      "needs_background": "light"
     },
     "output_type": "display_data"
    }
   ],
   "source": [
    "labels = ['Train Pneumonia', 'Train Normal', 'Val. Pneumonia', 'Val. Normal', 'Test Pneumonia', 'Test Normal']\n",
    "dist = sns.barplot(x=labels, \n",
    "           y=[len(train_pneumonia), len(train_normal), len(val_dir_pneumonia), len(val_dir_normal), len(test_dir_pneumonia), len(test_dir_normal)],)\n",
    "\n",
    "dist.set_xticklabels(labels = labels, rotation = 30);"
   ]
  },
  {
   "cell_type": "code",
   "execution_count": 28,
   "metadata": {},
   "outputs": [],
   "source": [
    "# ^^ Huge class imbalance, especially in the training set"
   ]
  },
  {
   "cell_type": "code",
   "execution_count": 29,
   "metadata": {},
   "outputs": [
    {
     "data": {
      "text/plain": [
       "<Figure size 432x288 with 0 Axes>"
      ]
     },
     "metadata": {},
     "output_type": "display_data"
    }
   ],
   "source": [
    "#loading images for training set - pneumonia\n",
    "\n",
    "plt.suptitle(\"Patients with Pneumonia\")\n",
    "for i in range(0,4):\n",
    "    img = train_pneumonia[i]\n",
    "    img = load_img(train_path+'/PNEUMONIA/'+img)\n",
    "#    plt.imshow(img)\n",
    "#    plt.show()"
   ]
  },
  {
   "cell_type": "code",
   "execution_count": 30,
   "metadata": {},
   "outputs": [
    {
     "data": {
      "text/plain": [
       "<Figure size 432x288 with 0 Axes>"
      ]
     },
     "metadata": {},
     "output_type": "display_data"
    }
   ],
   "source": [
    "#loading images for training set - normal\n",
    "\n",
    "plt.suptitle(\"Normal Patients\")\n",
    "for i in range(0,4):\n",
    "    img = train_normal[i]\n",
    "    img = load_img(train_path+'/NORMAL/'+img)\n",
    "#    plt.imshow(img)\n",
    "#    plt.show()"
   ]
  },
  {
   "cell_type": "code",
   "execution_count": 35,
   "metadata": {},
   "outputs": [
    {
     "name": "stdout",
     "output_type": "stream",
     "text": [
      "Found 5216 images belonging to 2 classes.\n",
      "Found 16 images belonging to 2 classes.\n",
      "Found 624 images belonging to 2 classes.\n"
     ]
    }
   ],
   "source": [
    "train_generator = ImageDataGenerator(rescale=1./255).flow_from_directory(\n",
    "        train_path, \n",
    "        target_size=(64, 64), batch_size= 5216)\n",
    "\n",
    "val_generator = ImageDataGenerator(rescale=1./255).flow_from_directory(\n",
    "        validation_path, \n",
    "        target_size=(64, 64), batch_size = 16)\n",
    "\n",
    "test_generator = ImageDataGenerator(rescale=1./255).flow_from_directory(\n",
    "        test_path, \n",
    "        target_size=(64, 64), batch_size = 624) \n"
   ]
  },
  {
   "cell_type": "code",
   "execution_count": 36,
   "metadata": {},
   "outputs": [],
   "source": [
    "train_images, train_labels = next(train_generator)\n",
    "val_images, val_labels = next(val_generator)\n",
    "test_images, test_labels = next(test_generator)"
   ]
  },
  {
   "cell_type": "code",
   "execution_count": 37,
   "metadata": {},
   "outputs": [
    {
     "name": "stdout",
     "output_type": "stream",
     "text": [
      "train image shape:  (5216, 64, 64, 3) train labels shape:  (5216, 2)\n",
      "validation image shape:  (16, 64, 64, 3) validation labels shape:  (16, 2)\n",
      "test image shape:  (624, 64, 64, 3) test labels shape:  (624, 2)\n"
     ]
    }
   ],
   "source": [
    "print(\"train image shape: \", train_images.shape, \"train labels shape: \", train_labels.shape)\n",
    "print(\"validation image shape: \", val_images.shape, \"validation labels shape: \", val_labels.shape)\n",
    "print(\"test image shape: \", test_images.shape, \"test labels shape: \", test_labels.shape)"
   ]
  },
  {
   "cell_type": "code",
   "execution_count": 38,
   "metadata": {},
   "outputs": [
    {
     "data": {
      "text/plain": [
       "5216"
      ]
     },
     "execution_count": 38,
     "metadata": {},
     "output_type": "execute_result"
    }
   ],
   "source": [
    "train_images.shape[0]"
   ]
  },
  {
   "cell_type": "code",
   "execution_count": 39,
   "metadata": {},
   "outputs": [],
   "source": [
    "train_x = train_images.reshape(train_images.shape[0], -1)\n",
    "val_x = val_images.reshape(val_images.shape[0], -1)\n",
    "test_x = test_images.reshape(test_images.shape[0], -1)"
   ]
  },
  {
   "cell_type": "code",
   "execution_count": 40,
   "metadata": {},
   "outputs": [
    {
     "data": {
      "text/plain": [
       "((5216, 12288), (16, 12288), (624, 12288))"
      ]
     },
     "execution_count": 40,
     "metadata": {},
     "output_type": "execute_result"
    }
   ],
   "source": [
    "train_x.shape, val_x.shape, test_x.shape"
   ]
  },
  {
   "cell_type": "code",
   "execution_count": 43,
   "metadata": {},
   "outputs": [],
   "source": [
    "train_y = np.reshape(train_labels[:,0], (5216,1))\n",
    "\n",
    "val_y = np.reshape(val_labels[:,0], (16,1))\n",
    "\n",
    "test_y = np.reshape(test_labels[:,0], (624,1))"
   ]
  },
  {
   "cell_type": "code",
   "execution_count": 76,
   "metadata": {},
   "outputs": [],
   "source": [
    "#Initializing a first simple model with 1 hidden layer\n",
    "\n",
    "np.random.seed(42)\n",
    "model = models.Sequential()\n",
    "model.add(layers.Dense(12, activation='relu', input_shape=(12288,)))\n",
    "model.add(layers.Dense(32, activation = 'sigmoid'))\n",
    "model.add(layers.Dense(1, activation='sigmoid'))"
   ]
  },
  {
   "cell_type": "code",
   "execution_count": 80,
   "metadata": {
    "scrolled": true
   },
   "outputs": [
    {
     "name": "stdout",
     "output_type": "stream",
     "text": [
      "Epoch 1/50\n",
      "163/163 [==============================] - 1s 4ms/step - loss: 0.0556 - recall_8: 0.9642 - val_loss: 0.8545 - val_recall_8: 0.6250\n",
      "Epoch 2/50\n",
      "163/163 [==============================] - 0s 3ms/step - loss: 0.0517 - recall_8: 0.9724 - val_loss: 1.1496 - val_recall_8: 1.0000\n",
      "Epoch 3/50\n",
      "163/163 [==============================] - 0s 3ms/step - loss: 0.0478 - recall_8: 0.9776 - val_loss: 1.2352 - val_recall_8: 0.5000\n",
      "Epoch 4/50\n",
      "163/163 [==============================] - 0s 3ms/step - loss: 0.0538 - recall_8: 0.9702 - val_loss: 0.0738 - val_recall_8: 0.8750\n",
      "Epoch 5/50\n",
      "163/163 [==============================] - 0s 3ms/step - loss: 0.0556 - recall_8: 0.9679 - val_loss: 0.8989 - val_recall_8: 0.6250\n",
      "Epoch 6/50\n",
      "163/163 [==============================] - 0s 3ms/step - loss: 0.0499 - recall_8: 0.9717 - val_loss: 0.5188 - val_recall_8: 0.6250\n",
      "Epoch 7/50\n",
      "163/163 [==============================] - 0s 3ms/step - loss: 0.0475 - recall_8: 0.9746 - val_loss: 0.6988 - val_recall_8: 0.6250\n",
      "Epoch 8/50\n",
      "163/163 [==============================] - 0s 3ms/step - loss: 0.0494 - recall_8: 0.9746 - val_loss: 0.5829 - val_recall_8: 0.6250\n",
      "Epoch 9/50\n",
      "163/163 [==============================] - 0s 3ms/step - loss: 0.0485 - recall_8: 0.9709 - val_loss: 0.5254 - val_recall_8: 0.6250\n",
      "Epoch 10/50\n",
      "163/163 [==============================] - 0s 3ms/step - loss: 0.0515 - recall_8: 0.9702 - val_loss: 0.1147 - val_recall_8: 0.8750\n",
      "Epoch 11/50\n",
      "163/163 [==============================] - 0s 3ms/step - loss: 0.0521 - recall_8: 0.9702 - val_loss: 0.4009 - val_recall_8: 0.8750\n",
      "Epoch 12/50\n",
      "163/163 [==============================] - 0s 3ms/step - loss: 0.0493 - recall_8: 0.9709 - val_loss: 0.9569 - val_recall_8: 0.6250\n",
      "Epoch 13/50\n",
      "163/163 [==============================] - 0s 3ms/step - loss: 0.0496 - recall_8: 0.9717 - val_loss: 1.4624 - val_recall_8: 0.2500\n",
      "Epoch 14/50\n",
      "163/163 [==============================] - 0s 3ms/step - loss: 0.0503 - recall_8: 0.9761 - val_loss: 1.4009 - val_recall_8: 0.3750\n",
      "Epoch 15/50\n",
      "163/163 [==============================] - 0s 3ms/step - loss: 0.0539 - recall_8: 0.9679 - val_loss: 0.5058 - val_recall_8: 0.6250\n",
      "Epoch 16/50\n",
      "163/163 [==============================] - 0s 3ms/step - loss: 0.0495 - recall_8: 0.9746 - val_loss: 0.3365 - val_recall_8: 0.8750\n",
      "Epoch 17/50\n",
      "163/163 [==============================] - 0s 3ms/step - loss: 0.0498 - recall_8: 0.9739 - val_loss: 0.5912 - val_recall_8: 0.6250\n",
      "Epoch 18/50\n",
      "163/163 [==============================] - 1s 3ms/step - loss: 0.0452 - recall_8: 0.9709 - val_loss: 0.7105 - val_recall_8: 0.6250\n",
      "Epoch 19/50\n",
      "163/163 [==============================] - 0s 3ms/step - loss: 0.0469 - recall_8: 0.9732 - val_loss: 1.8672 - val_recall_8: 0.2500\n",
      "Epoch 20/50\n",
      "163/163 [==============================] - 0s 3ms/step - loss: 0.0419 - recall_8: 0.9761 - val_loss: 0.4904 - val_recall_8: 0.6250\n",
      "Epoch 21/50\n",
      "163/163 [==============================] - 0s 3ms/step - loss: 0.0490 - recall_8: 0.9717 - val_loss: 0.6996 - val_recall_8: 0.6250\n",
      "Epoch 22/50\n",
      "163/163 [==============================] - 0s 3ms/step - loss: 0.0516 - recall_8: 0.9709 - val_loss: 0.6707 - val_recall_8: 0.6250\n",
      "Epoch 23/50\n",
      "163/163 [==============================] - 1s 3ms/step - loss: 0.0476 - recall_8: 0.9717 - val_loss: 0.5237 - val_recall_8: 0.6250\n",
      "Epoch 24/50\n",
      "163/163 [==============================] - 0s 3ms/step - loss: 0.0537 - recall_8: 0.9709 - val_loss: 1.1011 - val_recall_8: 0.6250\n",
      "Epoch 25/50\n",
      "163/163 [==============================] - 1s 3ms/step - loss: 0.0459 - recall_8: 0.9769 - val_loss: 0.4690 - val_recall_8: 0.7500\n",
      "Epoch 26/50\n",
      "163/163 [==============================] - 0s 3ms/step - loss: 0.0469 - recall_8: 0.9717 - val_loss: 0.5383 - val_recall_8: 0.6250\n",
      "Epoch 27/50\n",
      "163/163 [==============================] - 0s 3ms/step - loss: 0.0412 - recall_8: 0.9791 - val_loss: 0.6220 - val_recall_8: 0.6250\n",
      "Epoch 28/50\n",
      "163/163 [==============================] - 0s 3ms/step - loss: 0.0528 - recall_8: 0.9791 - val_loss: 0.5530 - val_recall_8: 0.7500\n",
      "Epoch 29/50\n",
      "163/163 [==============================] - 0s 3ms/step - loss: 0.0516 - recall_8: 0.9717 - val_loss: 1.1324 - val_recall_8: 0.6250\n",
      "Epoch 30/50\n",
      "163/163 [==============================] - 1s 3ms/step - loss: 0.0478 - recall_8: 0.9724 - val_loss: 0.7905 - val_recall_8: 0.6250\n",
      "Epoch 31/50\n",
      "163/163 [==============================] - 0s 3ms/step - loss: 0.0379 - recall_8: 0.9828 - val_loss: 1.0724 - val_recall_8: 0.6250\n",
      "Epoch 32/50\n",
      "163/163 [==============================] - 1s 3ms/step - loss: 0.0480 - recall_8: 0.9732 - val_loss: 0.1933 - val_recall_8: 1.0000\n",
      "Epoch 33/50\n",
      "163/163 [==============================] - 1s 3ms/step - loss: 0.0534 - recall_8: 0.9754 - val_loss: 0.4734 - val_recall_8: 0.7500\n",
      "Epoch 34/50\n",
      "163/163 [==============================] - 0s 3ms/step - loss: 0.0464 - recall_8: 0.9761 - val_loss: 0.5530 - val_recall_8: 0.6250\n",
      "Epoch 35/50\n",
      "163/163 [==============================] - 0s 3ms/step - loss: 0.0469 - recall_8: 0.9761 - val_loss: 1.5364 - val_recall_8: 0.2500\n",
      "Epoch 36/50\n",
      "163/163 [==============================] - 0s 3ms/step - loss: 0.0417 - recall_8: 0.9746 - val_loss: 1.1340 - val_recall_8: 0.6250\n",
      "Epoch 37/50\n",
      "163/163 [==============================] - 0s 3ms/step - loss: 0.0483 - recall_8: 0.9717 - val_loss: 0.9523 - val_recall_8: 0.6250\n",
      "Epoch 38/50\n",
      "163/163 [==============================] - 0s 3ms/step - loss: 0.0444 - recall_8: 0.9732 - val_loss: 1.1799 - val_recall_8: 0.6250\n",
      "Epoch 39/50\n",
      "163/163 [==============================] - 1s 3ms/step - loss: 0.0433 - recall_8: 0.9746 - val_loss: 0.4967 - val_recall_8: 0.6250\n",
      "Epoch 40/50\n",
      "163/163 [==============================] - 1s 3ms/step - loss: 0.0387 - recall_8: 0.9821 - val_loss: 0.4129 - val_recall_8: 0.8750\n",
      "Epoch 41/50\n",
      "163/163 [==============================] - 1s 3ms/step - loss: 0.0518 - recall_8: 0.9746 - val_loss: 0.5219 - val_recall_8: 0.6250\n",
      "Epoch 42/50\n",
      "163/163 [==============================] - 1s 3ms/step - loss: 0.0470 - recall_8: 0.9739 - val_loss: 0.5414 - val_recall_8: 0.6250\n",
      "Epoch 43/50\n",
      "163/163 [==============================] - 1s 3ms/step - loss: 0.0499 - recall_8: 0.9754 - val_loss: 0.1192 - val_recall_8: 0.8750\n",
      "Epoch 44/50\n",
      "163/163 [==============================] - 1s 4ms/step - loss: 0.0478 - recall_8: 0.9739 - val_loss: 0.8236 - val_recall_8: 0.6250\n",
      "Epoch 45/50\n",
      "163/163 [==============================] - 1s 4ms/step - loss: 0.0441 - recall_8: 0.9776 - val_loss: 1.1844 - val_recall_8: 0.5000\n",
      "Epoch 46/50\n",
      "163/163 [==============================] - 1s 3ms/step - loss: 0.0415 - recall_8: 0.9784 - val_loss: 0.5869 - val_recall_8: 0.6250\n",
      "Epoch 47/50\n",
      "163/163 [==============================] - 1s 3ms/step - loss: 0.0405 - recall_8: 0.9784 - val_loss: 0.4469 - val_recall_8: 0.7500\n",
      "Epoch 48/50\n",
      "163/163 [==============================] - 1s 3ms/step - loss: 0.0412 - recall_8: 0.9806 - val_loss: 0.4596 - val_recall_8: 0.7500\n",
      "Epoch 49/50\n",
      "163/163 [==============================] - 1s 3ms/step - loss: 0.0441 - recall_8: 0.9732 - val_loss: 0.1307 - val_recall_8: 0.8750\n",
      "Epoch 50/50\n",
      "163/163 [==============================] - 1s 4ms/step - loss: 0.0489 - recall_8: 0.9754 - val_loss: 0.7931 - val_recall_8: 0.6250\n"
     ]
    },
    {
     "data": {
      "text/plain": [
       "<tensorflow.python.keras.callbacks.History at 0x1ebf478ba00>"
      ]
     },
     "execution_count": 80,
     "metadata": {},
     "output_type": "execute_result"
    }
   ],
   "source": [
    "model.compile(optimizer = 'rmsprop', loss = 'binary_crossentropy', metrics = metrics.Recall())\n",
    "\n",
    "model.fit(train_x, train_y, epochs=50, batch_size=32, validation_data=(val_x, val_y))"
   ]
  },
  {
   "cell_type": "code",
   "execution_count": 81,
   "metadata": {},
   "outputs": [
    {
     "name": "stdout",
     "output_type": "stream",
     "text": [
      "20/20 - 0s - loss: 1.3972 - recall_8: 0.3162\n"
     ]
    }
   ],
   "source": [
    "test_loss, test_recall = model.evaluate(test_x, test_y, verbose =2 )"
   ]
  },
  {
   "cell_type": "code",
   "execution_count": null,
   "metadata": {},
   "outputs": [],
   "source": []
  }
 ],
 "metadata": {
  "kernelspec": {
   "display_name": "learn-env",
   "language": "python",
   "name": "learn-env"
  },
  "language_info": {
   "codemirror_mode": {
    "name": "ipython",
    "version": 3
   },
   "file_extension": ".py",
   "mimetype": "text/x-python",
   "name": "python",
   "nbconvert_exporter": "python",
   "pygments_lexer": "ipython3",
   "version": "3.8.5"
  }
 },
 "nbformat": 4,
 "nbformat_minor": 4
}
