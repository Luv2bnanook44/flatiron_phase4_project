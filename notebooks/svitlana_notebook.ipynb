{
 "cells": [
  {
   "cell_type": "code",
   "execution_count": 4,
   "metadata": {},
   "outputs": [],
   "source": [
    "import matplotlib.pyplot as plt\n",
    "%matplotlib inline\n",
    "import seaborn as sns\n",
    "import numpy as np\n",
    "from scipy import ndimage\n",
    "import pandas as pd\n",
    "\n",
    "from sklearn.metrics import plot_confusion_matrix, confusion_matrix\n",
    "\n",
    "from tensorflow.keras import models, layers, metrics\n",
    "from tensorflow.keras.preprocessing.image import ImageDataGenerator, load_img, array_to_img, img_to_array\n",
    "\n",
    "from PIL import Image\n",
    "\n",
    "from tensorflow.keras import layers\n",
    "from tensorflow.keras.models import Sequential\n",
    "from tensorflow.keras.layers import Dense, Dropout, Flatten\n",
    "from tensorflow.keras.regularizers import l2\n",
    "from tensorflow.keras.optimizers import SGD\n",
    "from tensorflow.keras.wrappers import scikit_learn\n",
    "from tensorflow.keras.callbacks import EarlyStopping\n",
    "from keras.layers.advanced_activations import LeakyReLU\n",
    "\n",
    "import os"
   ]
  },
  {
   "cell_type": "code",
   "execution_count": 7,
   "metadata": {},
   "outputs": [],
   "source": [
    "base_dir='../data/chest_xray/'\n",
    "\n",
    "train_path = '../data/chest_xray/train'\n",
    "\n",
    "validation_path = '../data/chest_xray/val'\n",
    "\n",
    "test_path = '../data/chest_xray/test'\n",
    "\n",
    "full_train_path = '../data/chest_xray/full_train'"
   ]
  },
  {
   "cell_type": "code",
   "execution_count": 8,
   "metadata": {},
   "outputs": [],
   "source": [
    "train_pneumonia=os.listdir('../data/chest_xray/train/PNEUMONIA/')\n",
    "train_normal=os.listdir('../data/chest_xray/train/NORMAL/')\n",
    "val_dir_normal=os.listdir('../data/chest_xray/val/NORMAL/')\n",
    "test_dir_normal=os.listdir('../data/chest_xray/test/NORMAL/')\n",
    "val_dir_pneumonia=os.listdir('../data/chest_xray/val/PNEUMONIA/')\n",
    "test_dir_pneumonia=os.listdir('../data/chest_xray/test/PNEUMONIA/')\n",
    "\n",
    "\n",
    "##trying out combining training and validation sets and using a validation ratio when fitting models\n",
    "full_train_pneumonia = os.listdir('../data/chest_xray/full_train/PNEUMONIA')\n",
    "full_train_normal = os.listdir('../data/chest_xray/full_train/NORMAL')\n",
    "\n",
    "\n",
    "##list object containing 'NORMAL' & 'PNEUMONIA'\n",
    "label_string = os.listdir('../data/chest_xray/train')"
   ]
  },
  {
   "cell_type": "code",
   "execution_count": 9,
   "metadata": {},
   "outputs": [],
   "source": [
    "# Greyscale distribution histogram - done, Jamie\n",
    "# Class distribution - heavily weighted towards positive class (pneumonia) - done, Jamie\n",
    "# Address class imbalance - incorporate flipped 0-class images - Rachel wrote a function for this\n",
    "# Mean values for negative and positive classes - Svitlana \n",
    "# Look for outliers\n",
    "# Look at subracting the pixel mean\n",
    "# Apply matrix transformations to further define images - \n",
    "# Data Augmentation - Svitlana will make an attempt"
   ]
  },
  {
   "cell_type": "code",
   "execution_count": 10,
   "metadata": {
    "scrolled": false
   },
   "outputs": [
    {
     "name": "stdout",
     "output_type": "stream",
     "text": [
      "Train set w/ pneumonia:  2144\n",
      "Train set normal:  699\n",
      "Validation set w/ pneumonia:  1739\n",
      "Validation set normal:  650\n",
      "Test set w/ pneumonia:  390\n",
      "Test set normal:  234\n",
      "Full training set w/pneumonia (combined w/validation):  3883\n",
      "Full training set normal (combined w/validation):  1349\n"
     ]
    }
   ],
   "source": [
    "print(\"Train set w/ pneumonia: \", len(train_pneumonia))\n",
    "print(\"Train set normal: \", len(train_normal))\n",
    "print(\"Validation set w/ pneumonia: \", len(val_dir_pneumonia))\n",
    "print(\"Validation set normal: \", len(val_dir_normal))\n",
    "print(\"Test set w/ pneumonia: \", len(test_dir_pneumonia))\n",
    "print(\"Test set normal: \", len(test_dir_normal))\n",
    "print(\"Full training set w/pneumonia (combined w/validation): \", len(full_train_pneumonia))\n",
    "print(\"Full training set normal (combined w/validation): \", len(full_train_normal))"
   ]
  },
  {
   "cell_type": "code",
   "execution_count": 11,
   "metadata": {},
   "outputs": [
    {
     "data": {
      "text/plain": [
       "(2843, 2389, 624, 5232)"
      ]
     },
     "execution_count": 11,
     "metadata": {},
     "output_type": "execute_result"
    }
   ],
   "source": [
    "2144+699, 1739+650, 390+234, 3883+1349"
   ]
  },
  {
   "cell_type": "code",
   "execution_count": 12,
   "metadata": {
    "scrolled": false
   },
   "outputs": [
    {
     "data": {
      "image/png": "[encoded data removed]",
      "text/plain": [
       "<Figure size 432x288 with 1 Axes>"
      ]
     },
     "metadata": {
      "needs_background": "light"
     },
     "output_type": "display_data"
    }
   ],
   "source": [
    "labels = ['Train Pneumonia', 'Train Normal', 'Val. Pneumonia', 'Val. Normal', 'Test Pneumonia', 'Test Normal']\n",
    "dist = sns.barplot(x=labels, \n",
    "           y=[len(train_pneumonia), len(train_normal), len(val_dir_pneumonia), len(val_dir_normal), len(test_dir_pneumonia), len(test_dir_normal)],)\n",
    "\n",
    "dist.set_xticklabels(labels = labels, rotation = 30);"
   ]
  },
  {
   "cell_type": "code",
   "execution_count": 13,
   "metadata": {},
   "outputs": [
    {
     "data": {
      "text/plain": [
       "<Figure size 432x288 with 0 Axes>"
      ]
     },
     "metadata": {},
     "output_type": "display_data"
    }
   ],
   "source": [
    "#loading images for training set - pneumonia\n",
    "\n",
    "plt.suptitle(\"Patients with Pneumonia\")\n",
    "for i in range(0,4):\n",
    "    img = train_pneumonia[i]\n",
    "    img = load_img(train_path+'/PNEUMONIA/'+img)\n",
    "#   plt.imshow(img)\n",
    "#   plt.show()"
   ]
  },
  {
   "cell_type": "code",
   "execution_count": 14,
   "metadata": {},
   "outputs": [
    {
     "data": {
      "text/plain": [
       "<Figure size 432x288 with 0 Axes>"
      ]
     },
     "metadata": {},
     "output_type": "display_data"
    }
   ],
   "source": [
    "#loading images for training set - normal\n",
    "\n",
    "plt.suptitle(\"Normal Patients\")\n",
    "for i in range(0,4):\n",
    "    img = train_normal[i]\n",
    "    img = load_img(train_path+'/NORMAL/'+img)\n",
    "#    plt.imshow(img)\n",
    "#    plt.show()"
   ]
  },
  {
   "cell_type": "code",
   "execution_count": 15,
   "metadata": {},
   "outputs": [
    {
     "name": "stdout",
     "output_type": "stream",
     "text": [
      "Found 2843 images belonging to 2 classes.\n",
      "Found 2389 images belonging to 2 classes.\n",
      "Found 624 images belonging to 2 classes.\n",
      "Found 5232 images belonging to 2 classes.\n"
     ]
    }
   ],
   "source": [
    "train_gen = ImageDataGenerator(rescale = 1/255.).flow_from_directory(train_path,\n",
    "                                                 target_size=(224, 224),\n",
    "                                                 batch_size=2843,\n",
    "                                                 color_mode = 'grayscale',                \n",
    "                                                 class_mode='binary')\n",
    "\n",
    "val_gen = ImageDataGenerator(rescale = 1/255.).flow_from_directory(validation_path,\n",
    "                                            target_size=(224, 224),\n",
    "                                            shuffle=True,\n",
    "                                            batch_size=2389,\n",
    "                                            color_mode = 'grayscale',                      \n",
    "                                            class_mode='binary')\n",
    "\n",
    "test_gen = ImageDataGenerator(rescale = 1/255.).flow_from_directory(test_path,\n",
    "                                            target_size=(224, 224),\n",
    "                                            batch_size=624,\n",
    "                                            color_mode = 'grayscale',                        \n",
    "                                            class_mode='binary')\n",
    "\n",
    "##Image generator object for full training folder\n",
    "full_train_gen = ImageDataGenerator(rescale = 1/255.).flow_from_directory(full_train_path,\n",
    "                                            target_size=(224, 224),\n",
    "                                            batch_size=5232,\n",
    "                                            color_mode = 'grayscale',                        \n",
    "                                            class_mode='binary')"
   ]
  },
  {
   "cell_type": "code",
   "execution_count": 16,
   "metadata": {},
   "outputs": [],
   "source": [
    "train_images, train_labels = next(train_gen)\n",
    "val_images, val_labels = next(val_gen)\n",
    "test_images, test_labels = next(test_gen)\n",
    "\n",
    "##full training folder\n",
    "full_train_images, full_train_labels = next(full_train_gen)"
   ]
  },
  {
   "cell_type": "code",
   "execution_count": 17,
   "metadata": {
    "scrolled": true
   },
   "outputs": [
    {
     "name": "stdout",
     "output_type": "stream",
     "text": [
      "Train image shape: (2843, 224, 224, 1) train label shape: (2843,)\n",
      "Val image shape: (2389, 224, 224, 1) val label shape: (2389,)\n",
      "Test image shape: (624, 224, 224, 1) test label shape: (624,)\n",
      "Full Train image shape: (5232, 224, 224, 1) full train label shape: (5232,)\n"
     ]
    }
   ],
   "source": [
    "print(\"Train image shape:\", train_images.shape, \"train label shape:\", train_labels.shape)\n",
    "print(\"Val image shape:\", val_images.shape, \"val label shape:\", val_labels.shape)\n",
    "print(\"Test image shape:\", test_images.shape, \"test label shape:\", test_labels.shape)\n",
    "\n",
    "print(\"Full Train image shape:\", full_train_images.shape, \"full train label shape:\", full_train_labels.shape)"
   ]
  },
  {
   "cell_type": "code",
   "execution_count": 18,
   "metadata": {},
   "outputs": [],
   "source": [
    "train_x = train_images.reshape(train_images.shape[0], -1)\n",
    "val_x = val_images.reshape(val_images.shape[0], -1)\n",
    "test_x = test_images.reshape(test_images.shape[0], -1)\n",
    "\n",
    "full_train_x = full_train_images.reshape(full_train_images.shape[0], -1)"
   ]
  },
  {
   "cell_type": "code",
   "execution_count": 19,
   "metadata": {},
   "outputs": [
    {
     "data": {
      "text/plain": [
       "((2843, 50176), (2389, 50176), (624, 50176), (5232, 50176))"
      ]
     },
     "execution_count": 19,
     "metadata": {},
     "output_type": "execute_result"
    }
   ],
   "source": [
    "train_x.shape, val_x.shape, test_x.shape, full_train_x.shape"
   ]
  },
  {
   "cell_type": "code",
   "execution_count": 20,
   "metadata": {},
   "outputs": [],
   "source": [
    "train_y = np.reshape(train_labels[:], (2843,1))\n",
    "val_y = np.reshape(val_labels[:], (2389,1))\n",
    "test_y = np.reshape(test_labels[:], (624,1))\n",
    "\n",
    "##full training set labels\n",
    "full_train_y = np.reshape(full_train_labels[:], (5232,1))"
   ]
  },
  {
   "cell_type": "code",
   "execution_count": 21,
   "metadata": {},
   "outputs": [
    {
     "data": {
      "text/plain": [
       "((2843, 1), (2389, 1), (624, 1), (5232, 1))"
      ]
     },
     "execution_count": 21,
     "metadata": {},
     "output_type": "execute_result"
    }
   ],
   "source": [
    "train_y.shape, val_y.shape, test_y.shape, full_train_y.shape"
   ]
  },
  {
   "cell_type": "markdown",
   "metadata": {},
   "source": [
    "# FSM  \n",
    "### using one hidden layer"
   ]
  },
  {
   "cell_type": "code",
   "execution_count": 17,
   "metadata": {},
   "outputs": [],
   "source": [
    "np.random.seed(42)\n",
    "\n",
    "\n",
    "model = models.Sequential()\n",
    "model.add(layers.Dense(12, activation='relu', input_shape=(50176,)))\n",
    "model.add(layers.Dense(7, activation='relu'))\n",
    "model.add(layers.Dense(1, activation='sigmoid'))"
   ]
  },
  {
   "cell_type": "code",
   "execution_count": 18,
   "metadata": {
    "scrolled": true
   },
   "outputs": [
    {
     "name": "stdout",
     "output_type": "stream",
     "text": [
      "Epoch 1/25\n",
      "89/89 [==============================] - 1s 14ms/step - loss: 0.5412 - accuracy: 0.7566 - recall: 0.9604 - val_loss: 0.3993 - val_accuracy: 0.8037 - val_recall: 0.9960\n",
      "Epoch 2/25\n",
      "89/89 [==============================] - 1s 12ms/step - loss: 0.3608 - accuracy: 0.8466 - recall: 0.9599 - val_loss: 0.2992 - val_accuracy: 0.8635 - val_recall: 0.9793\n",
      "Epoch 3/25\n",
      "89/89 [==============================] - 1s 12ms/step - loss: 0.2954 - accuracy: 0.8836 - recall: 0.9627 - val_loss: 0.2448 - val_accuracy: 0.8974 - val_recall: 0.9724\n",
      "Epoch 4/25\n",
      "89/89 [==============================] - 1s 12ms/step - loss: 0.2495 - accuracy: 0.9029 - recall: 0.9613 - val_loss: 0.2781 - val_accuracy: 0.8535 - val_recall: 0.9942\n",
      "Epoch 5/25\n",
      "89/89 [==============================] - 1s 12ms/step - loss: 0.2251 - accuracy: 0.9152 - recall: 0.9678 - val_loss: 0.2199 - val_accuracy: 0.9058 - val_recall: 0.9868\n",
      "Epoch 6/25\n",
      "89/89 [==============================] - 1s 12ms/step - loss: 0.2184 - accuracy: 0.9170 - recall: 0.9622 - val_loss: 0.3099 - val_accuracy: 0.8573 - val_recall: 0.9954\n",
      "Epoch 7/25\n",
      "89/89 [==============================] - 1s 12ms/step - loss: 0.2151 - accuracy: 0.9173 - recall: 0.9608 - val_loss: 0.2050 - val_accuracy: 0.9121 - val_recall: 0.9885\n",
      "Epoch 8/25\n",
      "89/89 [==============================] - 1s 12ms/step - loss: 0.1850 - accuracy: 0.9339 - recall: 0.9692 - val_loss: 0.1683 - val_accuracy: 0.9309 - val_recall: 0.9839\n",
      "Epoch 9/25\n",
      "89/89 [==============================] - 1s 12ms/step - loss: 0.1833 - accuracy: 0.9318 - recall: 0.9660 - val_loss: 0.1945 - val_accuracy: 0.9192 - val_recall: 0.9891\n",
      "Epoch 10/25\n",
      "89/89 [==============================] - 1s 12ms/step - loss: 0.1734 - accuracy: 0.9349 - recall: 0.9683 - val_loss: 0.1638 - val_accuracy: 0.9422 - val_recall: 0.9448\n",
      "Epoch 11/25\n",
      "89/89 [==============================] - 1s 11ms/step - loss: 0.2161 - accuracy: 0.9293 - recall: 0.9576 - val_loss: 0.3190 - val_accuracy: 0.8924 - val_recall: 0.9948\n",
      "Epoch 12/25\n",
      "89/89 [==============================] - 1s 12ms/step - loss: 0.1769 - accuracy: 0.9406 - recall: 0.9678 - val_loss: 0.1498 - val_accuracy: 0.9447 - val_recall: 0.9793\n",
      "Epoch 13/25\n",
      "89/89 [==============================] - 1s 11ms/step - loss: 0.1835 - accuracy: 0.9363 - recall: 0.9660 - val_loss: 0.2469 - val_accuracy: 0.9025 - val_recall: 0.9931\n",
      "Epoch 14/25\n",
      "89/89 [==============================] - 1s 12ms/step - loss: 0.1726 - accuracy: 0.9349 - recall: 0.9618 - val_loss: 0.1700 - val_accuracy: 0.9351 - val_recall: 0.9896\n",
      "Epoch 15/25\n",
      "89/89 [==============================] - 1s 11ms/step - loss: 0.1681 - accuracy: 0.9367 - recall: 0.9613 - val_loss: 0.2917 - val_accuracy: 0.8874 - val_recall: 0.8499\n",
      "Epoch 16/25\n",
      "89/89 [==============================] - 1s 11ms/step - loss: 0.1817 - accuracy: 0.9268 - recall: 0.9562 - val_loss: 0.1345 - val_accuracy: 0.9485 - val_recall: 0.9672\n",
      "Epoch 17/25\n",
      "89/89 [==============================] - 1s 11ms/step - loss: 0.1462 - accuracy: 0.9423 - recall: 0.9618 - val_loss: 0.1759 - val_accuracy: 0.9360 - val_recall: 0.9873\n",
      "Epoch 18/25\n",
      "89/89 [==============================] - 1s 12ms/step - loss: 0.1572 - accuracy: 0.9384 - recall: 0.9552 - val_loss: 0.2213 - val_accuracy: 0.9196 - val_recall: 0.9914\n",
      "Epoch 19/25\n",
      "89/89 [==============================] - 1s 12ms/step - loss: 0.1495 - accuracy: 0.9451 - recall: 0.9627 - val_loss: 0.1546 - val_accuracy: 0.9452 - val_recall: 0.9822\n",
      "Epoch 20/25\n",
      "89/89 [==============================] - 1s 11ms/step - loss: 0.1466 - accuracy: 0.9469 - recall: 0.9646 - val_loss: 0.1960 - val_accuracy: 0.9276 - val_recall: 0.9914\n",
      "Epoch 21/25\n",
      "89/89 [==============================] - 1s 11ms/step - loss: 0.1466 - accuracy: 0.9469 - recall: 0.9655 - val_loss: 0.1286 - val_accuracy: 0.9494 - val_recall: 0.9684\n",
      "Epoch 22/25\n",
      "89/89 [==============================] - 1s 11ms/step - loss: 0.1466 - accuracy: 0.9377 - recall: 0.9594 - val_loss: 0.1447 - val_accuracy: 0.9481 - val_recall: 0.9833\n",
      "Epoch 23/25\n",
      "89/89 [==============================] - 1s 11ms/step - loss: 0.1347 - accuracy: 0.9465 - recall: 0.9669 - val_loss: 0.1262 - val_accuracy: 0.9506 - val_recall: 0.9689\n",
      "Epoch 24/25\n",
      "89/89 [==============================] - 1s 11ms/step - loss: 0.1375 - accuracy: 0.9504 - recall: 0.9725 - val_loss: 0.1669 - val_accuracy: 0.9330 - val_recall: 0.9891\n",
      "Epoch 25/25\n",
      "89/89 [==============================] - 1s 12ms/step - loss: 0.1262 - accuracy: 0.9546 - recall: 0.9757 - val_loss: 0.1262 - val_accuracy: 0.9514 - val_recall: 0.9655\n"
     ]
    }
   ],
   "source": [
    "model.compile(optimizer='rmsprop',\n",
    "              loss='binary_crossentropy',\n",
    "              metrics= (['accuracy'], metrics.Recall()))\n",
    "\n",
    "history = model.fit(train_x,\n",
    "                    train_y,\n",
    "                    epochs=25,\n",
    "                    batch_size=32,\n",
    "                    validation_data=(val_x, val_y))"
   ]
  },
  {
   "cell_type": "markdown",
   "metadata": {},
   "source": [
    "# First CNN "
   ]
  },
  {
   "cell_type": "code",
   "execution_count": 23,
   "metadata": {},
   "outputs": [],
   "source": [
    "batch_size = 64\n",
    "epochs = 10\n",
    "num_classes = 2"
   ]
  },
  {
   "cell_type": "code",
   "execution_count": 20,
   "metadata": {},
   "outputs": [],
   "source": [
    "model = models.Sequential()\n",
    "model.add(layers.Conv2D(32, (3, 3), activation='relu',\n",
    "                        input_shape=(224 , 224, 1)))\n",
    "model.add(layers.MaxPooling2D((2, 2)))\n",
    "\n",
    "model.add(layers.Conv2D(32, (4, 4), activation='relu'))\n",
    "model.add(layers.MaxPooling2D((2, 2)))\n",
    "\n",
    "model.add(layers.Flatten())\n",
    "model.add(layers.Dense(64, activation='relu'))\n",
    "model.add(layers.Dense(1, activation='sigmoid'))\n",
    "\n",
    "model.compile(loss='binary_crossentropy',\n",
    "              optimizer='rmsprop',\n",
    "              metrics=(['accuracy'], metrics.Recall()))"
   ]
  },
  {
   "cell_type": "code",
   "execution_count": 21,
   "metadata": {},
   "outputs": [],
   "source": [
    "model.compile(optimizer = 'rmsprop', \n",
    "              loss = 'binary_crossentropy', \n",
    "              metrics = (['accuracy'], metrics.Recall()))"
   ]
  },
  {
   "cell_type": "code",
   "execution_count": 22,
   "metadata": {},
   "outputs": [
    {
     "name": "stdout",
     "output_type": "stream",
     "text": [
      "Epoch 1/10\n",
      "45/45 [==============================] - 88s 2s/step - loss: 0.8752 - accuracy: 0.7703 - recall_2: 0.9104 - val_loss: 0.3453 - val_accuracy: 0.8560 - val_recall_2: 0.9212\n",
      "Epoch 2/10\n",
      "45/45 [==============================] - 88s 2s/step - loss: 0.3746 - accuracy: 0.9128 - recall_2: 0.9520 - val_loss: 0.2904 - val_accuracy: 0.8794 - val_recall_2: 0.9747\n",
      "Epoch 3/10\n",
      "45/45 [==============================] - 88s 2s/step - loss: 0.1885 - accuracy: 0.9339 - recall_2: 0.9604 - val_loss: 0.2995 - val_accuracy: 0.8841 - val_recall_2: 0.8683\n",
      "Epoch 4/10\n",
      "45/45 [==============================] - 86s 2s/step - loss: 0.1464 - accuracy: 0.9444 - recall_2: 0.9627 - val_loss: 0.2404 - val_accuracy: 0.9062 - val_recall_2: 0.9908\n",
      "Epoch 5/10\n",
      "45/45 [==============================] - 87s 2s/step - loss: 0.1085 - accuracy: 0.9581 - recall_2: 0.9743 - val_loss: 1.4231 - val_accuracy: 0.7359 - val_recall_2: 1.0000\n",
      "Epoch 6/10\n",
      "45/45 [==============================] - 86s 2s/step - loss: 0.1117 - accuracy: 0.9634 - recall_2: 0.9781 - val_loss: 0.2384 - val_accuracy: 0.9238 - val_recall_2: 0.8999\n",
      "Epoch 7/10\n",
      "45/45 [==============================] - 86s 2s/step - loss: 0.0800 - accuracy: 0.9712 - recall_2: 0.9790 - val_loss: 0.1282 - val_accuracy: 0.9607 - val_recall_2: 0.9787\n",
      "Epoch 8/10\n",
      "45/45 [==============================] - 86s 2s/step - loss: 0.0741 - accuracy: 0.9761 - recall_2: 0.9851 - val_loss: 0.1293 - val_accuracy: 0.9619 - val_recall_2: 0.9810\n",
      "Epoch 9/10\n",
      "45/45 [==============================] - 86s 2s/step - loss: 0.0532 - accuracy: 0.9796 - recall_2: 0.9865 - val_loss: 0.2020 - val_accuracy: 0.9489 - val_recall_2: 0.9885\n",
      "Epoch 10/10\n",
      "45/45 [==============================] - 86s 2s/step - loss: 0.0453 - accuracy: 0.9856 - recall_2: 0.9902 - val_loss: 0.1685 - val_accuracy: 0.9498 - val_recall_2: 0.9776\n"
     ]
    }
   ],
   "source": [
    "history = model.fit(train_images, train_y, epochs = epochs, batch_size = batch_size, validation_data=(val_images, val_y))"
   ]
  },
  {
   "cell_type": "code",
   "execution_count": 23,
   "metadata": {
    "scrolled": true
   },
   "outputs": [
    {
     "name": "stdout",
     "output_type": "stream",
     "text": [
      "89/89 [==============================] - 18s 202ms/step - loss: 0.0222 - accuracy: 0.9923 - recall_2: 0.9944\n"
     ]
    }
   ],
   "source": [
    "results_train = model.evaluate(train_images, train_y)"
   ]
  },
  {
   "cell_type": "code",
   "execution_count": 24,
   "metadata": {},
   "outputs": [
    {
     "data": {
      "text/plain": [
       "{'validation_data': None,\n",
       " 'model': <tensorflow.python.keras.engine.sequential.Sequential at 0x24f3cbb0c10>,\n",
       " '_chief_worker_only': None,\n",
       " '_supports_tf_logs': False,\n",
       " 'history': {'loss': [0.8752040266990662,\n",
       "   0.37461546063423157,\n",
       "   0.188506618142128,\n",
       "   0.14644724130630493,\n",
       "   0.10848119109869003,\n",
       "   0.11169004440307617,\n",
       "   0.07999250292778015,\n",
       "   0.0740526020526886,\n",
       "   0.053233128041028976,\n",
       "   0.04533915966749191],\n",
       "  'accuracy': [0.770313024520874,\n",
       "   0.9127681851387024,\n",
       "   0.933872640132904,\n",
       "   0.9444249272346497,\n",
       "   0.9581428170204163,\n",
       "   0.9634189009666443,\n",
       "   0.9711572527885437,\n",
       "   0.9760816097259521,\n",
       "   0.9795989990234375,\n",
       "   0.9855785965919495],\n",
       "  'recall_2': [0.9104477763175964,\n",
       "   0.951958954334259,\n",
       "   0.9603545069694519,\n",
       "   0.9626865386962891,\n",
       "   0.9743469953536987,\n",
       "   0.9780783653259277,\n",
       "   0.9790111780166626,\n",
       "   0.9850746393203735,\n",
       "   0.9864738583564758,\n",
       "   0.9902052283287048],\n",
       "  'val_loss': [0.34527409076690674,\n",
       "   0.29040345549583435,\n",
       "   0.29949530959129333,\n",
       "   0.2403680384159088,\n",
       "   1.4231090545654297,\n",
       "   0.23843668401241302,\n",
       "   0.12818023562431335,\n",
       "   0.12933363020420074,\n",
       "   0.20200566947460175,\n",
       "   0.1685195416212082],\n",
       "  'val_accuracy': [0.8560066819190979,\n",
       "   0.8794474601745605,\n",
       "   0.8840519189834595,\n",
       "   0.9062369465827942,\n",
       "   0.735872745513916,\n",
       "   0.92381751537323,\n",
       "   0.9606530070304871,\n",
       "   0.961908757686615,\n",
       "   0.9489325881004333,\n",
       "   0.9497697949409485],\n",
       "  'val_recall_2': [0.9212191104888916,\n",
       "   0.9746981263160706,\n",
       "   0.8683151006698608,\n",
       "   0.9907993078231812,\n",
       "   1.0,\n",
       "   0.8999425172805786,\n",
       "   0.978723406791687,\n",
       "   0.9810235500335693,\n",
       "   0.9884991645812988,\n",
       "   0.9775733351707458]},\n",
       " 'params': {'verbose': 1, 'epochs': 10, 'steps': 45},\n",
       " 'epoch': [0, 1, 2, 3, 4, 5, 6, 7, 8, 9]}"
      ]
     },
     "execution_count": 24,
     "metadata": {},
     "output_type": "execute_result"
    }
   ],
   "source": [
    "history.__dict__"
   ]
  },
  {
   "cell_type": "code",
   "execution_count": 25,
   "metadata": {},
   "outputs": [],
   "source": [
    "model_epochs = history.epoch\n",
    "model_recall_train = history.history['recall_2']\n",
    "model_recall_val = history.history['val_recall_2']\n",
    "model_accuracy_train = history.history['accuracy']\n",
    "model_accuracy_val = history.history['val_accuracy']"
   ]
  },
  {
   "cell_type": "markdown",
   "metadata": {},
   "source": [
    "## Plotting Accuracy and Recall Against Epochs"
   ]
  },
  {
   "cell_type": "code",
   "execution_count": 26,
   "metadata": {},
   "outputs": [
    {
     "data": {
      "image/png": "[encoded data removed]",
      "text/plain": [
       "<Figure size 576x432 with 1 Axes>"
      ]
     },
     "metadata": {
      "needs_background": "light"
     },
     "output_type": "display_data"
    }
   ],
   "source": [
    "fig, ax = plt.subplots(figsize = (8,6))\n",
    "\n",
    "ax.plot(model_epochs, model_accuracy_train, label = 'Training Accuracy')\n",
    "ax.plot(model_epochs, model_accuracy_val, linestyle = '--', label = 'Validation Accuracy')\n",
    "ax.set_xlabel(\"Epochs\")\n",
    "ax.set_ylabel(\"Accuracy\")\n",
    "plt.legend();"
   ]
  },
  {
   "cell_type": "code",
   "execution_count": 27,
   "metadata": {
    "scrolled": true
   },
   "outputs": [
    {
     "data": {
      "image/png": "[encoded data removed]",
      "text/plain": [
       "<Figure size 576x432 with 1 Axes>"
      ]
     },
     "metadata": {
      "needs_background": "light"
     },
     "output_type": "display_data"
    }
   ],
   "source": [
    "fig, ax = plt.subplots(figsize = (8,6))\n",
    "\n",
    "ax.plot(model_epochs, model_recall_train, label = 'Training Recall')\n",
    "ax.plot(model_epochs, model_recall_val, linestyle = '--', label = 'Validation Recall')\n",
    "ax.set_xlabel(\"Epochs\")\n",
    "ax.set_ylabel(\"Recall\")\n",
    "plt.legend();"
   ]
  },
  {
   "cell_type": "markdown",
   "metadata": {},
   "source": [
    "## Second CNN"
   ]
  },
  {
   "cell_type": "code",
   "execution_count": 28,
   "metadata": {},
   "outputs": [],
   "source": [
    "model2 = models.Sequential()\n",
    "model2.add(layers.Conv2D(32, (5, 5), activation='relu',\n",
    "                        input_shape=(224 , 224, 1)))\n",
    "model2.add(layers.MaxPooling2D((2, 2)))\n",
    "\n",
    "model2.add(layers.Conv2D(32, (4, 4), activation='relu'))\n",
    "model2.add(layers.MaxPooling2D((2, 2), padding = 'same'))\n",
    "\n",
    "model2.add(LeakyReLU())\n",
    "model2.add(layers.MaxPooling2D((2, 2), padding = 'same'))\n",
    "\n",
    "model2.add(layers.Flatten())\n",
    "model2.add(layers.Dense(64, activation='relu'))\n",
    "model2.add(layers.Dense(1, activation='sigmoid'))\n",
    "\n",
    "model2.compile(loss='binary_crossentropy',\n",
    "              optimizer='rmsprop',\n",
    "              metrics=(['accuracy'], metrics.Recall()))"
   ]
  },
  {
   "cell_type": "code",
   "execution_count": 29,
   "metadata": {},
   "outputs": [
    {
     "name": "stdout",
     "output_type": "stream",
     "text": [
      "Epoch 1/10\n",
      "45/45 [==============================] - 95s 2s/step - loss: 0.5359 - accuracy: 0.7629 - recall_3: 0.8680 - val_loss: 0.4462 - val_accuracy: 0.8003 - val_recall_3: 0.9833\n",
      "Epoch 2/10\n",
      "45/45 [==============================] - 99s 2s/step - loss: 0.2664 - accuracy: 0.9019 - recall_3: 0.9398 - val_loss: 0.2573 - val_accuracy: 0.8966 - val_recall_3: 0.9758\n",
      "Epoch 3/10\n",
      "45/45 [==============================] - 94s 2s/step - loss: 0.2242 - accuracy: 0.9209 - recall_3: 0.9501 - val_loss: 0.2000 - val_accuracy: 0.9238 - val_recall_3: 0.9241\n",
      "Epoch 4/10\n",
      "45/45 [==============================] - 95s 2s/step - loss: 0.1924 - accuracy: 0.9367 - recall_3: 0.9590 - val_loss: 0.2027 - val_accuracy: 0.9217 - val_recall_3: 0.9914\n",
      "Epoch 5/10\n",
      "45/45 [==============================] - 95s 2s/step - loss: 0.2329 - accuracy: 0.9413 - recall_3: 0.9599 - val_loss: 0.1485 - val_accuracy: 0.9452 - val_recall_3: 0.9850\n",
      "Epoch 6/10\n",
      "45/45 [==============================] - 99s 2s/step - loss: 0.1415 - accuracy: 0.9571 - recall_3: 0.9725 - val_loss: 0.1975 - val_accuracy: 0.9284 - val_recall_3: 0.9902\n",
      "Epoch 7/10\n",
      "45/45 [==============================] - 94s 2s/step - loss: 0.0950 - accuracy: 0.9683 - recall_3: 0.9799 - val_loss: 0.1976 - val_accuracy: 0.9339 - val_recall_3: 0.9902\n",
      "Epoch 8/10\n",
      "45/45 [==============================] - 94s 2s/step - loss: 0.1535 - accuracy: 0.9666 - recall_3: 0.9813 - val_loss: 0.1345 - val_accuracy: 0.9590 - val_recall_3: 0.9839\n",
      "Epoch 9/10\n",
      "45/45 [==============================] - 93s 2s/step - loss: 0.0799 - accuracy: 0.9722 - recall_3: 0.9795 - val_loss: 0.1350 - val_accuracy: 0.9573 - val_recall_3: 0.9678\n",
      "Epoch 10/10\n",
      "45/45 [==============================] - 94s 2s/step - loss: 0.0671 - accuracy: 0.9778 - recall_3: 0.9855 - val_loss: 0.1408 - val_accuracy: 0.9514 - val_recall_3: 0.9482\n"
     ]
    }
   ],
   "source": [
    "history2 = model2.fit(train_images, train_y, epochs = epochs, batch_size = batch_size, validation_data=(val_images, val_y))"
   ]
  },
  {
   "cell_type": "code",
   "execution_count": 30,
   "metadata": {},
   "outputs": [
    {
     "name": "stdout",
     "output_type": "stream",
     "text": [
      "89/89 [==============================] - 19s 213ms/step - loss: 0.0789 - accuracy: 0.9687 - recall_3: 0.9590\n"
     ]
    }
   ],
   "source": [
    "results_train2 = model2.evaluate(train_images, train_y)"
   ]
  },
  {
   "cell_type": "markdown",
   "metadata": {},
   "source": [
    "## Third CNN"
   ]
  },
  {
   "cell_type": "code",
   "execution_count": 31,
   "metadata": {},
   "outputs": [],
   "source": [
    "model3 = models.Sequential()\n",
    "model3.add(layers.Conv2D(32, (8, 8), activation='relu',\n",
    "                        input_shape=(224 , 224, 1)))\n",
    "model3.add(layers.MaxPooling2D((2, 2)))\n",
    "\n",
    "model3.add(layers.Conv2D(32, (4, 4), activation='relu'))\n",
    "model3.add(layers.MaxPooling2D((2, 2), padding = 'same'))\n",
    "\n",
    "model3.add(LeakyReLU())\n",
    "model3.add(layers.MaxPooling2D((2, 2), padding = 'same'))\n",
    "\n",
    "model3.add(Dropout(.5))\n",
    "model3.add(layers.Flatten())\n",
    "model3.add(layers.Dense(64, activation='relu'))\n",
    "model3.add(layers.Dense(1, activation='sigmoid'))\n",
    "\n",
    "model3.compile(loss='binary_crossentropy',\n",
    "              optimizer='rmsprop',\n",
    "              metrics=(['accuracy'], metrics.Recall()))"
   ]
  },
  {
   "cell_type": "code",
   "execution_count": 32,
   "metadata": {},
   "outputs": [
    {
     "name": "stdout",
     "output_type": "stream",
     "text": [
      "Epoch 1/10\n",
      "45/45 [==============================] - 114s 3s/step - loss: 0.6768 - accuracy: 0.7742 - recall_4: 0.9118 - val_loss: 0.4852 - val_accuracy: 0.7622 - val_recall_4: 0.9896\n",
      "Epoch 2/10\n",
      "45/45 [==============================] - 110s 2s/step - loss: 0.3521 - accuracy: 0.8590 - recall_4: 0.9146 - val_loss: 0.3431 - val_accuracy: 0.8640 - val_recall_4: 0.9816\n",
      "Epoch 3/10\n",
      "45/45 [==============================] - 111s 2s/step - loss: 0.2193 - accuracy: 0.9159 - recall_4: 0.9515 - val_loss: 0.2442 - val_accuracy: 0.9062 - val_recall_4: 0.9505\n",
      "Epoch 4/10\n",
      "45/45 [==============================] - 110s 2s/step - loss: 0.2577 - accuracy: 0.9114 - recall_4: 0.9431 - val_loss: 1.2545 - val_accuracy: 0.7321 - val_recall_4: 1.0000\n",
      "Epoch 5/10\n",
      "45/45 [==============================] - 112s 2s/step - loss: 0.1796 - accuracy: 0.9384 - recall_4: 0.9660 - val_loss: 0.2278 - val_accuracy: 0.9138 - val_recall_4: 0.9557\n",
      "Epoch 6/10\n",
      "45/45 [==============================] - 111s 2s/step - loss: 0.1656 - accuracy: 0.9367 - recall_4: 0.9594 - val_loss: 0.2412 - val_accuracy: 0.9150 - val_recall_4: 0.9799\n",
      "Epoch 7/10\n",
      "45/45 [==============================] - 110s 2s/step - loss: 0.1249 - accuracy: 0.9564 - recall_4: 0.9720 - val_loss: 0.2260 - val_accuracy: 0.9284 - val_recall_4: 0.9810\n",
      "Epoch 8/10\n",
      "45/45 [==============================] - 113s 3s/step - loss: 0.1331 - accuracy: 0.9511 - recall_4: 0.9646 - val_loss: 0.1551 - val_accuracy: 0.9443 - val_recall_4: 0.9816\n",
      "Epoch 9/10\n",
      "45/45 [==============================] - 110s 2s/step - loss: 0.1274 - accuracy: 0.9613 - recall_4: 0.9734 - val_loss: 0.2246 - val_accuracy: 0.9334 - val_recall_4: 0.9862\n",
      "Epoch 10/10\n",
      "45/45 [==============================] - 113s 3s/step - loss: 0.1023 - accuracy: 0.9606 - recall_4: 0.9734 - val_loss: 0.1346 - val_accuracy: 0.9611 - val_recall_4: 0.9758\n"
     ]
    }
   ],
   "source": [
    "history3 = model3.fit(train_images, train_y, epochs = epochs, batch_size = batch_size, validation_data=(val_images, val_y))"
   ]
  },
  {
   "cell_type": "code",
   "execution_count": 33,
   "metadata": {},
   "outputs": [
    {
     "name": "stdout",
     "output_type": "stream",
     "text": [
      "89/89 [==============================] - 21s 231ms/step - loss: 0.0538 - accuracy: 0.9785 - recall_4: 0.9771\n"
     ]
    }
   ],
   "source": [
    "results_train3 = model3.evaluate(train_images, train_y)"
   ]
  },
  {
   "cell_type": "code",
   "execution_count": 34,
   "metadata": {},
   "outputs": [],
   "source": [
    "#history3.__dict__"
   ]
  },
  {
   "cell_type": "code",
   "execution_count": 35,
   "metadata": {},
   "outputs": [],
   "source": [
    "model_epochs3 = history3.epoch\n",
    "model_recall_train3 = history3.history['recall_4']\n",
    "model_recall_val3 = history3.history['val_recall_4']\n",
    "model_accuracy_train3 = history3.history['accuracy']\n",
    "model_accuracy_val3 = history3.history['val_accuracy']"
   ]
  },
  {
   "cell_type": "markdown",
   "metadata": {},
   "source": [
    "## Plotting CNN3"
   ]
  },
  {
   "cell_type": "code",
   "execution_count": 36,
   "metadata": {},
   "outputs": [
    {
     "data": {
      "image/png": "[encoded data removed]",
      "text/plain": [
       "<Figure size 576x432 with 1 Axes>"
      ]
     },
     "metadata": {
      "needs_background": "light"
     },
     "output_type": "display_data"
    }
   ],
   "source": [
    "fig, ax = plt.subplots(figsize = (8,6))\n",
    "\n",
    "ax.plot(model_epochs3, model_accuracy_train3, label = 'Training Accuracy')\n",
    "ax.plot(model_epochs3, model_accuracy_val3, linestyle = '--', label = 'Validation Accuracy')\n",
    "ax.set_xlabel(\"Epochs\")\n",
    "ax.set_ylabel(\"Accuracy\")\n",
    "plt.legend();"
   ]
  },
  {
   "cell_type": "code",
   "execution_count": 37,
   "metadata": {},
   "outputs": [
    {
     "data": {
      "image/png": "[encoded data removed]",
      "text/plain": [
       "<Figure size 576x432 with 1 Axes>"
      ]
     },
     "metadata": {
      "needs_background": "light"
     },
     "output_type": "display_data"
    }
   ],
   "source": [
    "fig, ax = plt.subplots(figsize = (8,6))\n",
    "\n",
    "ax.plot(model_epochs3, model_recall_train3, label = 'Training Recall')\n",
    "ax.plot(model_epochs3, model_recall_val3, linestyle = '--', label = 'Validation Recall')\n",
    "ax.set_xlabel(\"Epochs\")\n",
    "ax.set_ylabel(\"Recall\")\n",
    "plt.legend();"
   ]
  },
  {
   "cell_type": "markdown",
   "metadata": {},
   "source": [
    "## Fitting CNN3 on full training set with a validation percentage"
   ]
  },
  {
   "cell_type": "code",
   "execution_count": 38,
   "metadata": {},
   "outputs": [],
   "source": [
    "model4 = models.Sequential()\n",
    "model4.add(layers.Conv2D(32, (8, 8), activation='relu',\n",
    "                        input_shape=(224 , 224, 1)))\n",
    "model4.add(layers.MaxPooling2D((2, 2)))\n",
    "\n",
    "model4.add(layers.Conv2D(32, (4, 4), activation='relu'))\n",
    "model4.add(layers.MaxPooling2D((2, 2), padding = 'same'))\n",
    "\n",
    "model4.add(LeakyReLU())\n",
    "model4.add(layers.MaxPooling2D((2, 2), padding = 'same'))\n",
    "\n",
    "model4.add(Dropout(.5))\n",
    "model4.add(layers.Flatten())\n",
    "model4.add(layers.Dense(64, activation='relu'))\n",
    "model4.add(layers.Dense(1, activation='sigmoid'))\n",
    "\n",
    "model4.compile(loss='binary_crossentropy',\n",
    "              optimizer='rmsprop',\n",
    "              metrics=(['accuracy'], metrics.Recall()))"
   ]
  },
  {
   "cell_type": "code",
   "execution_count": 39,
   "metadata": {},
   "outputs": [
    {
     "name": "stdout",
     "output_type": "stream",
     "text": [
      "Epoch 1/15\n",
      "62/62 [==============================] - 142s 2s/step - loss: 0.5796 - accuracy: 0.7582 - recall_5: 0.8827 - val_loss: 0.3532 - val_accuracy: 0.8333 - val_recall_5: 0.9990\n",
      "Epoch 2/15\n",
      "62/62 [==============================] - 147s 2s/step - loss: 0.3837 - accuracy: 0.8688 - recall_5: 0.9129 - val_loss: 0.3054 - val_accuracy: 0.9044 - val_recall_5: 0.9090\n",
      "Epoch 3/15\n",
      "62/62 [==============================] - 146s 2s/step - loss: 0.3228 - accuracy: 0.9218 - recall_5: 0.9551 - val_loss: 0.1073 - val_accuracy: 0.9602 - val_recall_5: 0.9731\n",
      "Epoch 4/15\n",
      "62/62 [==============================] - 148s 2s/step - loss: 0.2124 - accuracy: 0.9276 - recall_5: 0.9568 - val_loss: 0.1192 - val_accuracy: 0.9625 - val_recall_5: 0.9772\n",
      "Epoch 5/15\n",
      "62/62 [==============================] - 146s 2s/step - loss: 0.1656 - accuracy: 0.9452 - recall_5: 0.9660 - val_loss: 0.2943 - val_accuracy: 0.8731 - val_recall_5: 0.8294\n",
      "Epoch 6/15\n",
      "62/62 [==============================] - 140s 2s/step - loss: 0.3132 - accuracy: 0.9478 - recall_5: 0.9657 - val_loss: 0.1373 - val_accuracy: 0.9511 - val_recall_5: 0.9369\n",
      "Epoch 7/15\n",
      "62/62 [==============================] - 145s 2s/step - loss: 0.1138 - accuracy: 0.9602 - recall_5: 0.9753 - val_loss: 0.1051 - val_accuracy: 0.9664 - val_recall_5: 0.9679\n",
      "Epoch 8/15\n",
      "62/62 [==============================] - 146s 2s/step - loss: 0.1443 - accuracy: 0.9495 - recall_5: 0.9654 - val_loss: 0.1069 - val_accuracy: 0.9641 - val_recall_5: 0.9731\n",
      "Epoch 9/15\n",
      "62/62 [==============================] - 144s 2s/step - loss: 0.1202 - accuracy: 0.9582 - recall_5: 0.9712 - val_loss: 0.1031 - val_accuracy: 0.9671 - val_recall_5: 0.9814\n",
      "Epoch 10/15\n",
      "62/62 [==============================] - 144s 2s/step - loss: 0.1247 - accuracy: 0.9582 - recall_5: 0.9726 - val_loss: 0.1091 - val_accuracy: 0.9625 - val_recall_5: 0.9628\n",
      "Epoch 11/15\n",
      "62/62 [==============================] - 142s 2s/step - loss: 0.0995 - accuracy: 0.9656 - recall_5: 0.9757 - val_loss: 0.0975 - val_accuracy: 0.9709 - val_recall_5: 0.9824\n",
      "Epoch 12/15\n",
      "62/62 [==============================] - 143s 2s/step - loss: 0.0856 - accuracy: 0.9707 - recall_5: 0.9791 - val_loss: 0.1569 - val_accuracy: 0.9518 - val_recall_5: 0.9897\n",
      "Epoch 13/15\n",
      "62/62 [==============================] - 153s 2s/step - loss: 0.0805 - accuracy: 0.9725 - recall_5: 0.9794 - val_loss: 0.0985 - val_accuracy: 0.9687 - val_recall_5: 0.9679\n",
      "Epoch 14/15\n",
      "62/62 [==============================] - 156s 3s/step - loss: 0.2876 - accuracy: 0.9702 - recall_5: 0.9808 - val_loss: 0.1165 - val_accuracy: 0.9625 - val_recall_5: 0.9535\n",
      "Epoch 15/15\n",
      "62/62 [==============================] - 148s 2s/step - loss: 0.0797 - accuracy: 0.9684 - recall_5: 0.9784 - val_loss: 0.0957 - val_accuracy: 0.9687 - val_recall_5: 0.9721\n"
     ]
    }
   ],
   "source": [
    "history4 = model4.fit(full_train_images, full_train_y, epochs = 15, batch_size = batch_size, validation_split=.25)"
   ]
  },
  {
   "cell_type": "code",
   "execution_count": 40,
   "metadata": {},
   "outputs": [
    {
     "data": {
      "text/plain": [
       "{'validation_data': None,\n",
       " 'model': <tensorflow.python.keras.engine.sequential.Sequential at 0x24f40c4ed00>,\n",
       " '_chief_worker_only': None,\n",
       " '_supports_tf_logs': False,\n",
       " 'history': {'loss': [0.5796013474464417,\n",
       "   0.38365522027015686,\n",
       "   0.32276445627212524,\n",
       "   0.21237385272979736,\n",
       "   0.1655960977077484,\n",
       "   0.31321632862091064,\n",
       "   0.113788902759552,\n",
       "   0.14431077241897583,\n",
       "   0.12017685174942017,\n",
       "   0.1246732547879219,\n",
       "   0.09951247274875641,\n",
       "   0.0855959877371788,\n",
       "   0.08045664429664612,\n",
       "   0.28758499026298523,\n",
       "   0.07965467870235443],\n",
       "  'accuracy': [0.7581549286842346,\n",
       "   0.8687563538551331,\n",
       "   0.9217634797096252,\n",
       "   0.9276248812675476,\n",
       "   0.9452089667320251,\n",
       "   0.947757363319397,\n",
       "   0.9602446556091309,\n",
       "   0.9495412707328796,\n",
       "   0.9582059383392334,\n",
       "   0.9582059383392334,\n",
       "   0.9655963182449341,\n",
       "   0.9706931710243225,\n",
       "   0.9724770784378052,\n",
       "   0.9701834917068481,\n",
       "   0.9683995842933655],\n",
       "  'recall_5': [0.8827160596847534,\n",
       "   0.9128943681716919,\n",
       "   0.9550754427909851,\n",
       "   0.9567901492118835,\n",
       "   0.9660493731498718,\n",
       "   0.965706467628479,\n",
       "   0.9753086566925049,\n",
       "   0.9653635025024414,\n",
       "   0.9711934328079224,\n",
       "   0.9725651741027832,\n",
       "   0.9756515622138977,\n",
       "   0.9790809154510498,\n",
       "   0.9794238805770874,\n",
       "   0.9807956218719482,\n",
       "   0.9783950448036194],\n",
       "  'val_loss': [0.35322824120521545,\n",
       "   0.30537882447242737,\n",
       "   0.1073431670665741,\n",
       "   0.11924786865711212,\n",
       "   0.29427841305732727,\n",
       "   0.1372670978307724,\n",
       "   0.1050914004445076,\n",
       "   0.10693836212158203,\n",
       "   0.10308213531970978,\n",
       "   0.10914545506238937,\n",
       "   0.0974503830075264,\n",
       "   0.15686635673046112,\n",
       "   0.09849721938371658,\n",
       "   0.11645238101482391,\n",
       "   0.09571396559476852],\n",
       "  'val_accuracy': [0.8333333134651184,\n",
       "   0.9044342637062073,\n",
       "   0.9602446556091309,\n",
       "   0.9625382423400879,\n",
       "   0.8730886578559875,\n",
       "   0.9510703086853027,\n",
       "   0.966360867023468,\n",
       "   0.964067280292511,\n",
       "   0.9671253561973572,\n",
       "   0.9625382423400879,\n",
       "   0.9709480404853821,\n",
       "   0.9518348574638367,\n",
       "   0.968654453754425,\n",
       "   0.9625382423400879,\n",
       "   0.968654453754425],\n",
       "  'val_recall_5': [0.998965859413147,\n",
       "   0.9089968800544739,\n",
       "   0.9731127023696899,\n",
       "   0.9772492051124573,\n",
       "   0.8293691873550415,\n",
       "   0.936918318271637,\n",
       "   0.9679421186447144,\n",
       "   0.9731127023696899,\n",
       "   0.9813857078552246,\n",
       "   0.962771475315094,\n",
       "   0.9824198484420776,\n",
       "   0.9896587133407593,\n",
       "   0.9679421186447144,\n",
       "   0.9534643292427063,\n",
       "   0.9720786213874817]},\n",
       " 'params': {'verbose': 1, 'epochs': 15, 'steps': 62},\n",
       " 'epoch': [0, 1, 2, 3, 4, 5, 6, 7, 8, 9, 10, 11, 12, 13, 14]}"
      ]
     },
     "execution_count": 40,
     "metadata": {},
     "output_type": "execute_result"
    }
   ],
   "source": [
    "history3.__dict__"
   ]
  },
  {
   "cell_type": "code",
   "execution_count": 41,
   "metadata": {},
   "outputs": [],
   "source": [
    "model_epochs4 = history4.epoch\n",
    "model_recall_train4 = history4.history['recall_5']\n",
    "model_recall_val4 = history4.history['val_recall_5']\n",
    "model_accuracy_train4 = history4.history['accuracy']\n",
    "model_accuracy_val4 = history4.history['val_accuracy']\n",
    "model_loss_train4 = history4.history['loss']\n",
    "model_loss_val4 = history4.history['val_loss']"
   ]
  },
  {
   "cell_type": "code",
   "execution_count": 42,
   "metadata": {},
   "outputs": [
    {
     "data": {
      "image/png": "[encoded data removed]",
      "text/plain": [
       "<Figure size 576x432 with 1 Axes>"
      ]
     },
     "metadata": {
      "needs_background": "light"
     },
     "output_type": "display_data"
    }
   ],
   "source": [
    "fig, ax = plt.subplots(figsize = (8,6))\n",
    "\n",
    "ax.plot(model_epochs4, model_accuracy_train4, label = 'Training Accuracy')\n",
    "ax.plot(model_epochs4, model_accuracy_val4, linestyle = '--', label = 'Validation Accuracy')\n",
    "ax.set_xlabel(\"Epochs\")\n",
    "ax.set_ylabel(\"Accuracy\")\n",
    "plt.legend();"
   ]
  },
  {
   "cell_type": "code",
   "execution_count": 43,
   "metadata": {},
   "outputs": [
    {
     "data": {
      "image/png": "[encoded data removed]",
      "text/plain": [
       "<Figure size 576x432 with 1 Axes>"
      ]
     },
     "metadata": {
      "needs_background": "light"
     },
     "output_type": "display_data"
    }
   ],
   "source": [
    "fig, ax = plt.subplots(figsize = (8,6))\n",
    "\n",
    "ax.plot(model_epochs4, model_recall_train4, label = 'Training Recall')\n",
    "ax.plot(model_epochs4, model_recall_val4, linestyle = '--', label = 'Validation Recall')\n",
    "ax.set_xlabel(\"Epochs\")\n",
    "ax.set_ylabel(\"Recall\")\n",
    "plt.legend();"
   ]
  },
  {
   "cell_type": "code",
   "execution_count": 44,
   "metadata": {},
   "outputs": [
    {
     "data": {
      "image/png": "[encoded data removed]",
      "text/plain": [
       "<Figure size 576x432 with 1 Axes>"
      ]
     },
     "metadata": {
      "needs_background": "light"
     },
     "output_type": "display_data"
    }
   ],
   "source": [
    "fig, ax = plt.subplots(figsize = (8,6))\n",
    "\n",
    "ax.plot(model_epochs4, model_loss_train4, label = 'Training Loss')\n",
    "ax.plot(model_epochs4, model_loss_val4, linestyle = '--', label = 'Validation Loss')\n",
    "ax.set_xlabel(\"Epochs\")\n",
    "ax.set_ylabel(\"Recall\")\n",
    "plt.legend();"
   ]
  },
  {
   "cell_type": "code",
   "execution_count": 45,
   "metadata": {},
   "outputs": [
    {
     "name": "stdout",
     "output_type": "stream",
     "text": [
      "164/164 [==============================] - 40s 245ms/step - loss: 0.0639 - accuracy: 0.9763 - recall_5: 0.9753\n"
     ]
    }
   ],
   "source": [
    "full_results = model4.evaluate(full_train_images, full_train_y)"
   ]
  },
  {
   "cell_type": "code",
   "execution_count": 46,
   "metadata": {},
   "outputs": [
    {
     "name": "stdout",
     "output_type": "stream",
     "text": [
      "WARNING:tensorflow:From <ipython-input-46-53dfae070f2b>:1: Model.predict_generator (from tensorflow.python.keras.engine.training) is deprecated and will be removed in a future version.\n",
      "Instructions for updating:\n",
      "Please use Model.predict, which supports generators.\n"
     ]
    }
   ],
   "source": [
    "y_train_preds = model4.predict_generator(full_train_images)\n",
    "y_train_pred = np.round(y_train_preds).astype(int)"
   ]
  },
  {
   "cell_type": "code",
   "execution_count": 47,
   "metadata": {},
   "outputs": [],
   "source": [
    "y_true = full_train_y.astype(int)"
   ]
  },
  {
   "cell_type": "code",
   "execution_count": 48,
   "metadata": {},
   "outputs": [
    {
     "data": {
      "text/plain": [
       "array([[1321,   28],\n",
       "       [  96, 3787]], dtype=int64)"
      ]
     },
     "execution_count": 48,
     "metadata": {},
     "output_type": "execute_result"
    }
   ],
   "source": [
    "from sklearn.metrics import plot_confusion_matrix, confusion_matrix\n",
    "\n",
    "confusion_matrix(y_true, y_train_pred)"
   ]
  },
  {
   "cell_type": "markdown",
   "metadata": {},
   "source": [
    "## CNN 4 - further fiddling - tanh activation"
   ]
  },
  {
   "cell_type": "markdown",
   "metadata": {},
   "source": [
    "There was a marked decrease in loss as the number of epochs was increased. We began with 10, saw success with 15, and increased to 20."
   ]
  },
  {
   "cell_type": "code",
   "execution_count": 36,
   "metadata": {},
   "outputs": [],
   "source": [
    "model5 = models.Sequential()\n",
    "model5.add(layers.Conv2D(32, (4, 4), activation='tanh',\n",
    "                        input_shape=(224 , 224, 1)))\n",
    "model5.add(layers.MaxPooling2D((2, 2)))\n",
    "\n",
    "model5.add(layers.Conv2D(32, (4, 4), activation='relu'))\n",
    "model5.add(layers.MaxPooling2D((2, 2), padding = 'same'))\n",
    "\n",
    "model5.add(LeakyReLU())\n",
    "model5.add(layers.MaxPooling2D((2, 2), padding = 'same'))\n",
    "\n",
    "model5.add(Dropout(.5))\n",
    "model5.add(layers.Flatten())\n",
    "model5.add(layers.Dense(64, activation='relu'))\n",
    "model5.add(layers.Dense(1, activation='sigmoid'))\n",
    "\n",
    "model5.compile(loss='binary_crossentropy',\n",
    "              optimizer='rmsprop',\n",
    "              metrics=(['accuracy'], metrics.Recall()))"
   ]
  },
  {
   "cell_type": "code",
   "execution_count": 37,
   "metadata": {},
   "outputs": [
    {
     "name": "stdout",
     "output_type": "stream",
     "text": [
      "Epoch 1/20\n",
      "62/62 [==============================] - 113s 2s/step - loss: 0.6421 - accuracy: 0.7355 - recall_2: 0.9904 - val_loss: 0.4544 - val_accuracy: 0.7485 - val_recall_2: 1.0000\n",
      "Epoch 2/20\n",
      "62/62 [==============================] - 125s 2s/step - loss: 0.3392 - accuracy: 0.8509 - recall_2: 0.9842 - val_loss: 0.3526 - val_accuracy: 0.9090 - val_recall_2: 0.8856\n",
      "Epoch 3/20\n",
      "62/62 [==============================] - 126s 2s/step - loss: 0.2928 - accuracy: 0.9106 - recall_2: 0.9707 - val_loss: 0.2439 - val_accuracy: 0.9503 - val_recall_2: 0.9704\n",
      "Epoch 4/20\n",
      "62/62 [==============================] - 125s 2s/step - loss: 0.2620 - accuracy: 0.9235 - recall_2: 0.9731 - val_loss: 0.2351 - val_accuracy: 0.9457 - val_recall_2: 0.9867\n",
      "Epoch 5/20\n",
      "62/62 [==============================] - 130s 2s/step - loss: 0.2256 - accuracy: 0.9493 - recall_2: 0.9759 - val_loss: 0.2598 - val_accuracy: 0.9388 - val_recall_2: 0.9224\n",
      "Epoch 6/20\n",
      "62/62 [==============================] - 128s 2s/step - loss: 0.2236 - accuracy: 0.9495 - recall_2: 0.9756 - val_loss: 0.2217 - val_accuracy: 0.9304 - val_recall_2: 0.9847\n",
      "Epoch 7/20\n",
      "62/62 [==============================] - 130s 2s/step - loss: 0.2045 - accuracy: 0.9557 - recall_2: 0.9745 - val_loss: 0.1928 - val_accuracy: 0.9602 - val_recall_2: 0.9622\n",
      "Epoch 8/20\n",
      "62/62 [==============================] - 126s 2s/step - loss: 0.2067 - accuracy: 0.9602 - recall_2: 0.9811 - val_loss: 0.1867 - val_accuracy: 0.9694 - val_recall_2: 0.9826\n",
      "Epoch 9/20\n",
      "62/62 [==============================] - 123s 2s/step - loss: 0.1802 - accuracy: 0.9676 - recall_2: 0.9787 - val_loss: 0.1733 - val_accuracy: 0.9694 - val_recall_2: 0.9867\n",
      "Epoch 10/20\n",
      "62/62 [==============================] - 125s 2s/step - loss: 0.1730 - accuracy: 0.9722 - recall_2: 0.9814 - val_loss: 0.1781 - val_accuracy: 0.9702 - val_recall_2: 0.9928\n",
      "Epoch 11/20\n",
      "62/62 [==============================] - 124s 2s/step - loss: 0.1694 - accuracy: 0.9692 - recall_2: 0.9814 - val_loss: 0.1672 - val_accuracy: 0.9702 - val_recall_2: 0.9877\n",
      "Epoch 12/20\n",
      "62/62 [==============================] - 122s 2s/step - loss: 0.1587 - accuracy: 0.9732 - recall_2: 0.9821 - val_loss: 0.1598 - val_accuracy: 0.9709 - val_recall_2: 0.9755\n",
      "Epoch 13/20\n",
      "62/62 [==============================] - 128s 2s/step - loss: 0.1508 - accuracy: 0.9732 - recall_2: 0.9807 - val_loss: 0.1569 - val_accuracy: 0.9694 - val_recall_2: 0.9653\n",
      "Epoch 14/20\n",
      "62/62 [==============================] - 121s 2s/step - loss: 0.1415 - accuracy: 0.9783 - recall_2: 0.9845 - val_loss: 0.2533 - val_accuracy: 0.9381 - val_recall_2: 0.9939\n",
      "Epoch 15/20\n",
      "62/62 [==============================] - 121s 2s/step - loss: 0.1355 - accuracy: 0.9763 - recall_2: 0.9828 - val_loss: 0.1411 - val_accuracy: 0.9801 - val_recall_2: 0.9785\n",
      "Epoch 16/20\n",
      "62/62 [==============================] - 121s 2s/step - loss: 0.1248 - accuracy: 0.9822 - recall_2: 0.9855 - val_loss: 0.1610 - val_accuracy: 0.9625 - val_recall_2: 0.9632\n",
      "Epoch 17/20\n",
      "62/62 [==============================] - 123s 2s/step - loss: 0.1266 - accuracy: 0.9778 - recall_2: 0.9811 - val_loss: 0.1354 - val_accuracy: 0.9755 - val_recall_2: 0.9755\n",
      "Epoch 18/20\n",
      "62/62 [==============================] - 125s 2s/step - loss: 0.1185 - accuracy: 0.9819 - recall_2: 0.9879 - val_loss: 0.1363 - val_accuracy: 0.9740 - val_recall_2: 0.9775\n",
      "Epoch 19/20\n",
      "62/62 [==============================] - 126s 2s/step - loss: 0.1114 - accuracy: 0.9822 - recall_2: 0.9848 - val_loss: 0.1314 - val_accuracy: 0.9755 - val_recall_2: 0.9765\n",
      "Epoch 20/20\n",
      "62/62 [==============================] - 127s 2s/step - loss: 0.1102 - accuracy: 0.9801 - recall_2: 0.9831 - val_loss: 0.1315 - val_accuracy: 0.9778 - val_recall_2: 0.9867\n"
     ]
    }
   ],
   "source": [
    "history5 = model5.fit(full_train_images, full_train_y, epochs = 20, batch_size = batch_size, validation_split=.25)"
   ]
  },
  {
   "cell_type": "code",
   "execution_count": 39,
   "metadata": {},
   "outputs": [
    {
     "name": "stdout",
     "output_type": "stream",
     "text": [
      "164/164 [==============================] - 27s 167ms/step - loss: 0.1033 - accuracy: 0.9864 - recall_2: 0.9902\n"
     ]
    }
   ],
   "source": [
    "train_results5 = model5.evaluate(full_train_images, full_train_y)"
   ]
  },
  {
   "cell_type": "code",
   "execution_count": 41,
   "metadata": {},
   "outputs": [],
   "source": [
    "y_preds = model5.predict(full_train_images)\n",
    "y_pred = np.round(y_preds).astype(int)"
   ]
  },
  {
   "cell_type": "code",
   "execution_count": 42,
   "metadata": {},
   "outputs": [],
   "source": [
    "y_true = full_train_y.astype(int)"
   ]
  },
  {
   "cell_type": "code",
   "execution_count": 43,
   "metadata": {},
   "outputs": [
    {
     "data": {
      "text/plain": [
       "array([[1316,   33],\n",
       "       [  38, 3845]], dtype=int64)"
      ]
     },
     "execution_count": 43,
     "metadata": {},
     "output_type": "execute_result"
    }
   ],
   "source": [
    "confusion_matrix(y_true, y_pred)"
   ]
  },
  {
   "cell_type": "code",
   "execution_count": 44,
   "metadata": {},
   "outputs": [
    {
     "data": {
      "text/plain": [
       "{'validation_data': None,\n",
       " 'model': <tensorflow.python.keras.engine.sequential.Sequential at 0x29836a3d490>,\n",
       " '_chief_worker_only': None,\n",
       " '_supports_tf_logs': False,\n",
       " 'history': {'loss': [0.6421161890029907,\n",
       "   0.339205801486969,\n",
       "   0.29283446073532104,\n",
       "   0.26197293400764465,\n",
       "   0.2256162017583847,\n",
       "   0.22360895574092865,\n",
       "   0.20454342663288116,\n",
       "   0.20671892166137695,\n",
       "   0.18021263182163239,\n",
       "   0.17300152778625488,\n",
       "   0.16940145194530487,\n",
       "   0.1587153971195221,\n",
       "   0.15080338716506958,\n",
       "   0.14150382578372955,\n",
       "   0.13552847504615784,\n",
       "   0.12479431927204132,\n",
       "   0.12658049166202545,\n",
       "   0.1185205951333046,\n",
       "   0.11136357486248016,\n",
       "   0.11017226427793503],\n",
       "  'accuracy': [0.7354739904403687,\n",
       "   0.8509174585342407,\n",
       "   0.9105504751205444,\n",
       "   0.9235473871231079,\n",
       "   0.9492864608764648,\n",
       "   0.9495412707328796,\n",
       "   0.9556574821472168,\n",
       "   0.9602446556091309,\n",
       "   0.9676350951194763,\n",
       "   0.9722222089767456,\n",
       "   0.9691641330718994,\n",
       "   0.9732415676116943,\n",
       "   0.9732415676116943,\n",
       "   0.9783384203910828,\n",
       "   0.9762997031211853,\n",
       "   0.9821610450744629,\n",
       "   0.9778287410736084,\n",
       "   0.9819062352180481,\n",
       "   0.9821610450744629,\n",
       "   0.9801223278045654],\n",
       "  'recall_2': [0.9903581142425537,\n",
       "   0.9841597676277161,\n",
       "   0.9707300066947937,\n",
       "   0.9731404781341553,\n",
       "   0.975895345211029,\n",
       "   0.9755509495735168,\n",
       "   0.9745178818702698,\n",
       "   0.9810606241226196,\n",
       "   0.9786501526832581,\n",
       "   0.9814049601554871,\n",
       "   0.9814049601554871,\n",
       "   0.9820936918258667,\n",
       "   0.9807162284851074,\n",
       "   0.9845041036605835,\n",
       "   0.9827823638916016,\n",
       "   0.9855371713638306,\n",
       "   0.9810606241226196,\n",
       "   0.9879476428031921,\n",
       "   0.9848484992980957,\n",
       "   0.983126699924469],\n",
       "  'val_loss': [0.454427033662796,\n",
       "   0.3526448905467987,\n",
       "   0.2438824325799942,\n",
       "   0.23511479794979095,\n",
       "   0.2598152160644531,\n",
       "   0.22167041897773743,\n",
       "   0.19277462363243103,\n",
       "   0.1867256909608841,\n",
       "   0.17333592474460602,\n",
       "   0.17806118726730347,\n",
       "   0.16720667481422424,\n",
       "   0.15977373719215393,\n",
       "   0.156948521733284,\n",
       "   0.25333189964294434,\n",
       "   0.14110320806503296,\n",
       "   0.16095632314682007,\n",
       "   0.13543717563152313,\n",
       "   0.13625574111938477,\n",
       "   0.13138137757778168,\n",
       "   0.1315423548221588],\n",
       "  'val_accuracy': [0.7484709620475769,\n",
       "   0.9090213775634766,\n",
       "   0.9503058195114136,\n",
       "   0.9457186460494995,\n",
       "   0.9388379454612732,\n",
       "   0.930428147315979,\n",
       "   0.9602446556091309,\n",
       "   0.9694189429283142,\n",
       "   0.9694189429283142,\n",
       "   0.9701834917068481,\n",
       "   0.9701834917068481,\n",
       "   0.9709480404853821,\n",
       "   0.9694189429283142,\n",
       "   0.9380733966827393,\n",
       "   0.9801223278045654,\n",
       "   0.9625382423400879,\n",
       "   0.9755351543426514,\n",
       "   0.9740061163902283,\n",
       "   0.9755351543426514,\n",
       "   0.9778287410736084],\n",
       "  'val_recall_2': [1.0,\n",
       "   0.8855975270271301,\n",
       "   0.9703779220581055,\n",
       "   0.9867211580276489,\n",
       "   0.9223697781562805,\n",
       "   0.9846782684326172,\n",
       "   0.9622063040733337,\n",
       "   0.9826353192329407,\n",
       "   0.9867211580276489,\n",
       "   0.9928498268127441,\n",
       "   0.9877426028251648,\n",
       "   0.9754852056503296,\n",
       "   0.9652706980705261,\n",
       "   0.99387127161026,\n",
       "   0.9785495400428772,\n",
       "   0.9632278084754944,\n",
       "   0.9754852056503296,\n",
       "   0.9775280952453613,\n",
       "   0.9765066504478455,\n",
       "   0.9867211580276489]},\n",
       " 'params': {'verbose': 1, 'epochs': 20, 'steps': 62},\n",
       " 'epoch': [0,\n",
       "  1,\n",
       "  2,\n",
       "  3,\n",
       "  4,\n",
       "  5,\n",
       "  6,\n",
       "  7,\n",
       "  8,\n",
       "  9,\n",
       "  10,\n",
       "  11,\n",
       "  12,\n",
       "  13,\n",
       "  14,\n",
       "  15,\n",
       "  16,\n",
       "  17,\n",
       "  18,\n",
       "  19]}"
      ]
     },
     "execution_count": 44,
     "metadata": {},
     "output_type": "execute_result"
    }
   ],
   "source": [
    "history5.__dict__"
   ]
  },
  {
   "cell_type": "code",
   "execution_count": 45,
   "metadata": {},
   "outputs": [],
   "source": [
    "model_epochs5 = history5.epoch\n",
    "model_recall_train5 = history5.history['recall_2']\n",
    "model_recall_val5 = history5.history['val_recall_2']\n",
    "model_accuracy_train5 = history5.history['accuracy']\n",
    "model_accuracy_val5 = history5.history['val_accuracy']\n",
    "model_loss_train5 = history5.history['loss']\n",
    "model_loss_val5 = history5.history['val_loss']"
   ]
  },
  {
   "cell_type": "code",
   "execution_count": 46,
   "metadata": {},
   "outputs": [
    {
     "data": {
      "image/png": "[encoded data removed]",
      "text/plain": [
       "<Figure size 576x432 with 1 Axes>"
      ]
     },
     "metadata": {
      "needs_background": "light"
     },
     "output_type": "display_data"
    }
   ],
   "source": [
    "fig, ax = plt.subplots(figsize = (8,6))\n",
    "\n",
    "ax.plot(model_epochs5, model_accuracy_train5, label = 'Training Accuracy')\n",
    "ax.plot(model_epochs5, model_accuracy_val5, linestyle = '--', label = 'Validation Accuracy')\n",
    "ax.set_xlabel(\"Epochs\")\n",
    "ax.set_ylabel(\"Accuracy\")\n",
    "plt.legend();"
   ]
  },
  {
   "cell_type": "code",
   "execution_count": 47,
   "metadata": {},
   "outputs": [
    {
     "data": {
      "image/png": "[encoded data removed]",
      "text/plain": [
       "<Figure size 576x432 with 1 Axes>"
      ]
     },
     "metadata": {
      "needs_background": "light"
     },
     "output_type": "display_data"
    }
   ],
   "source": [
    "fig, ax = plt.subplots(figsize = (8,6))\n",
    "\n",
    "ax.plot(model_epochs5, model_recall_train5, label = 'Training Recall')\n",
    "ax.plot(model_epochs5, model_recall_val5, linestyle = '--', label = 'Validation Recall')\n",
    "ax.set_xlabel(\"Epochs\")\n",
    "ax.set_ylabel(\"Recall\")\n",
    "plt.legend();"
   ]
  },
  {
   "cell_type": "code",
   "execution_count": 49,
   "metadata": {},
   "outputs": [
    {
     "data": {
      "image/png": "[encoded data removed]",
      "text/plain": [
       "<Figure size 576x432 with 1 Axes>"
      ]
     },
     "metadata": {
      "needs_background": "light"
     },
     "output_type": "display_data"
    }
   ],
   "source": [
    "fig, ax = plt.subplots(figsize = (8,6))\n",
    "\n",
    "ax.plot(model_epochs5, model_loss_train5, label = 'Training Loss')\n",
    "ax.plot(model_epochs5, model_loss_val5, linestyle = '--', label = 'Validation Loss')\n",
    "ax.set_xlabel(\"Epochs\")\n",
    "ax.set_ylabel(\"Loss\")\n",
    "plt.legend();"
   ]
  },
  {
   "cell_type": "code",
   "execution_count": 50,
   "metadata": {},
   "outputs": [
    {
     "name": "stdout",
     "output_type": "stream",
     "text": [
      "20/20 [==============================] - 3s 139ms/step - loss: 1.8969 - accuracy: 0.7340 - recall_2: 0.9949\n"
     ]
    }
   ],
   "source": [
    "test_results = model5.evaluate(test_images, test_y)"
   ]
  },
  {
   "cell_type": "code",
   "execution_count": 51,
   "metadata": {},
   "outputs": [
    {
     "data": {
      "text/plain": [
       "[1.896947979927063, 0.7339743375778198, 0.9948717951774597]"
      ]
     },
     "execution_count": 51,
     "metadata": {},
     "output_type": "execute_result"
    }
   ],
   "source": [
    "test_results"
   ]
  },
  {
   "cell_type": "code",
   "execution_count": 52,
   "metadata": {},
   "outputs": [],
   "source": [
    "y_test_preds = model5.predict(test_images)\n",
    "y_test_pred = np.round(y_test_preds).astype(int)"
   ]
  },
  {
   "cell_type": "code",
   "execution_count": 53,
   "metadata": {},
   "outputs": [],
   "source": [
    "y_test_true = test_y.astype(int)"
   ]
  },
  {
   "cell_type": "code",
   "execution_count": 54,
   "metadata": {},
   "outputs": [
    {
     "data": {
      "text/plain": [
       "array([[ 70, 164],\n",
       "       [  2, 388]], dtype=int64)"
      ]
     },
     "execution_count": 54,
     "metadata": {},
     "output_type": "execute_result"
    }
   ],
   "source": [
    "confusion_matrix(y_test_true, y_test_pred)"
   ]
  },
  {
   "cell_type": "code",
   "execution_count": 55,
   "metadata": {},
   "outputs": [],
   "source": [
    "from sklearn.metrics import f1_score"
   ]
  },
  {
   "cell_type": "code",
   "execution_count": 56,
   "metadata": {
    "scrolled": true
   },
   "outputs": [
    {
     "data": {
      "text/plain": [
       "0.8237791932059448"
      ]
     },
     "execution_count": 56,
     "metadata": {},
     "output_type": "execute_result"
    }
   ],
   "source": [
    "f1_score(y_test_true, y_test_pred)"
   ]
  },
  {
   "cell_type": "markdown",
   "metadata": {},
   "source": [
    "## Application of Augmentation(maybe) and Transfer Learning"
   ]
  },
  {
   "cell_type": "markdown",
   "metadata": {},
   "source": [
    "The test performed well in regard to recall, but did struggle with accuracy and a high rate of false positives. While in the scope of this problem this is not as much of an issue, a stronger model would help reduce the cost of misdiagnosis to healthcare companies as well as the emotional toll of repeated hospital visits to patients.\n",
    "\n",
    "We have chosen to first apply a transfer learning method by using a convolutional base trained on the ImageNet dataset of over 1.2 million images. Because the images we are classifying are binary, we will set `include_top` to `False` as the top few layers of this model will not be useful for the task.  \n",
    "We selected using the EfficientNet model due to its relatively low weight and high performance."
   ]
  },
  {
   "cell_type": "code",
   "execution_count": 70,
   "metadata": {},
   "outputs": [],
   "source": [
    "from tensorflow.keras.applications import EfficientNetB0"
   ]
  },
  {
   "cell_type": "markdown",
   "metadata": {},
   "source": [
    "The images had to be converted into an rgb-esque format with 3 channels for them to work with the convolutional base's architecture, so we generated a new dataset to fit the requirement."
   ]
  },
  {
   "cell_type": "code",
   "execution_count": 76,
   "metadata": {},
   "outputs": [
    {
     "name": "stdout",
     "output_type": "stream",
     "text": [
      "Found 624 images belonging to 2 classes.\n",
      "Found 5232 images belonging to 2 classes.\n"
     ]
    }
   ],
   "source": [
    "test_gen_asrgb = ImageDataGenerator(rescale = 1/255.).flow_from_directory(test_path,\n",
    "                                            target_size=(224, 224),\n",
    "                                            batch_size=624,\n",
    "                                            color_mode = 'rgb',                        \n",
    "                                            class_mode='binary')\n",
    "\n",
    "##Image generator object for full training folder\n",
    "full_train_gen_asrgb = ImageDataGenerator(rescale = 1/255.).flow_from_directory(full_train_path,\n",
    "                                            target_size=(224, 224),\n",
    "                                            batch_size=5232,\n",
    "                                            color_mode = 'rgb',                        \n",
    "                                            class_mode='binary')"
   ]
  },
  {
   "cell_type": "code",
   "execution_count": 78,
   "metadata": {},
   "outputs": [],
   "source": [
    "rgb_test_images, rgb_test_labels = next(test_gen_asrgb)\n",
    "rgb_train_images, rgb_train_labels = next(full_train_gen_asrgb)"
   ]
  },
  {
   "cell_type": "code",
   "execution_count": 79,
   "metadata": {},
   "outputs": [
    {
     "name": "stdout",
     "output_type": "stream",
     "text": [
      "test images as RGB shape: (624, 224, 224, 3), test labels as RGB shape: (624,)\n",
      "train images as RGB shape: (5232, 224, 224, 3), train labels as RGB shape: (5232,)\n"
     ]
    }
   ],
   "source": [
    "print(f'test images as RGB shape: {rgb_test_images.shape}, test labels as RGB shape: {rgb_test_labels.shape}')\n",
    "print(f'train images as RGB shape: {rgb_train_images.shape}, train labels as RGB shape: {rgb_train_labels.shape}')"
   ]
  },
  {
   "cell_type": "code",
   "execution_count": 80,
   "metadata": {},
   "outputs": [
    {
     "name": "stdout",
     "output_type": "stream",
     "text": [
      "train labels shape: (5232, 1), test labels shape: (624, 1)\n"
     ]
    }
   ],
   "source": [
    "train_y_rgb = np.reshape(rgb_train_labels[:], (5232,1))\n",
    "test_y_rgb = np.reshape(rgb_test_labels[:], (624,1))\n",
    "\n",
    "print(f'train labels shape: {train_y_rgb.shape}, test labels shape: {test_y_rgb.shape}')"
   ]
  },
  {
   "cell_type": "code",
   "execution_count": 81,
   "metadata": {},
   "outputs": [],
   "source": [
    "conv_base = EfficientNetB0(include_top = False, \n",
    "                           weights = 'imagenet',\n",
    "                           classes = 2)"
   ]
  },
  {
   "cell_type": "code",
   "execution_count": 85,
   "metadata": {},
   "outputs": [],
   "source": [
    "transfer_model = models.Sequential()\n",
    "transfer_model.add(conv_base)\n",
    "transfer_model.add(layers.GlobalMaxPooling2D(name = 'gap'))\n",
    "\n",
    "transfer_model.add(LeakyReLU())\n",
    "transfer_model.add(Dropout(.3))\n",
    "transfer_model.add(layers.Flatten())\n",
    "transfer_model.add(layers.Dense(64, activation='relu'))\n",
    "transfer_model.add(layers.Dense(1, activation='sigmoid'))##the layers on top are similar to the final scratch model's layers"
   ]
  },
  {
   "cell_type": "code",
   "execution_count": 86,
   "metadata": {},
   "outputs": [],
   "source": [
    "transfer_model.compile(loss='binary_crossentropy',\n",
    "              optimizer='rmsprop',\n",
    "              metrics=(['accuracy'], metrics.Recall()))\n",
    "\n",
    "es = EarlyStopping(monitor='val_loss', mode='min', verbose=1, patience = 3)\n",
    "##instantiating Early Stopping with a 3-epoch tolerance for minimizing the validation loss\n",
    "##each epoch takes approximately 10 minutes to run, so this model would take approximately 2 hours to complete"
   ]
  },
  {
   "cell_type": "code",
   "execution_count": 87,
   "metadata": {},
   "outputs": [
    {
     "name": "stdout",
     "output_type": "stream",
     "text": [
      "Epoch 1/12\n",
      "62/62 [==============================] - 961s 15s/step - loss: 0.1728 - accuracy: 0.9495 - recall_5: 0.9627 - val_loss: 2.6907 - val_accuracy: 0.7332 - val_recall_5: 1.0000\n",
      "Epoch 2/12\n",
      "62/62 [==============================] - 967s 16s/step - loss: 0.0948 - accuracy: 0.9689 - recall_5: 0.9785 - val_loss: 2.8890 - val_accuracy: 0.7332 - val_recall_5: 1.0000\n",
      "Epoch 3/12\n",
      "62/62 [==============================] - 957s 15s/step - loss: 0.0687 - accuracy: 0.9783 - recall_5: 0.9853 - val_loss: 3.1883 - val_accuracy: 0.7332 - val_recall_5: 1.0000\n",
      "Epoch 4/12\n",
      "62/62 [==============================] - 924s 15s/step - loss: 0.0424 - accuracy: 0.9873 - recall_5: 0.9908 - val_loss: 4.4749 - val_accuracy: 0.7332 - val_recall_5: 1.0000\n",
      "Epoch 00004: early stopping\n"
     ]
    }
   ],
   "source": [
    "conv_base_history = transfer_model.fit(rgb_train_images, train_y_rgb, epochs = 12, batch_size = batch_size, validation_split=.25, callbacks = [es])"
   ]
  },
  {
   "cell_type": "code",
   "execution_count": null,
   "metadata": {},
   "outputs": [],
   "source": []
  },
  {
   "cell_type": "markdown",
   "metadata": {},
   "source": [
    "## Using LIME to interpret meaningful parts of images"
   ]
  },
  {
   "cell_type": "code",
   "execution_count": null,
   "metadata": {},
   "outputs": [],
   "source": [
    "#pip install lime"
   ]
  },
  {
   "cell_type": "code",
   "execution_count": null,
   "metadata": {},
   "outputs": [],
   "source": [
    "import os\n",
    "import keras\n",
    "from tensorflow.keras.applications import inception_v3 as inc_net\n",
    "from tensorflow.keras.preprocessing import image\n",
    "from keras.applications.imagenet_utils import decode_predictions\n",
    "from lime import lime_image\n",
    "import time\n",
    "from skimage.segmentation import mark_boundaries\n",
    "from skimage.io import imread\n",
    "\n",
    "path_list = []\n",
    "for pic in test_dir_pneumonia:\n",
    "    #print(pic)\n",
    "    path_list.append('../data/chest_xray/test/PNEUMONIA/' + pic)\n",
    "#creates a list of the file path foreach image in pneumonia\n",
    "\n",
    "\n",
    "def transform_img_fn(path_list):\n",
    "    \"\"\"Takes in a list of file paths from images, loads the images, \n",
    "    transforms teh images adn outputs arrays fro these images\"\"\"\n",
    "    out = []\n",
    "    for img_path in path_list:\n",
    "        img = image.load_img(img_path, target_size=(224, 224, 3))\n",
    "        x = image.img_to_array(img)\n",
    "        x = np.expand_dims(x, axis=0)\n",
    "        x = np.divide(x, 255.0).astype('double')\n",
    "        out.append(x)\n",
    "    return np.vstack(out)\n",
    "\n",
    "X = transform_img_fn(path_list)\n",
    "#transforms all images and puts in list\n",
    "\n",
    "yhat_test = y_test_preds\n",
    "\n",
    "\n",
    "yhat_min = yhat_test == min(yhat_test)\n",
    "np.where (yhat_test ==  min(yhat_test))\n",
    "\n",
    "yhat_max = yhat_test == max(yhat_test)\n",
    "\n",
    "np.where (yhat_test ==  min(yhat_test)), np.where(yhat_test == max(yhat_test))\n",
    "#how to find hte minimum\n",
    "\n",
    "min_explainer = lime_image.LimeImageExplainer()\n",
    "\n",
    "max_explainer = lime_image.LimeImageExplainer()\n",
    "#instantiate explainer obj\n",
    "\n",
    "\n",
    "\n",
    "min_explanation = min_explainer.explain_instance (test_images[621], model5.predict, top_labels=5, hide_color=0, num_samples=1000)\n",
    "\n",
    "max_explanation = max_explainer.explain_instance (test_images[617], model5.predict, top_labels=5, hide_color=0, num_samples=1000)\n",
    "\n",
    "min_temp, min_mask = min_explanation.get_image_and_mask(min_explanation.top_labels[0], positive_only=True, num_features=5, hide_rest=False)\n",
    "plt.imshow(mark_boundaries(min_temp / 2 + 0.5, min_mask))\n",
    "\n",
    "\n",
    "max_temp, max_mask = max_explanation.get_image_and_mask(max_explanation.top_labels[0], positive_only=True, num_features=5, hide_rest=False)\n",
    "plt.imshow(mark_boundaries(max_temp / 2 + 0.5, max_mask))"
   ]
  }
 ],
 "metadata": {
  "kernelspec": {
   "display_name": "Python 3",
   "language": "python",
   "name": "python3"
  },
  "language_info": {
   "codemirror_mode": {
    "name": "ipython",
    "version": 3
   },
   "file_extension": ".py",
   "mimetype": "text/x-python",
   "name": "python",
   "nbconvert_exporter": "python",
   "pygments_lexer": "ipython3",
   "version": "3.8.5"
  }
 },
 "nbformat": 4,
 "nbformat_minor": 4
}
