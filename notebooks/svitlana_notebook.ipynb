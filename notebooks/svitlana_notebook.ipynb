{
 "cells": [
  {
   "cell_type": "code",
   "execution_count": 35,
   "metadata": {},
   "outputs": [],
   "source": [
    "import matplotlib.pyplot as plt\n",
    "%matplotlib inline\n",
    "import seaborn as sns\n",
    "import numpy as np\n",
    "from scipy import ndimage\n",
    "import pandas as pd\n",
    "\n",
    "from sklearn.metrics import plot_confusion_matrix, confusion_matrix, f1_score, accuracy_score, recall_score\n",
    "\n",
    "from tensorflow.keras import models, layers, metrics\n",
    "from tensorflow.keras.preprocessing.image import ImageDataGenerator, load_img, array_to_img, img_to_array\n",
    "\n",
    "from PIL import Image\n",
    "\n",
    "\n",
    "from tensorflow.keras import layers\n",
    "from tensorflow.keras.models import Sequential\n",
    "from tensorflow.keras.layers import Dense, Dropout, Flatten, BatchNormalization, \\\n",
    "Activation, Conv2D, MaxPooling2D, ZeroPadding2D, GlobalAveragePooling2D\n",
    "from tensorflow.keras.regularizers import l2\n",
    "from tensorflow.keras.optimizers import SGD\n",
    "from tensorflow.keras.wrappers import scikit_learn\n",
    "from tensorflow.keras.callbacks import EarlyStopping\n",
    "from keras.layers.advanced_activations import LeakyReLU\n",
    "\n",
    "import os"
   ]
  },
  {
   "cell_type": "code",
   "execution_count": 3,
   "metadata": {},
   "outputs": [],
   "source": [
    "base_dir='../data/chest_xray/'\n",
    "\n",
    "train_path = '../data/chest_xray/train'\n",
    "\n",
    "validation_path = '../data/chest_xray/val'\n",
    "\n",
    "test_path = '../data/chest_xray/test'\n",
    "\n",
    "full_train_path = '../data/chest_xray/full_train'\n",
    "\n",
    "##paths to different folders and types of data"
   ]
  },
  {
   "cell_type": "code",
   "execution_count": 4,
   "metadata": {},
   "outputs": [],
   "source": [
    "train_pneumonia=os.listdir('../data/chest_xray/train/PNEUMONIA/')\n",
    "train_normal=os.listdir('../data/chest_xray/train/NORMAL/')\n",
    "val_dir_normal=os.listdir('../data/chest_xray/val/NORMAL/')\n",
    "test_dir_normal=os.listdir('../data/chest_xray/test/NORMAL/')\n",
    "val_dir_pneumonia=os.listdir('../data/chest_xray/val/PNEUMONIA/')\n",
    "test_dir_pneumonia=os.listdir('../data/chest_xray/test/PNEUMONIA/')\n",
    "\n",
    "\n",
    "##trying out combining training and validation sets and using a validation ratio when fitting models\n",
    "full_train_pneumonia = os.listdir('../data/chest_xray/full_train/PNEUMONIA')\n",
    "full_train_normal = os.listdir('../data/chest_xray/full_train/NORMAL')\n",
    "\n",
    "\n",
    "##list object containing 'NORMAL' & 'PNEUMONIA'\n",
    "label_string = os.listdir('../data/chest_xray/train')"
   ]
  },
  {
   "cell_type": "code",
   "execution_count": 5,
   "metadata": {},
   "outputs": [],
   "source": [
    "# Greyscale distribution histogram - done, Jamie\n",
    "# Class distribution - heavily weighted towards positive class (pneumonia) - done, Jamie\n",
    "# Address class imbalance - incorporate flipped 0-class images - Rachel wrote a function for this\n",
    "# Mean values for negative and positive classes - Svitlana \n",
    "# Look for outliers\n",
    "# Look at subracting the pixel mean\n",
    "# Apply matrix transformations to further define images - \n",
    "# Data Augmentation - Svitlana will make an attempt"
   ]
  },
  {
   "cell_type": "code",
   "execution_count": 6,
   "metadata": {
    "scrolled": false
   },
   "outputs": [
    {
     "name": "stdout",
     "output_type": "stream",
     "text": [
      "Train set w/ pneumonia:  2144\n",
      "Train set normal:  699\n",
      "Validation set w/ pneumonia:  1739\n",
      "Validation set normal:  650\n",
      "Test set w/ pneumonia:  390\n",
      "Test set normal:  234\n",
      "Full training set w/pneumonia (combined w/validation):  3883\n",
      "Full training set normal (combined w/validation):  1349\n"
     ]
    }
   ],
   "source": [
    "print(\"Train set w/ pneumonia: \", len(train_pneumonia))\n",
    "print(\"Train set normal: \", len(train_normal))\n",
    "print(\"Validation set w/ pneumonia: \", len(val_dir_pneumonia))\n",
    "print(\"Validation set normal: \", len(val_dir_normal))\n",
    "print(\"Test set w/ pneumonia: \", len(test_dir_pneumonia))\n",
    "print(\"Test set normal: \", len(test_dir_normal))\n",
    "print(\"Full training set w/pneumonia (combined w/validation): \", len(full_train_pneumonia))\n",
    "print(\"Full training set normal (combined w/validation): \", len(full_train_normal))"
   ]
  },
  {
   "cell_type": "code",
   "execution_count": 7,
   "metadata": {},
   "outputs": [
    {
     "data": {
      "text/plain": [
       "(2843, 2389, 624, 5232)"
      ]
     },
     "execution_count": 7,
     "metadata": {},
     "output_type": "execute_result"
    }
   ],
   "source": [
    "2144+699, 1739+650, 390+234, 3883+1349 ##total values for batch sizes"
   ]
  },
  {
   "cell_type": "code",
   "execution_count": 8,
   "metadata": {
    "scrolled": true
   },
   "outputs": [
    {
     "data": {
      "image/png": "[encoded data removed]",
      "text/plain": [
       "<Figure size 432x288 with 1 Axes>"
      ]
     },
     "metadata": {
      "needs_background": "light"
     },
     "output_type": "display_data"
    }
   ],
   "source": [
    "labels = ['Train Pneumonia', 'Train Normal', 'Val. Pneumonia', 'Val. Normal', 'Test Pneumonia', 'Test Normal']\n",
    "dist = sns.barplot(x=labels, \n",
    "           y=[len(train_pneumonia), len(train_normal), len(val_dir_pneumonia), len(val_dir_normal), len(test_dir_pneumonia), len(test_dir_normal)],)\n",
    "\n",
    "dist.set_xticklabels(labels = labels, rotation = 30);"
   ]
  },
  {
   "cell_type": "markdown",
   "metadata": {},
   "source": [
    "There is a class imbalance between the positive class (pneumonia) and negative class (normal), which could potentially pose a challenge when training the model. We will be experimenting with data augmentation should the need arise."
   ]
  },
  {
   "cell_type": "code",
   "execution_count": 9,
   "metadata": {},
   "outputs": [
    {
     "data": {
      "text/plain": [
       "<Figure size 432x288 with 0 Axes>"
      ]
     },
     "metadata": {},
     "output_type": "display_data"
    }
   ],
   "source": [
    "#loading images for training set - pneumonia\n",
    "\n",
    "plt.suptitle(\"Patients with Pneumonia\")\n",
    "for i in range(0,4):\n",
    "    img = train_pneumonia[i]\n",
    "    img = load_img(train_path+'/PNEUMONIA/'+img)\n",
    "#   plt.imshow(img)\n",
    "#   plt.show()"
   ]
  },
  {
   "cell_type": "code",
   "execution_count": 10,
   "metadata": {},
   "outputs": [
    {
     "data": {
      "text/plain": [
       "<Figure size 432x288 with 0 Axes>"
      ]
     },
     "metadata": {},
     "output_type": "display_data"
    }
   ],
   "source": [
    "#loading images for training set - normal\n",
    "\n",
    "plt.suptitle(\"Normal Patients\")\n",
    "for i in range(0,4):\n",
    "    img = train_normal[i]\n",
    "    img = load_img(train_path+'/NORMAL/'+img)\n",
    "#    plt.imshow(img)\n",
    "#    plt.show()"
   ]
  },
  {
   "cell_type": "code",
   "execution_count": 11,
   "metadata": {},
   "outputs": [
    {
     "name": "stdout",
     "output_type": "stream",
     "text": [
      "Found 2843 images belonging to 2 classes.\n",
      "Found 2389 images belonging to 2 classes.\n",
      "Found 624 images belonging to 2 classes.\n",
      "Found 5232 images belonging to 2 classes.\n"
     ]
    }
   ],
   "source": [
    "train_gen = ImageDataGenerator(rescale = 1/255.).flow_from_directory(train_path,\n",
    "                                                 target_size=(224, 224),\n",
    "                                                 batch_size=2843,\n",
    "                                                 color_mode = 'grayscale',                \n",
    "                                                 class_mode='binary')\n",
    "\n",
    "val_gen = ImageDataGenerator(rescale = 1/255.).flow_from_directory(validation_path,\n",
    "                                            target_size=(224, 224),\n",
    "                                            shuffle=True,\n",
    "                                            batch_size=2389,\n",
    "                                            color_mode = 'grayscale',                      \n",
    "                                            class_mode='binary')\n",
    "\n",
    "test_gen = ImageDataGenerator(rescale = 1/255.).flow_from_directory(test_path,\n",
    "                                            target_size=(224, 224),\n",
    "                                            batch_size=624,\n",
    "                                            color_mode = 'grayscale',                        \n",
    "                                            class_mode='binary')\n",
    "\n",
    "##Image generator object for full training folder\n",
    "full_train_gen = ImageDataGenerator(rescale = 1/255.).flow_from_directory(full_train_path,\n",
    "                                            target_size=(224, 224),\n",
    "                                            batch_size=5232,\n",
    "                                            color_mode = 'grayscale',                        \n",
    "                                            class_mode='binary')"
   ]
  },
  {
   "cell_type": "code",
   "execution_count": 12,
   "metadata": {},
   "outputs": [],
   "source": [
    "train_images, train_labels = next(train_gen)\n",
    "val_images, val_labels = next(val_gen)\n",
    "test_images, test_labels = next(test_gen)\n",
    "\n",
    "##full training folder\n",
    "full_train_images, full_train_labels = next(full_train_gen)"
   ]
  },
  {
   "cell_type": "code",
   "execution_count": 13,
   "metadata": {
    "scrolled": true
   },
   "outputs": [
    {
     "name": "stdout",
     "output_type": "stream",
     "text": [
      "Train image shape: (2843, 224, 224, 1) train label shape: (2843,)\n",
      "Val image shape: (2389, 224, 224, 1) val label shape: (2389,)\n",
      "Test image shape: (624, 224, 224, 1) test label shape: (624,)\n",
      "Full Train image shape: (5232, 224, 224, 1) full train label shape: (5232,)\n"
     ]
    }
   ],
   "source": [
    "print(\"Train image shape:\", train_images.shape, \"train label shape:\", train_labels.shape)\n",
    "print(\"Val image shape:\", val_images.shape, \"val label shape:\", val_labels.shape)\n",
    "print(\"Test image shape:\", test_images.shape, \"test label shape:\", test_labels.shape)\n",
    "\n",
    "print(\"Full Train image shape:\", full_train_images.shape, \"full train label shape:\", full_train_labels.shape)"
   ]
  },
  {
   "cell_type": "code",
   "execution_count": 14,
   "metadata": {},
   "outputs": [],
   "source": [
    "train_x = train_images.reshape(train_images.shape[0], -1)\n",
    "val_x = val_images.reshape(val_images.shape[0], -1)\n",
    "test_x = test_images.reshape(test_images.shape[0], -1)\n",
    "\n",
    "full_train_x = full_train_images.reshape(full_train_images.shape[0], -1)"
   ]
  },
  {
   "cell_type": "code",
   "execution_count": 15,
   "metadata": {},
   "outputs": [
    {
     "data": {
      "text/plain": [
       "((2843, 50176), (2389, 50176), (624, 50176), (5232, 50176))"
      ]
     },
     "execution_count": 15,
     "metadata": {},
     "output_type": "execute_result"
    }
   ],
   "source": [
    "train_x.shape, val_x.shape, test_x.shape, full_train_x.shape"
   ]
  },
  {
   "cell_type": "code",
   "execution_count": 16,
   "metadata": {},
   "outputs": [],
   "source": [
    "train_y = np.reshape(train_labels[:], (2843,1))\n",
    "val_y = np.reshape(val_labels[:], (2389,1))\n",
    "test_y = np.reshape(test_labels[:], (624,1))\n",
    "\n",
    "##full training set labels\n",
    "full_train_y = np.reshape(full_train_labels[:], (5232,1))"
   ]
  },
  {
   "cell_type": "code",
   "execution_count": 17,
   "metadata": {},
   "outputs": [
    {
     "data": {
      "text/plain": [
       "((2843, 1), (2389, 1), (624, 1), (5232, 1))"
      ]
     },
     "execution_count": 17,
     "metadata": {},
     "output_type": "execute_result"
    }
   ],
   "source": [
    "train_y.shape, val_y.shape, test_y.shape, full_train_y.shape"
   ]
  },
  {
   "cell_type": "markdown",
   "metadata": {},
   "source": [
    "# FSM  \n",
    "For a first simple model, I selected building a densely-connected network with one hidden layer to create a baseline expectation of performance. "
   ]
  },
  {
   "cell_type": "code",
   "execution_count": 24,
   "metadata": {},
   "outputs": [],
   "source": [
    "np.random.seed(42)\n",
    "\n",
    "\n",
    "fsm = models.Sequential()\n",
    "fsm.add(layers.Dense(12, activation='relu', input_shape=(50176,)))\n",
    "fsm.add(layers.Dense(7, activation='relu'))\n",
    "fsm.add(layers.Dense(1, activation='sigmoid'))"
   ]
  },
  {
   "cell_type": "markdown",
   "metadata": {},
   "source": [
    "The first simple model will be using stochastic gradient descent and measuring both accuracy and recall - the model's overall performance and its ability to correctly predict the positive class."
   ]
  },
  {
   "cell_type": "code",
   "execution_count": 25,
   "metadata": {
    "scrolled": false
   },
   "outputs": [
    {
     "name": "stdout",
     "output_type": "stream",
     "text": [
      "Epoch 1/25\n",
      "89/89 [==============================] - 1s 10ms/step - loss: 0.6833 - accuracy: 0.7460 - recall_5: 0.9869 - val_loss: 0.6427 - val_accuracy: 0.7279 - val_recall_5: 1.0000\n",
      "Epoch 2/25\n",
      "89/89 [==============================] - 1s 8ms/step - loss: 0.6176 - accuracy: 0.7541 - recall_5: 1.0000 - val_loss: 0.6141 - val_accuracy: 0.7279 - val_recall_5: 1.0000\n",
      "Epoch 3/25\n",
      "89/89 [==============================] - 1s 7ms/step - loss: 0.5914 - accuracy: 0.7541 - recall_5: 1.0000 - val_loss: 0.5988 - val_accuracy: 0.7279 - val_recall_5: 1.0000\n",
      "Epoch 4/25\n",
      "89/89 [==============================] - 1s 7ms/step - loss: 0.5766 - accuracy: 0.7541 - recall_5: 1.0000 - val_loss: 0.5911 - val_accuracy: 0.7279 - val_recall_5: 1.0000\n",
      "Epoch 5/25\n",
      "89/89 [==============================] - 1s 8ms/step - loss: 0.5683 - accuracy: 0.7541 - recall_5: 1.0000 - val_loss: 0.5874 - val_accuracy: 0.7279 - val_recall_5: 1.0000\n",
      "Epoch 6/25\n",
      "89/89 [==============================] - 1s 7ms/step - loss: 0.5636 - accuracy: 0.7541 - recall_5: 1.0000 - val_loss: 0.5859 - val_accuracy: 0.7279 - val_recall_5: 1.0000\n",
      "Epoch 7/25\n",
      "89/89 [==============================] - 1s 7ms/step - loss: 0.5610 - accuracy: 0.7541 - recall_5: 1.0000 - val_loss: 0.5854 - val_accuracy: 0.7279 - val_recall_5: 1.0000\n",
      "Epoch 8/25\n",
      "89/89 [==============================] - 1s 8ms/step - loss: 0.5595 - accuracy: 0.7541 - recall_5: 1.0000 - val_loss: 0.5854 - val_accuracy: 0.7279 - val_recall_5: 1.0000\n",
      "Epoch 9/25\n",
      "89/89 [==============================] - 1s 8ms/step - loss: 0.5587 - accuracy: 0.7541 - recall_5: 1.0000 - val_loss: 0.5856 - val_accuracy: 0.7279 - val_recall_5: 1.0000\n",
      "Epoch 10/25\n",
      "89/89 [==============================] - 1s 7ms/step - loss: 0.5583 - accuracy: 0.7541 - recall_5: 1.0000 - val_loss: 0.5859 - val_accuracy: 0.7279 - val_recall_5: 1.0000\n",
      "Epoch 11/25\n",
      "89/89 [==============================] - 1s 8ms/step - loss: 0.5581 - accuracy: 0.7541 - recall_5: 1.0000 - val_loss: 0.5861 - val_accuracy: 0.7279 - val_recall_5: 1.0000\n",
      "Epoch 12/25\n",
      "89/89 [==============================] - 1s 8ms/step - loss: 0.5580 - accuracy: 0.7541 - recall_5: 1.0000 - val_loss: 0.5863 - val_accuracy: 0.7279 - val_recall_5: 1.0000\n",
      "Epoch 13/25\n",
      "89/89 [==============================] - 1s 8ms/step - loss: 0.5579 - accuracy: 0.7541 - recall_5: 1.0000 - val_loss: 0.5865 - val_accuracy: 0.7279 - val_recall_5: 1.0000\n",
      "Epoch 14/25\n",
      "89/89 [==============================] - 1s 8ms/step - loss: 0.5579 - accuracy: 0.7541 - recall_5: 1.0000 - val_loss: 0.5866 - val_accuracy: 0.7279 - val_recall_5: 1.0000\n",
      "Epoch 15/25\n",
      "89/89 [==============================] - 1s 7ms/step - loss: 0.5578 - accuracy: 0.7541 - recall_5: 1.0000 - val_loss: 0.5868 - val_accuracy: 0.7279 - val_recall_5: 1.0000\n",
      "Epoch 16/25\n",
      "89/89 [==============================] - 1s 8ms/step - loss: 0.5578 - accuracy: 0.7541 - recall_5: 1.0000 - val_loss: 0.5869 - val_accuracy: 0.7279 - val_recall_5: 1.0000\n",
      "Epoch 17/25\n",
      "89/89 [==============================] - 1s 8ms/step - loss: 0.5578 - accuracy: 0.7541 - recall_5: 1.0000 - val_loss: 0.5869 - val_accuracy: 0.7279 - val_recall_5: 1.0000\n",
      "Epoch 18/25\n",
      "89/89 [==============================] - 1s 7ms/step - loss: 0.5578 - accuracy: 0.7541 - recall_5: 1.0000 - val_loss: 0.5870 - val_accuracy: 0.7279 - val_recall_5: 1.0000\n",
      "Epoch 19/25\n",
      "89/89 [==============================] - 1s 8ms/step - loss: 0.5578 - accuracy: 0.7541 - recall_5: 1.0000 - val_loss: 0.5870 - val_accuracy: 0.7279 - val_recall_5: 1.0000\n",
      "Epoch 20/25\n",
      "89/89 [==============================] - 1s 8ms/step - loss: 0.5578 - accuracy: 0.7541 - recall_5: 1.0000 - val_loss: 0.5871 - val_accuracy: 0.7279 - val_recall_5: 1.0000\n",
      "Epoch 21/25\n",
      "89/89 [==============================] - 1s 9ms/step - loss: 0.5578 - accuracy: 0.7541 - recall_5: 1.0000 - val_loss: 0.5872 - val_accuracy: 0.7279 - val_recall_5: 1.0000\n",
      "Epoch 22/25\n",
      "89/89 [==============================] - 1s 9ms/step - loss: 0.5578 - accuracy: 0.7541 - recall_5: 1.0000 - val_loss: 0.5872 - val_accuracy: 0.7279 - val_recall_5: 1.0000\n",
      "Epoch 23/25\n",
      "89/89 [==============================] - 1s 8ms/step - loss: 0.5578 - accuracy: 0.7541 - recall_5: 1.0000 - val_loss: 0.5871 - val_accuracy: 0.7279 - val_recall_5: 1.0000\n",
      "Epoch 24/25\n",
      "89/89 [==============================] - 1s 8ms/step - loss: 0.5578 - accuracy: 0.7541 - recall_5: 1.0000 - val_loss: 0.5871 - val_accuracy: 0.7279 - val_recall_5: 1.0000\n",
      "Epoch 25/25\n",
      "89/89 [==============================] - 1s 9ms/step - loss: 0.5578 - accuracy: 0.7541 - recall_5: 1.0000 - val_loss: 0.5871 - val_accuracy: 0.7279 - val_recall_5: 1.0000\n"
     ]
    }
   ],
   "source": [
    "np.random.seed(42) ##setting a random state for reproduceability\n",
    "\n",
    "fsm.compile(optimizer='sgd',\n",
    "              loss='binary_crossentropy',\n",
    "              metrics= (['accuracy'], metrics.Recall()))\n",
    "\n",
    "%timeit\n",
    "history = fsm.fit(train_x,\n",
    "                    train_y,\n",
    "                    epochs=25,\n",
    "                    batch_size=32,\n",
    "                    validation_data=(val_x, val_y))"
   ]
  },
  {
   "cell_type": "code",
   "execution_count": 31,
   "metadata": {
    "scrolled": true
   },
   "outputs": [],
   "source": [
    "fsm_preds = np.round(fsm.predict(train_x)).astype(int)"
   ]
  },
  {
   "cell_type": "code",
   "execution_count": 32,
   "metadata": {},
   "outputs": [],
   "source": [
    "fsm_true = train_y"
   ]
  },
  {
   "cell_type": "code",
   "execution_count": 39,
   "metadata": {
    "scrolled": true
   },
   "outputs": [
    {
     "name": "stdout",
     "output_type": "stream",
     "text": [
      "Confusion matrix:\n",
      " [[   0  699]\n",
      " [   0 2144]]\n",
      "\n",
      "F1 score: 0.85983557248847\n",
      "Recall: 1.0\n",
      "Accuracy: 0.7541329581428069\n"
     ]
    }
   ],
   "source": [
    "print(f'Confusion matrix:\\n {confusion_matrix(train_y, fsm_preds)}\\n')\n",
    "print(f'F1 score: {f1_score(train_y, fsm_preds)}')\n",
    "print(f'Recall: {recall_score(train_y, fsm_preds)}')\n",
    "print(f'Accuracy: {accuracy_score(train_y, fsm_preds)}')"
   ]
  },
  {
   "cell_type": "markdown",
   "metadata": {},
   "source": [
    "Based off this first model, it's possible that the class imbalance may create issues further down the road. This model only predicted positive class, which is acceptable for maximizing recall but overall not a reliable model."
   ]
  },
  {
   "cell_type": "code",
   "execution_count": 40,
   "metadata": {
    "scrolled": true
   },
   "outputs": [
    {
     "name": "stdout",
     "output_type": "stream",
     "text": [
      "Epoch 1/25\n",
      "89/89 [==============================] - 1s 13ms/step - loss: 1.1222 - accuracy: 0.7126 - recall_6: 0.9277 - val_loss: 0.6776 - val_accuracy: 0.7279 - val_recall_6: 1.0000\n",
      "Epoch 2/25\n",
      "89/89 [==============================] - 1s 11ms/step - loss: 0.6721 - accuracy: 0.7541 - recall_6: 1.0000 - val_loss: 0.6432 - val_accuracy: 0.7279 - val_recall_6: 1.0000\n",
      "Epoch 3/25\n",
      "89/89 [==============================] - 1s 11ms/step - loss: 0.6200 - accuracy: 0.7541 - recall_6: 1.0000 - val_loss: 0.6157 - val_accuracy: 0.7279 - val_recall_6: 1.0000\n",
      "Epoch 4/25\n",
      "89/89 [==============================] - 1s 11ms/step - loss: 0.5907 - accuracy: 0.7541 - recall_6: 1.0000 - val_loss: 0.5965 - val_accuracy: 0.7279 - val_recall_6: 1.0000\n",
      "Epoch 5/25\n",
      "89/89 [==============================] - 1s 12ms/step - loss: 0.5720 - accuracy: 0.7541 - recall_6: 1.0000 - val_loss: 0.5877 - val_accuracy: 0.7279 - val_recall_6: 1.0000\n",
      "Epoch 6/25\n",
      "89/89 [==============================] - 1s 11ms/step - loss: 0.5626 - accuracy: 0.7541 - recall_6: 1.0000 - val_loss: 0.5854 - val_accuracy: 0.7279 - val_recall_6: 1.0000\n",
      "Epoch 7/25\n",
      "89/89 [==============================] - 1s 12ms/step - loss: 0.5593 - accuracy: 0.7541 - recall_6: 1.0000 - val_loss: 0.5856 - val_accuracy: 0.7279 - val_recall_6: 1.0000\n",
      "Epoch 8/25\n",
      "89/89 [==============================] - 1s 12ms/step - loss: 0.5583 - accuracy: 0.7541 - recall_6: 1.0000 - val_loss: 0.5862 - val_accuracy: 0.7279 - val_recall_6: 1.0000\n",
      "Epoch 9/25\n",
      "89/89 [==============================] - 1s 11ms/step - loss: 0.5580 - accuracy: 0.7541 - recall_6: 1.0000 - val_loss: 0.5866 - val_accuracy: 0.7279 - val_recall_6: 1.0000\n",
      "Epoch 10/25\n",
      "89/89 [==============================] - 1s 11ms/step - loss: 0.5579 - accuracy: 0.7541 - recall_6: 1.0000 - val_loss: 0.5869 - val_accuracy: 0.7279 - val_recall_6: 1.0000\n",
      "Epoch 11/25\n",
      "89/89 [==============================] - 1s 11ms/step - loss: 0.5579 - accuracy: 0.7541 - recall_6: 1.0000 - val_loss: 0.5871 - val_accuracy: 0.7279 - val_recall_6: 1.0000\n",
      "Epoch 12/25\n",
      "89/89 [==============================] - 1s 12ms/step - loss: 0.5579 - accuracy: 0.7541 - recall_6: 1.0000 - val_loss: 0.5870 - val_accuracy: 0.7279 - val_recall_6: 1.0000\n",
      "Epoch 13/25\n",
      "89/89 [==============================] - 1s 11ms/step - loss: 0.5579 - accuracy: 0.7541 - recall_6: 1.0000 - val_loss: 0.5870 - val_accuracy: 0.7279 - val_recall_6: 1.0000\n",
      "Epoch 14/25\n",
      "89/89 [==============================] - 1s 14ms/step - loss: 0.5578 - accuracy: 0.7541 - recall_6: 1.0000 - val_loss: 0.5874 - val_accuracy: 0.7279 - val_recall_6: 1.0000\n",
      "Epoch 15/25\n",
      "89/89 [==============================] - 1s 14ms/step - loss: 0.5579 - accuracy: 0.7541 - recall_6: 1.0000 - val_loss: 0.5871 - val_accuracy: 0.7279 - val_recall_6: 1.0000\n",
      "Epoch 16/25\n",
      "89/89 [==============================] - 1s 14ms/step - loss: 0.5578 - accuracy: 0.7541 - recall_6: 1.0000 - val_loss: 0.5872 - val_accuracy: 0.7279 - val_recall_6: 1.0000\n",
      "Epoch 17/25\n",
      "89/89 [==============================] - 1s 14ms/step - loss: 0.5579 - accuracy: 0.7541 - recall_6: 1.0000 - val_loss: 0.5870 - val_accuracy: 0.7279 - val_recall_6: 1.0000\n",
      "Epoch 18/25\n",
      "89/89 [==============================] - 1s 15ms/step - loss: 0.5579 - accuracy: 0.7541 - recall_6: 1.0000 - val_loss: 0.5873 - val_accuracy: 0.7279 - val_recall_6: 1.0000\n",
      "Epoch 19/25\n",
      "89/89 [==============================] - 1s 14ms/step - loss: 0.5579 - accuracy: 0.7541 - recall_6: 1.0000 - val_loss: 0.5873 - val_accuracy: 0.7279 - val_recall_6: 1.0000\n",
      "Epoch 20/25\n",
      "89/89 [==============================] - 1s 14ms/step - loss: 0.5580 - accuracy: 0.7541 - recall_6: 1.0000 - val_loss: 0.5874 - val_accuracy: 0.7279 - val_recall_6: 1.0000\n",
      "Epoch 21/25\n",
      "89/89 [==============================] - 1s 14ms/step - loss: 0.5578 - accuracy: 0.7541 - recall_6: 1.0000 - val_loss: 0.5870 - val_accuracy: 0.7279 - val_recall_6: 1.0000- loss: 0.5547 - accuracy: 0.7569 - recall_6: 1.00\n",
      "Epoch 22/25\n",
      "89/89 [==============================] - 1s 14ms/step - loss: 0.5579 - accuracy: 0.7541 - recall_6: 1.0000 - val_loss: 0.5870 - val_accuracy: 0.7279 - val_recall_6: 1.0000\n",
      "Epoch 23/25\n",
      "89/89 [==============================] - 1s 15ms/step - loss: 0.5579 - accuracy: 0.7541 - recall_6: 1.0000 - val_loss: 0.5872 - val_accuracy: 0.7279 - val_recall_6: 1.0000\n",
      "Epoch 24/25\n",
      "89/89 [==============================] - 1s 15ms/step - loss: 0.5579 - accuracy: 0.7541 - recall_6: 1.0000 - val_loss: 0.5873 - val_accuracy: 0.7279 - val_recall_6: 1.0000\n",
      "Epoch 25/25\n",
      "89/89 [==============================] - 1s 14ms/step - loss: 0.5579 - accuracy: 0.7541 - recall_6: 1.0000 - val_loss: 0.5872 - val_accuracy: 0.7279 - val_recall_6: 1.0000\n"
     ]
    }
   ],
   "source": [
    "np.random.seed(42)\n",
    "\n",
    "dense = models.Sequential()\n",
    "dense.add(layers.Dense(12, activation='relu', input_shape=(50176,)))\n",
    "dense.add(layers.Dense(7, activation='relu'))\n",
    "dense.add(layers.Dense(1, activation='sigmoid'))\n",
    "\n",
    "\n",
    "dense.compile(optimizer='rmsprop',\n",
    "              loss='binary_crossentropy',\n",
    "              metrics= (['accuracy'], metrics.Recall()))\n",
    "\n",
    "\n",
    "history = dense.fit(train_x,\n",
    "                    train_y,\n",
    "                    epochs=25,\n",
    "                    batch_size=32,\n",
    "                    validation_data=(val_x, val_y))"
   ]
  },
  {
   "cell_type": "code",
   "execution_count": 41,
   "metadata": {},
   "outputs": [
    {
     "name": "stdout",
     "output_type": "stream",
     "text": [
      "Confusion matrix:\n",
      " [[   0  699]\n",
      " [   0 2144]]\n",
      "\n",
      "F1 score: 0.85983557248847\n",
      "Recall: 1.0\n",
      "Accuracy: 0.7541329581428069\n"
     ]
    }
   ],
   "source": [
    "dense_preds = np.round(dense.predict(train_x)).astype(int)\n",
    "dense_true = train_y\n",
    "print(f'Confusion matrix:\\n {confusion_matrix(dense_true, dense_preds)}\\n')\n",
    "print(f'F1 score: {f1_score(dense_true, dense_preds)}')\n",
    "print(f'Recall: {recall_score(dense_true, dense_preds)}')\n",
    "print(f'Accuracy: {accuracy_score(dense_true, dense_preds)}')"
   ]
  },
  {
   "cell_type": "markdown",
   "metadata": {},
   "source": [
    "# First CNN "
   ]
  },
  {
   "cell_type": "markdown",
   "metadata": {},
   "source": [
    "We implemented an early stopping callback in order to minimize time spent running each model - the metrics were set to measure minimal loss on the validation set with a 3-epoch tolerance."
   ]
  },
  {
   "cell_type": "code",
   "execution_count": 65,
   "metadata": {},
   "outputs": [],
   "source": [
    "cnn = models.Sequential()\n",
    "cnn.add(layers.Conv2D(32, (3, 3), activation='relu',\n",
    "                        input_shape=(224 , 224, 1)))\n",
    "cnn.add(layers.MaxPooling2D((2, 2)))\n",
    "\n",
    "cnn.add(layers.Conv2D(32, (4, 4), activation='relu'))\n",
    "cnn.add(layers.MaxPooling2D((2, 2)))\n",
    "\n",
    "cnn.add(layers.Flatten())\n",
    "cnn.add(layers.Dense(64, activation='relu'))\n",
    "cnn.add(layers.Dense(1, activation='sigmoid'))\n",
    "\n",
    "es = EarlyStopping(monitor='val_loss', mode='min', verbose=1, patience = 3)\n",
    "##instantiating early stopping with a 3-epoch tolerance for minimizing loss"
   ]
  },
  {
   "cell_type": "code",
   "execution_count": 66,
   "metadata": {},
   "outputs": [],
   "source": [
    "cnn.compile(optimizer = 'sgd', \n",
    "              loss = 'binary_crossentropy', \n",
    "              metrics = (['accuracy'], metrics.Recall()))"
   ]
  },
  {
   "cell_type": "code",
   "execution_count": 70,
   "metadata": {},
   "outputs": [
    {
     "name": "stdout",
     "output_type": "stream",
     "text": [
      "Epoch 1/25\n",
      "45/45 [==============================] - 106s 2s/step - loss: 0.5384 - accuracy: 0.7415 - recall_14: 0.9767 - val_loss: 0.5281 - val_accuracy: 0.7279 - val_recall_14: 1.0000\n",
      "Epoch 2/25\n",
      "45/45 [==============================] - 105s 2s/step - loss: 0.4555 - accuracy: 0.7914 - recall_14: 0.9785 - val_loss: 0.4412 - val_accuracy: 0.8694 - val_recall_14: 0.9402\n",
      "Epoch 3/25\n",
      "45/45 [==============================] - 105s 2s/step - loss: 0.3860 - accuracy: 0.8410 - recall_14: 0.9459 - val_loss: 0.5811 - val_accuracy: 0.7388 - val_recall_14: 0.9994\n",
      "Epoch 4/25\n",
      "45/45 [==============================] - 106s 2s/step - loss: 0.3104 - accuracy: 0.8786 - recall_14: 0.9636 - val_loss: 0.4530 - val_accuracy: 0.7907 - val_recall_14: 0.7269\n",
      "Epoch 5/25\n",
      "45/45 [==============================] - 106s 2s/step - loss: 0.2788 - accuracy: 0.8941 - recall_14: 0.9506 - val_loss: 0.2363 - val_accuracy: 0.9050 - val_recall_14: 0.9511\n",
      "Epoch 6/25\n",
      "45/45 [==============================] - 106s 2s/step - loss: 0.2562 - accuracy: 0.9033 - recall_14: 0.9515 - val_loss: 0.2341 - val_accuracy: 0.9054 - val_recall_14: 0.9735\n",
      "Epoch 7/25\n",
      "45/45 [==============================] - 105s 2s/step - loss: 0.2076 - accuracy: 0.9195 - recall_14: 0.9613 - val_loss: 0.1940 - val_accuracy: 0.9226 - val_recall_14: 0.9534\n",
      "Epoch 8/25\n",
      "45/45 [==============================] - 106s 2s/step - loss: 0.2028 - accuracy: 0.9237 - recall_14: 0.9613 - val_loss: 0.2080 - val_accuracy: 0.9138 - val_recall_14: 0.9816\n",
      "Epoch 9/25\n",
      "45/45 [==============================] - 105s 2s/step - loss: 0.1900 - accuracy: 0.9219 - recall_14: 0.9557 - val_loss: 0.1695 - val_accuracy: 0.9305 - val_recall_14: 0.9419\n",
      "Epoch 10/25\n",
      "45/45 [==============================] - 108s 2s/step - loss: 0.1926 - accuracy: 0.9247 - recall_14: 0.9552 - val_loss: 0.1958 - val_accuracy: 0.9205 - val_recall_14: 0.9850\n",
      "Epoch 11/25\n",
      "45/45 [==============================] - 106s 2s/step - loss: 0.1746 - accuracy: 0.9265 - recall_14: 0.9599 - val_loss: 0.1528 - val_accuracy: 0.9380 - val_recall_14: 0.9477\n",
      "Epoch 12/25\n",
      "45/45 [==============================] - 106s 2s/step - loss: 0.1739 - accuracy: 0.9318 - recall_14: 0.9636 - val_loss: 0.1576 - val_accuracy: 0.9393 - val_recall_14: 0.9810\n",
      "Epoch 13/25\n",
      "45/45 [==============================] - 105s 2s/step - loss: 0.1489 - accuracy: 0.9427 - recall_14: 0.9697 - val_loss: 0.1687 - val_accuracy: 0.9330 - val_recall_14: 0.9856\n",
      "Epoch 14/25\n",
      "45/45 [==============================] - 106s 2s/step - loss: 0.1462 - accuracy: 0.9451 - recall_14: 0.9711 - val_loss: 0.2519 - val_accuracy: 0.8899 - val_recall_14: 0.9919\n",
      "Epoch 00014: early stopping\n"
     ]
    }
   ],
   "source": [
    "cnn_hist = cnn.fit(train_images, train_labels, \n",
    "                     epochs = 25, \n",
    "                     batch_size = 64, \n",
    "                     validation_data=(val_images, val_y), \n",
    "                     callbacks = [es])"
   ]
  },
  {
   "cell_type": "code",
   "execution_count": 71,
   "metadata": {
    "scrolled": true
   },
   "outputs": [
    {
     "name": "stdout",
     "output_type": "stream",
     "text": [
      "89/89 [==============================] - 18s 199ms/step - loss: 0.2118 - accuracy: 0.9180 - recall_14: 0.9939\n"
     ]
    }
   ],
   "source": [
    "cnn_results = cnn.evaluate(train_images, train_y)"
   ]
  },
  {
   "cell_type": "code",
   "execution_count": 72,
   "metadata": {},
   "outputs": [
    {
     "name": "stdout",
     "output_type": "stream",
     "text": [
      "75/75 [==============================] - 18s 246ms/step - loss: 0.2519 - accuracy: 0.8899 - recall_14: 0.9919\n"
     ]
    },
    {
     "data": {
      "text/plain": [
       "[0.2519053816795349, 0.8899120688438416, 0.9919493794441223]"
      ]
     },
     "execution_count": 72,
     "metadata": {},
     "output_type": "execute_result"
    }
   ],
   "source": [
    "cnn.evaluate(val_images, val_y)"
   ]
  },
  {
   "cell_type": "code",
   "execution_count": 73,
   "metadata": {
    "scrolled": true
   },
   "outputs": [
    {
     "data": {
      "text/plain": [
       "{'validation_data': None,\n",
       " 'model': <tensorflow.python.keras.engine.sequential.Sequential at 0x214399ea190>,\n",
       " '_chief_worker_only': None,\n",
       " '_supports_tf_logs': False,\n",
       " 'history': {'loss': [0.5384145379066467,\n",
       "   0.4554627537727356,\n",
       "   0.38596439361572266,\n",
       "   0.31042760610580444,\n",
       "   0.27878549695014954,\n",
       "   0.2561520040035248,\n",
       "   0.20758934319019318,\n",
       "   0.20280122756958008,\n",
       "   0.1899852603673935,\n",
       "   0.19262845814228058,\n",
       "   0.17463508248329163,\n",
       "   0.1739427149295807,\n",
       "   0.14892345666885376,\n",
       "   0.14619478583335876],\n",
       "  'accuracy': [0.7414702773094177,\n",
       "   0.7914175391197205,\n",
       "   0.8410130143165588,\n",
       "   0.8786492943763733,\n",
       "   0.8941259384155273,\n",
       "   0.9032711982727051,\n",
       "   0.9194512963294983,\n",
       "   0.9236721992492676,\n",
       "   0.9219134449958801,\n",
       "   0.9247273802757263,\n",
       "   0.9264861345291138,\n",
       "   0.9317622184753418,\n",
       "   0.9426661729812622,\n",
       "   0.9451283812522888],\n",
       "  'recall_14': [0.9766790866851807,\n",
       "   0.9785447716712952,\n",
       "   0.9458954930305481,\n",
       "   0.9636194109916687,\n",
       "   0.950559675693512,\n",
       "   0.9514925479888916,\n",
       "   0.9612873196601868,\n",
       "   0.9612873196601868,\n",
       "   0.955690324306488,\n",
       "   0.9552238583564758,\n",
       "   0.9598880410194397,\n",
       "   0.9636194109916687,\n",
       "   0.9696828126907349,\n",
       "   0.9710820913314819],\n",
       "  'val_loss': [0.5281243920326233,\n",
       "   0.44117027521133423,\n",
       "   0.5810692310333252,\n",
       "   0.4530141055583954,\n",
       "   0.23627278208732605,\n",
       "   0.23410262167453766,\n",
       "   0.19401118159294128,\n",
       "   0.20796695351600647,\n",
       "   0.1694732904434204,\n",
       "   0.1958310753107071,\n",
       "   0.15275585651397705,\n",
       "   0.15759149193763733,\n",
       "   0.1686757206916809,\n",
       "   0.2519053816795349],\n",
       "  'val_accuracy': [0.7279196381568909,\n",
       "   0.8694013953208923,\n",
       "   0.7388028502464294,\n",
       "   0.7907074093818665,\n",
       "   0.9049811363220215,\n",
       "   0.905399739742279,\n",
       "   0.922561764717102,\n",
       "   0.9137714505195618,\n",
       "   0.9305148720741272,\n",
       "   0.920468807220459,\n",
       "   0.9380493760108948,\n",
       "   0.9393051266670227,\n",
       "   0.9330263733863831,\n",
       "   0.8899120688438416],\n",
       "  'val_recall_14': [1.0,\n",
       "   0.9401955008506775,\n",
       "   0.999424934387207,\n",
       "   0.7268545031547546,\n",
       "   0.9511213302612305,\n",
       "   0.9735479950904846,\n",
       "   0.9534215331077576,\n",
       "   0.9815986156463623,\n",
       "   0.9419206380844116,\n",
       "   0.9850488901138306,\n",
       "   0.9476710557937622,\n",
       "   0.9810235500335693,\n",
       "   0.9856238961219788,\n",
       "   0.9919493794441223]},\n",
       " 'params': {'verbose': 1, 'epochs': 25, 'steps': 45},\n",
       " 'epoch': [0, 1, 2, 3, 4, 5, 6, 7, 8, 9, 10, 11, 12, 13]}"
      ]
     },
     "execution_count": 73,
     "metadata": {},
     "output_type": "execute_result"
    }
   ],
   "source": [
    "cnn_hist.__dict__"
   ]
  },
  {
   "cell_type": "code",
   "execution_count": 74,
   "metadata": {},
   "outputs": [],
   "source": [
    "model_epochs = cnn_hist.epoch\n",
    "model_recall_train = cnn_hist.history['recall_14']\n",
    "model_recall_val = cnn_hist.history['val_recall_14']\n",
    "model_accuracy_train = cnn_hist.history['accuracy']\n",
    "model_accuracy_val = cnn_hist.history['val_accuracy']\n",
    "model_loss_train = cnn_hist.history['loss']\n",
    "model_loss_val = cnn_hist.history['val_loss']"
   ]
  },
  {
   "cell_type": "markdown",
   "metadata": {},
   "source": [
    "## Plotting Metrics of First CNN"
   ]
  },
  {
   "cell_type": "markdown",
   "metadata": {},
   "source": [
    "### Accuracy, Recall, Loss"
   ]
  },
  {
   "cell_type": "code",
   "execution_count": 99,
   "metadata": {
    "scrolled": false
   },
   "outputs": [
    {
     "data": {
      "image/png": "[encoded data removed]",
      "text/plain": [
       "<Figure size 576x864 with 3 Axes>"
      ]
     },
     "metadata": {
      "needs_background": "light"
     },
     "output_type": "display_data"
    }
   ],
   "source": [
    "fig, axs = plt.subplots(3, figsize = (8,12))\n",
    "\n",
    "plt.suptitle(\"SGD Optimizer, 13 Epochs, 64 Batch Size\")\n",
    "\n",
    "axs[0].plot(model_epochs, model_accuracy_train, label = 'Training Accuracy')\n",
    "axs[0].plot(model_epochs, model_accuracy_val, linestyle = '--', label = 'Validation Accuracy')\n",
    "axs[0].set_xlabel(\"Epochs\")\n",
    "axs[0].set_ylabel(\"Accuracy\")\n",
    "\n",
    "\n",
    "\n",
    "axs[1].plot(model_epochs, model_recall_train, label = 'Training Recall')\n",
    "axs[1].plot(model_epochs, model_recall_val, linestyle = '--', label = 'Validation Recall')\n",
    "axs[1].set_xlabel(\"Epochs\")\n",
    "axs[1].set_ylabel(\"Recall\")\n",
    "\n",
    "\n",
    "\n",
    "axs[2].plot(model_epochs, model_loss_train, label = 'Training Loss')\n",
    "axs[2].plot(model_epochs, model_loss_val, linestyle = '--', label = 'Validation Loss')\n",
    "axs[2].set_xlabel(\"Epochs\")\n",
    "axs[2].set_ylabel(\"Loss\")\n",
    "plt.legend();"
   ]
  },
  {
   "cell_type": "markdown",
   "metadata": {},
   "source": [
    "## CNN2"
   ]
  },
  {
   "cell_type": "code",
   "execution_count": 78,
   "metadata": {},
   "outputs": [],
   "source": [
    "cnn2 = models.Sequential()\n",
    "cnn2.add(layers.Conv2D(32, (3, 3), activation='relu',\n",
    "                        input_shape=(224 , 224, 1)))\n",
    "cnn2.add(layers.MaxPooling2D((2, 2)))\n",
    "\n",
    "cnn2.add(layers.Conv2D(32, (4, 4), activation='relu'))\n",
    "cnn2.add(layers.MaxPooling2D((2, 2)))\n",
    "\n",
    "cnn2.add(layers.Flatten())\n",
    "cnn2.add(layers.Dense(64, activation='relu'))\n",
    "cnn2.add(layers.Dense(1, activation='sigmoid'))\n",
    "\n",
    "\n",
    "cnn2.compile(loss='binary_crossentropy',\n",
    "              optimizer='rmsprop',\n",
    "              metrics=(['accuracy'], metrics.Recall()))"
   ]
  },
  {
   "cell_type": "code",
   "execution_count": 79,
   "metadata": {},
   "outputs": [
    {
     "name": "stdout",
     "output_type": "stream",
     "text": [
      "Epoch 1/25\n",
      "45/45 [==============================] - 102s 2s/step - loss: 0.8887 - accuracy: 0.7633 - recall_15: 0.8172 - val_loss: 0.3000 - val_accuracy: 0.8686 - val_recall_15: 0.9109\n",
      "Epoch 2/25\n",
      "45/45 [==============================] - 103s 2s/step - loss: 0.2186 - accuracy: 0.9170 - recall_15: 0.9473 - val_loss: 0.5088 - val_accuracy: 0.7911 - val_recall_15: 0.7159\n",
      "Epoch 3/25\n",
      "45/45 [==============================] - 103s 2s/step - loss: 0.1802 - accuracy: 0.9342 - recall_15: 0.9515 - val_loss: 0.2847 - val_accuracy: 0.8891 - val_recall_15: 0.9327\n",
      "Epoch 4/25\n",
      "45/45 [==============================] - 103s 2s/step - loss: 0.1051 - accuracy: 0.9599 - recall_15: 0.9688 - val_loss: 0.2028 - val_accuracy: 0.9351 - val_recall_15: 0.9804\n",
      "Epoch 5/25\n",
      "45/45 [==============================] - 103s 2s/step - loss: 0.1013 - accuracy: 0.9659 - recall_15: 0.9790 - val_loss: 0.1560 - val_accuracy: 0.9468 - val_recall_15: 0.9350\n",
      "Epoch 6/25\n",
      "45/45 [==============================] - 105s 2s/step - loss: 0.0573 - accuracy: 0.9796 - recall_15: 0.9837 - val_loss: 0.2028 - val_accuracy: 0.9339 - val_recall_15: 0.9557\n",
      "Epoch 7/25\n",
      "45/45 [==============================] - 97s 2s/step - loss: 0.0686 - accuracy: 0.9768 - recall_15: 0.9837 - val_loss: 0.1837 - val_accuracy: 0.9560 - val_recall_15: 0.9833\n",
      "Epoch 8/25\n",
      "45/45 [==============================] - 97s 2s/step - loss: 0.0412 - accuracy: 0.9849 - recall_15: 0.9897 - val_loss: 0.2154 - val_accuracy: 0.9410 - val_recall_15: 0.9615\n",
      "Epoch 00008: early stopping\n"
     ]
    }
   ],
   "source": [
    "hist2 = cnn2.fit(train_images, train_labels, \n",
    "                 epochs = 25, \n",
    "                 batch_size = 64, \n",
    "                 validation_data=(val_images, val_y), \n",
    "                 callbacks = [es])"
   ]
  },
  {
   "cell_type": "code",
   "execution_count": 86,
   "metadata": {
    "scrolled": true
   },
   "outputs": [
    {
     "name": "stdout",
     "output_type": "stream",
     "text": [
      "89/89 [==============================] - 21s 236ms/step - loss: 0.0201 - accuracy: 0.9933 - recall_15: 0.9911\n"
     ]
    }
   ],
   "source": [
    "cnn2_train_results = cnn2.evaluate(train_images, train_labels)"
   ]
  },
  {
   "cell_type": "code",
   "execution_count": 87,
   "metadata": {
    "scrolled": false
   },
   "outputs": [
    {
     "name": "stdout",
     "output_type": "stream",
     "text": [
      "75/75 [==============================] - 13s 174ms/step - loss: 0.2154 - accuracy: 0.9410 - recall_15: 0.9615\n"
     ]
    }
   ],
   "source": [
    "cnn2_val_results = cnn2.evaluate(val_images, val_labels)"
   ]
  },
  {
   "cell_type": "code",
   "execution_count": 97,
   "metadata": {
    "scrolled": true
   },
   "outputs": [
    {
     "data": {
      "text/plain": [
       "{'validation_data': None,\n",
       " 'model': <tensorflow.python.keras.engine.sequential.Sequential at 0x214348c5430>,\n",
       " '_chief_worker_only': None,\n",
       " '_supports_tf_logs': False,\n",
       " 'history': {'loss': [0.8886693120002747,\n",
       "   0.21857082843780518,\n",
       "   0.18016310036182404,\n",
       "   0.10512540489435196,\n",
       "   0.10134470462799072,\n",
       "   0.0573425330221653,\n",
       "   0.06857669353485107,\n",
       "   0.041235484182834625],\n",
       "  'accuracy': [0.7632782459259033,\n",
       "   0.9169890880584717,\n",
       "   0.9342244267463684,\n",
       "   0.9599015116691589,\n",
       "   0.9658811092376709,\n",
       "   0.9795989990234375,\n",
       "   0.9767850637435913,\n",
       "   0.9848751425743103],\n",
       "  'recall_15': [0.8171641826629639,\n",
       "   0.9472947716712952,\n",
       "   0.9514925479888916,\n",
       "   0.96875,\n",
       "   0.9790111780166626,\n",
       "   0.9836753606796265,\n",
       "   0.9836753606796265,\n",
       "   0.9897388219833374],\n",
       "  'val_loss': [0.2999967932701111,\n",
       "   0.5088039040565491,\n",
       "   0.2847336530685425,\n",
       "   0.20275287330150604,\n",
       "   0.15603876113891602,\n",
       "   0.2028246819972992,\n",
       "   0.18365809321403503,\n",
       "   0.21538685262203217],\n",
       "  'val_accuracy': [0.868564248085022,\n",
       "   0.791126012802124,\n",
       "   0.8890749216079712,\n",
       "   0.9351192712783813,\n",
       "   0.9468396902084351,\n",
       "   0.9338635206222534,\n",
       "   0.9560485482215881,\n",
       "   0.9409794807434082],\n",
       "  'val_recall_15': [0.9108682870864868,\n",
       "   0.7159286737442017,\n",
       "   0.9327199459075928,\n",
       "   0.9804485440254211,\n",
       "   0.9350201487541199,\n",
       "   0.9557216763496399,\n",
       "   0.9833237528800964,\n",
       "   0.9614720940589905]},\n",
       " 'params': {'verbose': 1, 'epochs': 25, 'steps': 45},\n",
       " 'epoch': [0, 1, 2, 3, 4, 5, 6, 7]}"
      ]
     },
     "execution_count": 97,
     "metadata": {},
     "output_type": "execute_result"
    }
   ],
   "source": [
    "hist2.__dict__"
   ]
  },
  {
   "cell_type": "code",
   "execution_count": 100,
   "metadata": {},
   "outputs": [],
   "source": [
    "cnn2_epochs = hist2.epoch\n",
    "cnn2_recall_train = hist2.history['recall_15']\n",
    "cnn2_recall_val = hist2.history['val_recall_15']\n",
    "cnn2_accuracy_train = hist2.history['accuracy']\n",
    "cnn2_accuracy_val = hist2.history['val_accuracy']\n",
    "cnn2_loss_train = hist2.history['loss']\n",
    "cnn2_loss_val = hist2.history['val_loss']"
   ]
  },
  {
   "cell_type": "markdown",
   "metadata": {},
   "source": [
    "## Plotting Metrics of 2nd CNN"
   ]
  },
  {
   "cell_type": "code",
   "execution_count": 101,
   "metadata": {
    "scrolled": true
   },
   "outputs": [
    {
     "data": {
      "image/png": "[encoded data removed]",
      "text/plain": [
       "<Figure size 576x864 with 3 Axes>"
      ]
     },
     "metadata": {
      "needs_background": "light"
     },
     "output_type": "display_data"
    }
   ],
   "source": [
    "fig, axs = plt.subplots(3, figsize = (8,12))\n",
    "\n",
    "plt.suptitle(\"RMS Optimizer, 7 Epochs, 64 Batch Size\")\n",
    "\n",
    "axs[0].plot(cnn2_epochs, cnn2_accuracy_train, label = 'Training Accuracy')\n",
    "axs[0].plot(cnn2_epochs, cnn2_accuracy_val, linestyle = '--', label = 'Validation Accuracy')\n",
    "axs[0].set_xlabel(\"Epochs\")\n",
    "axs[0].set_ylabel(\"Accuracy\")\n",
    "\n",
    "\n",
    "\n",
    "axs[1].plot(cnn2_epochs, cnn2_recall_train, label = 'Training Recall')\n",
    "axs[1].plot(cnn2_epochs, cnn2_recall_val, linestyle = '--', label = 'Validation Recall')\n",
    "axs[1].set_xlabel(\"Epochs\")\n",
    "axs[1].set_ylabel(\"Recall\")\n",
    "\n",
    "\n",
    "\n",
    "axs[2].plot(cnn2_epochs, cnn2_loss_train, label = 'Training Loss')\n",
    "axs[2].plot(cnn2_epochs, cnn2_loss_val, linestyle = '--', label = 'Validation Loss')\n",
    "axs[2].set_xlabel(\"Epochs\")\n",
    "axs[2].set_ylabel(\"Loss\")\n",
    "plt.legend();"
   ]
  },
  {
   "cell_type": "markdown",
   "metadata": {},
   "source": [
    "RMSProp (or root mean squared propagation) was more successful with similar metrics as the initial model, so we will proceed with using rmsprop as the optimizer."
   ]
  },
  {
   "cell_type": "markdown",
   "metadata": {},
   "source": [
    "## CNN3"
   ]
  },
  {
   "cell_type": "markdown",
   "metadata": {},
   "source": [
    "We have included 'tanh' (or hyperbolic tangent) activation into this model in order to account for potential negative values."
   ]
  },
  {
   "cell_type": "code",
   "execution_count": 103,
   "metadata": {},
   "outputs": [],
   "source": [
    "cnn3 = models.Sequential()\n",
    "cnn3.add(layers.Conv2D(32, (3, 3), activation='tanh',\n",
    "                        input_shape=(224 , 224, 1)))\n",
    "cnn3.add(layers.MaxPooling2D((2, 2)))\n",
    "\n",
    "cnn3.add(layers.Conv2D(32, (4, 4), activation='relu'))\n",
    "cnn3.add(layers.MaxPooling2D((2, 2)))\n",
    "\n",
    "cnn3.add(layers.Flatten())\n",
    "cnn3.add(layers.Dropout(.3))\n",
    "\n",
    "cnn3.add(layers.Dense(64, activation='relu'))\n",
    "cnn3.add(layers.Dense(1, activation='sigmoid'))\n",
    "\n",
    "\n",
    "cnn3.compile(loss='binary_crossentropy',\n",
    "              optimizer='rmsprop',\n",
    "              metrics=(['accuracy'], metrics.Recall()))"
   ]
  },
  {
   "cell_type": "code",
   "execution_count": 107,
   "metadata": {},
   "outputs": [
    {
     "name": "stdout",
     "output_type": "stream",
     "text": [
      "Epoch 1/25\n",
      "45/45 [==============================] - 115s 3s/step - loss: 0.3322 - accuracy: 0.8590 - recall_17: 0.9212 - val_loss: 3.7497 - val_accuracy: 0.3181 - val_recall_17: 0.0633\n",
      "Epoch 2/25\n",
      "45/45 [==============================] - 111s 2s/step - loss: 0.3481 - accuracy: 0.8976 - recall_17: 0.9193 - val_loss: 0.3090 - val_accuracy: 0.8690 - val_recall_17: 0.9097\n",
      "Epoch 3/25\n",
      "45/45 [==============================] - 115s 3s/step - loss: 0.1732 - accuracy: 0.9377 - recall_17: 0.9585 - val_loss: 0.3624 - val_accuracy: 0.8719 - val_recall_17: 0.9856\n",
      "Epoch 4/25\n",
      "45/45 [==============================] - 115s 3s/step - loss: 0.1839 - accuracy: 0.9395 - recall_17: 0.9627 - val_loss: 0.1667 - val_accuracy: 0.9376 - val_recall_17: 0.9569\n",
      "Epoch 5/25\n",
      "45/45 [==============================] - 110s 2s/step - loss: 0.1553 - accuracy: 0.9705 - recall_17: 0.9823 - val_loss: 0.2002 - val_accuracy: 0.9293 - val_recall_17: 0.9856\n",
      "Epoch 6/25\n",
      "45/45 [==============================] - 112s 2s/step - loss: 0.0812 - accuracy: 0.9676 - recall_17: 0.9785 - val_loss: 0.1330 - val_accuracy: 0.9552 - val_recall_17: 0.9712\n",
      "Epoch 7/25\n",
      "45/45 [==============================] - 115s 3s/step - loss: 0.0585 - accuracy: 0.9754 - recall_17: 0.9841 - val_loss: 0.8139 - val_accuracy: 0.7840 - val_recall_17: 1.0000\n",
      "Epoch 8/25\n",
      "45/45 [==============================] - 113s 3s/step - loss: 0.0782 - accuracy: 0.9750 - recall_17: 0.9860 - val_loss: 0.1882 - val_accuracy: 0.9485 - val_recall_17: 0.9868\n",
      "Epoch 9/25\n",
      "45/45 [==============================] - 112s 2s/step - loss: 0.0492 - accuracy: 0.9814 - recall_17: 0.9865 - val_loss: 0.1830 - val_accuracy: 0.9519 - val_recall_17: 0.9810\n",
      "Epoch 00009: early stopping\n"
     ]
    }
   ],
   "source": [
    "np.random.seed(111)\n",
    "hist3 = cnn3.fit(train_images, train_labels, \n",
    "                      epochs = 25, \n",
    "                      batch_size = 64, \n",
    "                      validation_data=(val_images, val_labels), \n",
    "                      callbacks = [es])"
   ]
  },
  {
   "cell_type": "code",
   "execution_count": 108,
   "metadata": {},
   "outputs": [
    {
     "name": "stdout",
     "output_type": "stream",
     "text": [
      "89/89 [==============================] - 19s 214ms/step - loss: 0.0149 - accuracy: 0.9961 - recall_17: 0.9972\n"
     ]
    }
   ],
   "source": [
    "cnn3_train_results = cnn3.evaluate(train_images, train_labels)"
   ]
  },
  {
   "cell_type": "code",
   "execution_count": 109,
   "metadata": {},
   "outputs": [
    {
     "name": "stdout",
     "output_type": "stream",
     "text": [
      "75/75 [==============================] - 16s 219ms/step - loss: 0.1830 - accuracy: 0.9519 - recall_17: 0.9810\n"
     ]
    }
   ],
   "source": [
    "cnn3_val_results = cnn3.evaluate(val_images, val_labels)"
   ]
  },
  {
   "cell_type": "code",
   "execution_count": 110,
   "metadata": {
    "scrolled": true
   },
   "outputs": [
    {
     "data": {
      "text/plain": [
       "{'validation_data': None,\n",
       " 'model': <tensorflow.python.keras.engine.sequential.Sequential at 0x21432dcfbb0>,\n",
       " '_chief_worker_only': None,\n",
       " '_supports_tf_logs': False,\n",
       " 'history': {'loss': [0.3322272300720215,\n",
       "   0.34811535477638245,\n",
       "   0.17319852113723755,\n",
       "   0.1838795393705368,\n",
       "   0.15534324944019318,\n",
       "   0.08123910427093506,\n",
       "   0.05847295746207237,\n",
       "   0.07819005101919174,\n",
       "   0.049190703779459],\n",
       "  'accuracy': [0.8589518070220947,\n",
       "   0.8976433277130127,\n",
       "   0.9377418160438538,\n",
       "   0.9395005106925964,\n",
       "   0.9704537391662598,\n",
       "   0.9676398038864136,\n",
       "   0.9753780961036682,\n",
       "   0.9750263690948486,\n",
       "   0.9813576936721802],\n",
       "  'recall_17': [0.9211753606796265,\n",
       "   0.919309675693512,\n",
       "   0.9584888219833374,\n",
       "   0.9626865386962891,\n",
       "   0.9822761416435242,\n",
       "   0.9785447716712952,\n",
       "   0.9841417670249939,\n",
       "   0.9860074520111084,\n",
       "   0.9864738583564758],\n",
       "  'val_loss': [3.7496514320373535,\n",
       "   0.3089756369590759,\n",
       "   0.3623555898666382,\n",
       "   0.16673651337623596,\n",
       "   0.2001986801624298,\n",
       "   0.13301067054271698,\n",
       "   0.8138567209243774,\n",
       "   0.1881764531135559,\n",
       "   0.18300414085388184],\n",
       "  'val_accuracy': [0.3181247413158417,\n",
       "   0.8689828515052795,\n",
       "   0.871912956237793,\n",
       "   0.937630832195282,\n",
       "   0.9292591214179993,\n",
       "   0.9552114009857178,\n",
       "   0.7840100526809692,\n",
       "   0.9485140442848206,\n",
       "   0.9518626928329468],\n",
       "  'val_recall_17': [0.06325474381446838,\n",
       "   0.9097182154655457,\n",
       "   0.9856238961219788,\n",
       "   0.956871747970581,\n",
       "   0.9856238961219788,\n",
       "   0.9712478518486023,\n",
       "   1.0,\n",
       "   0.9867740273475647,\n",
       "   0.9810235500335693]},\n",
       " 'params': {'verbose': 1, 'epochs': 25, 'steps': 45},\n",
       " 'epoch': [0, 1, 2, 3, 4, 5, 6, 7, 8]}"
      ]
     },
     "execution_count": 110,
     "metadata": {},
     "output_type": "execute_result"
    }
   ],
   "source": [
    "hist3.__dict__"
   ]
  },
  {
   "cell_type": "code",
   "execution_count": 111,
   "metadata": {},
   "outputs": [],
   "source": [
    "cnn3_epochs = hist3.epoch\n",
    "cnn3_recall_train = hist3.history['recall_17']\n",
    "cnn3_recall_val = hist3.history['val_recall_17']\n",
    "cnn3_accuracy_train = hist3.history['accuracy']\n",
    "cnn3_accuracy_val = hist3.history['val_accuracy']\n",
    "cnn3_loss_train = hist3.history['loss']\n",
    "cnn3_loss_val = hist3.history['val_loss']"
   ]
  },
  {
   "cell_type": "markdown",
   "metadata": {},
   "source": [
    "## Plotting CNN3"
   ]
  },
  {
   "cell_type": "code",
   "execution_count": 113,
   "metadata": {},
   "outputs": [
    {
     "data": {
      "image/png": "[encoded data removed]",
      "text/plain": [
       "<Figure size 576x864 with 3 Axes>"
      ]
     },
     "metadata": {
      "needs_background": "light"
     },
     "output_type": "display_data"
    }
   ],
   "source": [
    "fig, axs = plt.subplots(3, figsize = (8,12))\n",
    "\n",
    "plt.suptitle(\"Tanh Activation, RMS Optimizer, 9 Epochs, 64 Batch Size\")\n",
    "\n",
    "axs[0].plot(cnn3_epochs, cnn3_accuracy_train, label = 'Training Accuracy')\n",
    "axs[0].plot(cnn3_epochs, cnn3_accuracy_val, linestyle = '--', label = 'Validation Accuracy')\n",
    "axs[0].set_xlabel(\"Epochs\")\n",
    "axs[0].set_ylabel(\"Accuracy\")\n",
    "\n",
    "\n",
    "\n",
    "axs[1].plot(cnn3_epochs, cnn3_recall_train, label = 'Training Recall')\n",
    "axs[1].plot(cnn3_epochs, cnn3_recall_val, linestyle = '--', label = 'Validation Recall')\n",
    "axs[1].set_xlabel(\"Epochs\")\n",
    "axs[1].set_ylabel(\"Recall\")\n",
    "\n",
    "\n",
    "\n",
    "axs[2].plot(cnn3_epochs, cnn3_loss_train, label = 'Training Loss')\n",
    "axs[2].plot(cnn3_epochs, cnn3_loss_val, linestyle = '--', label = 'Validation Loss')\n",
    "axs[2].set_xlabel(\"Epochs\")\n",
    "axs[2].set_ylabel(\"Loss\")\n",
    "plt.legend();"
   ]
  },
  {
   "cell_type": "markdown",
   "metadata": {},
   "source": [
    "## CNN 4 - further fiddling\n",
    "Introducing a Leaky ReLu activation layer."
   ]
  },
  {
   "cell_type": "code",
   "execution_count": 114,
   "metadata": {},
   "outputs": [],
   "source": [
    "cnn4 = models.Sequential()\n",
    "cnn4.add(layers.Conv2D(32, (3, 3), activation='tanh',\n",
    "                        input_shape=(224 , 224, 1)))\n",
    "cnn4.add(layers.MaxPooling2D((2, 2)))\n",
    "\n",
    "cnn4.add(layers.Conv2D(32, (4, 4), activation='relu'))\n",
    "cnn4.add(layers.MaxPooling2D((2, 2)))\n",
    "\n",
    "\n",
    "cnn4.add(LeakyReLU())\n",
    "cnn4.add(layers.MaxPooling2D((2, 2), padding = 'same'))\n",
    "\n",
    "cnn4.add(layers.Dropout(.3))\n",
    "cnn4.add(layers.Flatten())\n",
    "\n",
    "cnn4.add(layers.Dense(128, activation='relu'))\n",
    "cnn4.add(layers.Dense(64, activation='relu'))\n",
    "cnn4.add(layers.Dense(1, activation='sigmoid'))\n",
    "\n",
    "\n",
    "cnn4.compile(loss='binary_crossentropy',\n",
    "              optimizer='rmsprop',\n",
    "              metrics=(['accuracy'], metrics.Recall()))"
   ]
  },
  {
   "cell_type": "code",
   "execution_count": 115,
   "metadata": {},
   "outputs": [
    {
     "name": "stdout",
     "output_type": "stream",
     "text": [
      "Epoch 1/25\n",
      "45/45 [==============================] - 110s 2s/step - loss: 0.5097 - accuracy: 0.7742 - recall_18: 0.8871 - val_loss: 0.3394 - val_accuracy: 0.8665 - val_recall_18: 0.8597\n",
      "Epoch 2/25\n",
      "45/45 [==============================] - 112s 2s/step - loss: 0.2317 - accuracy: 0.9145 - recall_18: 0.9501 - val_loss: 0.3493 - val_accuracy: 0.8585 - val_recall_18: 0.9264\n",
      "Epoch 3/25\n",
      "45/45 [==============================] - 114s 3s/step - loss: 0.1846 - accuracy: 0.9349 - recall_18: 0.9580 - val_loss: 0.2315 - val_accuracy: 0.9117 - val_recall_18: 0.9839\n",
      "Epoch 4/25\n",
      "45/45 [==============================] - 113s 3s/step - loss: 0.1392 - accuracy: 0.9479 - recall_18: 0.9636 - val_loss: 0.1962 - val_accuracy: 0.9213 - val_recall_18: 0.9287\n",
      "Epoch 5/25\n",
      "45/45 [==============================] - 114s 3s/step - loss: 0.1063 - accuracy: 0.9603 - recall_18: 0.9701 - val_loss: 0.3070 - val_accuracy: 0.9004 - val_recall_18: 0.9960\n",
      "Epoch 6/25\n",
      "45/45 [==============================] - 115s 3s/step - loss: 0.0907 - accuracy: 0.9705 - recall_18: 0.9790 - val_loss: 0.1978 - val_accuracy: 0.9297 - val_recall_18: 0.9063\n",
      "Epoch 7/25\n",
      "45/45 [==============================] - 110s 2s/step - loss: 0.0755 - accuracy: 0.9726 - recall_18: 0.9804 - val_loss: 0.1625 - val_accuracy: 0.9473 - val_recall_18: 0.9793\n",
      "Epoch 8/25\n",
      "45/45 [==============================] - 116s 3s/step - loss: 0.0588 - accuracy: 0.9792 - recall_18: 0.9855 - val_loss: 0.1449 - val_accuracy: 0.9523 - val_recall_18: 0.9459\n",
      "Epoch 9/25\n",
      "45/45 [==============================] - 111s 2s/step - loss: 0.0450 - accuracy: 0.9842 - recall_18: 0.9874 - val_loss: 0.5235 - val_accuracy: 0.8895 - val_recall_18: 0.9937\n",
      "Epoch 10/25\n",
      "45/45 [==============================] - 113s 3s/step - loss: 0.0404 - accuracy: 0.9877 - recall_18: 0.9911 - val_loss: 0.2909 - val_accuracy: 0.9318 - val_recall_18: 0.9954\n",
      "Epoch 11/25\n",
      "45/45 [==============================] - 112s 2s/step - loss: 0.0286 - accuracy: 0.9902 - recall_18: 0.9930 - val_loss: 0.1284 - val_accuracy: 0.9686 - val_recall_18: 0.9827\n",
      "Epoch 12/25\n",
      "45/45 [==============================] - 112s 2s/step - loss: 0.0438 - accuracy: 0.9859 - recall_18: 0.9907 - val_loss: 0.1307 - val_accuracy: 0.9632 - val_recall_18: 0.9787\n",
      "Epoch 13/25\n",
      "45/45 [==============================] - 113s 3s/step - loss: 0.0134 - accuracy: 0.9961 - recall_18: 0.9967 - val_loss: 0.2040 - val_accuracy: 0.9623 - val_recall_18: 0.9574\n",
      "Epoch 14/25\n",
      "45/45 [==============================] - 117s 3s/step - loss: 0.0275 - accuracy: 0.9926 - recall_18: 0.9953 - val_loss: 0.1679 - val_accuracy: 0.9607 - val_recall_18: 0.9810\n",
      "Epoch 00014: early stopping\n"
     ]
    }
   ],
   "source": [
    "hist4 = cnn4.fit(train_images, train_labels, \n",
    "                 epochs = 25, batch_size = 64, \n",
    "                 validation_data=(val_images, val_labels), \n",
    "                 callbacks = [es])"
   ]
  },
  {
   "cell_type": "code",
   "execution_count": 116,
   "metadata": {},
   "outputs": [
    {
     "name": "stdout",
     "output_type": "stream",
     "text": [
      "89/89 [==============================] - 20s 224ms/step - loss: 0.0063 - accuracy: 0.9993 - recall_18: 0.9991\n"
     ]
    }
   ],
   "source": [
    "cnn4_train_results = cnn4.evaluate(train_images, train_labels)"
   ]
  },
  {
   "cell_type": "code",
   "execution_count": 117,
   "metadata": {
    "scrolled": true
   },
   "outputs": [
    {
     "name": "stdout",
     "output_type": "stream",
     "text": [
      "75/75 [==============================] - 15s 203ms/step - loss: 0.1679 - accuracy: 0.9607 - recall_18: 0.9810\n"
     ]
    }
   ],
   "source": [
    "cnn4_val_results = cnn4.evaluate(val_images, val_labels)"
   ]
  },
  {
   "cell_type": "code",
   "execution_count": 119,
   "metadata": {
    "scrolled": true
   },
   "outputs": [
    {
     "data": {
      "text/plain": [
       "{'validation_data': None,\n",
       " 'model': <tensorflow.python.keras.engine.sequential.Sequential at 0x2143c937ee0>,\n",
       " '_chief_worker_only': None,\n",
       " '_supports_tf_logs': False,\n",
       " 'history': {'loss': [0.5097469091415405,\n",
       "   0.23170927166938782,\n",
       "   0.18463905155658722,\n",
       "   0.13921670615673065,\n",
       "   0.10626121610403061,\n",
       "   0.09074700623750687,\n",
       "   0.07551465928554535,\n",
       "   0.05876196175813675,\n",
       "   0.044980842620134354,\n",
       "   0.04035675898194313,\n",
       "   0.02864663302898407,\n",
       "   0.04375719279050827,\n",
       "   0.013403422199189663,\n",
       "   0.027464019134640694],\n",
       "  'accuracy': [0.7741822004318237,\n",
       "   0.9145268797874451,\n",
       "   0.9349278807640076,\n",
       "   0.947942316532135,\n",
       "   0.9602532386779785,\n",
       "   0.9704537391662598,\n",
       "   0.9725642204284668,\n",
       "   0.9792472720146179,\n",
       "   0.9841716289520264,\n",
       "   0.9876890778541565,\n",
       "   0.9901512265205383,\n",
       "   0.9859303832054138,\n",
       "   0.9961308240890503,\n",
       "   0.9926134347915649],\n",
       "  'recall_18': [0.8871268630027771,\n",
       "   0.9500932693481445,\n",
       "   0.95802241563797,\n",
       "   0.9636194109916687,\n",
       "   0.9701492786407471,\n",
       "   0.9790111780166626,\n",
       "   0.9804104566574097,\n",
       "   0.985541045665741,\n",
       "   0.9874067306518555,\n",
       "   0.9911380410194397,\n",
       "   0.9930037260055542,\n",
       "   0.9906716346740723,\n",
       "   0.9967350959777832,\n",
       "   0.9953358173370361],\n",
       "  'val_loss': [0.33943304419517517,\n",
       "   0.3493119776248932,\n",
       "   0.23150424659252167,\n",
       "   0.1962222158908844,\n",
       "   0.3069658577442169,\n",
       "   0.19778256118297577,\n",
       "   0.1625162959098816,\n",
       "   0.1448836326599121,\n",
       "   0.5235224366188049,\n",
       "   0.29091402888298035,\n",
       "   0.12841103971004486,\n",
       "   0.13072055578231812,\n",
       "   0.20400375127792358,\n",
       "   0.16791896522045135],\n",
       "  'val_accuracy': [0.8664713501930237,\n",
       "   0.8585181832313538,\n",
       "   0.9116785526275635,\n",
       "   0.9213060140609741,\n",
       "   0.9003767371177673,\n",
       "   0.9296776652336121,\n",
       "   0.9472582936286926,\n",
       "   0.9522812962532043,\n",
       "   0.8894935250282288,\n",
       "   0.9317706227302551,\n",
       "   0.9686061143875122,\n",
       "   0.9631645083427429,\n",
       "   0.9623273611068726,\n",
       "   0.9606530070304871],\n",
       "  'val_recall_18': [0.859689474105835,\n",
       "   0.9263944625854492,\n",
       "   0.9838988184928894,\n",
       "   0.9286946654319763,\n",
       "   0.9959747195243835,\n",
       "   0.9062679409980774,\n",
       "   0.97929847240448,\n",
       "   0.9459459185600281,\n",
       "   0.9936745166778564,\n",
       "   0.9953996539115906,\n",
       "   0.9827486872673035,\n",
       "   0.978723406791687,\n",
       "   0.957446813583374,\n",
       "   0.9810235500335693]},\n",
       " 'params': {'verbose': 1, 'epochs': 25, 'steps': 45},\n",
       " 'epoch': [0, 1, 2, 3, 4, 5, 6, 7, 8, 9, 10, 11, 12, 13]}"
      ]
     },
     "execution_count": 119,
     "metadata": {},
     "output_type": "execute_result"
    }
   ],
   "source": [
    "hist4.__dict__"
   ]
  },
  {
   "cell_type": "code",
   "execution_count": 120,
   "metadata": {},
   "outputs": [],
   "source": [
    "cnn4_epochs = hist4.epoch\n",
    "cnn4_recall_train = hist4.history['recall_18']\n",
    "cnn4_recall_val = hist4.history['val_recall_18']\n",
    "cnn4_accuracy_train = hist4.history['accuracy']\n",
    "cnn4_accuracy_val = hist4.history['val_accuracy']\n",
    "cnn4_loss_train = hist4.history['loss']\n",
    "cnn4_loss_val = hist4.history['val_loss']"
   ]
  },
  {
   "cell_type": "markdown",
   "metadata": {},
   "source": [
    "## CNN4 - Plotting Metrics"
   ]
  },
  {
   "cell_type": "code",
   "execution_count": 121,
   "metadata": {
    "scrolled": true
   },
   "outputs": [
    {
     "data": {
      "image/png": "[encoded data removed]",
      "text/plain": [
       "<Figure size 576x864 with 3 Axes>"
      ]
     },
     "metadata": {
      "needs_background": "light"
     },
     "output_type": "display_data"
    }
   ],
   "source": [
    "fig, axs = plt.subplots(3, figsize = (8,12))\n",
    "\n",
    "plt.suptitle(\"Tanh Activation, RMS Optimizer, 14 Epochs, 64 Batch Size, ReLu Activation Layer\")\n",
    "\n",
    "axs[0].plot(cnn4_epochs, cnn4_accuracy_train, label = 'Training Accuracy')\n",
    "axs[0].plot(cnn4_epochs, cnn4_accuracy_val, linestyle = '--', label = 'Validation Accuracy')\n",
    "axs[0].set_xlabel(\"Epochs\")\n",
    "axs[0].set_ylabel(\"Accuracy\")\n",
    "\n",
    "\n",
    "\n",
    "axs[1].plot(cnn4_epochs, cnn4_recall_train, label = 'Training Recall')\n",
    "axs[1].plot(cnn4_epochs, cnn4_recall_val, linestyle = '--', label = 'Validation Recall')\n",
    "axs[1].set_xlabel(\"Epochs\")\n",
    "axs[1].set_ylabel(\"Recall\")\n",
    "\n",
    "\n",
    "\n",
    "axs[2].plot(cnn4_epochs, cnn4_loss_train, label = 'Training Loss')\n",
    "axs[2].plot(cnn4_epochs, cnn4_loss_val, linestyle = '--', label = 'Validation Loss')\n",
    "axs[2].set_xlabel(\"Epochs\")\n",
    "axs[2].set_ylabel(\"Loss\")\n",
    "plt.legend();"
   ]
  },
  {
   "cell_type": "markdown",
   "metadata": {},
   "source": [
    "Thus far, CNN4 has been the most succesful when measuring both recall and accuracy. We will use it to predict on the test set."
   ]
  },
  {
   "cell_type": "code",
   "execution_count": 122,
   "metadata": {
    "scrolled": true
   },
   "outputs": [
    {
     "name": "stdout",
     "output_type": "stream",
     "text": [
      "20/20 [==============================] - 3s 152ms/step - loss: 1.8930 - accuracy: 0.7324 - recall_18: 0.9897\n"
     ]
    }
   ],
   "source": [
    "cnn_test_results = cnn4.evaluate(test_images, test_labels)"
   ]
  },
  {
   "cell_type": "code",
   "execution_count": 123,
   "metadata": {},
   "outputs": [],
   "source": [
    "y_pred = np.round(cnn4.predict(test_images)).astype(int)\n",
    "y_true = np.round(test_labels).astype(int)"
   ]
  },
  {
   "cell_type": "code",
   "execution_count": 126,
   "metadata": {},
   "outputs": [
    {
     "data": {
      "text/plain": [
       "array([[ 71, 163],\n",
       "       [  4, 386]], dtype=int64)"
      ]
     },
     "execution_count": 126,
     "metadata": {},
     "output_type": "execute_result"
    }
   ],
   "source": [
    "confusion_matrix(y_true, y_pred)"
   ]
  },
  {
   "cell_type": "code",
   "execution_count": 127,
   "metadata": {},
   "outputs": [
    {
     "name": "stdout",
     "output_type": "stream",
     "text": [
      "F1 score: 0.8221512247071352\n",
      "Accuracy score: 0.7323717948717948\n",
      "Recall score: 0.9897435897435898\n"
     ]
    }
   ],
   "source": [
    "print(f'F1 score: {f1_score(y_true, y_pred)}')\n",
    "print(f'Accuracy score: {accuracy_score(y_true, y_pred)}')\n",
    "print(f'Recall score: {recall_score(y_true, y_pred)}')"
   ]
  },
  {
   "cell_type": "markdown",
   "metadata": {},
   "source": [
    "## Application of Transfer Learning"
   ]
  },
  {
   "cell_type": "markdown",
   "metadata": {},
   "source": [
    "The test performed well in regard to recall, but did struggle with accuracy and a high rate of false positives. While in the scope of this problem this is not as much of an issue, a stronger model would help reduce the cost of misdiagnosis to healthcare companies as well as the emotional toll of repeated hospital visits to patients.\n",
    "\n",
    "We have chosen to first apply a transfer learning method by using a convolutional base trained on the ImageNet dataset of over 1.2 million images. Because the images we are classifying are binary, we will set `include_top` to `False` as the top few layers of this model will not be useful for the task.  \n",
    "We selected using the EfficientNet model due to its relatively low weight and high performance."
   ]
  },
  {
   "cell_type": "code",
   "execution_count": 134,
   "metadata": {},
   "outputs": [],
   "source": [
    "from tensorflow.keras.applications import EfficientNetB0"
   ]
  },
  {
   "cell_type": "markdown",
   "metadata": {},
   "source": [
    "The images had to be converted into an rgb-esque format with 3 channels for them to work with the convolutional base's architecture, so we generated a new dataset to fit the requirement."
   ]
  },
  {
   "cell_type": "code",
   "execution_count": 135,
   "metadata": {},
   "outputs": [
    {
     "name": "stdout",
     "output_type": "stream",
     "text": [
      "Found 2843 images belonging to 2 classes.\n",
      "Found 2389 images belonging to 2 classes.\n",
      "Found 624 images belonging to 2 classes.\n"
     ]
    }
   ],
   "source": [
    "transfer_train_gen = ImageDataGenerator(rescale = 1/255.).flow_from_directory(train_path,\n",
    "                                                 target_size=(224, 224),\n",
    "                                                 batch_size=2843,\n",
    "                                                 color_mode = 'rgb',                \n",
    "                                                 )\n",
    "\n",
    "transfer_val_gen = ImageDataGenerator(rescale = 1/255.).flow_from_directory(validation_path,\n",
    "                                            target_size=(224, 224),\n",
    "                                            shuffle=True,\n",
    "                                            batch_size=2389,\n",
    "                                            color_mode = 'rgb',                      \n",
    "                                            )\n",
    "\n",
    "transfer_test_gen = ImageDataGenerator(rescale = 1/255.).flow_from_directory(test_path,\n",
    "                                            target_size=(224, 224),\n",
    "                                            batch_size=624,\n",
    "                                            color_mode = 'rgb',                        \n",
    "                                            )\n"
   ]
  },
  {
   "cell_type": "code",
   "execution_count": 136,
   "metadata": {},
   "outputs": [],
   "source": [
    "conv_base = EfficientNetB0(include_top = False, \n",
    "                           weights = 'imagenet',\n",
    "                           classes = 2)"
   ]
  },
  {
   "cell_type": "code",
   "execution_count": 137,
   "metadata": {},
   "outputs": [],
   "source": [
    "transfer_model = models.Sequential()\n",
    "transfer_model.add(conv_base)\n",
    "transfer_model.add(layers.GlobalMaxPooling2D())\n",
    "\n",
    "transfer_model.add(Dropout(.3))\n",
    "transfer_model.add(layers.Flatten())\n",
    "transfer_model.add(layers.Dense(64, activation='relu'))\n",
    "transfer_model.add(layers.Dense(1, activation='sigmoid'))##the layers on top are similar to the final scratch model's layers"
   ]
  },
  {
   "cell_type": "code",
   "execution_count": 138,
   "metadata": {},
   "outputs": [
    {
     "name": "stdout",
     "output_type": "stream",
     "text": [
      "efficientnetb0 False\n",
      "global_max_pooling2d_1 True\n",
      "dropout_4 True\n",
      "flatten_11 True\n",
      "dense_32 True\n",
      "dense_33 True\n",
      "4\n"
     ]
    }
   ],
   "source": [
    "conv_base.trainable = False\n",
    "\n",
    "for layer in transfer_model.layers:\n",
    "    print(layer.name, layer.trainable)\n",
    "\n",
    "print(len(transfer_model.trainable_weights))"
   ]
  },
  {
   "cell_type": "code",
   "execution_count": 139,
   "metadata": {},
   "outputs": [],
   "source": [
    "transfer_model.compile(loss='binary_crossentropy',\n",
    "              optimizer='rmsprop',\n",
    "              metrics=(['accuracy'], metrics.Recall()))\n",
    "##instantiating Early Stopping with a 3-epoch tolerance for minimizing the validation loss"
   ]
  },
  {
   "cell_type": "code",
   "execution_count": null,
   "metadata": {},
   "outputs": [
    {
     "name": "stdout",
     "output_type": "stream",
     "text": [
      "Epoch 1/20\n"
     ]
    }
   ],
   "source": [
    "np.random.seed(123)\n",
    "conv_base_history = transfer_model.fit(transfer_train_gen,  \n",
    "                                       epochs = 20, \n",
    "                                       batch_size = 32, \n",
    "                                       validation_data=transfer_val_gen, \n",
    "                                       callbacks = [es])"
   ]
  },
  {
   "cell_type": "code",
   "execution_count": 92,
   "metadata": {
    "scrolled": true
   },
   "outputs": [
    {
     "data": {
      "text/plain": [
       "{'validation_data': None,\n",
       " 'model': <tensorflow.python.keras.engine.sequential.Sequential at 0x1f08f7017f0>,\n",
       " '_chief_worker_only': None,\n",
       " '_supports_tf_logs': False,\n",
       " 'history': {'loss': [0.8272767066955566,\n",
       "   0.6617735624313354,\n",
       "   0.5785691142082214,\n",
       "   0.5739938616752625,\n",
       "   0.5770297646522522],\n",
       "  'accuracy': [0.6572375297546387,\n",
       "   0.7097349762916565,\n",
       "   0.7438837885856628,\n",
       "   0.743628978729248,\n",
       "   0.743628978729248],\n",
       "  'recall_7': [0.8152844309806824, 0.9342014789581299, 1.0, 1.0, 1.0],\n",
       "  'val_loss': [0.6259242296218872,\n",
       "   0.5753017663955688,\n",
       "   0.5760843753814697,\n",
       "   0.5756241679191589,\n",
       "   0.5759062767028809],\n",
       "  'val_accuracy': [0.7377675771713257,\n",
       "   0.7377675771713257,\n",
       "   0.7377675771713257,\n",
       "   0.7377675771713257,\n",
       "   0.7377675771713257],\n",
       "  'val_recall_7': [1.0, 1.0, 1.0, 1.0, 1.0]},\n",
       " 'params': {'verbose': 1, 'epochs': 20, 'steps': 123},\n",
       " 'epoch': [0, 1, 2, 3, 4]}"
      ]
     },
     "execution_count": 92,
     "metadata": {},
     "output_type": "execute_result"
    }
   ],
   "source": [
    "conv_base_history.__dict__"
   ]
  },
  {
   "cell_type": "code",
   "execution_count": 93,
   "metadata": {},
   "outputs": [],
   "source": [
    "conv_epochs = conv_base_history.epoch\n",
    "\n",
    "conv_loss = conv_base_history.history['loss']\n",
    "conv_accuracy = conv_base_history.history['accuracy']\n",
    "conv_recall = conv_base_history.history['recall_7']\n",
    "\n",
    "conv_val_loss = conv_base_history.history['val_loss']\n",
    "conv_val_accuracy = conv_base_history.history['val_accuracy']\n",
    "conv_val_recall = conv_base_history.history['val_recall_7']"
   ]
  },
  {
   "cell_type": "code",
   "execution_count": 94,
   "metadata": {},
   "outputs": [
    {
     "data": {
      "image/png": "[encoded data removed]",
      "text/plain": [
       "<Figure size 576x432 with 1 Axes>"
      ]
     },
     "metadata": {
      "needs_background": "light"
     },
     "output_type": "display_data"
    }
   ],
   "source": [
    "fig, ax = plt.subplots(figsize = (8,6))\n",
    "\n",
    "ax.plot(conv_epochs, conv_accuracy, label = 'Training Accuracy')\n",
    "ax.plot(conv_epochs, conv_val_accuracy, linestyle = '--', label = 'Validation Accuracy')\n",
    "ax.set_xlabel(\"Epochs\")\n",
    "ax.set_ylabel(\"Accuracy\")\n",
    "plt.legend();"
   ]
  },
  {
   "cell_type": "code",
   "execution_count": 95,
   "metadata": {},
   "outputs": [
    {
     "data": {
      "image/png": "[encoded data removed]",
      "text/plain": [
       "<Figure size 576x432 with 1 Axes>"
      ]
     },
     "metadata": {
      "needs_background": "light"
     },
     "output_type": "display_data"
    }
   ],
   "source": [
    "fig, ax = plt.subplots(figsize = (8,6))\n",
    "\n",
    "ax.plot(conv_epochs, conv_loss, label = 'Training Loss')\n",
    "ax.plot(conv_epochs, conv_val_loss, linestyle = '--', label = 'Validation Loss')\n",
    "ax.set_xlabel(\"Epochs\")\n",
    "ax.set_ylabel(\"Loss\")\n",
    "plt.legend();"
   ]
  },
  {
   "cell_type": "code",
   "execution_count": 96,
   "metadata": {},
   "outputs": [
    {
     "data": {
      "image/png": "[encoded data removed]",
      "text/plain": [
       "<Figure size 576x432 with 1 Axes>"
      ]
     },
     "metadata": {
      "needs_background": "light"
     },
     "output_type": "display_data"
    }
   ],
   "source": [
    "fig, ax = plt.subplots(figsize = (8,6))\n",
    "\n",
    "ax.plot(conv_epochs, conv_recall, label = 'Training Recall')\n",
    "ax.plot(conv_epochs, conv_val_recall, linestyle = '--', label = 'Validation Recall')\n",
    "ax.set_xlabel(\"Epochs\")\n",
    "ax.set_ylabel(\"Recall\")\n",
    "plt.legend();"
   ]
  },
  {
   "cell_type": "code",
   "execution_count": 97,
   "metadata": {},
   "outputs": [
    {
     "name": "stdout",
     "output_type": "stream",
     "text": [
      "164/164 [==============================] - 185s 1s/step - loss: 0.5710 - accuracy: 0.7422 - recall_7: 1.0000\n"
     ]
    }
   ],
   "source": [
    "base_train_results = transfer_model.evaluate(rgb_train_images, train_y_rgb)"
   ]
  },
  {
   "cell_type": "code",
   "execution_count": 98,
   "metadata": {},
   "outputs": [],
   "source": [
    "np.random.seed(111)\n",
    "y_test_preds = transfer_model.predict(rgb_test_images)\n",
    "y_test_pred_rgb = np.round(y_test_preds).astype(int)"
   ]
  },
  {
   "cell_type": "code",
   "execution_count": 99,
   "metadata": {
    "scrolled": true
   },
   "outputs": [
    {
     "data": {
      "text/plain": [
       "array([[  0, 234],\n",
       "       [  0, 390]], dtype=int64)"
      ]
     },
     "execution_count": 99,
     "metadata": {},
     "output_type": "execute_result"
    }
   ],
   "source": [
    "y_test_true_rgb = test_y_rgb.astype(int)\n",
    "confusion_matrix(y_test_true_rgb, y_test_pred_rgb)"
   ]
  },
  {
   "cell_type": "markdown",
   "metadata": {},
   "source": [
    "This model only predicted the positive class, with no false negatives. As far as usefulness goes, this model does not fit the bill. The next step here may be using data augmentation. "
   ]
  },
  {
   "cell_type": "markdown",
   "metadata": {},
   "source": [
    "## Transfer Learning Attempt 2"
   ]
  },
  {
   "cell_type": "code",
   "execution_count": 299,
   "metadata": {},
   "outputs": [],
   "source": [
    "cnn2_base = EfficientNetB0(include_top = False, \n",
    "                           weights = 'imagenet',\n",
    "                           classes = 2, \n",
    "                           classifier_activation = 'tanh',\n",
    "                           drop_connect_rate = .4)"
   ]
  },
  {
   "cell_type": "code",
   "execution_count": 300,
   "metadata": {},
   "outputs": [],
   "source": [
    "cnn2_model = models.Sequential()\n",
    "cnn2_model.add(cnn2_base)\n",
    "\n",
    "cnn2_model.add(layers.GlobalMaxPooling2D())\n",
    "\n",
    "\n",
    "cnn2_model.add(layers.Dropout(.4, name=\"dropout_out\"))\n",
    "cnn2_model.add(layers.Dense(256, activation=\"relu\"))\n",
    "cnn2_model.add(layers.Dense(128, activation=\"relu\"))\n",
    "cnn2_model.add(layers.Dense(64, activation=\"relu\"))\n",
    "cnn2_model.add(layers.Dense(2, activation=\"sigmoid\", name=\"fc_out\"))"
   ]
  },
  {
   "cell_type": "code",
   "execution_count": 284,
   "metadata": {
    "scrolled": false
   },
   "outputs": [
    {
     "name": "stdout",
     "output_type": "stream",
     "text": [
      "efficientnetb0 False\n",
      "global_max_pooling2d_38 True\n",
      "dropout_out True\n",
      "dense_70 True\n",
      "dense_71 True\n",
      "dense_72 True\n",
      "fc_out True\n",
      "8\n"
     ]
    }
   ],
   "source": [
    "cnn2_base.trainable = False\n",
    "\n",
    "for layer in cnn2_model.layers:\n",
    "    print(layer.name, layer.trainable)\n",
    "\n",
    "print(len(cnn2_model.trainable_weights))"
   ]
  },
  {
   "cell_type": "code",
   "execution_count": 285,
   "metadata": {},
   "outputs": [
    {
     "name": "stdout",
     "output_type": "stream",
     "text": [
      "Model: \"sequential_57\"\n",
      "_________________________________________________________________\n",
      "Layer (type)                 Output Shape              Param #   \n",
      "=================================================================\n",
      "efficientnetb0 (Functional)  (None, None, None, 1280)  4049571   \n",
      "_________________________________________________________________\n",
      "global_max_pooling2d_38 (Glo (None, 1280)              0         \n",
      "_________________________________________________________________\n",
      "dropout_out (Dropout)        (None, 1280)              0         \n",
      "_________________________________________________________________\n",
      "dense_70 (Dense)             (None, 256)               327936    \n",
      "_________________________________________________________________\n",
      "dense_71 (Dense)             (None, 128)               32896     \n",
      "_________________________________________________________________\n",
      "dense_72 (Dense)             (None, 64)                8256      \n",
      "_________________________________________________________________\n",
      "fc_out (Dense)               (None, 2)                 130       \n",
      "=================================================================\n",
      "Total params: 4,418,789\n",
      "Trainable params: 369,218\n",
      "Non-trainable params: 4,049,571\n",
      "_________________________________________________________________\n"
     ]
    }
   ],
   "source": [
    "cnn2_model.summary()"
   ]
  },
  {
   "cell_type": "code",
   "execution_count": 290,
   "metadata": {},
   "outputs": [],
   "source": [
    "cnn2_model.compile(loss='binary_crossentropy',\n",
    "              optimizer='adam',\n",
    "              metrics=(['accuracy'], metrics.Recall()))"
   ]
  },
  {
   "cell_type": "code",
   "execution_count": 291,
   "metadata": {
    "scrolled": true
   },
   "outputs": [
    {
     "name": "stdout",
     "output_type": "stream",
     "text": [
      "Epoch 1/20\n",
      "178/178 - 249s - loss: 0.8839 - accuracy: 0.7541 - recall_36: 0.4372 - val_loss: 0.9231 - val_accuracy: 0.7279 - val_recall_36: 0.0000e+00\n",
      "Epoch 2/20\n",
      "178/178 - 231s - loss: 0.8870 - accuracy: 0.7541 - recall_36: 0.3757 - val_loss: 0.9328 - val_accuracy: 0.7279 - val_recall_36: 0.7279\n",
      "Epoch 3/20\n",
      "178/178 - 230s - loss: 0.8779 - accuracy: 0.7541 - recall_36: 0.4066 - val_loss: 0.8966 - val_accuracy: 0.7279 - val_recall_36: 0.0000e+00\n",
      "Epoch 4/20\n",
      "178/178 - 233s - loss: 0.8766 - accuracy: 0.7541 - recall_36: 0.3908 - val_loss: 0.8969 - val_accuracy: 0.7279 - val_recall_36: 0.0000e+00\n",
      "Epoch 5/20\n",
      "178/178 - 230s - loss: 0.8725 - accuracy: 0.7541 - recall_36: 0.4070 - val_loss: 0.8969 - val_accuracy: 0.7279 - val_recall_36: 0.0000e+00\n",
      "Epoch 6/20\n",
      "178/178 - 232s - loss: 0.8745 - accuracy: 0.7541 - recall_36: 0.3591 - val_loss: 0.8962 - val_accuracy: 0.7279 - val_recall_36: 0.0000e+00\n",
      "Epoch 7/20\n",
      "178/178 - 238s - loss: 0.8735 - accuracy: 0.7541 - recall_36: 0.4045 - val_loss: 0.9018 - val_accuracy: 0.7279 - val_recall_36: 0.0000e+00\n",
      "Epoch 8/20\n",
      "178/178 - 231s - loss: 0.8747 - accuracy: 0.7541 - recall_36: 0.4446 - val_loss: 0.8963 - val_accuracy: 0.7279 - val_recall_36: 0.0000e+00\n",
      "Epoch 9/20\n",
      "178/178 - 234s - loss: 0.8765 - accuracy: 0.7541 - recall_36: 0.3880 - val_loss: 0.8965 - val_accuracy: 0.7279 - val_recall_36: 0.0000e+00\n",
      "Epoch 00009: early stopping\n"
     ]
    }
   ],
   "source": [
    "history = cnn2_model.fit(x = rgb_training_images, y = rgb_training_labels,  \n",
    "    epochs = 20,\n",
    "    batch_size = 16, \n",
    "    validation_data = (rgb_val_images, rgb_val_labels),\n",
    "    verbose = 2, \n",
    "    callbacks = [es])"
   ]
  },
  {
   "cell_type": "code",
   "execution_count": 292,
   "metadata": {
    "scrolled": true
   },
   "outputs": [
    {
     "name": "stdout",
     "output_type": "stream",
     "text": [
      "75/75 [==============================] - 95s 1s/step - loss: 0.8965 - accuracy: 0.7279 - recall_36: 0.0000e+00\n"
     ]
    }
   ],
   "source": [
    "train_results = cnn2_model.evaluate(rgb_val_images, rgb_val_labels)"
   ]
  },
  {
   "cell_type": "code",
   "execution_count": 294,
   "metadata": {},
   "outputs": [],
   "source": [
    "y_preds = np.round(cnn2_model.predict(rgb_training_images)).astype(int)\n",
    "y_true = rgb_training_labels.astype(int)"
   ]
  },
  {
   "cell_type": "code",
   "execution_count": 297,
   "metadata": {},
   "outputs": [
    {
     "data": {
      "text/plain": [
       "0"
      ]
     },
     "execution_count": 297,
     "metadata": {},
     "output_type": "execute_result"
    }
   ],
   "source": []
  },
  {
   "cell_type": "code",
   "execution_count": 295,
   "metadata": {},
   "outputs": [
    {
     "ename": "ValueError",
     "evalue": "multilabel-indicator is not supported",
     "output_type": "error",
     "traceback": [
      "\u001b[1;31m---------------------------------------------------------------------------\u001b[0m",
      "\u001b[1;31mValueError\u001b[0m                                Traceback (most recent call last)",
      "\u001b[1;32m<ipython-input-295-b41bc693eecf>\u001b[0m in \u001b[0;36m<module>\u001b[1;34m\u001b[0m\n\u001b[1;32m----> 1\u001b[1;33m \u001b[0mconfusion_matrix\u001b[0m\u001b[1;33m(\u001b[0m\u001b[0my_true\u001b[0m\u001b[1;33m,\u001b[0m \u001b[0my_preds\u001b[0m\u001b[1;33m)\u001b[0m\u001b[1;33m\u001b[0m\u001b[1;33m\u001b[0m\u001b[0m\n\u001b[0m",
      "\u001b[1;32m~\\anaconda3\\envs\\learn-env\\lib\\site-packages\\sklearn\\utils\\validation.py\u001b[0m in \u001b[0;36minner_f\u001b[1;34m(*args, **kwargs)\u001b[0m\n\u001b[0;32m     70\u001b[0m                           FutureWarning)\n\u001b[0;32m     71\u001b[0m         \u001b[0mkwargs\u001b[0m\u001b[1;33m.\u001b[0m\u001b[0mupdate\u001b[0m\u001b[1;33m(\u001b[0m\u001b[1;33m{\u001b[0m\u001b[0mk\u001b[0m\u001b[1;33m:\u001b[0m \u001b[0marg\u001b[0m \u001b[1;32mfor\u001b[0m \u001b[0mk\u001b[0m\u001b[1;33m,\u001b[0m \u001b[0marg\u001b[0m \u001b[1;32min\u001b[0m \u001b[0mzip\u001b[0m\u001b[1;33m(\u001b[0m\u001b[0msig\u001b[0m\u001b[1;33m.\u001b[0m\u001b[0mparameters\u001b[0m\u001b[1;33m,\u001b[0m \u001b[0margs\u001b[0m\u001b[1;33m)\u001b[0m\u001b[1;33m}\u001b[0m\u001b[1;33m)\u001b[0m\u001b[1;33m\u001b[0m\u001b[1;33m\u001b[0m\u001b[0m\n\u001b[1;32m---> 72\u001b[1;33m         \u001b[1;32mreturn\u001b[0m \u001b[0mf\u001b[0m\u001b[1;33m(\u001b[0m\u001b[1;33m**\u001b[0m\u001b[0mkwargs\u001b[0m\u001b[1;33m)\u001b[0m\u001b[1;33m\u001b[0m\u001b[1;33m\u001b[0m\u001b[0m\n\u001b[0m\u001b[0;32m     73\u001b[0m     \u001b[1;32mreturn\u001b[0m \u001b[0minner_f\u001b[0m\u001b[1;33m\u001b[0m\u001b[1;33m\u001b[0m\u001b[0m\n\u001b[0;32m     74\u001b[0m \u001b[1;33m\u001b[0m\u001b[0m\n",
      "\u001b[1;32m~\\anaconda3\\envs\\learn-env\\lib\\site-packages\\sklearn\\metrics\\_classification.py\u001b[0m in \u001b[0;36mconfusion_matrix\u001b[1;34m(y_true, y_pred, labels, sample_weight, normalize)\u001b[0m\n\u001b[0;32m    276\u001b[0m     \u001b[0my_type\u001b[0m\u001b[1;33m,\u001b[0m \u001b[0my_true\u001b[0m\u001b[1;33m,\u001b[0m \u001b[0my_pred\u001b[0m \u001b[1;33m=\u001b[0m \u001b[0m_check_targets\u001b[0m\u001b[1;33m(\u001b[0m\u001b[0my_true\u001b[0m\u001b[1;33m,\u001b[0m \u001b[0my_pred\u001b[0m\u001b[1;33m)\u001b[0m\u001b[1;33m\u001b[0m\u001b[1;33m\u001b[0m\u001b[0m\n\u001b[0;32m    277\u001b[0m     \u001b[1;32mif\u001b[0m \u001b[0my_type\u001b[0m \u001b[1;32mnot\u001b[0m \u001b[1;32min\u001b[0m \u001b[1;33m(\u001b[0m\u001b[1;34m\"binary\"\u001b[0m\u001b[1;33m,\u001b[0m \u001b[1;34m\"multiclass\"\u001b[0m\u001b[1;33m)\u001b[0m\u001b[1;33m:\u001b[0m\u001b[1;33m\u001b[0m\u001b[1;33m\u001b[0m\u001b[0m\n\u001b[1;32m--> 278\u001b[1;33m         \u001b[1;32mraise\u001b[0m \u001b[0mValueError\u001b[0m\u001b[1;33m(\u001b[0m\u001b[1;34m\"%s is not supported\"\u001b[0m \u001b[1;33m%\u001b[0m \u001b[0my_type\u001b[0m\u001b[1;33m)\u001b[0m\u001b[1;33m\u001b[0m\u001b[1;33m\u001b[0m\u001b[0m\n\u001b[0m\u001b[0;32m    279\u001b[0m \u001b[1;33m\u001b[0m\u001b[0m\n\u001b[0;32m    280\u001b[0m     \u001b[1;32mif\u001b[0m \u001b[0mlabels\u001b[0m \u001b[1;32mis\u001b[0m \u001b[1;32mNone\u001b[0m\u001b[1;33m:\u001b[0m\u001b[1;33m\u001b[0m\u001b[1;33m\u001b[0m\u001b[0m\n",
      "\u001b[1;31mValueError\u001b[0m: multilabel-indicator is not supported"
     ]
    }
   ],
   "source": [
    "confusion_matrix(y_true, y_preds)"
   ]
  },
  {
   "cell_type": "markdown",
   "metadata": {},
   "source": [
    "## Using LIME to interpret meaningful parts of images"
   ]
  },
  {
   "cell_type": "code",
   "execution_count": null,
   "metadata": {},
   "outputs": [],
   "source": [
    "#pip install lime"
   ]
  },
  {
   "cell_type": "code",
   "execution_count": 117,
   "metadata": {},
   "outputs": [],
   "source": [
    "import os\n",
    "import keras\n",
    "from tensorflow.keras.applications import inception_v3 as inc_net\n",
    "from tensorflow.keras.preprocessing import image\n",
    "from keras.applications.imagenet_utils import decode_predictions\n",
    "from lime import lime_image\n",
    "import time\n",
    "from skimage.segmentation import mark_boundaries\n",
    "from skimage.io import imread"
   ]
  },
  {
   "cell_type": "code",
   "execution_count": 118,
   "metadata": {},
   "outputs": [],
   "source": [
    "path_list = []\n",
    "for pic in test_dir_pneumonia:\n",
    "    #print(pic)\n",
    "    path_list.append('../data/chest_xray/test/PNEUMONIA/' + pic)\n",
    "#creates a list of the file path foreach image in pneumonia"
   ]
  },
  {
   "cell_type": "code",
   "execution_count": 135,
   "metadata": {},
   "outputs": [],
   "source": [
    "def transform_img_fn(path_list):\n",
    "    \"\"\"Takes in a list of file paths from images, loads the images, \n",
    "    transforms the images adn outputs arrays fro these images\"\"\"\n",
    "    out = []\n",
    "    for img_path in path_list:\n",
    "        img = image.load_img(img_path, target_size=(224, 224, 3), color_mode = 'rgb')\n",
    "        x = image.img_to_array(img)\n",
    "        x = np.expand_dims(x, axis=0)\n",
    "        x = np.divide(x, 255.0).astype('double')\n",
    "        out.append(x)\n",
    "    return np.vstack(out)"
   ]
  },
  {
   "cell_type": "code",
   "execution_count": 136,
   "metadata": {},
   "outputs": [],
   "source": [
    "X = transform_img_fn(path_list)\n",
    "#transforms all images and puts in list\n",
    "\n",
    "#yhat_test = model5.predict(X)"
   ]
  },
  {
   "cell_type": "code",
   "execution_count": 110,
   "metadata": {
    "scrolled": false
   },
   "outputs": [
    {
     "data": {
      "text/plain": [
       "((array([281], dtype=int64), array([0], dtype=int64)),\n",
       " (array([85], dtype=int64), array([0], dtype=int64)))"
      ]
     },
     "execution_count": 110,
     "metadata": {},
     "output_type": "execute_result"
    }
   ],
   "source": [
    "yhat_min = yhat_test == min(yhat_test)\n",
    "\n",
    "yhat_max = yhat_test == max(yhat_test)\n",
    "\n",
    "np.where (yhat_test ==  min(yhat_test)), np.where(yhat_test == max(yhat_test))\n",
    "#how to find hte minimum"
   ]
  },
  {
   "cell_type": "code",
   "execution_count": 111,
   "metadata": {},
   "outputs": [],
   "source": [
    "min_explainer = lime_image.LimeImageExplainer()\n",
    "\n",
    "max_explainer = lime_image.LimeImageExplainer()\n",
    "#instantiate explainer obj"
   ]
  },
  {
   "cell_type": "code",
   "execution_count": null,
   "metadata": {},
   "outputs": [],
   "source": [
    "#min_explanation = min_explainer.explain_instance(###, model5.predict, top_labels=5, hide_color=0, num_samples=1000)\n",
    "\n",
    "#max_explanation = max_explainer.explain_instance(test_images[85], model5.predict, top_labels=5, hide_color=0, num_samples=1000)"
   ]
  },
  {
   "cell_type": "code",
   "execution_count": null,
   "metadata": {},
   "outputs": [],
   "source": [
    "min_temp, min_mask = min_explanation.get_image_and_mask(min_explanation.top_labels[0], positive_only=True, num_features=5, hide_rest=False)\n",
    "plt.imshow(mark_boundaries(min_temp / 2 + 0.5, min_mask))\n",
    "\n",
    "\n",
    "max_temp, max_mask = max_explanation.get_image_and_mask(max_explanation.top_labels[0], positive_only=True, num_features=5, hide_rest=False)\n",
    "plt.imshow(mark_boundaries(max_temp / 2 + 0.5, max_mask))"
   ]
  }
 ],
 "metadata": {
  "kernelspec": {
   "display_name": "Python 3",
   "language": "python",
   "name": "python3"
  },
  "language_info": {
   "codemirror_mode": {
    "name": "ipython",
    "version": 3
   },
   "file_extension": ".py",
   "mimetype": "text/x-python",
   "name": "python",
   "nbconvert_exporter": "python",
   "pygments_lexer": "ipython3",
   "version": "3.8.5"
  }
 },
 "nbformat": 4,
 "nbformat_minor": 4
}
