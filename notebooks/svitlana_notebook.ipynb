{
 "cells": [
  {
   "cell_type": "code",
   "execution_count": 1,
   "metadata": {},
   "outputs": [],
   "source": [
    "import matplotlib.pyplot as plt\n",
    "%matplotlib inline\n",
    "import seaborn as sns\n",
    "import numpy as np\n",
    "from scipy import ndimage\n",
    "import pandas as pd\n",
    "\n",
    "from sklearn.metrics import plot_confusion_matrix, confusion_matrix, f1_score, accuracy_score, recall_score\n",
    "\n",
    "from tensorflow.keras import models, layers, metrics\n",
    "from tensorflow.keras.preprocessing.image import ImageDataGenerator, load_img, array_to_img, img_to_array\n",
    "\n",
    "from PIL import Image\n",
    "\n",
    "\n",
    "from tensorflow.keras import layers\n",
    "from tensorflow.keras.models import Sequential\n",
    "from tensorflow.keras.layers import Dense, Dropout, Flatten, BatchNormalization, \\\n",
    "Activation, Conv2D, MaxPooling2D, ZeroPadding2D, GlobalAveragePooling2D\n",
    "from tensorflow.keras.regularizers import l2\n",
    "from tensorflow.keras.optimizers import SGD\n",
    "from tensorflow.keras.wrappers import scikit_learn\n",
    "from tensorflow.keras.callbacks import EarlyStopping\n",
    "from keras.layers.advanced_activations import LeakyReLU\n",
    "\n",
    "import os"
   ]
  },
  {
   "cell_type": "code",
   "execution_count": 2,
   "metadata": {},
   "outputs": [],
   "source": [
    "base_dir='../data/chest_xray/'\n",
    "\n",
    "train_path = '../data/chest_xray/train'\n",
    "\n",
    "validation_path = '../data/chest_xray/val'\n",
    "\n",
    "test_path = '../data/chest_xray/test'\n",
    "\n",
    "full_train_path = '../data/chest_xray/full_train'\n",
    "\n",
    "##paths to different folders and types of data"
   ]
  },
  {
   "cell_type": "code",
   "execution_count": 3,
   "metadata": {},
   "outputs": [],
   "source": [
    "train_pneumonia=os.listdir('../data/chest_xray/train/PNEUMONIA/')\n",
    "train_normal=os.listdir('../data/chest_xray/train/NORMAL/')\n",
    "val_dir_normal=os.listdir('../data/chest_xray/val/NORMAL/')\n",
    "test_dir_normal=os.listdir('../data/chest_xray/test/NORMAL/')\n",
    "val_dir_pneumonia=os.listdir('../data/chest_xray/val/PNEUMONIA/')\n",
    "test_dir_pneumonia=os.listdir('../data/chest_xray/test/PNEUMONIA/')\n",
    "\n",
    "\n",
    "##trying out combining training and validation sets and using a validation ratio when fitting models\n",
    "full_train_pneumonia = os.listdir('../data/chest_xray/full_train/PNEUMONIA')\n",
    "full_train_normal = os.listdir('../data/chest_xray/full_train/NORMAL')\n",
    "\n",
    "\n",
    "##list object containing 'NORMAL' & 'PNEUMONIA'\n",
    "label_string = os.listdir('../data/chest_xray/train')"
   ]
  },
  {
   "cell_type": "code",
   "execution_count": 4,
   "metadata": {},
   "outputs": [],
   "source": [
    "# Greyscale distribution histogram - done, Jamie\n",
    "# Class distribution - heavily weighted towards positive class (pneumonia) - done, Jamie\n",
    "# Address class imbalance - incorporate flipped 0-class images - Rachel wrote a function for this\n",
    "# Mean values for negative and positive classes - Svitlana \n",
    "# Look for outliers\n",
    "# Look at subracting the pixel mean\n",
    "# Apply matrix transformations to further define images - \n",
    "# Data Augmentation - Svitlana will make an attempt"
   ]
  },
  {
   "cell_type": "code",
   "execution_count": 5,
   "metadata": {
    "scrolled": false
   },
   "outputs": [
    {
     "name": "stdout",
     "output_type": "stream",
     "text": [
      "Train set w/ pneumonia:  2144\n",
      "Train set normal:  699\n",
      "Validation set w/ pneumonia:  1739\n",
      "Validation set normal:  650\n",
      "Test set w/ pneumonia:  390\n",
      "Test set normal:  234\n",
      "Full training set w/pneumonia (combined w/validation):  3883\n",
      "Full training set normal (combined w/validation):  1349\n"
     ]
    }
   ],
   "source": [
    "print(\"Train set w/ pneumonia: \", len(train_pneumonia))\n",
    "print(\"Train set normal: \", len(train_normal))\n",
    "print(\"Validation set w/ pneumonia: \", len(val_dir_pneumonia))\n",
    "print(\"Validation set normal: \", len(val_dir_normal))\n",
    "print(\"Test set w/ pneumonia: \", len(test_dir_pneumonia))\n",
    "print(\"Test set normal: \", len(test_dir_normal))\n",
    "print(\"Full training set w/pneumonia (combined w/validation): \", len(full_train_pneumonia))\n",
    "print(\"Full training set normal (combined w/validation): \", len(full_train_normal))"
   ]
  },
  {
   "cell_type": "code",
   "execution_count": 6,
   "metadata": {},
   "outputs": [
    {
     "data": {
      "text/plain": [
       "(2843, 2389, 624, 5232)"
      ]
     },
     "execution_count": 6,
     "metadata": {},
     "output_type": "execute_result"
    }
   ],
   "source": [
    "2144+699, 1739+650, 390+234, 3883+1349 ##total values for batch sizes"
   ]
  },
  {
   "cell_type": "code",
   "execution_count": 7,
   "metadata": {
    "scrolled": true
   },
   "outputs": [
    {
     "data": {
      "image/png": "[encoded data removed]",
      "text/plain": [
       "<Figure size 432x288 with 1 Axes>"
      ]
     },
     "metadata": {
      "needs_background": "light"
     },
     "output_type": "display_data"
    }
   ],
   "source": [
    "labels = ['Train Pneumonia', 'Train Normal', 'Val. Pneumonia', 'Val. Normal', 'Test Pneumonia', 'Test Normal']\n",
    "dist = sns.barplot(x=labels, \n",
    "           y=[len(train_pneumonia), len(train_normal), len(val_dir_pneumonia), len(val_dir_normal), len(test_dir_pneumonia), len(test_dir_normal)],)\n",
    "\n",
    "dist.set_xticklabels(labels = labels, rotation = 30);"
   ]
  },
  {
   "cell_type": "markdown",
   "metadata": {},
   "source": [
    "There is a class imbalance between the positive class (pneumonia) and negative class (normal), which could potentially pose a challenge when training the model. We will be experimenting with data augmentation should the need arise."
   ]
  },
  {
   "cell_type": "code",
   "execution_count": 8,
   "metadata": {},
   "outputs": [
    {
     "data": {
      "text/plain": [
       "<Figure size 432x288 with 0 Axes>"
      ]
     },
     "metadata": {},
     "output_type": "display_data"
    }
   ],
   "source": [
    "#loading images for training set - pneumonia\n",
    "\n",
    "plt.suptitle(\"Patients with Pneumonia\")\n",
    "for i in range(0,4):\n",
    "    img = train_pneumonia[i]\n",
    "    img = load_img(train_path+'/PNEUMONIA/'+img)\n",
    "#   plt.imshow(img)\n",
    "#   plt.show()"
   ]
  },
  {
   "cell_type": "code",
   "execution_count": 9,
   "metadata": {},
   "outputs": [
    {
     "data": {
      "text/plain": [
       "<Figure size 432x288 with 0 Axes>"
      ]
     },
     "metadata": {},
     "output_type": "display_data"
    }
   ],
   "source": [
    "#loading images for training set - normal\n",
    "\n",
    "plt.suptitle(\"Normal Patients\")\n",
    "for i in range(0,4):\n",
    "    img = train_normal[i]\n",
    "    img = load_img(train_path+'/NORMAL/'+img)\n",
    "#    plt.imshow(img)\n",
    "#    plt.show()"
   ]
  },
  {
   "cell_type": "code",
   "execution_count": 10,
   "metadata": {},
   "outputs": [
    {
     "name": "stdout",
     "output_type": "stream",
     "text": [
      "Found 2843 images belonging to 2 classes.\n",
      "Found 2389 images belonging to 2 classes.\n",
      "Found 624 images belonging to 2 classes.\n",
      "Found 5232 images belonging to 2 classes.\n"
     ]
    }
   ],
   "source": [
    "train_gen = ImageDataGenerator(rescale = 1/255.).flow_from_directory(train_path,\n",
    "                                                 target_size=(224, 224),\n",
    "                                                 batch_size=2843,\n",
    "                                                 color_mode = 'grayscale',                \n",
    "                                                 class_mode='binary')\n",
    "\n",
    "val_gen = ImageDataGenerator(rescale = 1/255.).flow_from_directory(validation_path,\n",
    "                                            target_size=(224, 224),\n",
    "                                            shuffle=True,\n",
    "                                            batch_size=2389,\n",
    "                                            color_mode = 'grayscale',                      \n",
    "                                            class_mode='binary')\n",
    "\n",
    "test_gen = ImageDataGenerator(rescale = 1/255.).flow_from_directory(test_path,\n",
    "                                            target_size=(224, 224),\n",
    "                                            batch_size=624,\n",
    "                                            color_mode = 'grayscale',                        \n",
    "                                            class_mode='binary')\n",
    "\n",
    "##Image generator object for full training folder\n",
    "full_train_gen = ImageDataGenerator(rescale = 1/255.).flow_from_directory(full_train_path,\n",
    "                                            target_size=(224, 224),\n",
    "                                            batch_size=5232,\n",
    "                                            color_mode = 'grayscale',                        \n",
    "                                            class_mode='binary')"
   ]
  },
  {
   "cell_type": "code",
   "execution_count": 11,
   "metadata": {},
   "outputs": [],
   "source": [
    "train_images, train_labels = next(train_gen)\n",
    "val_images, val_labels = next(val_gen)\n",
    "test_images, test_labels = next(test_gen)\n",
    "\n",
    "##full training folder\n",
    "full_train_images, full_train_labels = next(full_train_gen)"
   ]
  },
  {
   "cell_type": "code",
   "execution_count": 13,
   "metadata": {
    "scrolled": true
   },
   "outputs": [
    {
     "name": "stdout",
     "output_type": "stream",
     "text": [
      "Train image shape: (2843, 224, 224, 1) train label shape: (2843,)\n",
      "Val image shape: (2389, 224, 224, 1) val label shape: (2389,)\n",
      "Test image shape: (624, 224, 224, 1) test label shape: (624,)\n",
      "Full Train image shape: (5232, 224, 224, 1) full train label shape: (5232,)\n"
     ]
    }
   ],
   "source": [
    "print(\"Train image shape:\", train_images.shape, \"train label shape:\", train_labels.shape)\n",
    "print(\"Val image shape:\", val_images.shape, \"val label shape:\", val_labels.shape)\n",
    "print(\"Test image shape:\", test_images.shape, \"test label shape:\", test_labels.shape)\n",
    "\n",
    "print(\"Full Train image shape:\", full_train_images.shape, \"full train label shape:\", full_train_labels.shape)"
   ]
  },
  {
   "cell_type": "code",
   "execution_count": 14,
   "metadata": {},
   "outputs": [],
   "source": [
    "train_x = train_images.reshape(train_images.shape[0], -1)\n",
    "val_x = val_images.reshape(val_images.shape[0], -1)\n",
    "test_x = test_images.reshape(test_images.shape[0], -1)\n",
    "\n",
    "full_train_x = full_train_images.reshape(full_train_images.shape[0], -1)"
   ]
  },
  {
   "cell_type": "code",
   "execution_count": 15,
   "metadata": {},
   "outputs": [
    {
     "data": {
      "text/plain": [
       "((2843, 50176), (2389, 50176), (624, 50176), (5232, 50176))"
      ]
     },
     "execution_count": 15,
     "metadata": {},
     "output_type": "execute_result"
    }
   ],
   "source": [
    "train_x.shape, val_x.shape, test_x.shape, full_train_x.shape"
   ]
  },
  {
   "cell_type": "code",
   "execution_count": 16,
   "metadata": {},
   "outputs": [],
   "source": [
    "train_y = np.reshape(train_labels[:], (2843,1))\n",
    "val_y = np.reshape(val_labels[:], (2389,1))\n",
    "test_y = np.reshape(test_labels[:], (624,1))\n",
    "\n",
    "##full training set labels\n",
    "full_train_y = np.reshape(full_train_labels[:], (5232,1))"
   ]
  },
  {
   "cell_type": "code",
   "execution_count": 17,
   "metadata": {},
   "outputs": [
    {
     "data": {
      "text/plain": [
       "((2843, 1), (2389, 1), (624, 1), (5232, 1))"
      ]
     },
     "execution_count": 17,
     "metadata": {},
     "output_type": "execute_result"
    }
   ],
   "source": [
    "train_y.shape, val_y.shape, test_y.shape, full_train_y.shape"
   ]
  },
  {
   "cell_type": "markdown",
   "metadata": {},
   "source": [
    "Note: This modeling was initially performed on a training and validation set as obtained through Kaggle. The final notebook code does change to reflect a different split of training and validation data."
   ]
  },
  {
   "cell_type": "markdown",
   "metadata": {},
   "source": [
    "# FSM  \n",
    "For a first simple model, I selected building a densely-connected network with one hidden layer to create a baseline expectation of performance. "
   ]
  },
  {
   "cell_type": "code",
   "execution_count": 18,
   "metadata": {},
   "outputs": [],
   "source": [
    "np.random.seed(42)\n",
    "\n",
    "\n",
    "fsm = models.Sequential()\n",
    "fsm.add(layers.Dense(12, activation='relu', input_shape=(50176,)))\n",
    "fsm.add(layers.Dense(7, activation='relu'))\n",
    "fsm.add(layers.Dense(1, activation='sigmoid'))"
   ]
  },
  {
   "cell_type": "markdown",
   "metadata": {},
   "source": [
    "The first simple model will be using stochastic gradient descent and measuring both accuracy and recall - the model's overall performance and its ability to correctly predict the positive class."
   ]
  },
  {
   "cell_type": "code",
   "execution_count": 19,
   "metadata": {
    "scrolled": false
   },
   "outputs": [
    {
     "name": "stdout",
     "output_type": "stream",
     "text": [
      "Epoch 1/25\n",
      "89/89 [==============================] - 1s 12ms/step - loss: 0.5004 - accuracy: 0.7598 - recall: 0.9650 - val_loss: 0.5124 - val_accuracy: 0.8238 - val_recall: 0.8033\n",
      "Epoch 2/25\n",
      "89/89 [==============================] - 1s 8ms/step - loss: 0.4237 - accuracy: 0.8002 - recall: 0.9515 - val_loss: 0.4119 - val_accuracy: 0.8296 - val_recall: 0.9919\n",
      "Epoch 3/25\n",
      "89/89 [==============================] - 1s 8ms/step - loss: 0.3270 - accuracy: 0.8646 - recall: 0.9408 - val_loss: 0.2854 - val_accuracy: 0.8870 - val_recall: 0.8919\n",
      "Epoch 4/25\n",
      "89/89 [==============================] - 1s 9ms/step - loss: 0.2564 - accuracy: 0.9036 - recall: 0.9529 - val_loss: 0.2188 - val_accuracy: 0.9096 - val_recall: 0.9505\n",
      "Epoch 5/25\n",
      "89/89 [==============================] - 1s 11ms/step - loss: 0.2581 - accuracy: 0.8959 - recall: 0.9487 - val_loss: 0.3932 - val_accuracy: 0.8242 - val_recall: 0.7654\n",
      "Epoch 6/25\n",
      "89/89 [==============================] - 1s 11ms/step - loss: 0.2281 - accuracy: 0.9110 - recall: 0.9510 - val_loss: 0.1951 - val_accuracy: 0.9201 - val_recall: 0.9281\n",
      "Epoch 7/25\n",
      "89/89 [==============================] - 1s 11ms/step - loss: 0.1930 - accuracy: 0.9230 - recall: 0.9571 - val_loss: 0.1640 - val_accuracy: 0.9314 - val_recall: 0.9505\n",
      "Epoch 8/25\n",
      "89/89 [==============================] - 1s 11ms/step - loss: 0.2064 - accuracy: 0.9230 - recall: 0.9557 - val_loss: 0.2053 - val_accuracy: 0.9150 - val_recall: 0.9017\n",
      "Epoch 9/25\n",
      "89/89 [==============================] - 1s 10ms/step - loss: 0.1881 - accuracy: 0.9293 - recall: 0.9599 - val_loss: 0.1988 - val_accuracy: 0.9205 - val_recall: 0.9885\n",
      "Epoch 10/25\n",
      "89/89 [==============================] - 1s 10ms/step - loss: 0.1904 - accuracy: 0.9265 - recall: 0.9590 - val_loss: 0.1587 - val_accuracy: 0.9360 - val_recall: 0.9787\n",
      "Epoch 11/25\n",
      "89/89 [==============================] - 1s 10ms/step - loss: 0.1762 - accuracy: 0.9286 - recall: 0.9590 - val_loss: 0.1659 - val_accuracy: 0.9339 - val_recall: 0.9850\n",
      "Epoch 12/25\n",
      "89/89 [==============================] - 1s 11ms/step - loss: 0.1694 - accuracy: 0.9349 - recall: 0.9627 - val_loss: 0.1437 - val_accuracy: 0.9397 - val_recall: 0.9488\n",
      "Epoch 13/25\n",
      "89/89 [==============================] - 1s 11ms/step - loss: 0.1531 - accuracy: 0.9409 - recall: 0.9627 - val_loss: 0.1440 - val_accuracy: 0.9435 - val_recall: 0.9764\n",
      "Epoch 14/25\n",
      "89/89 [==============================] - 1s 10ms/step - loss: 0.1553 - accuracy: 0.9399 - recall: 0.9646 - val_loss: 0.4468 - val_accuracy: 0.8321 - val_recall: 0.9983\n",
      "Epoch 15/25\n",
      "89/89 [==============================] - 1s 10ms/step - loss: 0.1383 - accuracy: 0.9472 - recall: 0.9697 - val_loss: 0.1364 - val_accuracy: 0.9447 - val_recall: 0.9781\n",
      "Epoch 16/25\n",
      "89/89 [==============================] - 1s 11ms/step - loss: 0.1572 - accuracy: 0.9384 - recall: 0.9613 - val_loss: 0.3010 - val_accuracy: 0.8853 - val_recall: 0.9960\n",
      "Epoch 17/25\n",
      "89/89 [==============================] - 1s 11ms/step - loss: 0.1447 - accuracy: 0.9455 - recall: 0.9683 - val_loss: 0.1554 - val_accuracy: 0.9397 - val_recall: 0.9868\n",
      "Epoch 18/25\n",
      "89/89 [==============================] - 1s 10ms/step - loss: 0.1459 - accuracy: 0.9462 - recall: 0.9674 - val_loss: 0.1372 - val_accuracy: 0.9464 - val_recall: 0.9793\n",
      "Epoch 19/25\n",
      "89/89 [==============================] - 1s 10ms/step - loss: 0.1607 - accuracy: 0.9374 - recall: 0.9632 - val_loss: 0.1672 - val_accuracy: 0.9339 - val_recall: 0.9908\n",
      "Epoch 20/25\n",
      "89/89 [==============================] - 1s 11ms/step - loss: 0.1303 - accuracy: 0.9525 - recall: 0.9706 - val_loss: 0.1228 - val_accuracy: 0.9502 - val_recall: 0.9609\n",
      "Epoch 21/25\n",
      "89/89 [==============================] - 1s 10ms/step - loss: 0.1366 - accuracy: 0.9455 - recall: 0.9664 - val_loss: 0.2787 - val_accuracy: 0.8945 - val_recall: 0.9960\n",
      "Epoch 22/25\n",
      "89/89 [==============================] - 1s 10ms/step - loss: 0.1276 - accuracy: 0.9515 - recall: 0.9697 - val_loss: 0.1316 - val_accuracy: 0.9489 - val_recall: 0.9781\n",
      "Epoch 23/25\n",
      "89/89 [==============================] - 1s 10ms/step - loss: 0.1499 - accuracy: 0.9448 - recall: 0.9669 - val_loss: 0.1267 - val_accuracy: 0.9494 - val_recall: 0.9592\n",
      "Epoch 24/25\n",
      "89/89 [==============================] - 1s 10ms/step - loss: 0.1233 - accuracy: 0.9529 - recall: 0.9711 - val_loss: 0.1369 - val_accuracy: 0.9494 - val_recall: 0.9816\n",
      "Epoch 25/25\n",
      "89/89 [==============================] - 1s 10ms/step - loss: 0.1238 - accuracy: 0.9557 - recall: 0.9729 - val_loss: 0.1406 - val_accuracy: 0.9460 - val_recall: 0.9459\n"
     ]
    }
   ],
   "source": [
    "np.random.seed(42) ##setting a random state for reproduceability\n",
    "\n",
    "fsm.compile(optimizer='sgd',\n",
    "              loss='binary_crossentropy',\n",
    "              metrics= (['accuracy'], metrics.Recall()))\n",
    "\n",
    "%timeit\n",
    "history = fsm.fit(train_x,\n",
    "                    train_y,\n",
    "                    epochs=25,\n",
    "                    batch_size=32,\n",
    "                    validation_data=(val_x, val_y))"
   ]
  },
  {
   "cell_type": "code",
   "execution_count": 20,
   "metadata": {
    "scrolled": true
   },
   "outputs": [],
   "source": [
    "fsm_preds = np.round(fsm.predict(train_x)).astype(int)"
   ]
  },
  {
   "cell_type": "code",
   "execution_count": 21,
   "metadata": {},
   "outputs": [],
   "source": [
    "fsm_true = train_y"
   ]
  },
  {
   "cell_type": "code",
   "execution_count": 22,
   "metadata": {
    "scrolled": true
   },
   "outputs": [
    {
     "name": "stdout",
     "output_type": "stream",
     "text": [
      "Confusion matrix:\n",
      " [[ 682   17]\n",
      " [ 139 2005]]\n",
      "\n",
      "F1 score: 0.9625540086413826\n",
      "Recall: 0.9351679104477612\n",
      "Accuracy: 0.945128385508266\n"
     ]
    }
   ],
   "source": [
    "print(f'Confusion matrix:\\n {confusion_matrix(train_y, fsm_preds)}\\n')\n",
    "print(f'F1 score: {f1_score(train_y, fsm_preds)}')\n",
    "print(f'Recall: {recall_score(train_y, fsm_preds)}')\n",
    "print(f'Accuracy: {accuracy_score(train_y, fsm_preds)}')"
   ]
  },
  {
   "cell_type": "markdown",
   "metadata": {},
   "source": [
    "Based off this first simple model, it performs fairly decently on the training set but does have a large false negative count."
   ]
  },
  {
   "cell_type": "code",
   "execution_count": 23,
   "metadata": {
    "scrolled": true
   },
   "outputs": [
    {
     "name": "stdout",
     "output_type": "stream",
     "text": [
      "Epoch 1/25\n",
      "89/89 [==============================] - 1s 13ms/step - loss: 1.5796 - accuracy: 0.7397 - recall_1: 0.9701 - val_loss: 0.5786 - val_accuracy: 0.7279 - val_recall_1: 1.0000\n",
      "Epoch 2/25\n",
      "89/89 [==============================] - 1s 11ms/step - loss: 0.8644 - accuracy: 0.7309 - recall_1: 0.9641 - val_loss: 0.5568 - val_accuracy: 0.7279 - val_recall_1: 1.0000\n",
      "Epoch 3/25\n",
      "89/89 [==============================] - 1s 11ms/step - loss: 0.4387 - accuracy: 0.7974 - recall_1: 0.9888 - val_loss: 0.4901 - val_accuracy: 0.7899 - val_recall_1: 0.7441\n",
      "Epoch 4/25\n",
      "89/89 [==============================] - 1s 11ms/step - loss: 0.3487 - accuracy: 0.8670 - recall_1: 0.9361 - val_loss: 0.4307 - val_accuracy: 0.8079 - val_recall_1: 0.9971\n",
      "Epoch 5/25\n",
      "89/89 [==============================] - 1s 13ms/step - loss: 0.3127 - accuracy: 0.8874 - recall_1: 0.9454 - val_loss: 0.3036 - val_accuracy: 0.9062 - val_recall_1: 0.9235\n",
      "Epoch 6/25\n",
      "89/89 [==============================] - 1s 14ms/step - loss: 0.2850 - accuracy: 0.9033 - recall_1: 0.9431 - val_loss: 0.3014 - val_accuracy: 0.9016 - val_recall_1: 0.8913\n",
      "Epoch 7/25\n",
      "89/89 [==============================] - 1s 15ms/step - loss: 0.2655 - accuracy: 0.9173 - recall_1: 0.9501 - val_loss: 0.2888 - val_accuracy: 0.8974 - val_recall_1: 0.9885\n",
      "Epoch 8/25\n",
      "89/89 [==============================] - 1s 14ms/step - loss: 0.2559 - accuracy: 0.9128 - recall_1: 0.9468 - val_loss: 0.4777 - val_accuracy: 0.8162 - val_recall_1: 0.9971\n",
      "Epoch 9/25\n",
      "89/89 [==============================] - 1s 14ms/step - loss: 0.2355 - accuracy: 0.9230 - recall_1: 0.9520 - val_loss: 0.3020 - val_accuracy: 0.8887 - val_recall_1: 0.9919\n",
      "Epoch 10/25\n",
      "89/89 [==============================] - 1s 15ms/step - loss: 0.2224 - accuracy: 0.9272 - recall_1: 0.9524 - val_loss: 0.2292 - val_accuracy: 0.9251 - val_recall_1: 0.9868\n",
      "Epoch 11/25\n",
      "89/89 [==============================] - 1s 14ms/step - loss: 0.2132 - accuracy: 0.9286 - recall_1: 0.9529 - val_loss: 0.3950 - val_accuracy: 0.8481 - val_recall_1: 0.9960\n",
      "Epoch 12/25\n",
      "89/89 [==============================] - 1s 14ms/step - loss: 0.2110 - accuracy: 0.9307 - recall_1: 0.9580 - val_loss: 0.3234 - val_accuracy: 0.8820 - val_recall_1: 0.9954\n",
      "Epoch 13/25\n",
      "89/89 [==============================] - 1s 13ms/step - loss: 0.1996 - accuracy: 0.9349 - recall_1: 0.9557 - val_loss: 0.3062 - val_accuracy: 0.8882 - val_recall_1: 0.9942\n",
      "Epoch 14/25\n",
      "89/89 [==============================] - 1s 13ms/step - loss: 0.1909 - accuracy: 0.9420 - recall_1: 0.9627 - val_loss: 0.2283 - val_accuracy: 0.9180 - val_recall_1: 0.8953\n",
      "Epoch 15/25\n",
      "89/89 [==============================] - 1s 13ms/step - loss: 0.1858 - accuracy: 0.9346 - recall_1: 0.9580 - val_loss: 0.2207 - val_accuracy: 0.9205 - val_recall_1: 0.9891\n",
      "Epoch 16/25\n",
      "89/89 [==============================] - 1s 13ms/step - loss: 0.1764 - accuracy: 0.9423 - recall_1: 0.9650 - val_loss: 0.1793 - val_accuracy: 0.9368 - val_recall_1: 0.9827\n",
      "Epoch 17/25\n",
      "89/89 [==============================] - 1s 13ms/step - loss: 0.1702 - accuracy: 0.9420 - recall_1: 0.9618 - val_loss: 0.1639 - val_accuracy: 0.9464 - val_recall_1: 0.9488\n",
      "Epoch 18/25\n",
      "89/89 [==============================] - 1s 13ms/step - loss: 0.1761 - accuracy: 0.9377 - recall_1: 0.9585 - val_loss: 0.2573 - val_accuracy: 0.9058 - val_recall_1: 0.9942\n",
      "Epoch 19/25\n",
      "89/89 [==============================] - 1s 13ms/step - loss: 0.1646 - accuracy: 0.9381 - recall_1: 0.9576 - val_loss: 0.2099 - val_accuracy: 0.9226 - val_recall_1: 0.9017\n",
      "Epoch 20/25\n",
      "89/89 [==============================] - 1s 13ms/step - loss: 0.1629 - accuracy: 0.9416 - recall_1: 0.9608 - val_loss: 0.1764 - val_accuracy: 0.9376 - val_recall_1: 0.9850\n",
      "Epoch 21/25\n",
      "89/89 [==============================] - 1s 14ms/step - loss: 0.1528 - accuracy: 0.9455 - recall_1: 0.9618 - val_loss: 0.1548 - val_accuracy: 0.9460 - val_recall_1: 0.9494\n",
      "Epoch 22/25\n",
      "89/89 [==============================] - 1s 13ms/step - loss: 0.1518 - accuracy: 0.9479 - recall_1: 0.9660 - val_loss: 0.1818 - val_accuracy: 0.9343 - val_recall_1: 0.9873\n",
      "Epoch 23/25\n",
      "89/89 [==============================] - 1s 13ms/step - loss: 0.1502 - accuracy: 0.9444 - recall_1: 0.9618 - val_loss: 0.1527 - val_accuracy: 0.9468 - val_recall_1: 0.9793\n",
      "Epoch 24/25\n",
      "89/89 [==============================] - 1s 13ms/step - loss: 0.1424 - accuracy: 0.9511 - recall_1: 0.9701 - val_loss: 0.1402 - val_accuracy: 0.9494 - val_recall_1: 0.9597\n",
      "Epoch 25/25\n",
      "89/89 [==============================] - 1s 13ms/step - loss: 0.1444 - accuracy: 0.9486 - recall_1: 0.9697 - val_loss: 0.1384 - val_accuracy: 0.9502 - val_recall_1: 0.9603\n"
     ]
    }
   ],
   "source": [
    "np.random.seed(42)\n",
    "\n",
    "dense = models.Sequential()\n",
    "dense.add(layers.Dense(12, activation='relu', input_shape=(50176,)))\n",
    "dense.add(layers.Dense(7, activation='relu'))\n",
    "dense.add(layers.Dense(1, activation='sigmoid'))\n",
    "\n",
    "\n",
    "dense.compile(optimizer='rmsprop',\n",
    "              loss='binary_crossentropy',\n",
    "              metrics= (['accuracy'], metrics.Recall()))\n",
    "\n",
    "\n",
    "history = dense.fit(train_x,\n",
    "                    train_y,\n",
    "                    epochs=25,\n",
    "                    batch_size=32,\n",
    "                    validation_data=(val_x, val_y))"
   ]
  },
  {
   "cell_type": "code",
   "execution_count": 24,
   "metadata": {
    "scrolled": true
   },
   "outputs": [
    {
     "name": "stdout",
     "output_type": "stream",
     "text": [
      "Confusion matrix:\n",
      " [[ 675   24]\n",
      " [  81 2063]]\n",
      "\n",
      "F1 score: 0.9751831718269912\n",
      "Recall: 0.9622201492537313\n",
      "Accuracy: 0.9630671825536405\n"
     ]
    }
   ],
   "source": [
    "dense_preds = np.round(dense.predict(train_x)).astype(int)\n",
    "dense_true = train_y\n",
    "print(f'Confusion matrix:\\n {confusion_matrix(dense_true, dense_preds)}\\n')\n",
    "print(f'F1 score: {f1_score(dense_true, dense_preds)}')\n",
    "print(f'Recall: {recall_score(dense_true, dense_preds)}')\n",
    "print(f'Accuracy: {accuracy_score(dense_true, dense_preds)}')"
   ]
  },
  {
   "cell_type": "markdown",
   "metadata": {},
   "source": [
    "RMS prop actually reduced the number of false negatives."
   ]
  },
  {
   "cell_type": "markdown",
   "metadata": {},
   "source": [
    "# First CNN "
   ]
  },
  {
   "cell_type": "markdown",
   "metadata": {},
   "source": [
    "We implemented an early stopping callback in order to minimize time spent running each model - the metrics were set to measure minimal loss on the validation set with a 3-epoch tolerance."
   ]
  },
  {
   "cell_type": "code",
   "execution_count": 25,
   "metadata": {},
   "outputs": [],
   "source": [
    "cnn = models.Sequential()\n",
    "cnn.add(layers.Conv2D(32, (3, 3), activation='relu',\n",
    "                        input_shape=(224 , 224, 1)))\n",
    "cnn.add(layers.MaxPooling2D((2, 2)))\n",
    "\n",
    "cnn.add(layers.Conv2D(32, (4, 4), activation='relu'))\n",
    "cnn.add(layers.MaxPooling2D((2, 2)))\n",
    "\n",
    "cnn.add(layers.Flatten())\n",
    "cnn.add(layers.Dense(64, activation='relu'))\n",
    "cnn.add(layers.Dense(1, activation='sigmoid'))\n",
    "\n",
    "es = EarlyStopping(monitor='val_loss', mode='min', verbose=1, patience = 3)\n",
    "##instantiating early stopping with a 3-epoch tolerance for minimizing loss"
   ]
  },
  {
   "cell_type": "code",
   "execution_count": 27,
   "metadata": {},
   "outputs": [],
   "source": [
    "cnn.compile(optimizer = 'rmsprop', \n",
    "              loss = 'binary_crossentropy', \n",
    "              metrics = (['accuracy'], metrics.Recall()))"
   ]
  },
  {
   "cell_type": "code",
   "execution_count": 28,
   "metadata": {},
   "outputs": [
    {
     "name": "stdout",
     "output_type": "stream",
     "text": [
      "Epoch 1/25\n",
      "45/45 [==============================] - 111s 2s/step - loss: 0.5033 - accuracy: 0.8002 - recall_3: 0.8619 - val_loss: 0.2494 - val_accuracy: 0.9021 - val_recall_3: 0.9569\n",
      "Epoch 2/25\n",
      "45/45 [==============================] - 103s 2s/step - loss: 0.2063 - accuracy: 0.9237 - recall_3: 0.9520 - val_loss: 0.2383 - val_accuracy: 0.9062 - val_recall_3: 0.8821\n",
      "Epoch 3/25\n",
      "45/45 [==============================] - 104s 2s/step - loss: 0.1459 - accuracy: 0.9497 - recall_3: 0.9627 - val_loss: 0.2971 - val_accuracy: 0.9008 - val_recall_3: 0.9960\n",
      "Epoch 4/25\n",
      "45/45 [==============================] - 106s 2s/step - loss: 0.1162 - accuracy: 0.9624 - recall_3: 0.9739 - val_loss: 0.1745 - val_accuracy: 0.9376 - val_recall_3: 0.9626\n",
      "Epoch 5/25\n",
      "45/45 [==============================] - 107s 2s/step - loss: 0.1060 - accuracy: 0.9666 - recall_3: 0.9790 - val_loss: 0.2230 - val_accuracy: 0.9309 - val_recall_3: 0.9827\n",
      "Epoch 6/25\n",
      "45/45 [==============================] - 113s 3s/step - loss: 0.0613 - accuracy: 0.9810 - recall_3: 0.9855 - val_loss: 0.1519 - val_accuracy: 0.9447 - val_recall_3: 0.9534\n",
      "Epoch 7/25\n",
      "45/45 [==============================] - 113s 3s/step - loss: 0.0513 - accuracy: 0.9810 - recall_3: 0.9879 - val_loss: 0.1854 - val_accuracy: 0.9569 - val_recall_3: 0.9839\n",
      "Epoch 8/25\n",
      "45/45 [==============================] - 106s 2s/step - loss: 0.0521 - accuracy: 0.9824 - recall_3: 0.9883 - val_loss: 0.1558 - val_accuracy: 0.9598 - val_recall_3: 0.9753\n",
      "Epoch 9/25\n",
      "45/45 [==============================] - 105s 2s/step - loss: 0.0327 - accuracy: 0.9894 - recall_3: 0.9925 - val_loss: 0.3785 - val_accuracy: 0.9025 - val_recall_3: 0.9965\n",
      "Epoch 00009: early stopping\n"
     ]
    }
   ],
   "source": [
    "cnn_hist = cnn.fit(train_images, train_labels, \n",
    "                     epochs = 25, \n",
    "                     batch_size = 64, \n",
    "                     validation_data=(val_images, val_y), \n",
    "                     callbacks = [es])"
   ]
  },
  {
   "cell_type": "code",
   "execution_count": 31,
   "metadata": {
    "scrolled": true
   },
   "outputs": [
    {
     "name": "stdout",
     "output_type": "stream",
     "text": [
      "89/89 [==============================] - 24s 270ms/step - loss: 0.0908 - accuracy: 0.9613 - recall_3: 0.9995\n"
     ]
    }
   ],
   "source": [
    "cnn_results = cnn.evaluate(train_images, train_y)"
   ]
  },
  {
   "cell_type": "code",
   "execution_count": 32,
   "metadata": {},
   "outputs": [
    {
     "name": "stdout",
     "output_type": "stream",
     "text": [
      "75/75 [==============================] - ETA: 0s - loss: 0.3785 - accuracy: 0.9025 - recall_3: 0.996 - 18s 235ms/step - loss: 0.3785 - accuracy: 0.9025 - recall_3: 0.9965\n"
     ]
    },
    {
     "data": {
      "text/plain": [
       "[0.3785286843776703, 0.9024696350097656, 0.9965497255325317]"
      ]
     },
     "execution_count": 32,
     "metadata": {},
     "output_type": "execute_result"
    }
   ],
   "source": [
    "cnn.evaluate(val_images, val_y)"
   ]
  },
  {
   "cell_type": "code",
   "execution_count": 33,
   "metadata": {
    "scrolled": true
   },
   "outputs": [
    {
     "data": {
      "text/plain": [
       "{'validation_data': None,\n",
       " 'model': <tensorflow.python.keras.engine.sequential.Sequential at 0x193b5a0e1c0>,\n",
       " '_chief_worker_only': None,\n",
       " '_supports_tf_logs': False,\n",
       " 'history': {'loss': [0.5032622218132019,\n",
       "   0.20626778900623322,\n",
       "   0.1459026038646698,\n",
       "   0.11623724550008774,\n",
       "   0.10604668408632278,\n",
       "   0.061259377747774124,\n",
       "   0.05131847411394119,\n",
       "   0.05208601802587509,\n",
       "   0.03265794739127159],\n",
       "  'accuracy': [0.8002110719680786,\n",
       "   0.9236721992492676,\n",
       "   0.9497010111808777,\n",
       "   0.9623637199401855,\n",
       "   0.9665846228599548,\n",
       "   0.9810059666633606,\n",
       "   0.9810059666633606,\n",
       "   0.9824129343032837,\n",
       "   0.9894477725028992],\n",
       "  'recall_3': [0.861940324306488,\n",
       "   0.951958954334259,\n",
       "   0.9626865386962891,\n",
       "   0.9738805890083313,\n",
       "   0.9790111780166626,\n",
       "   0.985541045665741,\n",
       "   0.9878731369972229,\n",
       "   0.9883395433425903,\n",
       "   0.9925373196601868],\n",
       "  'val_loss': [0.24943530559539795,\n",
       "   0.23833055794239044,\n",
       "   0.2971174418926239,\n",
       "   0.17449668049812317,\n",
       "   0.22300784289836884,\n",
       "   0.15185709297657013,\n",
       "   0.18541359901428223,\n",
       "   0.15577122569084167,\n",
       "   0.3785286545753479],\n",
       "  'val_accuracy': [0.9020510911941528,\n",
       "   0.9062369465827942,\n",
       "   0.9007953405380249,\n",
       "   0.937630832195282,\n",
       "   0.93093341588974,\n",
       "   0.944746732711792,\n",
       "   0.9568857550621033,\n",
       "   0.9598158001899719,\n",
       "   0.9024696350097656],\n",
       "  'val_recall_3': [0.956871747970581,\n",
       "   0.8821161389350891,\n",
       "   0.9959747195243835,\n",
       "   0.9626222252845764,\n",
       "   0.9827486872673035,\n",
       "   0.9534215331077576,\n",
       "   0.9838988184928894,\n",
       "   0.9752731323242188,\n",
       "   0.9965497255325317]},\n",
       " 'params': {'verbose': 1, 'epochs': 25, 'steps': 45},\n",
       " 'epoch': [0, 1, 2, 3, 4, 5, 6, 7, 8]}"
      ]
     },
     "execution_count": 33,
     "metadata": {},
     "output_type": "execute_result"
    }
   ],
   "source": [
    "cnn_hist.__dict__"
   ]
  },
  {
   "cell_type": "code",
   "execution_count": 35,
   "metadata": {},
   "outputs": [],
   "source": [
    "model_epochs = cnn_hist.epoch\n",
    "model_recall_train = cnn_hist.history['recall_3']\n",
    "model_recall_val = cnn_hist.history['val_recall_3']\n",
    "model_accuracy_train = cnn_hist.history['accuracy']\n",
    "model_accuracy_val = cnn_hist.history['val_accuracy']\n",
    "model_loss_train = cnn_hist.history['loss']\n",
    "model_loss_val = cnn_hist.history['val_loss']"
   ]
  },
  {
   "cell_type": "markdown",
   "metadata": {},
   "source": [
    "## Plotting Metrics of First CNN"
   ]
  },
  {
   "cell_type": "markdown",
   "metadata": {},
   "source": [
    "### Accuracy, Recall, Loss"
   ]
  },
  {
   "cell_type": "code",
   "execution_count": 36,
   "metadata": {
    "scrolled": true
   },
   "outputs": [
    {
     "data": {
      "image/png": "[encoded data removed]",
      "text/plain": [
       "<Figure size 576x864 with 3 Axes>"
      ]
     },
     "metadata": {
      "needs_background": "light"
     },
     "output_type": "display_data"
    }
   ],
   "source": [
    "fig, axs = plt.subplots(3, figsize = (8,12))\n",
    "\n",
    "plt.suptitle(\"SGD Optimizer, 13 Epochs, 64 Batch Size\")\n",
    "\n",
    "axs[0].plot(model_epochs, model_accuracy_train, label = 'Training Accuracy')\n",
    "axs[0].plot(model_epochs, model_accuracy_val, linestyle = '--', label = 'Validation Accuracy')\n",
    "axs[0].set_xlabel(\"Epochs\")\n",
    "axs[0].set_ylabel(\"Accuracy\")\n",
    "\n",
    "\n",
    "\n",
    "axs[1].plot(model_epochs, model_recall_train, label = 'Training Recall')\n",
    "axs[1].plot(model_epochs, model_recall_val, linestyle = '--', label = 'Validation Recall')\n",
    "axs[1].set_xlabel(\"Epochs\")\n",
    "axs[1].set_ylabel(\"Recall\")\n",
    "\n",
    "\n",
    "\n",
    "axs[2].plot(model_epochs, model_loss_train, label = 'Training Loss')\n",
    "axs[2].plot(model_epochs, model_loss_val, linestyle = '--', label = 'Validation Loss')\n",
    "axs[2].set_xlabel(\"Epochs\")\n",
    "axs[2].set_ylabel(\"Loss\")\n",
    "plt.legend();"
   ]
  },
  {
   "cell_type": "markdown",
   "metadata": {},
   "source": [
    "## CNN2"
   ]
  },
  {
   "cell_type": "code",
   "execution_count": 37,
   "metadata": {},
   "outputs": [],
   "source": [
    "cnn2 = models.Sequential()\n",
    "cnn2.add(layers.Conv2D(32, (3, 3), activation='relu',\n",
    "                        input_shape=(224 , 224, 1)))\n",
    "cnn2.add(layers.MaxPooling2D((2, 2)))\n",
    "\n",
    "cnn2.add(layers.Conv2D(32, (4, 4), activation='relu'))\n",
    "cnn2.add(layers.MaxPooling2D((2, 2)))\n",
    "\n",
    "cnn2.add(layers.Flatten())\n",
    "cnn2.add(layers.Dense(64, activation='relu'))\n",
    "cnn2.add(layers.Dense(1, activation='sigmoid'))\n",
    "\n",
    "\n",
    "cnn2.compile(loss='binary_crossentropy',\n",
    "              optimizer='rmsprop',\n",
    "              metrics=(['accuracy'], metrics.Recall()))"
   ]
  },
  {
   "cell_type": "code",
   "execution_count": 38,
   "metadata": {},
   "outputs": [
    {
     "name": "stdout",
     "output_type": "stream",
     "text": [
      "Epoch 1/25\n",
      "45/45 [==============================] - 99s 2s/step - loss: 0.8835 - accuracy: 0.7626 - recall_4: 0.8839 - val_loss: 0.3845 - val_accuracy: 0.8221 - val_recall_4: 0.9551\n",
      "Epoch 2/25\n",
      "45/45 [==============================] - 101s 2s/step - loss: 0.2558 - accuracy: 0.9040 - recall_4: 0.9347 - val_loss: 0.3349 - val_accuracy: 0.8535 - val_recall_4: 0.9626\n",
      "Epoch 3/25\n",
      "45/45 [==============================] - 101s 2s/step - loss: 0.1711 - accuracy: 0.9381 - recall_4: 0.9585 - val_loss: 0.3321 - val_accuracy: 0.8736 - val_recall_4: 0.9919\n",
      "Epoch 4/25\n",
      "45/45 [==============================] - 102s 2s/step - loss: 0.1259 - accuracy: 0.9529 - recall_4: 0.9664 - val_loss: 4.9180 - val_accuracy: 0.7279 - val_recall_4: 1.0000\n",
      "Epoch 5/25\n",
      "45/45 [==============================] - 100s 2s/step - loss: 0.3172 - accuracy: 0.9539 - recall_4: 0.9734 - val_loss: 0.1931 - val_accuracy: 0.9259 - val_recall_4: 0.9178\n",
      "Epoch 6/25\n",
      "45/45 [==============================] - 99s 2s/step - loss: 0.0733 - accuracy: 0.9771 - recall_4: 0.9823 - val_loss: 0.5190 - val_accuracy: 0.8648 - val_recall_4: 0.9994\n",
      "Epoch 7/25\n",
      "45/45 [==============================] - 90s 2s/step - loss: 0.1000 - accuracy: 0.9705 - recall_4: 0.9781 - val_loss: 0.2292 - val_accuracy: 0.9372 - val_recall_4: 0.9879\n",
      "Epoch 8/25\n",
      "45/45 [==============================] - 90s 2s/step - loss: 0.0379 - accuracy: 0.9877 - recall_4: 0.9897 - val_loss: 0.2035 - val_accuracy: 0.9531 - val_recall_4: 0.9839\n",
      "Epoch 00008: early stopping\n"
     ]
    }
   ],
   "source": [
    "hist2 = cnn2.fit(train_images, train_labels, \n",
    "                 epochs = 25, \n",
    "                 batch_size = 64, \n",
    "                 validation_data=(val_images, val_y), \n",
    "                 callbacks = [es])"
   ]
  },
  {
   "cell_type": "code",
   "execution_count": 39,
   "metadata": {
    "scrolled": true
   },
   "outputs": [
    {
     "name": "stdout",
     "output_type": "stream",
     "text": [
      "89/89 [==============================] - 16s 177ms/step - loss: 0.0159 - accuracy: 0.9947 - recall_4: 0.9958\n"
     ]
    }
   ],
   "source": [
    "cnn2_train_results = cnn2.evaluate(train_images, train_labels)"
   ]
  },
  {
   "cell_type": "code",
   "execution_count": 40,
   "metadata": {
    "scrolled": false
   },
   "outputs": [
    {
     "name": "stdout",
     "output_type": "stream",
     "text": [
      "75/75 [==============================] - 13s 174ms/step - loss: 0.2035 - accuracy: 0.9531 - recall_4: 0.9839\n"
     ]
    }
   ],
   "source": [
    "cnn2_val_results = cnn2.evaluate(val_images, val_labels)"
   ]
  },
  {
   "cell_type": "code",
   "execution_count": 41,
   "metadata": {
    "scrolled": true
   },
   "outputs": [
    {
     "data": {
      "text/plain": [
       "{'validation_data': None,\n",
       " 'model': <tensorflow.python.keras.engine.sequential.Sequential at 0x193b81e7be0>,\n",
       " '_chief_worker_only': None,\n",
       " '_supports_tf_logs': False,\n",
       " 'history': {'loss': [0.8835479021072388,\n",
       "   0.25578925013542175,\n",
       "   0.1710827648639679,\n",
       "   0.12594342231750488,\n",
       "   0.3172363042831421,\n",
       "   0.07325722277164459,\n",
       "   0.09995625168085098,\n",
       "   0.037934496998786926],\n",
       "  'accuracy': [0.7625747323036194,\n",
       "   0.9039746522903442,\n",
       "   0.9380935430526733,\n",
       "   0.9528666734695435,\n",
       "   0.953921914100647,\n",
       "   0.9771368503570557,\n",
       "   0.9704537391662598,\n",
       "   0.9876890778541565],\n",
       "  'recall_4': [0.8838619589805603,\n",
       "   0.9347015023231506,\n",
       "   0.9584888219833374,\n",
       "   0.9664179086685181,\n",
       "   0.9734141826629639,\n",
       "   0.9822761416435242,\n",
       "   0.9780783653259277,\n",
       "   0.9897388219833374],\n",
       "  'val_loss': [0.38450947403907776,\n",
       "   0.33490845561027527,\n",
       "   0.3321119546890259,\n",
       "   4.917964458465576,\n",
       "   0.19306793808937073,\n",
       "   0.5190214514732361,\n",
       "   0.22920599579811096,\n",
       "   0.20348328351974487],\n",
       "  'val_accuracy': [0.8221012949943542,\n",
       "   0.853495180606842,\n",
       "   0.8735872507095337,\n",
       "   0.7279196381568909,\n",
       "   0.9259104132652283,\n",
       "   0.8647969961166382,\n",
       "   0.9372122287750244,\n",
       "   0.9531184434890747],\n",
       "  'val_recall_4': [0.9551466107368469,\n",
       "   0.9626222252845764,\n",
       "   0.9919493794441223,\n",
       "   1.0,\n",
       "   0.9177688360214233,\n",
       "   0.999424934387207,\n",
       "   0.9879240989685059,\n",
       "   0.9838988184928894]},\n",
       " 'params': {'verbose': 1, 'epochs': 25, 'steps': 45},\n",
       " 'epoch': [0, 1, 2, 3, 4, 5, 6, 7]}"
      ]
     },
     "execution_count": 41,
     "metadata": {},
     "output_type": "execute_result"
    }
   ],
   "source": [
    "hist2.__dict__"
   ]
  },
  {
   "cell_type": "code",
   "execution_count": 42,
   "metadata": {},
   "outputs": [],
   "source": [
    "cnn2_epochs = hist2.epoch\n",
    "cnn2_recall_train = hist2.history['recall_4']\n",
    "cnn2_recall_val = hist2.history['val_recall_4']\n",
    "cnn2_accuracy_train = hist2.history['accuracy']\n",
    "cnn2_accuracy_val = hist2.history['val_accuracy']\n",
    "cnn2_loss_train = hist2.history['loss']\n",
    "cnn2_loss_val = hist2.history['val_loss']"
   ]
  },
  {
   "cell_type": "markdown",
   "metadata": {},
   "source": [
    "## Plotting Metrics of 2nd CNN"
   ]
  },
  {
   "cell_type": "code",
   "execution_count": 43,
   "metadata": {
    "scrolled": true
   },
   "outputs": [
    {
     "data": {
      "image/png": "[encoded data removed]",
      "text/plain": [
       "<Figure size 576x864 with 3 Axes>"
      ]
     },
     "metadata": {
      "needs_background": "light"
     },
     "output_type": "display_data"
    }
   ],
   "source": [
    "fig, axs = plt.subplots(3, figsize = (8,12))\n",
    "\n",
    "plt.suptitle(\"RMS Optimizer, 7 Epochs, 64 Batch Size\")\n",
    "\n",
    "axs[0].plot(cnn2_epochs, cnn2_accuracy_train, label = 'Training Accuracy')\n",
    "axs[0].plot(cnn2_epochs, cnn2_accuracy_val, linestyle = '--', label = 'Validation Accuracy')\n",
    "axs[0].set_xlabel(\"Epochs\")\n",
    "axs[0].set_ylabel(\"Accuracy\")\n",
    "\n",
    "\n",
    "\n",
    "axs[1].plot(cnn2_epochs, cnn2_recall_train, label = 'Training Recall')\n",
    "axs[1].plot(cnn2_epochs, cnn2_recall_val, linestyle = '--', label = 'Validation Recall')\n",
    "axs[1].set_xlabel(\"Epochs\")\n",
    "axs[1].set_ylabel(\"Recall\")\n",
    "\n",
    "\n",
    "\n",
    "axs[2].plot(cnn2_epochs, cnn2_loss_train, label = 'Training Loss')\n",
    "axs[2].plot(cnn2_epochs, cnn2_loss_val, linestyle = '--', label = 'Validation Loss')\n",
    "axs[2].set_xlabel(\"Epochs\")\n",
    "axs[2].set_ylabel(\"Loss\")\n",
    "plt.legend();"
   ]
  },
  {
   "cell_type": "markdown",
   "metadata": {},
   "source": [
    "RMSProp (or root mean squared propagation) was more successful with similar metrics as the initial model, so we will proceed with using rmsprop as the optimizer."
   ]
  },
  {
   "cell_type": "markdown",
   "metadata": {},
   "source": [
    "## CNN3"
   ]
  },
  {
   "cell_type": "markdown",
   "metadata": {},
   "source": [
    "We have included 'tanh' (or hyperbolic tangent) activation into this model in order to account for potential negative values."
   ]
  },
  {
   "cell_type": "code",
   "execution_count": 44,
   "metadata": {},
   "outputs": [],
   "source": [
    "cnn3 = models.Sequential()\n",
    "cnn3.add(layers.Conv2D(32, (3, 3), activation='tanh',\n",
    "                        input_shape=(224 , 224, 1)))\n",
    "cnn3.add(layers.MaxPooling2D((2, 2)))\n",
    "\n",
    "cnn3.add(layers.Conv2D(32, (4, 4), activation='relu'))\n",
    "cnn3.add(layers.MaxPooling2D((2, 2)))\n",
    "\n",
    "cnn3.add(layers.Flatten())\n",
    "cnn3.add(layers.Dropout(.3))\n",
    "\n",
    "cnn3.add(layers.Dense(64, activation='relu'))\n",
    "cnn3.add(layers.Dense(1, activation='sigmoid'))\n",
    "\n",
    "\n",
    "cnn3.compile(loss='binary_crossentropy',\n",
    "              optimizer='rmsprop',\n",
    "              metrics=(['accuracy'], metrics.Recall()))"
   ]
  },
  {
   "cell_type": "code",
   "execution_count": 45,
   "metadata": {},
   "outputs": [
    {
     "name": "stdout",
     "output_type": "stream",
     "text": [
      "Epoch 1/25\n",
      "45/45 [==============================] - 91s 2s/step - loss: 0.8925 - accuracy: 0.7485 - recall_5: 0.9478 - val_loss: 0.4889 - val_accuracy: 0.7781 - val_recall_5: 0.9459\n",
      "Epoch 2/25\n",
      "45/45 [==============================] - 96s 2s/step - loss: 0.4175 - accuracy: 0.8333 - recall_5: 0.8820 - val_loss: 0.3132 - val_accuracy: 0.8644 - val_recall_5: 0.8631\n",
      "Epoch 3/25\n",
      "45/45 [==============================] - 99s 2s/step - loss: 0.2453 - accuracy: 0.9040 - recall_5: 0.9310 - val_loss: 0.4169 - val_accuracy: 0.8652 - val_recall_5: 0.9931\n",
      "Epoch 4/25\n",
      "45/45 [==============================] - 93s 2s/step - loss: 0.2449 - accuracy: 0.9349 - recall_5: 0.9552 - val_loss: 0.1948 - val_accuracy: 0.9154 - val_recall_5: 0.8994\n",
      "Epoch 5/25\n",
      "45/45 [==============================] - 94s 2s/step - loss: 0.1519 - accuracy: 0.9483 - recall_5: 0.9660 - val_loss: 0.1706 - val_accuracy: 0.9443 - val_recall_5: 0.9868\n",
      "Epoch 6/25\n",
      "45/45 [==============================] - 95s 2s/step - loss: 0.1319 - accuracy: 0.9634 - recall_5: 0.9729 - val_loss: 0.1637 - val_accuracy: 0.9498 - val_recall_5: 0.9856\n",
      "Epoch 7/25\n",
      "45/45 [==============================] - 97s 2s/step - loss: 0.1260 - accuracy: 0.9617 - recall_5: 0.9720 - val_loss: 0.1356 - val_accuracy: 0.9523 - val_recall_5: 0.9638\n",
      "Epoch 8/25\n",
      "45/45 [==============================] - 124s 3s/step - loss: 0.0445 - accuracy: 0.9859 - recall_5: 0.9888 - val_loss: 0.4034 - val_accuracy: 0.9046 - val_recall_5: 0.9919\n",
      "Epoch 9/25\n",
      "45/45 [==============================] - 109s 2s/step - loss: 0.0518 - accuracy: 0.9835 - recall_5: 0.9893 - val_loss: 0.2389 - val_accuracy: 0.9485 - val_recall_5: 0.9908\n",
      "Epoch 10/25\n",
      "45/45 [==============================] - 103s 2s/step - loss: 0.3937 - accuracy: 0.9778 - recall_5: 0.9860 - val_loss: 0.1712 - val_accuracy: 0.9527 - val_recall_5: 0.9896\n",
      "Epoch 00010: early stopping\n"
     ]
    }
   ],
   "source": [
    "np.random.seed(111)\n",
    "hist3 = cnn3.fit(train_images, train_labels, \n",
    "                      epochs = 25, \n",
    "                      batch_size = 64, \n",
    "                      validation_data=(val_images, val_labels), \n",
    "                      callbacks = [es])"
   ]
  },
  {
   "cell_type": "code",
   "execution_count": 47,
   "metadata": {},
   "outputs": [
    {
     "name": "stdout",
     "output_type": "stream",
     "text": [
      "89/89 [==============================] - 16s 175ms/step - loss: 0.0228 - accuracy: 0.9940 - recall_5: 0.9977\n"
     ]
    }
   ],
   "source": [
    "cnn3_train_results = cnn3.evaluate(train_images, train_labels)"
   ]
  },
  {
   "cell_type": "code",
   "execution_count": 48,
   "metadata": {},
   "outputs": [
    {
     "name": "stdout",
     "output_type": "stream",
     "text": [
      "75/75 [==============================] - 16s 211ms/step - loss: 0.1712 - accuracy: 0.9527 - recall_5: 0.9896\n"
     ]
    }
   ],
   "source": [
    "cnn3_val_results = cnn3.evaluate(val_images, val_labels)"
   ]
  },
  {
   "cell_type": "code",
   "execution_count": 49,
   "metadata": {
    "scrolled": true
   },
   "outputs": [
    {
     "data": {
      "text/plain": [
       "{'validation_data': None,\n",
       " 'model': <tensorflow.python.keras.engine.sequential.Sequential at 0x193b8794880>,\n",
       " '_chief_worker_only': None,\n",
       " '_supports_tf_logs': False,\n",
       " 'history': {'loss': [0.892480731010437,\n",
       "   0.4174676835536957,\n",
       "   0.2452724426984787,\n",
       "   0.24487176537513733,\n",
       "   0.15190814435482025,\n",
       "   0.1319299340248108,\n",
       "   0.12603819370269775,\n",
       "   0.0445171482861042,\n",
       "   0.05184879153966904,\n",
       "   0.3937292993068695],\n",
       "  'accuracy': [0.7485051155090332,\n",
       "   0.8332747220993042,\n",
       "   0.9039746522903442,\n",
       "   0.9349278807640076,\n",
       "   0.9482940435409546,\n",
       "   0.9634189009666443,\n",
       "   0.9616602063179016,\n",
       "   0.9859303832054138,\n",
       "   0.9834681749343872,\n",
       "   0.9778403043746948],\n",
       "  'recall_5': [0.9477611780166626,\n",
       "   0.8819962739944458,\n",
       "   0.9309701323509216,\n",
       "   0.9552238583564758,\n",
       "   0.9659515023231506,\n",
       "   0.9729477763175964,\n",
       "   0.9720149040222168,\n",
       "   0.9888059496879578,\n",
       "   0.98927241563797,\n",
       "   0.9860074520111084],\n",
       "  'val_loss': [0.4888593554496765,\n",
       "   0.31323403120040894,\n",
       "   0.4169129431247711,\n",
       "   0.19483350217342377,\n",
       "   0.1706167459487915,\n",
       "   0.16367168724536896,\n",
       "   0.13557906448841095,\n",
       "   0.40339359641075134,\n",
       "   0.23893983662128448,\n",
       "   0.17120862007141113],\n",
       "  'val_accuracy': [0.7781498432159424,\n",
       "   0.8643783926963806,\n",
       "   0.8652155995368958,\n",
       "   0.9154458045959473,\n",
       "   0.9443281888961792,\n",
       "   0.9497697949409485,\n",
       "   0.9522812962532043,\n",
       "   0.9045625925064087,\n",
       "   0.9485140442848206,\n",
       "   0.9526998996734619],\n",
       "  'val_recall_5': [0.9459459185600281,\n",
       "   0.8631397485733032,\n",
       "   0.9930995106697083,\n",
       "   0.8993674516677856,\n",
       "   0.9867740273475647,\n",
       "   0.9856238961219788,\n",
       "   0.9637722969055176,\n",
       "   0.9919493794441223,\n",
       "   0.9907993078231812,\n",
       "   0.98964923620224]},\n",
       " 'params': {'verbose': 1, 'epochs': 25, 'steps': 45},\n",
       " 'epoch': [0, 1, 2, 3, 4, 5, 6, 7, 8, 9]}"
      ]
     },
     "execution_count": 49,
     "metadata": {},
     "output_type": "execute_result"
    }
   ],
   "source": [
    "hist3.__dict__"
   ]
  },
  {
   "cell_type": "code",
   "execution_count": 50,
   "metadata": {},
   "outputs": [],
   "source": [
    "cnn3_epochs = hist3.epoch\n",
    "cnn3_recall_train = hist3.history['recall_5']\n",
    "cnn3_recall_val = hist3.history['val_recall_5']\n",
    "cnn3_accuracy_train = hist3.history['accuracy']\n",
    "cnn3_accuracy_val = hist3.history['val_accuracy']\n",
    "cnn3_loss_train = hist3.history['loss']\n",
    "cnn3_loss_val = hist3.history['val_loss']"
   ]
  },
  {
   "cell_type": "markdown",
   "metadata": {},
   "source": [
    "## Plotting CNN3"
   ]
  },
  {
   "cell_type": "code",
   "execution_count": 51,
   "metadata": {},
   "outputs": [
    {
     "data": {
      "image/png": "[encoded data removed]",
      "text/plain": [
       "<Figure size 576x864 with 3 Axes>"
      ]
     },
     "metadata": {
      "needs_background": "light"
     },
     "output_type": "display_data"
    }
   ],
   "source": [
    "fig, axs = plt.subplots(3, figsize = (8,12))\n",
    "\n",
    "plt.suptitle(\"Tanh Activation, RMS Optimizer, 9 Epochs, 64 Batch Size\")\n",
    "\n",
    "axs[0].plot(cnn3_epochs, cnn3_accuracy_train, label = 'Training Accuracy')\n",
    "axs[0].plot(cnn3_epochs, cnn3_accuracy_val, linestyle = '--', label = 'Validation Accuracy')\n",
    "axs[0].set_xlabel(\"Epochs\")\n",
    "axs[0].set_ylabel(\"Accuracy\")\n",
    "\n",
    "\n",
    "\n",
    "axs[1].plot(cnn3_epochs, cnn3_recall_train, label = 'Training Recall')\n",
    "axs[1].plot(cnn3_epochs, cnn3_recall_val, linestyle = '--', label = 'Validation Recall')\n",
    "axs[1].set_xlabel(\"Epochs\")\n",
    "axs[1].set_ylabel(\"Recall\")\n",
    "\n",
    "\n",
    "\n",
    "axs[2].plot(cnn3_epochs, cnn3_loss_train, label = 'Training Loss')\n",
    "axs[2].plot(cnn3_epochs, cnn3_loss_val, linestyle = '--', label = 'Validation Loss')\n",
    "axs[2].set_xlabel(\"Epochs\")\n",
    "axs[2].set_ylabel(\"Loss\")\n",
    "plt.legend();"
   ]
  },
  {
   "cell_type": "markdown",
   "metadata": {},
   "source": [
    "## CNN 4 - further fiddling\n",
    "Introducing a Leaky ReLu activation layer and a densely connected layer with 128 neurons."
   ]
  },
  {
   "cell_type": "code",
   "execution_count": 52,
   "metadata": {},
   "outputs": [],
   "source": [
    "cnn4 = models.Sequential()\n",
    "cnn4.add(layers.Conv2D(32, (3, 3), activation='tanh',\n",
    "                        input_shape=(224 , 224, 1)))\n",
    "cnn4.add(layers.MaxPooling2D((2, 2)))\n",
    "\n",
    "cnn4.add(layers.Conv2D(32, (4, 4), activation='relu'))\n",
    "cnn4.add(layers.MaxPooling2D((2, 2)))\n",
    "\n",
    "\n",
    "cnn4.add(LeakyReLU())\n",
    "cnn4.add(layers.MaxPooling2D((2, 2), padding = 'same'))\n",
    "\n",
    "cnn4.add(layers.Dropout(.3))\n",
    "cnn4.add(layers.Flatten())\n",
    "\n",
    "cnn4.add(layers.Dense(128, activation='relu'))\n",
    "cnn4.add(layers.Dense(64, activation='relu'))\n",
    "cnn4.add(layers.Dense(1, activation='sigmoid'))\n",
    "\n",
    "\n",
    "cnn4.compile(loss='binary_crossentropy',\n",
    "              optimizer='rmsprop',\n",
    "              metrics=(['accuracy'], metrics.Recall()))"
   ]
  },
  {
   "cell_type": "code",
   "execution_count": 53,
   "metadata": {},
   "outputs": [
    {
     "name": "stdout",
     "output_type": "stream",
     "text": [
      "Epoch 1/25\n",
      "45/45 [==============================] - 92s 2s/step - loss: 0.8166 - accuracy: 0.7460 - recall_6: 0.9534 - val_loss: 0.5748 - val_accuracy: 0.7120 - val_recall_6: 0.6090\n",
      "Epoch 2/25\n",
      "45/45 [==============================] - 96s 2s/step - loss: 0.3139 - accuracy: 0.8857 - recall_6: 0.9352 - val_loss: 0.4532 - val_accuracy: 0.8179 - val_recall_6: 0.9965\n",
      "Epoch 3/25\n",
      "45/45 [==============================] - 93s 2s/step - loss: 0.2123 - accuracy: 0.9159 - recall_6: 0.9459 - val_loss: 0.4405 - val_accuracy: 0.8271 - val_recall_6: 0.9983\n",
      "Epoch 4/25\n",
      "45/45 [==============================] - 91s 2s/step - loss: 0.1756 - accuracy: 0.9423 - recall_6: 0.9683 - val_loss: 0.1958 - val_accuracy: 0.9150 - val_recall_6: 0.8942\n",
      "Epoch 5/25\n",
      "45/45 [==============================] - 91s 2s/step - loss: 0.1602 - accuracy: 0.9437 - recall_6: 0.9650 - val_loss: 0.2066 - val_accuracy: 0.9247 - val_recall_6: 0.9891\n",
      "Epoch 6/25\n",
      "45/45 [==============================] - 91s 2s/step - loss: 0.1418 - accuracy: 0.9508 - recall_6: 0.9697 - val_loss: 0.3243 - val_accuracy: 0.8945 - val_recall_6: 0.9948\n",
      "Epoch 7/25\n",
      "45/45 [==============================] - 91s 2s/step - loss: 0.0884 - accuracy: 0.9662 - recall_6: 0.9767 - val_loss: 0.1129 - val_accuracy: 0.9640 - val_recall_6: 0.9718\n",
      "Epoch 8/25\n",
      "45/45 [==============================] - 92s 2s/step - loss: 0.0899 - accuracy: 0.9715 - recall_6: 0.9809 - val_loss: 0.2760 - val_accuracy: 0.9134 - val_recall_6: 0.9925\n",
      "Epoch 9/25\n",
      "45/45 [==============================] - 94s 2s/step - loss: 0.0738 - accuracy: 0.9726 - recall_6: 0.9809 - val_loss: 0.3264 - val_accuracy: 0.9113 - val_recall_6: 0.9937\n",
      "Epoch 10/25\n",
      "45/45 [==============================] - 92s 2s/step - loss: 0.0607 - accuracy: 0.9771 - recall_6: 0.9827 - val_loss: 0.1338 - val_accuracy: 0.9598 - val_recall_6: 0.9534\n",
      "Epoch 00010: early stopping\n"
     ]
    }
   ],
   "source": [
    "hist4 = cnn4.fit(train_images, train_labels, \n",
    "                 epochs = 25, batch_size = 64, \n",
    "                 validation_data=(val_images, val_labels), \n",
    "                 callbacks = [es])"
   ]
  },
  {
   "cell_type": "code",
   "execution_count": 54,
   "metadata": {},
   "outputs": [
    {
     "name": "stdout",
     "output_type": "stream",
     "text": [
      "89/89 [==============================] - 15s 171ms/step - loss: 0.0784 - accuracy: 0.9712 - recall_6: 0.9622\n"
     ]
    }
   ],
   "source": [
    "cnn4_train_results = cnn4.evaluate(train_images, train_labels)"
   ]
  },
  {
   "cell_type": "code",
   "execution_count": 55,
   "metadata": {
    "scrolled": true
   },
   "outputs": [
    {
     "name": "stdout",
     "output_type": "stream",
     "text": [
      "75/75 [==============================] - 15s 200ms/step - loss: 0.1338 - accuracy: 0.9598 - recall_6: 0.9534\n"
     ]
    }
   ],
   "source": [
    "cnn4_val_results = cnn4.evaluate(val_images, val_labels)"
   ]
  },
  {
   "cell_type": "code",
   "execution_count": 56,
   "metadata": {
    "scrolled": true
   },
   "outputs": [
    {
     "data": {
      "text/plain": [
       "{'validation_data': None,\n",
       " 'model': <tensorflow.python.keras.engine.sequential.Sequential at 0x193b94f8f10>,\n",
       " '_chief_worker_only': None,\n",
       " '_supports_tf_logs': False,\n",
       " 'history': {'loss': [0.816592276096344,\n",
       "   0.3138521909713745,\n",
       "   0.21227316558361053,\n",
       "   0.1756095439195633,\n",
       "   0.1602081060409546,\n",
       "   0.1417633295059204,\n",
       "   0.0883697047829628,\n",
       "   0.08989141881465912,\n",
       "   0.07377240806818008,\n",
       "   0.06073673069477081],\n",
       "  'accuracy': [0.7460429072380066,\n",
       "   0.8856841325759888,\n",
       "   0.9159338474273682,\n",
       "   0.9423144459724426,\n",
       "   0.9437214136123657,\n",
       "   0.9507562518119812,\n",
       "   0.9662328362464905,\n",
       "   0.9715089797973633,\n",
       "   0.9725642204284668,\n",
       "   0.9771368503570557],\n",
       "  'recall_6': [0.9533582329750061,\n",
       "   0.9351679086685181,\n",
       "   0.9458954930305481,\n",
       "   0.9682835936546326,\n",
       "   0.965018630027771,\n",
       "   0.9696828126907349,\n",
       "   0.9766790866851807,\n",
       "   0.9808768630027771,\n",
       "   0.9808768630027771,\n",
       "   0.9827425479888916],\n",
       "  'val_loss': [0.5748327374458313,\n",
       "   0.45322126150131226,\n",
       "   0.44049590826034546,\n",
       "   0.19578614830970764,\n",
       "   0.20658914744853973,\n",
       "   0.324271023273468,\n",
       "   0.11292529851198196,\n",
       "   0.2760310769081116,\n",
       "   0.32644882798194885,\n",
       "   0.13376964628696442],\n",
       "  'val_accuracy': [0.7120134234428406,\n",
       "   0.8179154396057129,\n",
       "   0.827124297618866,\n",
       "   0.9150272011756897,\n",
       "   0.9246546626091003,\n",
       "   0.8945165276527405,\n",
       "   0.9640016555786133,\n",
       "   0.9133528470993042,\n",
       "   0.9112599492073059,\n",
       "   0.9598158001899719],\n",
       "  'val_recall_6': [0.6089707016944885,\n",
       "   0.9965497255325317,\n",
       "   0.9982748627662659,\n",
       "   0.8941920399665833,\n",
       "   0.989074170589447,\n",
       "   0.9948245882987976,\n",
       "   0.9718228578567505,\n",
       "   0.9925244450569153,\n",
       "   0.9936745166778564,\n",
       "   0.9534215331077576]},\n",
       " 'params': {'verbose': 1, 'epochs': 25, 'steps': 45},\n",
       " 'epoch': [0, 1, 2, 3, 4, 5, 6, 7, 8, 9]}"
      ]
     },
     "execution_count": 56,
     "metadata": {},
     "output_type": "execute_result"
    }
   ],
   "source": [
    "hist4.__dict__"
   ]
  },
  {
   "cell_type": "code",
   "execution_count": 57,
   "metadata": {},
   "outputs": [],
   "source": [
    "cnn4_epochs = hist4.epoch\n",
    "cnn4_recall_train = hist4.history['recall_6']\n",
    "cnn4_recall_val = hist4.history['val_recall_6']\n",
    "cnn4_accuracy_train = hist4.history['accuracy']\n",
    "cnn4_accuracy_val = hist4.history['val_accuracy']\n",
    "cnn4_loss_train = hist4.history['loss']\n",
    "cnn4_loss_val = hist4.history['val_loss']"
   ]
  },
  {
   "cell_type": "markdown",
   "metadata": {},
   "source": [
    "## CNN4 - Plotting Metrics"
   ]
  },
  {
   "cell_type": "code",
   "execution_count": 121,
   "metadata": {
    "scrolled": true
   },
   "outputs": [
    {
     "name": "stderr",
     "output_type": "stream",
     "text": [
      "No handles with labels found to put in legend.\n",
      "No handles with labels found to put in legend.\n"
     ]
    },
    {
     "data": {
      "image/png": "[encoded data removed]",
      "text/plain": [
       "<Figure size 576x864 with 3 Axes>"
      ]
     },
     "metadata": {
      "needs_background": "light"
     },
     "output_type": "display_data"
    }
   ],
   "source": [
    "fig, axs = plt.subplots(3, figsize = (8,12))\n",
    "\n",
    "plt.suptitle(\"Tanh Activation, RMS Optimizer, 14 Epochs, 64 Batch Size, ReLu Activation Layer\")\n",
    "\n",
    "axs[0].plot(cnn4_epochs, cnn4_accuracy_train, label = 'Training Accuracy')\n",
    "axs[0].plot(cnn4_epochs, cnn4_accuracy_val, linestyle = '--', label = 'Validation Accuracy')\n",
    "axs[0].set_xlabel(\"Epochs\")\n",
    "axs[0].set_ylabel(\"Accuracy\")\n",
    "plt.legend()\n",
    "\n",
    "\n",
    "axs[1].plot(cnn4_epochs, cnn4_recall_train, label = 'Training Recall')\n",
    "axs[1].plot(cnn4_epochs, cnn4_recall_val, linestyle = '--', label = 'Validation Recall')\n",
    "axs[1].set_xlabel(\"Epochs\")\n",
    "axs[1].set_ylabel(\"Recall\")\n",
    "plt.legend()\n",
    "\n",
    "\n",
    "axs[2].plot(cnn4_epochs, cnn4_loss_train, label = 'Training Loss')\n",
    "axs[2].plot(cnn4_epochs, cnn4_loss_val, linestyle = '--', label = 'Validation Loss')\n",
    "axs[2].set_xlabel(\"Epochs\")\n",
    "axs[2].set_ylabel(\"Loss\")\n",
    "plt.legend();"
   ]
  },
  {
   "cell_type": "markdown",
   "metadata": {},
   "source": [
    "Thus far, CNN4 has been the most succesful when measuring both recall and accuracy. We will use it to predict on the test set."
   ]
  },
  {
   "cell_type": "code",
   "execution_count": 59,
   "metadata": {
    "scrolled": true
   },
   "outputs": [
    {
     "name": "stdout",
     "output_type": "stream",
     "text": [
      "20/20 [==============================] - 3s 156ms/step - loss: 1.0779 - accuracy: 0.7885 - recall_6: 0.9744\n"
     ]
    }
   ],
   "source": [
    "cnn_test_results = cnn4.evaluate(test_images, test_labels)"
   ]
  },
  {
   "cell_type": "code",
   "execution_count": 60,
   "metadata": {},
   "outputs": [],
   "source": [
    "y_pred = np.round(cnn4.predict(test_images)).astype(int)\n",
    "y_true = np.round(test_labels).astype(int)"
   ]
  },
  {
   "cell_type": "code",
   "execution_count": 61,
   "metadata": {},
   "outputs": [
    {
     "data": {
      "text/plain": [
       "array([[112, 122],\n",
       "       [ 10, 380]], dtype=int64)"
      ]
     },
     "execution_count": 61,
     "metadata": {},
     "output_type": "execute_result"
    }
   ],
   "source": [
    "confusion_matrix(y_true, y_pred)"
   ]
  },
  {
   "cell_type": "code",
   "execution_count": 62,
   "metadata": {},
   "outputs": [
    {
     "name": "stdout",
     "output_type": "stream",
     "text": [
      "F1 score: 0.852017937219731\n",
      "Accuracy score: 0.7884615384615384\n",
      "Recall score: 0.9743589743589743\n"
     ]
    }
   ],
   "source": [
    "print(f'F1 score: {f1_score(y_true, y_pred)}')\n",
    "print(f'Accuracy score: {accuracy_score(y_true, y_pred)}')\n",
    "print(f'Recall score: {recall_score(y_true, y_pred)}')"
   ]
  },
  {
   "cell_type": "markdown",
   "metadata": {},
   "source": [
    "## Application of Transfer Learning"
   ]
  },
  {
   "cell_type": "markdown",
   "metadata": {},
   "source": [
    "The test performed well in regard to recall, but did struggle with accuracy and a high rate of false positives. While in the scope of this problem this is not as much of an issue, a stronger model would help reduce the cost of misdiagnosis to healthcare companies as well as the emotional toll of repeated hospital visits to patients.\n",
    "\n",
    "We have chosen to first apply a transfer learning method by using a convolutional base trained on the ImageNet dataset of over 1.2 million images. Because the images we are classifying are binary, we will set `include_top` to `False` as the top few layers of this model will not be useful for the task.  \n",
    "We selected using the EfficientNet model due to its relatively low weight and high performance."
   ]
  },
  {
   "cell_type": "code",
   "execution_count": 63,
   "metadata": {},
   "outputs": [],
   "source": [
    "from tensorflow.keras.applications import EfficientNetB0"
   ]
  },
  {
   "cell_type": "markdown",
   "metadata": {},
   "source": [
    "The images had to be converted into an rgb-esque format with 3 channels for them to work with the convolutional base's architecture, so we generated a new dataset to fit the requirement."
   ]
  },
  {
   "cell_type": "code",
   "execution_count": 103,
   "metadata": {},
   "outputs": [
    {
     "name": "stdout",
     "output_type": "stream",
     "text": [
      "Found 5232 images belonging to 2 classes.\n",
      "Found 624 images belonging to 2 classes.\n"
     ]
    }
   ],
   "source": [
    "transfer_train_gen = ImageDataGenerator(rescale = 1/255.).flow_from_directory(train_path,\n",
    "                                                 target_size=(224, 224),\n",
    "                                                 batch_size=2843,\n",
    "                                                 color_mode = 'rgb', \n",
    "                                                 class_mode = 'categorical'                             \n",
    "                                                 )\n",
    "\n",
    "transfer_test_gen = ImageDataGenerator(rescale = 1/255.).flow_from_directory(test_path,\n",
    "                                            target_size=(224, 224),\n",
    "                                            batch_size=624,\n",
    "                                            color_mode = 'rgb', \n",
    "                                            class_mode = 'categorical')\n"
   ]
  },
  {
   "cell_type": "code",
   "execution_count": 104,
   "metadata": {},
   "outputs": [],
   "source": [
    "transfer_train_images, transfer_train_labels = next(transfer_train_gen)\n",
    "transfer_test_images, transfer_test_labels = next(transfer_test_gen)"
   ]
  },
  {
   "cell_type": "code",
   "execution_count": 105,
   "metadata": {},
   "outputs": [
    {
     "data": {
      "text/plain": [
       "((2843, 224, 224, 3), (2843, 2))"
      ]
     },
     "execution_count": 105,
     "metadata": {},
     "output_type": "execute_result"
    }
   ],
   "source": [
    "transfer_train_images.shape, transfer_train_labels.shape"
   ]
  },
  {
   "cell_type": "code",
   "execution_count": 106,
   "metadata": {},
   "outputs": [],
   "source": [
    "train_y = np.reshape(transfer_train_labels[:], (5686,1))"
   ]
  },
  {
   "cell_type": "code",
   "execution_count": 107,
   "metadata": {},
   "outputs": [
    {
     "data": {
      "text/plain": [
       "(5686, 1)"
      ]
     },
     "execution_count": 107,
     "metadata": {},
     "output_type": "execute_result"
    }
   ],
   "source": [
    "train_y.shape"
   ]
  },
  {
   "cell_type": "code",
   "execution_count": 108,
   "metadata": {},
   "outputs": [],
   "source": [
    "conv_base = EfficientNetB0(include_top = False, \n",
    "                           weights = 'imagenet',\n",
    "                           classes = 2)"
   ]
  },
  {
   "cell_type": "code",
   "execution_count": 109,
   "metadata": {},
   "outputs": [],
   "source": [
    "transfer_model = models.Sequential()\n",
    "transfer_model.add(conv_base)\n",
    "transfer_model.add(layers.GlobalMaxPooling2D())\n",
    "\n",
    "transfer_model.add(Dropout(.3))\n",
    "transfer_model.add(layers.Flatten())\n",
    "transfer_model.add(layers.Dense(64, activation='relu'))\n",
    "transfer_model.add(layers.Dense(1, activation='softmax'))##the layers on top are similar to the final scratch model's layers"
   ]
  },
  {
   "cell_type": "code",
   "execution_count": 110,
   "metadata": {},
   "outputs": [
    {
     "name": "stdout",
     "output_type": "stream",
     "text": [
      "efficientnetb0 False\n",
      "global_max_pooling2d_5 True\n",
      "dropout_7 True\n",
      "flatten_9 True\n",
      "dense_25 True\n",
      "dense_26 True\n",
      "4\n"
     ]
    }
   ],
   "source": [
    "conv_base.trainable = False\n",
    "\n",
    "for layer in transfer_model.layers:\n",
    "    print(layer.name, layer.trainable)\n",
    "\n",
    "print(len(transfer_model.trainable_weights))"
   ]
  },
  {
   "cell_type": "code",
   "execution_count": 111,
   "metadata": {},
   "outputs": [],
   "source": [
    "transfer_model.compile(loss='sparse_categorical_crossentropy',\n",
    "              optimizer='rmsprop',\n",
    "              metrics=(['accuracy'], metrics.Recall()))\n",
    "##instantiating Early Stopping with a 3-epoch tolerance for minimizing the validation loss"
   ]
  },
  {
   "cell_type": "code",
   "execution_count": 102,
   "metadata": {},
   "outputs": [
    {
     "name": "stdout",
     "output_type": "stream",
     "text": [
      "Epoch 1/20\n"
     ]
    },
    {
     "ename": "TypeError",
     "evalue": "'NoneType' object is not callable",
     "output_type": "error",
     "traceback": [
      "\u001b[1;31m---------------------------------------------------------------------------\u001b[0m",
      "\u001b[1;31mTypeError\u001b[0m                                 Traceback (most recent call last)",
      "\u001b[1;32m<ipython-input-102-f1770bb5d570>\u001b[0m in \u001b[0;36m<module>\u001b[1;34m\u001b[0m\n\u001b[0;32m      1\u001b[0m \u001b[0mnp\u001b[0m\u001b[1;33m.\u001b[0m\u001b[0mrandom\u001b[0m\u001b[1;33m.\u001b[0m\u001b[0mseed\u001b[0m\u001b[1;33m(\u001b[0m\u001b[1;36m123\u001b[0m\u001b[1;33m)\u001b[0m\u001b[1;33m\u001b[0m\u001b[1;33m\u001b[0m\u001b[0m\n\u001b[1;32m----> 2\u001b[1;33m conv_base_history = transfer_model.fit(x=transfer_train_images, y=train_y,  \n\u001b[0m\u001b[0;32m      3\u001b[0m                                        \u001b[0mepochs\u001b[0m \u001b[1;33m=\u001b[0m \u001b[1;36m20\u001b[0m\u001b[1;33m,\u001b[0m\u001b[1;33m\u001b[0m\u001b[1;33m\u001b[0m\u001b[0m\n\u001b[0;32m      4\u001b[0m                                        \u001b[0mbatch_size\u001b[0m \u001b[1;33m=\u001b[0m \u001b[1;36m32\u001b[0m\u001b[1;33m,\u001b[0m\u001b[1;33m\u001b[0m\u001b[1;33m\u001b[0m\u001b[0m\n\u001b[0;32m      5\u001b[0m                                        \u001b[0mvalidation_split\u001b[0m\u001b[1;33m=\u001b[0m\u001b[1;36m.25\u001b[0m\u001b[1;33m,\u001b[0m\u001b[1;33m\u001b[0m\u001b[1;33m\u001b[0m\u001b[0m\n",
      "\u001b[1;32m~\\anaconda3\\envs\\learn-env\\lib\\site-packages\\tensorflow\\python\\keras\\engine\\training.py\u001b[0m in \u001b[0;36m_method_wrapper\u001b[1;34m(self, *args, **kwargs)\u001b[0m\n\u001b[0;32m    106\u001b[0m   \u001b[1;32mdef\u001b[0m \u001b[0m_method_wrapper\u001b[0m\u001b[1;33m(\u001b[0m\u001b[0mself\u001b[0m\u001b[1;33m,\u001b[0m \u001b[1;33m*\u001b[0m\u001b[0margs\u001b[0m\u001b[1;33m,\u001b[0m \u001b[1;33m**\u001b[0m\u001b[0mkwargs\u001b[0m\u001b[1;33m)\u001b[0m\u001b[1;33m:\u001b[0m\u001b[1;33m\u001b[0m\u001b[1;33m\u001b[0m\u001b[0m\n\u001b[0;32m    107\u001b[0m     \u001b[1;32mif\u001b[0m \u001b[1;32mnot\u001b[0m \u001b[0mself\u001b[0m\u001b[1;33m.\u001b[0m\u001b[0m_in_multi_worker_mode\u001b[0m\u001b[1;33m(\u001b[0m\u001b[1;33m)\u001b[0m\u001b[1;33m:\u001b[0m  \u001b[1;31m# pylint: disable=protected-access\u001b[0m\u001b[1;33m\u001b[0m\u001b[1;33m\u001b[0m\u001b[0m\n\u001b[1;32m--> 108\u001b[1;33m       \u001b[1;32mreturn\u001b[0m \u001b[0mmethod\u001b[0m\u001b[1;33m(\u001b[0m\u001b[0mself\u001b[0m\u001b[1;33m,\u001b[0m \u001b[1;33m*\u001b[0m\u001b[0margs\u001b[0m\u001b[1;33m,\u001b[0m \u001b[1;33m**\u001b[0m\u001b[0mkwargs\u001b[0m\u001b[1;33m)\u001b[0m\u001b[1;33m\u001b[0m\u001b[1;33m\u001b[0m\u001b[0m\n\u001b[0m\u001b[0;32m    109\u001b[0m \u001b[1;33m\u001b[0m\u001b[0m\n\u001b[0;32m    110\u001b[0m     \u001b[1;31m# Running inside `run_distribute_coordinator` already.\u001b[0m\u001b[1;33m\u001b[0m\u001b[1;33m\u001b[0m\u001b[1;33m\u001b[0m\u001b[0m\n",
      "\u001b[1;32m~\\anaconda3\\envs\\learn-env\\lib\\site-packages\\tensorflow\\python\\keras\\engine\\training.py\u001b[0m in \u001b[0;36mfit\u001b[1;34m(self, x, y, batch_size, epochs, verbose, callbacks, validation_split, validation_data, shuffle, class_weight, sample_weight, initial_epoch, steps_per_epoch, validation_steps, validation_batch_size, validation_freq, max_queue_size, workers, use_multiprocessing)\u001b[0m\n\u001b[0;32m   1096\u001b[0m                 batch_size=batch_size):\n\u001b[0;32m   1097\u001b[0m               \u001b[0mcallbacks\u001b[0m\u001b[1;33m.\u001b[0m\u001b[0mon_train_batch_begin\u001b[0m\u001b[1;33m(\u001b[0m\u001b[0mstep\u001b[0m\u001b[1;33m)\u001b[0m\u001b[1;33m\u001b[0m\u001b[1;33m\u001b[0m\u001b[0m\n\u001b[1;32m-> 1098\u001b[1;33m               \u001b[0mtmp_logs\u001b[0m \u001b[1;33m=\u001b[0m \u001b[0mtrain_function\u001b[0m\u001b[1;33m(\u001b[0m\u001b[0miterator\u001b[0m\u001b[1;33m)\u001b[0m\u001b[1;33m\u001b[0m\u001b[1;33m\u001b[0m\u001b[0m\n\u001b[0m\u001b[0;32m   1099\u001b[0m               \u001b[1;32mif\u001b[0m \u001b[0mdata_handler\u001b[0m\u001b[1;33m.\u001b[0m\u001b[0mshould_sync\u001b[0m\u001b[1;33m:\u001b[0m\u001b[1;33m\u001b[0m\u001b[1;33m\u001b[0m\u001b[0m\n\u001b[0;32m   1100\u001b[0m                 \u001b[0mcontext\u001b[0m\u001b[1;33m.\u001b[0m\u001b[0masync_wait\u001b[0m\u001b[1;33m(\u001b[0m\u001b[1;33m)\u001b[0m\u001b[1;33m\u001b[0m\u001b[1;33m\u001b[0m\u001b[0m\n",
      "\u001b[1;32m~\\anaconda3\\envs\\learn-env\\lib\\site-packages\\tensorflow\\python\\eager\\def_function.py\u001b[0m in \u001b[0;36m__call__\u001b[1;34m(self, *args, **kwds)\u001b[0m\n\u001b[0;32m    778\u001b[0m       \u001b[1;32melse\u001b[0m\u001b[1;33m:\u001b[0m\u001b[1;33m\u001b[0m\u001b[1;33m\u001b[0m\u001b[0m\n\u001b[0;32m    779\u001b[0m         \u001b[0mcompiler\u001b[0m \u001b[1;33m=\u001b[0m \u001b[1;34m\"nonXla\"\u001b[0m\u001b[1;33m\u001b[0m\u001b[1;33m\u001b[0m\u001b[0m\n\u001b[1;32m--> 780\u001b[1;33m         \u001b[0mresult\u001b[0m \u001b[1;33m=\u001b[0m \u001b[0mself\u001b[0m\u001b[1;33m.\u001b[0m\u001b[0m_call\u001b[0m\u001b[1;33m(\u001b[0m\u001b[1;33m*\u001b[0m\u001b[0margs\u001b[0m\u001b[1;33m,\u001b[0m \u001b[1;33m**\u001b[0m\u001b[0mkwds\u001b[0m\u001b[1;33m)\u001b[0m\u001b[1;33m\u001b[0m\u001b[1;33m\u001b[0m\u001b[0m\n\u001b[0m\u001b[0;32m    781\u001b[0m \u001b[1;33m\u001b[0m\u001b[0m\n\u001b[0;32m    782\u001b[0m       \u001b[0mnew_tracing_count\u001b[0m \u001b[1;33m=\u001b[0m \u001b[0mself\u001b[0m\u001b[1;33m.\u001b[0m\u001b[0m_get_tracing_count\u001b[0m\u001b[1;33m(\u001b[0m\u001b[1;33m)\u001b[0m\u001b[1;33m\u001b[0m\u001b[1;33m\u001b[0m\u001b[0m\n",
      "\u001b[1;32m~\\anaconda3\\envs\\learn-env\\lib\\site-packages\\tensorflow\\python\\eager\\def_function.py\u001b[0m in \u001b[0;36m_call\u001b[1;34m(self, *args, **kwds)\u001b[0m\n\u001b[0;32m    805\u001b[0m       \u001b[1;31m# In this case we have created variables on the first call, so we run the\u001b[0m\u001b[1;33m\u001b[0m\u001b[1;33m\u001b[0m\u001b[1;33m\u001b[0m\u001b[0m\n\u001b[0;32m    806\u001b[0m       \u001b[1;31m# defunned version which is guaranteed to never create variables.\u001b[0m\u001b[1;33m\u001b[0m\u001b[1;33m\u001b[0m\u001b[1;33m\u001b[0m\u001b[0m\n\u001b[1;32m--> 807\u001b[1;33m       \u001b[1;32mreturn\u001b[0m \u001b[0mself\u001b[0m\u001b[1;33m.\u001b[0m\u001b[0m_stateless_fn\u001b[0m\u001b[1;33m(\u001b[0m\u001b[1;33m*\u001b[0m\u001b[0margs\u001b[0m\u001b[1;33m,\u001b[0m \u001b[1;33m**\u001b[0m\u001b[0mkwds\u001b[0m\u001b[1;33m)\u001b[0m  \u001b[1;31m# pylint: disable=not-callable\u001b[0m\u001b[1;33m\u001b[0m\u001b[1;33m\u001b[0m\u001b[0m\n\u001b[0m\u001b[0;32m    808\u001b[0m     \u001b[1;32melif\u001b[0m \u001b[0mself\u001b[0m\u001b[1;33m.\u001b[0m\u001b[0m_stateful_fn\u001b[0m \u001b[1;32mis\u001b[0m \u001b[1;32mnot\u001b[0m \u001b[1;32mNone\u001b[0m\u001b[1;33m:\u001b[0m\u001b[1;33m\u001b[0m\u001b[1;33m\u001b[0m\u001b[0m\n\u001b[0;32m    809\u001b[0m       \u001b[1;31m# Release the lock early so that multiple threads can perform the call\u001b[0m\u001b[1;33m\u001b[0m\u001b[1;33m\u001b[0m\u001b[1;33m\u001b[0m\u001b[0m\n",
      "\u001b[1;31mTypeError\u001b[0m: 'NoneType' object is not callable"
     ]
    }
   ],
   "source": [
    "np.random.seed(123)\n",
    "conv_base_history = transfer_model.fit(x=transfer_train_images, y=train_y,  \n",
    "                                       epochs = 20, \n",
    "                                       batch_size = 32, \n",
    "                                       validation_split=.25, \n",
    "                                       callbacks = [es])"
   ]
  },
  {
   "cell_type": "code",
   "execution_count": 92,
   "metadata": {
    "scrolled": true
   },
   "outputs": [
    {
     "data": {
      "text/plain": [
       "{'validation_data': None,\n",
       " 'model': <tensorflow.python.keras.engine.sequential.Sequential at 0x1f08f7017f0>,\n",
       " '_chief_worker_only': None,\n",
       " '_supports_tf_logs': False,\n",
       " 'history': {'loss': [0.8272767066955566,\n",
       "   0.6617735624313354,\n",
       "   0.5785691142082214,\n",
       "   0.5739938616752625,\n",
       "   0.5770297646522522],\n",
       "  'accuracy': [0.6572375297546387,\n",
       "   0.7097349762916565,\n",
       "   0.7438837885856628,\n",
       "   0.743628978729248,\n",
       "   0.743628978729248],\n",
       "  'recall_7': [0.8152844309806824, 0.9342014789581299, 1.0, 1.0, 1.0],\n",
       "  'val_loss': [0.6259242296218872,\n",
       "   0.5753017663955688,\n",
       "   0.5760843753814697,\n",
       "   0.5756241679191589,\n",
       "   0.5759062767028809],\n",
       "  'val_accuracy': [0.7377675771713257,\n",
       "   0.7377675771713257,\n",
       "   0.7377675771713257,\n",
       "   0.7377675771713257,\n",
       "   0.7377675771713257],\n",
       "  'val_recall_7': [1.0, 1.0, 1.0, 1.0, 1.0]},\n",
       " 'params': {'verbose': 1, 'epochs': 20, 'steps': 123},\n",
       " 'epoch': [0, 1, 2, 3, 4]}"
      ]
     },
     "execution_count": 92,
     "metadata": {},
     "output_type": "execute_result"
    }
   ],
   "source": [
    "conv_base_history.__dict__"
   ]
  },
  {
   "cell_type": "code",
   "execution_count": 93,
   "metadata": {},
   "outputs": [],
   "source": [
    "conv_epochs = conv_base_history.epoch\n",
    "\n",
    "conv_loss = conv_base_history.history['loss']\n",
    "conv_accuracy = conv_base_history.history['accuracy']\n",
    "conv_recall = conv_base_history.history['recall_7']\n",
    "\n",
    "conv_val_loss = conv_base_history.history['val_loss']\n",
    "conv_val_accuracy = conv_base_history.history['val_accuracy']\n",
    "conv_val_recall = conv_base_history.history['val_recall_7']"
   ]
  },
  {
   "cell_type": "code",
   "execution_count": 94,
   "metadata": {},
   "outputs": [
    {
     "data": {
      "image/png": "[encoded data removed]",
      "text/plain": [
       "<Figure size 576x432 with 1 Axes>"
      ]
     },
     "metadata": {
      "needs_background": "light"
     },
     "output_type": "display_data"
    }
   ],
   "source": [
    "fig, ax = plt.subplots(figsize = (8,6))\n",
    "\n",
    "ax.plot(conv_epochs, conv_accuracy, label = 'Training Accuracy')\n",
    "ax.plot(conv_epochs, conv_val_accuracy, linestyle = '--', label = 'Validation Accuracy')\n",
    "ax.set_xlabel(\"Epochs\")\n",
    "ax.set_ylabel(\"Accuracy\")\n",
    "plt.legend();"
   ]
  },
  {
   "cell_type": "code",
   "execution_count": 95,
   "metadata": {},
   "outputs": [
    {
     "data": {
      "image/png": "[encoded data removed]",
      "text/plain": [
       "<Figure size 576x432 with 1 Axes>"
      ]
     },
     "metadata": {
      "needs_background": "light"
     },
     "output_type": "display_data"
    }
   ],
   "source": [
    "fig, ax = plt.subplots(figsize = (8,6))\n",
    "\n",
    "ax.plot(conv_epochs, conv_loss, label = 'Training Loss')\n",
    "ax.plot(conv_epochs, conv_val_loss, linestyle = '--', label = 'Validation Loss')\n",
    "ax.set_xlabel(\"Epochs\")\n",
    "ax.set_ylabel(\"Loss\")\n",
    "plt.legend();"
   ]
  },
  {
   "cell_type": "code",
   "execution_count": 96,
   "metadata": {},
   "outputs": [
    {
     "data": {
      "image/png": "[encoded data removed]",
      "text/plain": [
       "<Figure size 576x432 with 1 Axes>"
      ]
     },
     "metadata": {
      "needs_background": "light"
     },
     "output_type": "display_data"
    }
   ],
   "source": [
    "fig, ax = plt.subplots(figsize = (8,6))\n",
    "\n",
    "ax.plot(conv_epochs, conv_recall, label = 'Training Recall')\n",
    "ax.plot(conv_epochs, conv_val_recall, linestyle = '--', label = 'Validation Recall')\n",
    "ax.set_xlabel(\"Epochs\")\n",
    "ax.set_ylabel(\"Recall\")\n",
    "plt.legend();"
   ]
  },
  {
   "cell_type": "code",
   "execution_count": 97,
   "metadata": {},
   "outputs": [
    {
     "name": "stdout",
     "output_type": "stream",
     "text": [
      "164/164 [==============================] - 185s 1s/step - loss: 0.5710 - accuracy: 0.7422 - recall_7: 1.0000\n"
     ]
    }
   ],
   "source": [
    "base_train_results = transfer_model.evaluate(rgb_train_images, train_y_rgb)"
   ]
  },
  {
   "cell_type": "code",
   "execution_count": 98,
   "metadata": {},
   "outputs": [],
   "source": [
    "np.random.seed(111)\n",
    "y_test_preds = transfer_model.predict(rgb_test_images)\n",
    "y_test_pred_rgb = np.round(y_test_preds).astype(int)"
   ]
  },
  {
   "cell_type": "code",
   "execution_count": 99,
   "metadata": {
    "scrolled": true
   },
   "outputs": [
    {
     "data": {
      "text/plain": [
       "array([[  0, 234],\n",
       "       [  0, 390]], dtype=int64)"
      ]
     },
     "execution_count": 99,
     "metadata": {},
     "output_type": "execute_result"
    }
   ],
   "source": [
    "y_test_true_rgb = test_y_rgb.astype(int)\n",
    "confusion_matrix(y_test_true_rgb, y_test_pred_rgb)"
   ]
  },
  {
   "cell_type": "markdown",
   "metadata": {},
   "source": [
    "This model only predicted the positive class, with no false negatives. As far as usefulness goes, this model does not fit the bill. The next step here may be using data augmentation. "
   ]
  },
  {
   "cell_type": "markdown",
   "metadata": {},
   "source": [
    "## Transfer Learning Attempt 2"
   ]
  },
  {
   "cell_type": "code",
   "execution_count": 112,
   "metadata": {},
   "outputs": [],
   "source": [
    "cnn2_base = EfficientNetB0(include_top = False, \n",
    "                           weights = 'imagenet',\n",
    "                           classes = 2, \n",
    "                           classifier_activation = 'tanh',\n",
    "                           drop_connect_rate = .4)"
   ]
  },
  {
   "cell_type": "code",
   "execution_count": 113,
   "metadata": {},
   "outputs": [],
   "source": [
    "cnn2_model = models.Sequential()\n",
    "cnn2_model.add(cnn2_base)\n",
    "\n",
    "cnn2_model.add(layers.GlobalMaxPooling2D())\n",
    "\n",
    "\n",
    "cnn2_model.add(layers.Dropout(.4, name=\"dropout_out\"))\n",
    "cnn2_model.add(layers.Dense(256, activation=\"relu\"))\n",
    "cnn2_model.add(layers.Dense(128, activation=\"relu\"))\n",
    "cnn2_model.add(layers.Dense(64, activation=\"relu\"))\n",
    "cnn2_model.add(layers.Dense(2, activation=\"sigmoid\", name=\"fc_out\"))"
   ]
  },
  {
   "cell_type": "code",
   "execution_count": 114,
   "metadata": {
    "scrolled": false
   },
   "outputs": [
    {
     "name": "stdout",
     "output_type": "stream",
     "text": [
      "efficientnetb0 False\n",
      "global_max_pooling2d_6 True\n",
      "dropout_out True\n",
      "dense_27 True\n",
      "dense_28 True\n",
      "dense_29 True\n",
      "fc_out True\n",
      "8\n"
     ]
    }
   ],
   "source": [
    "cnn2_base.trainable = False\n",
    "\n",
    "for layer in cnn2_model.layers:\n",
    "    print(layer.name, layer.trainable)\n",
    "\n",
    "print(len(cnn2_model.trainable_weights))"
   ]
  },
  {
   "cell_type": "code",
   "execution_count": 115,
   "metadata": {},
   "outputs": [
    {
     "name": "stdout",
     "output_type": "stream",
     "text": [
      "Model: \"sequential_12\"\n",
      "_________________________________________________________________\n",
      "Layer (type)                 Output Shape              Param #   \n",
      "=================================================================\n",
      "efficientnetb0 (Functional)  (None, None, None, 1280)  4049571   \n",
      "_________________________________________________________________\n",
      "global_max_pooling2d_6 (Glob (None, 1280)              0         \n",
      "_________________________________________________________________\n",
      "dropout_out (Dropout)        (None, 1280)              0         \n",
      "_________________________________________________________________\n",
      "dense_27 (Dense)             (None, 256)               327936    \n",
      "_________________________________________________________________\n",
      "dense_28 (Dense)             (None, 128)               32896     \n",
      "_________________________________________________________________\n",
      "dense_29 (Dense)             (None, 64)                8256      \n",
      "_________________________________________________________________\n",
      "fc_out (Dense)               (None, 2)                 130       \n",
      "=================================================================\n",
      "Total params: 4,418,789\n",
      "Trainable params: 369,218\n",
      "Non-trainable params: 4,049,571\n",
      "_________________________________________________________________\n"
     ]
    }
   ],
   "source": [
    "cnn2_model.summary()"
   ]
  },
  {
   "cell_type": "code",
   "execution_count": 116,
   "metadata": {},
   "outputs": [],
   "source": [
    "cnn2_model.compile(loss='binary_crossentropy',\n",
    "              optimizer='adam',\n",
    "              metrics=(['accuracy'], metrics.Recall()))"
   ]
  },
  {
   "cell_type": "code",
   "execution_count": 117,
   "metadata": {
    "scrolled": true
   },
   "outputs": [
    {
     "name": "stdout",
     "output_type": "stream",
     "text": [
      "Epoch 1/20\n",
      "134/134 - 89s - loss: 0.6774 - accuracy: 0.7101 - recall_13: 0.7050 - val_loss: 0.6517 - val_accuracy: 0.7173 - val_recall_13: 0.7173\n",
      "Epoch 2/20\n",
      "134/134 - 86s - loss: 0.6061 - accuracy: 0.7416 - recall_13: 0.7387 - val_loss: 0.6082 - val_accuracy: 0.7173 - val_recall_13: 0.7173\n",
      "Epoch 3/20\n",
      "134/134 - 86s - loss: 0.5885 - accuracy: 0.7383 - recall_13: 0.7378 - val_loss: 0.5971 - val_accuracy: 0.7173 - val_recall_13: 0.7173\n",
      "Epoch 4/20\n",
      "134/134 - 88s - loss: 0.5896 - accuracy: 0.7416 - recall_13: 0.7462 - val_loss: 0.6040 - val_accuracy: 0.7173 - val_recall_13: 0.7173\n",
      "Epoch 5/20\n",
      "134/134 - 89s - loss: 0.5805 - accuracy: 0.7467 - recall_13: 0.7458 - val_loss: 0.6022 - val_accuracy: 0.7173 - val_recall_13: 0.7173\n",
      "Epoch 6/20\n",
      "134/134 - 92s - loss: 0.5756 - accuracy: 0.7416 - recall_13: 0.7420 - val_loss: 0.5976 - val_accuracy: 0.7173 - val_recall_13: 0.7173\n",
      "Epoch 00006: early stopping\n"
     ]
    }
   ],
   "source": [
    "history = cnn2_model.fit(x = transfer_train_images, y = transfer_train_labels,  \n",
    "    epochs = 20,\n",
    "    batch_size = 16, \n",
    "    validation_split = .25,\n",
    "    verbose = 2, \n",
    "    callbacks = [es])"
   ]
  },
  {
   "cell_type": "code",
   "execution_count": 119,
   "metadata": {
    "scrolled": true
   },
   "outputs": [
    {
     "name": "stdout",
     "output_type": "stream",
     "text": [
      "89/89 [==============================] - 84s 939ms/step - loss: 0.5742 - accuracy: 0.7394 - recall_13: 0.7394\n"
     ]
    }
   ],
   "source": [
    "train_results = cnn2_model.evaluate(transfer_train_images, transfer_train_labels)"
   ]
  },
  {
   "cell_type": "code",
   "execution_count": 120,
   "metadata": {},
   "outputs": [],
   "source": [
    "y_preds = np.round(cnn2_model.predict(transfer_train_images)).astype(int)\n",
    "y_true = transfer_train_labels.astype(int)"
   ]
  },
  {
   "cell_type": "code",
   "execution_count": 125,
   "metadata": {
    "scrolled": true
   },
   "outputs": [],
   "source": [
    "y_true = y_true[:,1]"
   ]
  },
  {
   "cell_type": "code",
   "execution_count": 126,
   "metadata": {},
   "outputs": [],
   "source": [
    "y_preds = y_preds[:,1]"
   ]
  },
  {
   "cell_type": "code",
   "execution_count": 127,
   "metadata": {
    "scrolled": true
   },
   "outputs": [
    {
     "data": {
      "text/plain": [
       "array([[   0,  741],\n",
       "       [   0, 2102]], dtype=int64)"
      ]
     },
     "execution_count": 127,
     "metadata": {},
     "output_type": "execute_result"
    }
   ],
   "source": [
    "confusion_matrix(y_true, y_preds)"
   ]
  },
  {
   "cell_type": "markdown",
   "metadata": {},
   "source": [
    "This model also only predicted postive classes. The final scratch-build model performed better than layering onto a pre-trained model."
   ]
  },
  {
   "cell_type": "markdown",
   "metadata": {},
   "source": [
    "## Using LIME to interpret meaningful parts of images"
   ]
  },
  {
   "cell_type": "code",
   "execution_count": null,
   "metadata": {},
   "outputs": [],
   "source": [
    "#pip install lime"
   ]
  },
  {
   "cell_type": "code",
   "execution_count": 117,
   "metadata": {},
   "outputs": [],
   "source": [
    "import os\n",
    "import keras\n",
    "from tensorflow.keras.applications import inception_v3 as inc_net\n",
    "from tensorflow.keras.preprocessing import image\n",
    "from keras.applications.imagenet_utils import decode_predictions\n",
    "from lime import lime_image\n",
    "import time\n",
    "from skimage.segmentation import mark_boundaries\n",
    "from skimage.io import imread"
   ]
  },
  {
   "cell_type": "code",
   "execution_count": 118,
   "metadata": {},
   "outputs": [],
   "source": [
    "path_list = []\n",
    "for pic in test_dir_pneumonia:\n",
    "    #print(pic)\n",
    "    path_list.append('../data/chest_xray/test/PNEUMONIA/' + pic)\n",
    "#creates a list of the file path foreach image in pneumonia"
   ]
  },
  {
   "cell_type": "code",
   "execution_count": 135,
   "metadata": {},
   "outputs": [],
   "source": [
    "def transform_img_fn(path_list):\n",
    "    \"\"\"Takes in a list of file paths from images, loads the images, \n",
    "    transforms the images adn outputs arrays fro these images\"\"\"\n",
    "    out = []\n",
    "    for img_path in path_list:\n",
    "        img = image.load_img(img_path, target_size=(224, 224, 3), color_mode = 'rgb')\n",
    "        x = image.img_to_array(img)\n",
    "        x = np.expand_dims(x, axis=0)\n",
    "        x = np.divide(x, 255.0).astype('double')\n",
    "        out.append(x)\n",
    "    return np.vstack(out)"
   ]
  },
  {
   "cell_type": "code",
   "execution_count": 136,
   "metadata": {},
   "outputs": [],
   "source": [
    "X = transform_img_fn(path_list)\n",
    "#transforms all images and puts in list\n",
    "\n",
    "#yhat_test = model5.predict(X)"
   ]
  },
  {
   "cell_type": "code",
   "execution_count": 110,
   "metadata": {
    "scrolled": false
   },
   "outputs": [
    {
     "data": {
      "text/plain": [
       "((array([281], dtype=int64), array([0], dtype=int64)),\n",
       " (array([85], dtype=int64), array([0], dtype=int64)))"
      ]
     },
     "execution_count": 110,
     "metadata": {},
     "output_type": "execute_result"
    }
   ],
   "source": [
    "yhat_min = yhat_test == min(yhat_test)\n",
    "\n",
    "yhat_max = yhat_test == max(yhat_test)\n",
    "\n",
    "np.where (yhat_test ==  min(yhat_test)), np.where(yhat_test == max(yhat_test))\n",
    "#how to find hte minimum"
   ]
  },
  {
   "cell_type": "code",
   "execution_count": 111,
   "metadata": {},
   "outputs": [],
   "source": [
    "min_explainer = lime_image.LimeImageExplainer()\n",
    "\n",
    "max_explainer = lime_image.LimeImageExplainer()\n",
    "#instantiate explainer obj"
   ]
  },
  {
   "cell_type": "code",
   "execution_count": null,
   "metadata": {},
   "outputs": [],
   "source": [
    "#min_explanation = min_explainer.explain_instance(###, model5.predict, top_labels=5, hide_color=0, num_samples=1000)\n",
    "\n",
    "#max_explanation = max_explainer.explain_instance(test_images[85], model5.predict, top_labels=5, hide_color=0, num_samples=1000)"
   ]
  },
  {
   "cell_type": "code",
   "execution_count": null,
   "metadata": {},
   "outputs": [],
   "source": [
    "min_temp, min_mask = min_explanation.get_image_and_mask(min_explanation.top_labels[0], positive_only=True, num_features=5, hide_rest=False)\n",
    "plt.imshow(mark_boundaries(min_temp / 2 + 0.5, min_mask))\n",
    "\n",
    "\n",
    "max_temp, max_mask = max_explanation.get_image_and_mask(max_explanation.top_labels[0], positive_only=True, num_features=5, hide_rest=False)\n",
    "plt.imshow(mark_boundaries(max_temp / 2 + 0.5, max_mask))"
   ]
  }
 ],
 "metadata": {
  "kernelspec": {
   "display_name": "Python 3",
   "language": "python",
   "name": "python3"
  },
  "language_info": {
   "codemirror_mode": {
    "name": "ipython",
    "version": 3
   },
   "file_extension": ".py",
   "mimetype": "text/x-python",
   "name": "python",
   "nbconvert_exporter": "python",
   "pygments_lexer": "ipython3",
   "version": "3.8.5"
  }
 },
 "nbformat": 4,
 "nbformat_minor": 4
}
