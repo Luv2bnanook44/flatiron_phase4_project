{
 "cells": [
  {
   "cell_type": "code",
   "execution_count": 1,
   "metadata": {},
   "outputs": [],
   "source": [
    "import matplotlib.pyplot as plt\n",
    "%matplotlib inline\n",
    "import seaborn as sns\n",
    "import numpy as np\n",
    "from scipy import ndimage\n",
    "import pandas as pd\n",
    "\n",
    "from tensorflow.keras import models, layers, metrics\n",
    "from tensorflow.keras.preprocessing.image import ImageDataGenerator, load_img, array_to_img, img_to_array\n",
    "\n",
    "from PIL import Image\n",
    "\n",
    "from tensorflow.keras import layers\n",
    "from tensorflow.keras.models import Sequential\n",
    "from tensorflow.keras.layers import Dense, Dropout, Flatten\n",
    "from tensorflow.keras.regularizers import l2\n",
    "from tensorflow.keras.optimizers import SGD\n",
    "from tensorflow.keras.wrappers import scikit_learn\n",
    "from tensorflow.keras.callbacks import EarlyStopping\n",
    "from keras.layers.advanced_activations import LeakyReLU\n",
    "\n",
    "import os"
   ]
  },
  {
   "cell_type": "code",
   "execution_count": 2,
   "metadata": {},
   "outputs": [],
   "source": [
    "base_dir='../data/chest_xray/'\n",
    "\n",
    "train_path = '../data/chest_xray/train'\n",
    "\n",
    "validation_path = '../data/chest_xray/val'\n",
    "\n",
    "test_path = '../data/chest_xray/test'"
   ]
  },
  {
   "cell_type": "code",
   "execution_count": 3,
   "metadata": {},
   "outputs": [],
   "source": [
    "train_pneumonia=os.listdir('../data/chest_xray/train/PNEUMONIA/')\n",
    "train_normal=os.listdir('../data/chest_xray/train/NORMAL/')\n",
    "val_dir_normal=os.listdir('../data/chest_xray/val/NORMAL/')\n",
    "test_dir_normal=os.listdir('../data/chest_xray/test/NORMAL/')\n",
    "val_dir_pneumonia=os.listdir('../data/chest_xray/val/PNEUMONIA/')\n",
    "test_dir_pneumonia=os.listdir('../data/chest_xray/test/PNEUMONIA/')\n",
    "\n",
    "label_string = os.listdir('../data/chest_xray/train')"
   ]
  },
  {
   "cell_type": "code",
   "execution_count": 4,
   "metadata": {},
   "outputs": [],
   "source": [
    "# Greyscale distribution histogram - done, Jamie\n",
    "# Class distribution - heavily weighted towards positive class (pneumonia) - done, Jamie\n",
    "# Address class imbalance - incorporate flipped 0-class images - Rachel wrote a function for this\n",
    "# Mean values for negative and positive classes - Svitlana \n",
    "# Look for outliers\n",
    "# Look at subracting the pixel mean\n",
    "# Apply matrix transformations to further define images - \n",
    "# Data Augmentation - Svitlana will make an attempt"
   ]
  },
  {
   "cell_type": "code",
   "execution_count": 5,
   "metadata": {
    "scrolled": false
   },
   "outputs": [
    {
     "name": "stdout",
     "output_type": "stream",
     "text": [
      "Train set w/ pneumonia:  2144\n",
      "Train set normal:  699\n",
      "Validation set w/ pneumonia:  1739\n",
      "Validation set normal:  650\n",
      "Test set w/ pneumonia:  390\n",
      "Test set normal:  234\n"
     ]
    }
   ],
   "source": [
    "print(\"Train set w/ pneumonia: \", len(train_pneumonia))\n",
    "print(\"Train set normal: \", len(train_normal))\n",
    "print(\"Validation set w/ pneumonia: \", len(val_dir_pneumonia))\n",
    "print(\"Validation set normal: \", len(val_dir_normal))\n",
    "print(\"Test set w/ pneumonia: \", len(test_dir_pneumonia))\n",
    "print(\"Test set normal: \", len(test_dir_normal))"
   ]
  },
  {
   "cell_type": "code",
   "execution_count": 6,
   "metadata": {},
   "outputs": [
    {
     "data": {
      "text/plain": [
       "(2843, 2389, 624)"
      ]
     },
     "execution_count": 6,
     "metadata": {},
     "output_type": "execute_result"
    }
   ],
   "source": [
    "2144+699, 1739+650, 390+234"
   ]
  },
  {
   "cell_type": "code",
   "execution_count": 7,
   "metadata": {
    "scrolled": true
   },
   "outputs": [
    {
     "data": {
      "image/png": "[encoded data removed]",
      "text/plain": [
       "<Figure size 432x288 with 1 Axes>"
      ]
     },
     "metadata": {
      "needs_background": "light"
     },
     "output_type": "display_data"
    }
   ],
   "source": [
    "labels = ['Train Pneumonia', 'Train Normal', 'Val. Pneumonia', 'Val. Normal', 'Test Pneumonia', 'Test Normal']\n",
    "dist = sns.barplot(x=labels, \n",
    "           y=[len(train_pneumonia), len(train_normal), len(val_dir_pneumonia), len(val_dir_normal), len(test_dir_pneumonia), len(test_dir_normal)],)\n",
    "\n",
    "dist.set_xticklabels(labels = labels, rotation = 30);"
   ]
  },
  {
   "cell_type": "code",
   "execution_count": 8,
   "metadata": {},
   "outputs": [
    {
     "data": {
      "text/plain": [
       "<Figure size 432x288 with 0 Axes>"
      ]
     },
     "metadata": {},
     "output_type": "display_data"
    }
   ],
   "source": [
    "#loading images for training set - pneumonia\n",
    "\n",
    "plt.suptitle(\"Patients with Pneumonia\")\n",
    "for i in range(0,4):\n",
    "    img = train_pneumonia[i]\n",
    "    img = load_img(train_path+'/PNEUMONIA/'+img)\n",
    "#    plt.imshow(img)\n",
    "#    plt.show()"
   ]
  },
  {
   "cell_type": "code",
   "execution_count": 9,
   "metadata": {},
   "outputs": [
    {
     "data": {
      "text/plain": [
       "<Figure size 432x288 with 0 Axes>"
      ]
     },
     "metadata": {},
     "output_type": "display_data"
    }
   ],
   "source": [
    "#loading images for training set - normal\n",
    "\n",
    "plt.suptitle(\"Normal Patients\")\n",
    "for i in range(0,4):\n",
    "    img = train_normal[i]\n",
    "    img = load_img(train_path+'/NORMAL/'+img)\n",
    "#    plt.imshow(img)\n",
    "#    plt.show()"
   ]
  },
  {
   "cell_type": "code",
   "execution_count": 10,
   "metadata": {},
   "outputs": [
    {
     "name": "stdout",
     "output_type": "stream",
     "text": [
      "Found 2843 images belonging to 2 classes.\n",
      "Found 2389 images belonging to 2 classes.\n",
      "Found 624 images belonging to 2 classes.\n"
     ]
    }
   ],
   "source": [
    "train_gen = ImageDataGenerator(rescale = 1/255.).flow_from_directory(train_path,\n",
    "                                                 target_size=(224, 224),\n",
    "                                                 batch_size=2843,\n",
    "                                                 color_mode = 'grayscale',                \n",
    "                                                 class_mode='binary')\n",
    "\n",
    "val_gen = ImageDataGenerator(rescale = 1/255.).flow_from_directory(validation_path,\n",
    "                                            target_size=(224, 224),\n",
    "                                            shuffle=True,\n",
    "                                            batch_size=2389,\n",
    "                                            color_mode = 'grayscale',                      \n",
    "                                            class_mode='binary')\n",
    "\n",
    "test_gen = ImageDataGenerator(rescale = 1/255.).flow_from_directory(test_path,\n",
    "                                            target_size=(224, 224),\n",
    "                                            batch_size=624,\n",
    "                                            color_mode = 'grayscale',                        \n",
    "                                            class_mode='binary')"
   ]
  },
  {
   "cell_type": "code",
   "execution_count": 11,
   "metadata": {},
   "outputs": [],
   "source": [
    "train_images, train_labels = next(train_gen)\n",
    "val_images, val_labels = next(val_gen)\n",
    "test_images, test_labels = next(test_gen)"
   ]
  },
  {
   "cell_type": "code",
   "execution_count": 12,
   "metadata": {
    "scrolled": true
   },
   "outputs": [
    {
     "name": "stdout",
     "output_type": "stream",
     "text": [
      "Train image shape: (2843, 224, 224, 1) train label shape: (2843,)\n",
      "Val image shape: (2389, 224, 224, 1) val label shape: (2389,)\n",
      "Test image shape: (624, 224, 224, 1) test label shape: (624,)\n"
     ]
    }
   ],
   "source": [
    "print(\"Train image shape:\", train_images.shape, \"train label shape:\", train_labels.shape)\n",
    "print(\"Val image shape:\", val_images.shape, \"val label shape:\", val_labels.shape)\n",
    "print(\"Test image shape:\", test_images.shape, \"test label shape:\", test_labels.shape)"
   ]
  },
  {
   "cell_type": "code",
   "execution_count": 13,
   "metadata": {},
   "outputs": [],
   "source": [
    "train_x = train_images.reshape(train_images.shape[0], -1)\n",
    "val_x = val_images.reshape(val_images.shape[0], -1)\n",
    "test_x = test_images.reshape(test_images.shape[0], -1)"
   ]
  },
  {
   "cell_type": "code",
   "execution_count": 14,
   "metadata": {},
   "outputs": [
    {
     "data": {
      "text/plain": [
       "((2843, 50176), (2389, 50176), (624, 50176))"
      ]
     },
     "execution_count": 14,
     "metadata": {},
     "output_type": "execute_result"
    }
   ],
   "source": [
    "train_x.shape, val_x.shape, test_x.shape"
   ]
  },
  {
   "cell_type": "code",
   "execution_count": 15,
   "metadata": {},
   "outputs": [],
   "source": [
    "train_y = np.reshape(train_labels[:], (2843,1))\n",
    "val_y = np.reshape(val_labels[:], (2389,1))\n",
    "test_y = np.reshape(test_labels[:], (624,1))"
   ]
  },
  {
   "cell_type": "code",
   "execution_count": 16,
   "metadata": {},
   "outputs": [
    {
     "data": {
      "text/plain": [
       "((2843, 1), (2389, 1), (624, 1))"
      ]
     },
     "execution_count": 16,
     "metadata": {},
     "output_type": "execute_result"
    }
   ],
   "source": [
    "train_y.shape, val_y.shape, test_y.shape"
   ]
  },
  {
   "cell_type": "markdown",
   "metadata": {},
   "source": [
    "# FSM  \n",
    "### using one hidden layer"
   ]
  },
  {
   "cell_type": "code",
   "execution_count": 17,
   "metadata": {},
   "outputs": [],
   "source": [
    "np.random.seed(42)\n",
    "\n",
    "\n",
    "model = models.Sequential()\n",
    "model.add(layers.Dense(12, activation='relu', input_shape=(50176,)))\n",
    "model.add(layers.Dense(7, activation='relu'))\n",
    "model.add(layers.Dense(1, activation='sigmoid'))"
   ]
  },
  {
   "cell_type": "code",
   "execution_count": 18,
   "metadata": {
    "scrolled": true
   },
   "outputs": [
    {
     "name": "stdout",
     "output_type": "stream",
     "text": [
      "Epoch 1/25\n",
      "89/89 [==============================] - 1s 14ms/step - loss: 1.1343 - accuracy: 0.7471 - recall: 0.9879 - val_loss: 0.6592 - val_accuracy: 0.7279 - val_recall: 1.0000\n",
      "Epoch 2/25\n",
      "89/89 [==============================] - 1s 11ms/step - loss: 0.7435 - accuracy: 0.7541 - recall: 1.0000 - val_loss: 0.6306 - val_accuracy: 0.7279 - val_recall: 1.0000\n",
      "Epoch 3/25\n",
      "89/89 [==============================] - 1s 12ms/step - loss: 0.6053 - accuracy: 0.7541 - recall: 1.0000 - val_loss: 0.6085 - val_accuracy: 0.7279 - val_recall: 1.0000\n",
      "Epoch 4/25\n",
      "89/89 [==============================] - 1s 12ms/step - loss: 0.5846 - accuracy: 0.7541 - recall: 1.0000 - val_loss: 0.5933 - val_accuracy: 0.7279 - val_recall: 1.0000\n",
      "Epoch 5/25\n",
      "89/89 [==============================] - 1s 12ms/step - loss: 0.5683 - accuracy: 0.7541 - recall: 1.0000 - val_loss: 0.5864 - val_accuracy: 0.7279 - val_recall: 1.0000\n",
      "Epoch 6/25\n",
      "89/89 [==============================] - 1s 12ms/step - loss: 0.5609 - accuracy: 0.7541 - recall: 1.0000 - val_loss: 0.5854 - val_accuracy: 0.7279 - val_recall: 1.0000\n",
      "Epoch 7/25\n",
      "89/89 [==============================] - 1s 12ms/step - loss: 0.5586 - accuracy: 0.7541 - recall: 1.0000 - val_loss: 0.5859 - val_accuracy: 0.7279 - val_recall: 1.0000\n",
      "Epoch 8/25\n",
      "89/89 [==============================] - 1s 12ms/step - loss: 0.5581 - accuracy: 0.7541 - recall: 1.0000 - val_loss: 0.5864 - val_accuracy: 0.7279 - val_recall: 1.0000\n",
      "Epoch 9/25\n",
      "89/89 [==============================] - 1s 12ms/step - loss: 0.5579 - accuracy: 0.7541 - recall: 1.0000 - val_loss: 0.5867 - val_accuracy: 0.7279 - val_recall: 1.0000\n",
      "Epoch 10/25\n",
      "89/89 [==============================] - 1s 12ms/step - loss: 0.5579 - accuracy: 0.7541 - recall: 1.0000 - val_loss: 0.5869 - val_accuracy: 0.7279 - val_recall: 1.0000\n",
      "Epoch 11/25\n",
      "89/89 [==============================] - 1s 11ms/step - loss: 0.5578 - accuracy: 0.7541 - recall: 1.0000 - val_loss: 0.5873 - val_accuracy: 0.7279 - val_recall: 1.0000\n",
      "Epoch 12/25\n",
      "89/89 [==============================] - 1s 12ms/step - loss: 0.5579 - accuracy: 0.7541 - recall: 1.0000 - val_loss: 0.5873 - val_accuracy: 0.7279 - val_recall: 1.0000\n",
      "Epoch 13/25\n",
      "89/89 [==============================] - 1s 12ms/step - loss: 0.5579 - accuracy: 0.7541 - recall: 1.0000 - val_loss: 0.5870 - val_accuracy: 0.7279 - val_recall: 1.0000\n",
      "Epoch 14/25\n",
      "89/89 [==============================] - 1s 11ms/step - loss: 0.5579 - accuracy: 0.7541 - recall: 1.0000 - val_loss: 0.5870 - val_accuracy: 0.7279 - val_recall: 1.0000\n",
      "Epoch 15/25\n",
      "89/89 [==============================] - 1s 12ms/step - loss: 0.5579 - accuracy: 0.7541 - recall: 1.0000 - val_loss: 0.5871 - val_accuracy: 0.7279 - val_recall: 1.0000\n",
      "Epoch 16/25\n",
      "89/89 [==============================] - 1s 11ms/step - loss: 0.5578 - accuracy: 0.7541 - recall: 1.0000 - val_loss: 0.5873 - val_accuracy: 0.7279 - val_recall: 1.0000\n",
      "Epoch 17/25\n",
      "89/89 [==============================] - 1s 11ms/step - loss: 0.5578 - accuracy: 0.7541 - recall: 1.0000 - val_loss: 0.5874 - val_accuracy: 0.7279 - val_recall: 1.0000\n",
      "Epoch 18/25\n",
      "89/89 [==============================] - 1s 12ms/step - loss: 0.5579 - accuracy: 0.7541 - recall: 1.0000 - val_loss: 0.5872 - val_accuracy: 0.7279 - val_recall: 1.0000\n",
      "Epoch 19/25\n",
      "89/89 [==============================] - 1s 12ms/step - loss: 0.5578 - accuracy: 0.7541 - recall: 1.0000 - val_loss: 0.5870 - val_accuracy: 0.7279 - val_recall: 1.0000\n",
      "Epoch 20/25\n",
      "89/89 [==============================] - 1s 12ms/step - loss: 0.5579 - accuracy: 0.7541 - recall: 1.0000 - val_loss: 0.5870 - val_accuracy: 0.7279 - val_recall: 1.0000\n",
      "Epoch 21/25\n",
      "89/89 [==============================] - 1s 12ms/step - loss: 0.5578 - accuracy: 0.7541 - recall: 1.0000 - val_loss: 0.5872 - val_accuracy: 0.7279 - val_recall: 1.0000\n",
      "Epoch 22/25\n",
      "89/89 [==============================] - 1s 12ms/step - loss: 0.5579 - accuracy: 0.7541 - recall: 1.0000 - val_loss: 0.5873 - val_accuracy: 0.7279 - val_recall: 1.0000\n",
      "Epoch 23/25\n",
      "89/89 [==============================] - 1s 12ms/step - loss: 0.5579 - accuracy: 0.7541 - recall: 1.0000 - val_loss: 0.5873 - val_accuracy: 0.7279 - val_recall: 1.0000\n",
      "Epoch 24/25\n",
      "89/89 [==============================] - 1s 12ms/step - loss: 0.5579 - accuracy: 0.7541 - recall: 1.0000 - val_loss: 0.5872 - val_accuracy: 0.7279 - val_recall: 1.0000\n",
      "Epoch 25/25\n",
      "89/89 [==============================] - 1s 12ms/step - loss: 0.5579 - accuracy: 0.7541 - recall: 1.0000 - val_loss: 0.5871 - val_accuracy: 0.7279 - val_recall: 1.0000\n"
     ]
    }
   ],
   "source": [
    "model.compile(optimizer='rmsprop',\n",
    "              loss='binary_crossentropy',\n",
    "              metrics= (['accuracy'], metrics.Recall()))\n",
    "\n",
    "history = model.fit(train_x,\n",
    "                    train_y,\n",
    "                    epochs=25,\n",
    "                    batch_size=32,\n",
    "                    validation_data=(val_x, val_y))"
   ]
  },
  {
   "cell_type": "markdown",
   "metadata": {},
   "source": [
    "# First CNN "
   ]
  },
  {
   "cell_type": "code",
   "execution_count": 19,
   "metadata": {},
   "outputs": [],
   "source": [
    "batch_size = 64\n",
    "epochs = 10\n",
    "num_classes = 2"
   ]
  },
  {
   "cell_type": "code",
   "execution_count": 20,
   "metadata": {},
   "outputs": [],
   "source": [
    "model = models.Sequential()\n",
    "model.add(layers.Conv2D(32, (3, 3), activation='relu',\n",
    "                        input_shape=(224 , 224, 1)))\n",
    "model.add(layers.MaxPooling2D((2, 2)))\n",
    "\n",
    "model.add(layers.Conv2D(32, (4, 4), activation='relu'))\n",
    "model.add(layers.MaxPooling2D((2, 2)))\n",
    "\n",
    "model.add(layers.Flatten())\n",
    "model.add(layers.Dense(64, activation='relu'))\n",
    "model.add(layers.Dense(1, activation='sigmoid'))\n",
    "\n",
    "model.compile(loss='binary_crossentropy',\n",
    "              optimizer='rmsprop',\n",
    "              metrics=(['accuracy'], metrics.Recall()))"
   ]
  },
  {
   "cell_type": "code",
   "execution_count": 21,
   "metadata": {},
   "outputs": [],
   "source": [
    "model.compile(optimizer = 'rmsprop', \n",
    "              loss = 'binary_crossentropy', \n",
    "              metrics = (['accuracy'], metrics.Recall()))"
   ]
  },
  {
   "cell_type": "code",
   "execution_count": 22,
   "metadata": {},
   "outputs": [
    {
     "name": "stdout",
     "output_type": "stream",
     "text": [
      "Epoch 1/10\n",
      "45/45 [==============================] - 91s 2s/step - loss: 0.7825 - accuracy: 0.7249 - recall_2: 0.9086 - val_loss: 0.4171 - val_accuracy: 0.7735 - val_recall_2: 0.9954\n",
      "Epoch 2/10\n",
      "45/45 [==============================] - 94s 2s/step - loss: 0.2638 - accuracy: 0.8952 - recall_2: 0.9454 - val_loss: 0.3378 - val_accuracy: 0.8698 - val_recall_2: 0.9810\n",
      "Epoch 3/10\n",
      "45/45 [==============================] - 97s 2s/step - loss: 0.2061 - accuracy: 0.9342 - recall_2: 0.9566 - val_loss: 0.2247 - val_accuracy: 0.9125 - val_recall_2: 0.9592\n",
      "Epoch 4/10\n",
      "45/45 [==============================] - 95s 2s/step - loss: 0.1291 - accuracy: 0.9536 - recall_2: 0.9674 - val_loss: 0.1433 - val_accuracy: 0.9468 - val_recall_2: 0.9655\n",
      "Epoch 5/10\n",
      "45/45 [==============================] - 96s 2s/step - loss: 0.1106 - accuracy: 0.9571 - recall_2: 0.9701 - val_loss: 0.2087 - val_accuracy: 0.9301 - val_recall_2: 0.9845\n",
      "Epoch 6/10\n",
      "45/45 [==============================] - 96s 2s/step - loss: 0.1036 - accuracy: 0.9624 - recall_2: 0.9748 - val_loss: 0.1461 - val_accuracy: 0.9502 - val_recall_2: 0.9741\n",
      "Epoch 7/10\n",
      "45/45 [==============================] - 93s 2s/step - loss: 0.0813 - accuracy: 0.9698 - recall_2: 0.9799 - val_loss: 0.1413 - val_accuracy: 0.9447 - val_recall_2: 0.9540\n",
      "Epoch 8/10\n",
      "45/45 [==============================] - 93s 2s/step - loss: 0.0539 - accuracy: 0.9821 - recall_2: 0.9855 - val_loss: 0.3705 - val_accuracy: 0.8836 - val_recall_2: 0.9971\n",
      "Epoch 9/10\n",
      "45/45 [==============================] - 94s 2s/step - loss: 0.0627 - accuracy: 0.9764 - recall_2: 0.9841 - val_loss: 0.1602 - val_accuracy: 0.9523 - val_recall_2: 0.9764\n",
      "Epoch 10/10\n",
      "45/45 [==============================] - 93s 2s/step - loss: 0.2262 - accuracy: 0.9817 - recall_2: 0.9869 - val_loss: 0.1401 - val_accuracy: 0.9506 - val_recall_2: 0.9597\n"
     ]
    }
   ],
   "source": [
    "history = model.fit(train_images, train_y, epochs = epochs, batch_size = batch_size, validation_data=(val_images, val_y))"
   ]
  },
  {
   "cell_type": "code",
   "execution_count": 23,
   "metadata": {
    "scrolled": true
   },
   "outputs": [
    {
     "name": "stdout",
     "output_type": "stream",
     "text": [
      "89/89 [==============================] - 19s 211ms/step - loss: 0.0302 - accuracy: 0.9880 - recall_2: 0.9841\n"
     ]
    }
   ],
   "source": [
    "results_train = model.evaluate(train_images, train_y)"
   ]
  },
  {
   "cell_type": "code",
   "execution_count": 24,
   "metadata": {},
   "outputs": [
    {
     "data": {
      "text/plain": [
       "{'validation_data': None,\n",
       " 'model': <tensorflow.python.keras.engine.sequential.Sequential at 0x1e7604859a0>,\n",
       " '_chief_worker_only': None,\n",
       " '_supports_tf_logs': False,\n",
       " 'history': {'loss': [0.7825304865837097,\n",
       "   0.26379963755607605,\n",
       "   0.20611079037189484,\n",
       "   0.12905603647232056,\n",
       "   0.1105937510728836,\n",
       "   0.10356588661670685,\n",
       "   0.08126889914274216,\n",
       "   0.05389764904975891,\n",
       "   0.0627242848277092,\n",
       "   0.22620446979999542],\n",
       "  'accuracy': [0.7249384522438049,\n",
       "   0.8951811194419861,\n",
       "   0.9342244267463684,\n",
       "   0.9535701870918274,\n",
       "   0.9570875763893127,\n",
       "   0.9623637199401855,\n",
       "   0.9697502851486206,\n",
       "   0.9820612072944641,\n",
       "   0.9764333367347717,\n",
       "   0.9817094802856445],\n",
       "  'recall_2': [0.9085820913314819,\n",
       "   0.9454290866851807,\n",
       "   0.9566231369972229,\n",
       "   0.9673507213592529,\n",
       "   0.9701492786407471,\n",
       "   0.9748134613037109,\n",
       "   0.9799440503120422,\n",
       "   0.985541045665741,\n",
       "   0.9841417670249939,\n",
       "   0.986940324306488],\n",
       "  'val_loss': [0.41714128851890564,\n",
       "   0.3377991020679474,\n",
       "   0.22467555105686188,\n",
       "   0.14331410825252533,\n",
       "   0.20874252915382385,\n",
       "   0.14610505104064941,\n",
       "   0.1413419097661972,\n",
       "   0.3705499768257141,\n",
       "   0.1602470427751541,\n",
       "   0.14012965559959412],\n",
       "  'val_accuracy': [0.7735454440116882,\n",
       "   0.8698199987411499,\n",
       "   0.9125156998634338,\n",
       "   0.9468396902084351,\n",
       "   0.9300962686538696,\n",
       "   0.9501883387565613,\n",
       "   0.944746732711792,\n",
       "   0.8836333155632019,\n",
       "   0.9522812962532043,\n",
       "   0.9506069421768188],\n",
       "  'val_recall_2': [0.9953996539115906,\n",
       "   0.9810235500335693,\n",
       "   0.9591719508171082,\n",
       "   0.9654974341392517,\n",
       "   0.9844738245010376,\n",
       "   0.9741230607032776,\n",
       "   0.9539965391159058,\n",
       "   0.9971247911453247,\n",
       "   0.9764232039451599,\n",
       "   0.9597469568252563]},\n",
       " 'params': {'verbose': 1, 'epochs': 10, 'steps': 45},\n",
       " 'epoch': [0, 1, 2, 3, 4, 5, 6, 7, 8, 9]}"
      ]
     },
     "execution_count": 24,
     "metadata": {},
     "output_type": "execute_result"
    }
   ],
   "source": [
    "history.__dict__"
   ]
  },
  {
   "cell_type": "code",
   "execution_count": 28,
   "metadata": {},
   "outputs": [],
   "source": [
    "model_epochs = history.epoch\n",
    "model_recall_train = history.history['recall_2']\n",
    "model_recall_val = history.history['val_recall_2']\n",
    "model_accuracy_train = history.history['accuracy']\n",
    "model_accuracy_val = history.history['val_accuracy']"
   ]
  },
  {
   "cell_type": "markdown",
   "metadata": {},
   "source": [
    "## Plotting Accuracy and Recall Against Epochs"
   ]
  },
  {
   "cell_type": "code",
   "execution_count": 40,
   "metadata": {},
   "outputs": [
    {
     "data": {
      "image/png": "[encoded data removed]",
      "text/plain": [
       "<Figure size 576x432 with 1 Axes>"
      ]
     },
     "metadata": {
      "needs_background": "light"
     },
     "output_type": "display_data"
    }
   ],
   "source": [
    "fig, ax = plt.subplots(figsize = (8,6))\n",
    "\n",
    "ax.plot(model_epochs, model_accuracy_train, label = 'Training Accuracy')\n",
    "ax.plot(model_epochs, model_accuracy_val, linestyle = '--', label = 'Validation Accuracy')\n",
    "ax.set_xlabel(\"Epochs\")\n",
    "ax.set_ylabel(\"Accuracy\")\n",
    "plt.legend();"
   ]
  },
  {
   "cell_type": "code",
   "execution_count": 41,
   "metadata": {},
   "outputs": [
    {
     "data": {
      "image/png": "[encoded data removed]",
      "text/plain": [
       "<Figure size 576x432 with 1 Axes>"
      ]
     },
     "metadata": {
      "needs_background": "light"
     },
     "output_type": "display_data"
    }
   ],
   "source": [
    "fig, ax = plt.subplots(figsize = (8,6))\n",
    "\n",
    "ax.plot(model_epochs, model_recall_train, label = 'Training Recall')\n",
    "ax.plot(model_epochs, model_recall_val, linestyle = '--', label = 'Validation Recall')\n",
    "ax.set_xlabel(\"Epochs\")\n",
    "ax.set_ylabel(\"Recall\")\n",
    "plt.legend();"
   ]
  },
  {
   "cell_type": "code",
   "execution_count": null,
   "metadata": {},
   "outputs": [],
   "source": []
  }
 ],
 "metadata": {
  "kernelspec": {
   "display_name": "learn-env",
   "language": "python",
   "name": "learn-env"
  },
  "language_info": {
   "codemirror_mode": {
    "name": "ipython",
    "version": 3
   },
   "file_extension": ".py",
   "mimetype": "text/x-python",
   "name": "python",
   "nbconvert_exporter": "python",
   "pygments_lexer": "ipython3",
   "version": "3.8.5"
  }
 },
 "nbformat": 4,
 "nbformat_minor": 4
}
