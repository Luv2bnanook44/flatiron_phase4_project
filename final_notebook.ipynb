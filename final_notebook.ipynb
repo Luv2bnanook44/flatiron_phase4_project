{
 "cells": [
  {
   "cell_type": "markdown",
   "metadata": {},
   "source": [
    "# Detecting Pneumonia from X-Ray Images Using a Convolutional Neural Network\n",
    "\n",
    "###### Authors:\n",
    "[Rachel Edwards](mailto:rachelke411@gmail.com),\n",
    "[Svitlana Glibova](mailto:s.glibova@gmail.com),\n",
    "[Jamie Dowat](mailto:jamie_dowat44@yahoo.com)\n",
    "\n",
    "![patient](img/childhospital.jpg)\n",
    "\n",
    "\n",
    "## Business Understanding\n",
    "\n",
    "#### According to the [American Thoracic Society](https://www.thoracic.org/patients/patient-resources/resources/top-pneumonia-facts.pdf) and the [American Lung Association](https://www.lung.org/lung-health-diseases/lung-disease-lookup/lung-cancer/resource-library/lung-cancer-fact-sheet?referrer=https://www.google.com/):\n",
    "\n",
    "> Pneumonia is the world’s leading cause of death among **children under 5** years of age.\n",
    "********\n",
    "> Pneumonia killed approximately **2,400 children a day** in 2015. \n",
    "********\n",
    "> Pneumonia killed an estimated **880,000 children under the age of five** in 2016.\n",
    "********\n",
    "> More than **150,000 people** are estimated to die from **lung cancer** each year. \n",
    "********\n",
    "> Infections, including pneumonia, are the **second most common cause of death in people with lung cancer**.\n",
    "********\n",
    "\n",
    "\n",
    "#### From a recent study by the Association of American Medical Colleges ([AAMC](https://www.aamc.org/news-insights/us-physician-shortage-growing)):\n",
    "\n",
    "> “The **physician workforce shortages** that our nation is facing are being felt even more acutely as we mobilize on the front lines to combat the COVID-19 national emergency.” --David J. Skorton, MD, *AAMC president and CEO*\n",
    "********\n",
    "> The demographic that is going to suffer most from this shortage is **patients over age 65**: \"While the national population is projected to grow by 10.4% during the 15 years covered by the study, *the over-65 population is expected to grow by 45.1%*.\"\n",
    "\n",
    "********\n",
    "\n",
    "#### Pneumonia: A Quick Review\n",
    "\n",
    "[Pneumonia](https://www.mayoclinic.org/diseases-conditions/pneumonia/symptoms-causes/syc-20354204) is an inflammation of the air sacs of the lungs. Various bacteria, viruses, and fungi can cause this disease. The inflammation causes the lungs to be filled with infiltrates (pus/fluids) which reduces the lungs' ability to get oxygen to the body. Pneumonia can lead to bacteremia (can cause septic shock and organ failure), trouble breathing, fluid buildup, and lung abscess. \n",
    "\n",
    "**Formal Diagnosis** is done with a [chest x-ray](https://www.glowm.com/atlas-page/atlasid/chestXray.html#Pneumonia) (to check for inflammation) and a blood test (to check for presence of infection).\n",
    "\n",
    "For bacterial cases, **treatment** mostly revolves around an antibiotic, while viral cases utilize supportive treatement (such as providing extra oxygen and fluids) with an antiviral drug-- however, the [American Thoracic Society](https://www.thoracic.org/patients/patient-resources/resources/top-pneumonia-facts.pdf) notes that **\"There are few or no treatments for most viral causes of pneumonia\".**\n",
    "\n",
    "\n",
    "For more reading on the illness, click [here](https://www.healthline.com/health/pneumonia-with-lung-cancer#causes) or [here](https://www.lung.org/lung-health-diseases/lung-disease-lookup/pneumonia/what-causes-pneumonia).\n",
    "*******\n",
    "### In a nutshell...\n",
    "\n",
    "1. This disease has a significant death rate.\n",
    "2. There are a shortage of healthcare professionals, with a growing demand for them, especially for age groups vulnerable to this disease.\n",
    "3. ***Delays in diagnosis can be a contributor to the fatality rate.*** (Sources: [1](https://erj.ersjournals.com/content/32/1/12), [2](https://www.healthline.com/health/pneumonia-with-lung-cancer#causes))\n",
    "*******\n",
    "### Implications of Automated Diagnostic Systems:\n",
    "###### Mirroring the 2018 Study/Development of Convolutional Neural Networks \n",
    "\n",
    "*Funded by National Key Research and Development Program of China, National Natural Science Foundation of China, Guangzhou Women and Children’s Medical Center , Guangzhou Regenerative Medicine and Health Guangdong Laboratory, the Richard Annesser Fund , the Michael Martin Fund , and the Dick and Carol Hertzberg Fund.*\n",
    "\n",
    "For the full pdf of the study, click [here](https://www.cell.com/cell/fulltext/S0092-8674(18)30154-5#secsectitle0010)!\n",
    "\n",
    "Though their study was mainly focused on identifying macular degeneration, the same neural network modeling was performed on a set of chest-xrays to distinguish between viral, bacterial, and normal x-ray scans.\n",
    "\n",
    "After developing a highly accurate Convolutional Neural Network, they predict that their diagnostic tool **\"may ultimately aid in expediting the diagnosis and referral of these treatable conditions, thereby facilitating earlier treatment, resulting in improved clinical outcomes.\"**\n",
    "\n",
    "In agreement with the stastical overview above, a highly accurate classification tool-- a consolidation of the knowledge of medical experts-- could prove to increase the capability of treatment centers to diagnose more efficiently, and even more *accurately.*\n",
    "\n",
    "\n",
    "## Analysis Sneak Peek\n",
    "\n"
   ]
  },
  {
   "cell_type": "markdown",
   "metadata": {},
   "source": [
    "\n",
    "<img src=\"img/chest_xray_labeled.jpg\" width=\"400\" height=\"400\" />"
   ]
  },
  {
   "cell_type": "markdown",
   "metadata": {},
   "source": [
    "## Exploratory Data Analysis"
   ]
  },
  {
   "cell_type": "markdown",
   "metadata": {},
   "source": [
    "### About the Dataset\n",
    "\n",
    "For the **original dataset**, click [here](https://data.mendeley.com/datasets/rscbjbr9sj/2).\n",
    "\n",
    "For the *sorted* dataset **needed to run this notebook**, click [here]().\n",
    "\n",
    "* **CONTENT**: 5856 images from pediatric patients of one to five years old from Guangzhou Women and Children’s Medical Center, Guangzhou. All chest X-ray imaging was performed as part of patients’ routine clinical care.\n",
    "\n",
    "* **PROCESS**: “For the analysis of chest X-ray images, all chest radiographs were initially *screened for quality control by removing all low quality or unreadable scans.* The diagnoses for the images were then graded by *two expert physicians* before being cleared for training the AI system. In order to account for any grading errors, the evaluation set was also checked by a third expert.” ([page 12](https://www.cell.com/action/showPdf?pii=S0092-8674%2818%2930154-5))"
   ]
  },
  {
   "cell_type": "markdown",
   "metadata": {},
   "source": [
    "#### *Let's dive in!*"
   ]
  },
  {
   "cell_type": "code",
   "execution_count": 1,
   "metadata": {},
   "outputs": [],
   "source": [
    "from src.build_nn import NeuralNet"
   ]
  },
  {
   "cell_type": "code",
   "execution_count": 2,
   "metadata": {},
   "outputs": [],
   "source": [
    "cnn = NeuralNet()"
   ]
  },
  {
   "cell_type": "code",
   "execution_count": 3,
   "metadata": {},
   "outputs": [
    {
     "name": "stdout",
     "output_type": "stream",
     "text": [
      "Image paths loaded from folder(s)...\n",
      "Converted images into PIL.Image.Image and array formats...\n",
      "Stored dataframe of data in .df_ attribute...\n",
      "Found 624 images belonging to 2 classes.\n",
      "Found 5232 images belonging to 2 classes.\n",
      "Found 624 images belonging to 3 classes.\n",
      "Found 5232 images belonging to 3 classes.\n",
      "Data is ready for modeling.\n",
      "\n",
      "You can check out the preprocessed data with the following attributes: \n",
      "\n",
      ".binary_test_images\n",
      ".binary_train_images\n",
      ".binary_train_labels\n",
      ".ternary_train_images\n",
      ".ternary_test_images\n",
      ".ternary_train_labels\n",
      "etc.\n"
     ]
    }
   ],
   "source": [
    "cnn.preprocess()"
   ]
  },
  {
   "cell_type": "code",
   "execution_count": 5,
   "metadata": {},
   "outputs": [
    {
     "data": {
      "text/plain": [
       "(624, 50176)"
      ]
     },
     "execution_count": 5,
     "metadata": {},
     "output_type": "execute_result"
    }
   ],
   "source": []
  },
  {
   "cell_type": "markdown",
   "metadata": {},
   "source": [
    "## Network Time!\n",
    "\n",
    "#### Parameters of consideration:\n",
    "* Learning Rate\n",
    "* Activation Function\n",
    "* Number of Layers\n",
    "    * Layer type\n",
    "    * Filter size\n",
    "* Batch Normalization\n",
    "* Batch Size\n",
    "* Epoch Size\n",
    "* "
   ]
  },
  {
   "cell_type": "code",
   "execution_count": null,
   "metadata": {},
   "outputs": [],
   "source": []
  },
  {
   "cell_type": "markdown",
   "metadata": {},
   "source": [
    "## Conclusions & Next Steps\n",
    "\n",
    "\n",
    "\n",
    "\n",
    "\n",
    "## Sources"
   ]
  },
  {
   "cell_type": "code",
   "execution_count": null,
   "metadata": {},
   "outputs": [],
   "source": []
  }
 ],
 "metadata": {
  "kernelspec": {
   "display_name": "Python 3",
   "language": "python",
   "name": "python3"
  },
  "language_info": {
   "codemirror_mode": {
    "name": "ipython",
    "version": 3
   },
   "file_extension": ".py",
   "mimetype": "text/x-python",
   "name": "python",
   "nbconvert_exporter": "python",
   "pygments_lexer": "ipython3",
   "version": "3.8.5"
  }
 },
 "nbformat": 4,
 "nbformat_minor": 4
}
